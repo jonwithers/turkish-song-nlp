{
 "cells": [
  {
   "cell_type": "markdown",
   "metadata": {},
   "source": [
    "# Feature Engineering\n",
    "Carefully teasing out patterns in the corpus is a key part of natural language processing. Cleaning is all done, so now it's time to get things that a human speaker would know out of the data. The result of this notebook is a large csv. From here, the data goes into two paths: the unsupervised path and the supervised path."
   ]
  },
  {
   "cell_type": "code",
   "execution_count": 93,
   "metadata": {},
   "outputs": [],
   "source": [
    "import pandas as pd\n",
    "import numpy as np\n",
    "import re\n",
    "\n",
    "import seaborn as sns\n",
    "import matplotlib.pyplot as plt"
   ]
  },
  {
   "cell_type": "code",
   "execution_count": 94,
   "metadata": {},
   "outputs": [
    {
     "name": "stdout",
     "output_type": "stream",
     "text": [
      "Text processing functions loaded.\n"
     ]
    }
   ],
   "source": [
    "%run ../scripts/post_scraping_text_processing.py functions"
   ]
  },
  {
   "cell_type": "code",
   "execution_count": 144,
   "metadata": {},
   "outputs": [],
   "source": [
    "df = pd.read_csv(\"../assets/data/assembled_20180711.csv\", index_col=0)"
   ]
  },
  {
   "cell_type": "code",
   "execution_count": 145,
   "metadata": {},
   "outputs": [
    {
     "data": {
      "text/plain": [
       "Index(['artist', 'album', 'text', 'release', 'name', 'year',\n",
       "       'written_before_2002', 'written_before_2004', 'written_before_2006',\n",
       "       'written_before_2008'],\n",
       "      dtype='object')"
      ]
     },
     "execution_count": 145,
     "metadata": {},
     "output_type": "execute_result"
    }
   ],
   "source": [
    "df.columns"
   ]
  },
  {
   "cell_type": "code",
   "execution_count": 146,
   "metadata": {},
   "outputs": [
    {
     "data": {
      "text/plain": [
       "'ellemeyin beni bu gece dostlar çok büyük derdim var i̇çimdeki boşluk içkiyle doldu benim kendime kastım var dönse de dünya artık çevremde durmuyor ruhum bu süslü bedende ve yine o şişe yine elimde tükensin artık ellemeyin beni ah bu zamanlar çok büyük derdim var i̇çimdeki boşluk içkiyle doldu benim kendime kastım var'"
      ]
     },
     "execution_count": 146,
     "metadata": {},
     "output_type": "execute_result"
    }
   ],
   "source": [
    "df.loc[52145,'text'].lower()"
   ]
  },
  {
   "cell_type": "markdown",
   "metadata": {},
   "source": [
    "## Vocables: Non-lexical words\n",
    "Turkish songs use certain sounds that don't carry strict lexical meaning, but are expressions of grief or are just good musical material. We should include some scripting to figure out if there's any pattern in the use of these vocables. I've picked 5 common vocables: `oy`, `ah`, `ey`, `vay`, and `oh`. For each, I'm making a column for the total amount of characters that each song spends on these vocables as well as replacing them in the corpus."
   ]
  },
  {
   "cell_type": "code",
   "execution_count": 147,
   "metadata": {},
   "outputs": [],
   "source": [
    "# First the vocable patterns: each vocable can have 1+ of all the characters in it, with the h's optional in ah\n",
    "vocable_patterns = {\n",
    "    'oy':  r'\\bo+y+\\b',\n",
    "    'ah':  r'\\ba+h*\\b',\n",
    "    'ey':  r'\\be+y+\\b',\n",
    "    'vay': r'\\bva+y+\\b',\n",
    "    'oh':  r'\\bo+h+\\b',\n",
    "}"
   ]
  },
  {
   "cell_type": "code",
   "execution_count": 148,
   "metadata": {},
   "outputs": [],
   "source": [
    "def vocable_counter(text, vocable_pattern = r'\\bo+h+\\b'):\n",
    "    list_of_vocables = re.findall(vocable_pattern, text.lower())\n",
    "    if list_of_vocables != None:\n",
    "        len_voc = 0\n",
    "        for match in list_of_vocables:\n",
    "            len_voc += len(match)\n",
    "        return len_voc\n",
    "    else:\n",
    "        return 0\n",
    "    \n",
    "def vocable_encoder(text, vocable_pattern = r'\\bo+h+\\b'):\n",
    "    text = text.lower()\n",
    "    list_of_vocables = re.findall(vocable_pattern, text)\n",
    "    if list_of_vocables != None:\n",
    "        for match in list_of_vocables:\n",
    "            text = re.sub(match, key, text)\n",
    "        return text\n",
    "    else:\n",
    "        return text"
   ]
  },
  {
   "cell_type": "code",
   "execution_count": 149,
   "metadata": {},
   "outputs": [],
   "source": [
    "test = 'Ellemeyin beni bu gece dostlar Çok büyük derdim var İçimdeki boşluk içkiyle doldu Benim kendime kastım var Dönse de dünya artık çevremde Durmuyor ruhum bu süslü bedende Ve yine o şişe yine elimde Tükensin artık Ellemeyin beni ah bu zamanlar Çok büyük derdim var İçimdeki boşluk içkiyle doldu Benim kendime kastım var'"
   ]
  },
  {
   "cell_type": "code",
   "execution_count": 150,
   "metadata": {},
   "outputs": [
    {
     "data": {
      "text/plain": [
       "0"
      ]
     },
     "execution_count": 150,
     "metadata": {},
     "output_type": "execute_result"
    }
   ],
   "source": [
    "vocable_counter(test, r'\\bo+h+\\b')"
   ]
  },
  {
   "cell_type": "code",
   "execution_count": 151,
   "metadata": {},
   "outputs": [
    {
     "data": {
      "text/plain": [
       "'ellemeyin beni bu gece dostlar çok büyük derdim var i̇çimdeki boşluk içkiyle doldu benim kendime kastım var dönse de dünya artık çevremde durmuyor ruhum bu süslü bedende ve yine o şişe yine elimde tükensin artık ellemeyin beni ah bu zamanlar çok büyük derdim var i̇çimdeki boşluk içkiyle doldu benim kendime kastım var'"
      ]
     },
     "execution_count": 151,
     "metadata": {},
     "output_type": "execute_result"
    }
   ],
   "source": [
    "vocable_encoder(test, r'\\bo+h+\\b')"
   ]
  },
  {
   "cell_type": "code",
   "execution_count": 152,
   "metadata": {},
   "outputs": [],
   "source": [
    "# Next the counter. For each key in the dictionary above this loop makes a new column.\n",
    "for key, value in vocable_patterns.items():\n",
    "    def vocable_counter(text, vocable_pattern = value):\n",
    "        list_of_vocables = re.findall(vocable_pattern, text.lower())\n",
    "        if list_of_vocables != None:\n",
    "            len_voc = 0\n",
    "            for match in list_of_vocables:\n",
    "                len_voc += len(match)\n",
    "            return len_voc\n",
    "        else:\n",
    "            return 0\n",
    "    df[key+'_length'] = df['text'].map(vocable_counter)"
   ]
  },
  {
   "cell_type": "code",
   "execution_count": 153,
   "metadata": {},
   "outputs": [],
   "source": [
    "# Finally, a loop to replace all the long drawn out vocables with a simple short version\n",
    "\n",
    "for key, value in vocable_patterns.items():\n",
    "    def vocable_encoder(text, vocable_pattern = value):\n",
    "        text = text.lower()\n",
    "        list_of_vocables = list(re.findall(vocable_pattern, text))\n",
    "        if list_of_vocables != None:\n",
    "            for match in list_of_vocables:\n",
    "                text = re.sub(match, key, text)\n",
    "        return text\n",
    "    df['text'] = df['text'].map(vocable_encoder)"
   ]
  },
  {
   "cell_type": "code",
   "execution_count": 154,
   "metadata": {},
   "outputs": [
    {
     "data": {
      "text/plain": [
       "'ellemeyin beni bu gece dostlar çok büyük derdim var i̇çimdeki boşluk içkiyle doldu benim kendime kastım var dönse de dünya artık çevremde durmuyor ruhum bu süslü bedende ve yine o şişe yine elimde tükensin artık ellemeyin beni ah bu zamanlar çok büyük derdim var i̇çimdeki boşluk içkiyle doldu benim kendime kastım var'"
      ]
     },
     "execution_count": 154,
     "metadata": {},
     "output_type": "execute_result"
    }
   ],
   "source": [
    "df.loc[52145,'text']"
   ]
  },
  {
   "cell_type": "code",
   "execution_count": 155,
   "metadata": {},
   "outputs": [],
   "source": [
    "df['text'] = df['text'].map(lambda x: re.sub('i̇', 'i', x))"
   ]
  },
  {
   "cell_type": "code",
   "execution_count": 156,
   "metadata": {},
   "outputs": [
    {
     "data": {
      "text/plain": [
       "'insanlar kendini bilebilseydi dünyada haksızlık kavga olmazdı insan doğan yine insan ölseydi belki de dünyada hayvan kalmazdı hayvanlar yabanda sürüsüyünen geçinemez biri birisiyen insan cennetinin hurisiyinen sevişseydi hak yabana salmazdı tüm canların hak olduğun bilmese hakkın aşkı yüreğine dolmasa o güzel cemale aşık olmasa kul garibim bu sazını çalmazdı söz&müzik neşet ertaş'"
      ]
     },
     "execution_count": 156,
     "metadata": {},
     "output_type": "execute_result"
    }
   ],
   "source": [
    "df.loc[38252,'text']"
   ]
  },
  {
   "cell_type": "markdown",
   "metadata": {},
   "source": [
    "## Some other simple features\n",
    "- longest word\n",
    "- total words\n",
    "- how many words are repeated\n",
    "- how many bigrams are repeated\n",
    "- most common bigram"
   ]
  },
  {
   "cell_type": "code",
   "execution_count": 157,
   "metadata": {},
   "outputs": [],
   "source": [
    "def find_longest_word(text):\n",
    "    \"\"\"Finds the longest word in a lyric\"\"\"\n",
    "    r = 0\n",
    "    for i in text.split():\n",
    "        if len(i) > r:\n",
    "            r = len(i)\n",
    "    return r"
   ]
  },
  {
   "cell_type": "code",
   "execution_count": 158,
   "metadata": {},
   "outputs": [],
   "source": [
    "df['longest_word_length'] = df['text'].map(find_longest_word)"
   ]
  },
  {
   "cell_type": "code",
   "execution_count": 159,
   "metadata": {},
   "outputs": [
    {
     "data": {
      "text/plain": [
       "<matplotlib.axes._subplots.AxesSubplot at 0x1a1fb9e0f0>"
      ]
     },
     "execution_count": 159,
     "metadata": {},
     "output_type": "execute_result"
    },
    {
     "data": {
      "image/png": "[encoded data removed]",
      "text/plain": [
       "<matplotlib.figure.Figure at 0x1a1fb9af28>"
      ]
     },
     "metadata": {},
     "output_type": "display_data"
    }
   ],
   "source": [
    "sns.distplot(df['longest_word_length'], kde = False)"
   ]
  },
  {
   "cell_type": "code",
   "execution_count": 160,
   "metadata": {},
   "outputs": [],
   "source": [
    "df['total_words'] = df['text'].map(lambda x: len(x.split()))"
   ]
  },
  {
   "cell_type": "code",
   "execution_count": 161,
   "metadata": {},
   "outputs": [
    {
     "data": {
      "text/plain": [
       "<matplotlib.axes._subplots.AxesSubplot at 0x1a264d3e80>"
      ]
     },
     "execution_count": 161,
     "metadata": {},
     "output_type": "execute_result"
    },
    {
     "data": {
      "image/png": "[encoded data removed]",
      "text/plain": [
       "<matplotlib.figure.Figure at 0x1a1fa7dc18>"
      ]
     },
     "metadata": {},
     "output_type": "display_data"
    }
   ],
   "source": [
    "sns.distplot(df['total_words'], kde = False)"
   ]
  },
  {
   "cell_type": "code",
   "execution_count": 162,
   "metadata": {},
   "outputs": [],
   "source": [
    "def count_repeated_words(text):\n",
    "    text = re.sub(r\"[,.?'\\\"\\\\]\", \"\", text)\n",
    "    text = text.lower().split()\n",
    "    count = 0\n",
    "    for word in list(set(text)):\n",
    "        count += (text.count(word) - 1)\n",
    "    return count"
   ]
  },
  {
   "cell_type": "code",
   "execution_count": 163,
   "metadata": {},
   "outputs": [],
   "source": [
    "def make_bigrams(text):\n",
    "    text = re.sub(r\"[,.?'\\\"\\\\]\", \"\", text)\n",
    "    text = text.lower().split()\n",
    "    return [f\"{i} {j}\" for i,j in zip(text[:-1], text[1:])]\n",
    "        "
   ]
  },
  {
   "cell_type": "code",
   "execution_count": 164,
   "metadata": {},
   "outputs": [],
   "source": [
    "def count_repeated_bigrams(text):\n",
    "    bigrams = make_bigrams(text)\n",
    "    count = 0\n",
    "    for bigram in list(set(bigrams)):\n",
    "        count += (bigrams.count(bigram) - 1)\n",
    "    return count"
   ]
  },
  {
   "cell_type": "code",
   "execution_count": 165,
   "metadata": {},
   "outputs": [],
   "source": [
    "df['repeated_exact_words'] = df['text'].map(count_repeated_words)"
   ]
  },
  {
   "cell_type": "code",
   "execution_count": 166,
   "metadata": {},
   "outputs": [],
   "source": [
    "df['repeated_bigrams'] = df['text'].map(count_repeated_bigrams)"
   ]
  },
  {
   "cell_type": "code",
   "execution_count": 167,
   "metadata": {},
   "outputs": [
    {
     "data": {
      "text/plain": [
       "<matplotlib.axes._subplots.AxesSubplot at 0x1a0e5a00b8>"
      ]
     },
     "execution_count": 167,
     "metadata": {},
     "output_type": "execute_result"
    },
    {
     "data": {
      "image/png": "[encoded data removed]",
      "text/plain": [
       "<matplotlib.figure.Figure at 0x1a26536278>"
      ]
     },
     "metadata": {},
     "output_type": "display_data"
    }
   ],
   "source": [
    "sns.distplot(df['repeated_bigrams'], kde = False)"
   ]
  },
  {
   "cell_type": "code",
   "execution_count": 168,
   "metadata": {},
   "outputs": [
    {
     "data": {
      "text/plain": [
       "<matplotlib.axes._subplots.AxesSubplot at 0x1a1ec63438>"
      ]
     },
     "execution_count": 168,
     "metadata": {},
     "output_type": "execute_result"
    },
    {
     "data": {
      "image/png": "[encoded data removed]",
      "text/plain": [
       "<matplotlib.figure.Figure at 0x1a264ea9b0>"
      ]
     },
     "metadata": {},
     "output_type": "display_data"
    }
   ],
   "source": [
    "sns.distplot(df['repeated_exact_words'], kde = False)"
   ]
  },
  {
   "cell_type": "code",
   "execution_count": 169,
   "metadata": {},
   "outputs": [],
   "source": [
    "def get_most_common_bigram(text):\n",
    "    bigrams = make_bigrams(text)\n",
    "    most = 0\n",
    "    most_common_bigram = None\n",
    "    for bigram in list(set(bigrams)):\n",
    "        if (bigrams.count(bigram) - 1) > most:\n",
    "            most = (bigrams.count(bigram) - 1)\n",
    "            most_common_bigram = bigram\n",
    "    if most > 1:\n",
    "        return most_common_bigram\n",
    "    else:\n",
    "        return None\n",
    "\n",
    "df['most_common_bigram'] = df['text'].map(get_most_common_bigram)"
   ]
  },
  {
   "cell_type": "code",
   "execution_count": 170,
   "metadata": {},
   "outputs": [
    {
     "data": {
      "text/plain": [
       "285    yoktur hey\n",
       "286          None\n",
       "289          None\n",
       "292          None\n",
       "296      allah ey\n",
       "Name: most_common_bigram, dtype: object"
      ]
     },
     "execution_count": 170,
     "metadata": {},
     "output_type": "execute_result"
    }
   ],
   "source": [
    "df['most_common_bigram'].head()"
   ]
  },
  {
   "cell_type": "code",
   "execution_count": 171,
   "metadata": {},
   "outputs": [
    {
     "data": {
      "text/html": [
       "<div>\n",
       "<style scoped>\n",
       "    .dataframe tbody tr th:only-of-type {\n",
       "        vertical-align: middle;\n",
       "    }\n",
       "\n",
       "    .dataframe tbody tr th {\n",
       "        vertical-align: top;\n",
       "    }\n",
       "\n",
       "    .dataframe thead th {\n",
       "        text-align: right;\n",
       "    }\n",
       "</style>\n",
       "<table border=\"1\" class=\"dataframe\">\n",
       "  <thead>\n",
       "    <tr style=\"text-align: right;\">\n",
       "      <th></th>\n",
       "      <th>most_common_bigram</th>\n",
       "    </tr>\n",
       "  </thead>\n",
       "  <tbody>\n",
       "    <tr>\n",
       "      <th>aman aman</th>\n",
       "      <td>84</td>\n",
       "    </tr>\n",
       "    <tr>\n",
       "      <th>vay vay</th>\n",
       "      <td>39</td>\n",
       "    </tr>\n",
       "    <tr>\n",
       "      <th>oy oy</th>\n",
       "      <td>37</td>\n",
       "    </tr>\n",
       "    <tr>\n",
       "      <th>bir gün</th>\n",
       "      <td>36</td>\n",
       "    </tr>\n",
       "    <tr>\n",
       "      <th>gel gel</th>\n",
       "      <td>32</td>\n",
       "    </tr>\n",
       "    <tr>\n",
       "      <th>yar yar</th>\n",
       "      <td>30</td>\n",
       "    </tr>\n",
       "    <tr>\n",
       "      <th>bu gece</th>\n",
       "      <td>26</td>\n",
       "    </tr>\n",
       "    <tr>\n",
       "      <th>ne olur</th>\n",
       "      <td>23</td>\n",
       "    </tr>\n",
       "    <tr>\n",
       "      <th>beni beni</th>\n",
       "      <td>21</td>\n",
       "    </tr>\n",
       "    <tr>\n",
       "      <th>bir daha</th>\n",
       "      <td>21</td>\n",
       "    </tr>\n",
       "    <tr>\n",
       "      <th>var mı</th>\n",
       "      <td>14</td>\n",
       "    </tr>\n",
       "    <tr>\n",
       "      <th>nenni nenni</th>\n",
       "      <td>14</td>\n",
       "    </tr>\n",
       "    <tr>\n",
       "      <th>ben sana</th>\n",
       "      <td>13</td>\n",
       "    </tr>\n",
       "    <tr>\n",
       "      <th>ne kadar</th>\n",
       "      <td>12</td>\n",
       "    </tr>\n",
       "    <tr>\n",
       "      <th>of of</th>\n",
       "      <td>12</td>\n",
       "    </tr>\n",
       "    <tr>\n",
       "      <th>gülüm gülüm</th>\n",
       "      <td>11</td>\n",
       "    </tr>\n",
       "    <tr>\n",
       "      <th>le le</th>\n",
       "      <td>11</td>\n",
       "    </tr>\n",
       "    <tr>\n",
       "      <th>senin için</th>\n",
       "      <td>11</td>\n",
       "    </tr>\n",
       "    <tr>\n",
       "      <th>ben seni</th>\n",
       "      <td>10</td>\n",
       "    </tr>\n",
       "    <tr>\n",
       "      <th>yok yok</th>\n",
       "      <td>10</td>\n",
       "    </tr>\n",
       "  </tbody>\n",
       "</table>\n",
       "</div>"
      ],
      "text/plain": [
       "             most_common_bigram\n",
       "aman aman                    84\n",
       "vay vay                      39\n",
       "oy oy                        37\n",
       "bir gün                      36\n",
       "gel gel                      32\n",
       "yar yar                      30\n",
       "bu gece                      26\n",
       "ne olur                      23\n",
       "beni beni                    21\n",
       "bir daha                     21\n",
       "var mı                       14\n",
       "nenni nenni                  14\n",
       "ben sana                     13\n",
       "ne kadar                     12\n",
       "of of                        12\n",
       "gülüm gülüm                  11\n",
       "le le                        11\n",
       "senin için                   11\n",
       "ben seni                     10\n",
       "yok yok                      10"
      ]
     },
     "execution_count": 171,
     "metadata": {},
     "output_type": "execute_result"
    }
   ],
   "source": [
    "temp_df = pd.DataFrame(df['most_common_bigram'].value_counts())\n",
    "\n",
    "temp_df.head(20)"
   ]
  },
  {
   "cell_type": "code",
   "execution_count": 172,
   "metadata": {},
   "outputs": [],
   "source": [
    "aman_aman = df[df['most_common_bigram'] == 'aman aman']"
   ]
  },
  {
   "cell_type": "code",
   "execution_count": 174,
   "metadata": {},
   "outputs": [
    {
     "data": {
      "text/plain": [
       "0.6428571428571428"
      ]
     },
     "execution_count": 174,
     "metadata": {},
     "output_type": "execute_result"
    }
   ],
   "source": [
    "1 - aman_aman['written_before_2002'].mean()"
   ]
  },
  {
   "cell_type": "code",
   "execution_count": 175,
   "metadata": {},
   "outputs": [
    {
     "data": {
      "text/html": [
       "<div>\n",
       "<style scoped>\n",
       "    .dataframe tbody tr th:only-of-type {\n",
       "        vertical-align: middle;\n",
       "    }\n",
       "\n",
       "    .dataframe tbody tr th {\n",
       "        vertical-align: top;\n",
       "    }\n",
       "\n",
       "    .dataframe thead th {\n",
       "        text-align: right;\n",
       "    }\n",
       "</style>\n",
       "<table border=\"1\" class=\"dataframe\">\n",
       "  <thead>\n",
       "    <tr style=\"text-align: right;\">\n",
       "      <th></th>\n",
       "      <th>most_common_non_repeated_bigram</th>\n",
       "    </tr>\n",
       "  </thead>\n",
       "  <tbody>\n",
       "    <tr>\n",
       "      <th>bir gün</th>\n",
       "      <td>36</td>\n",
       "    </tr>\n",
       "    <tr>\n",
       "      <th>bu gece</th>\n",
       "      <td>28</td>\n",
       "    </tr>\n",
       "    <tr>\n",
       "      <th>ne olur</th>\n",
       "      <td>24</td>\n",
       "    </tr>\n",
       "    <tr>\n",
       "      <th>bir daha</th>\n",
       "      <td>23</td>\n",
       "    </tr>\n",
       "    <tr>\n",
       "      <th>ben sana</th>\n",
       "      <td>14</td>\n",
       "    </tr>\n",
       "  </tbody>\n",
       "</table>\n",
       "</div>"
      ],
      "text/plain": [
       "          most_common_non_repeated_bigram\n",
       "bir gün                                36\n",
       "bu gece                                28\n",
       "ne olur                                24\n",
       "bir daha                               23\n",
       "ben sana                               14"
      ]
     },
     "execution_count": 175,
     "metadata": {},
     "output_type": "execute_result"
    }
   ],
   "source": [
    "def get_most_common_non_repeated_bigram(text):\n",
    "    bigrams = make_bigrams(text)\n",
    "    most = 0\n",
    "    most_common_bigram = None\n",
    "    for bigram in list(set(bigrams)):\n",
    "        if (bigram.split()[0] != bigram.split()[1]) and ((bigrams.count(bigram) - 1) > most):\n",
    "            most = (bigrams.count(bigram) - 1)\n",
    "            most_common_bigram = bigram\n",
    "    if most > 1:\n",
    "        return most_common_bigram\n",
    "    else:\n",
    "        return None\n",
    "\n",
    "df['most_common_non_repeated_bigram'] = df['text'].map(get_most_common_non_repeated_bigram)\n",
    "temp_df = pd.DataFrame(df['most_common_non_repeated_bigram'].value_counts())\n",
    "temp_df.head()"
   ]
  },
  {
   "cell_type": "code",
   "execution_count": 176,
   "metadata": {},
   "outputs": [],
   "source": [
    "pre = df[df['written_before_2002'] == 1]\n",
    "post = df[df['written_before_2002'] == 0]"
   ]
  },
  {
   "cell_type": "code",
   "execution_count": 177,
   "metadata": {},
   "outputs": [
    {
     "data": {
      "text/html": [
       "<div>\n",
       "<style scoped>\n",
       "    .dataframe tbody tr th:only-of-type {\n",
       "        vertical-align: middle;\n",
       "    }\n",
       "\n",
       "    .dataframe tbody tr th {\n",
       "        vertical-align: top;\n",
       "    }\n",
       "\n",
       "    .dataframe thead th {\n",
       "        text-align: right;\n",
       "    }\n",
       "</style>\n",
       "<table border=\"1\" class=\"dataframe\">\n",
       "  <thead>\n",
       "    <tr style=\"text-align: right;\">\n",
       "      <th></th>\n",
       "      <th>most_common_non_repeated_bigram</th>\n",
       "    </tr>\n",
       "  </thead>\n",
       "  <tbody>\n",
       "    <tr>\n",
       "      <th>bir daha</th>\n",
       "      <td>11</td>\n",
       "    </tr>\n",
       "    <tr>\n",
       "      <th>bir gün</th>\n",
       "      <td>11</td>\n",
       "    </tr>\n",
       "    <tr>\n",
       "      <th>ne olur</th>\n",
       "      <td>10</td>\n",
       "    </tr>\n",
       "    <tr>\n",
       "      <th>ben sana</th>\n",
       "      <td>7</td>\n",
       "    </tr>\n",
       "    <tr>\n",
       "      <th>bu gece</th>\n",
       "      <td>7</td>\n",
       "    </tr>\n",
       "  </tbody>\n",
       "</table>\n",
       "</div>"
      ],
      "text/plain": [
       "          most_common_non_repeated_bigram\n",
       "bir daha                               11\n",
       "bir gün                                11\n",
       "ne olur                                10\n",
       "ben sana                                7\n",
       "bu gece                                 7"
      ]
     },
     "execution_count": 177,
     "metadata": {},
     "output_type": "execute_result"
    }
   ],
   "source": [
    "pd.DataFrame(pre['most_common_non_repeated_bigram'].value_counts()).head()"
   ]
  },
  {
   "cell_type": "code",
   "execution_count": 178,
   "metadata": {},
   "outputs": [
    {
     "data": {
      "text/html": [
       "<div>\n",
       "<style scoped>\n",
       "    .dataframe tbody tr th:only-of-type {\n",
       "        vertical-align: middle;\n",
       "    }\n",
       "\n",
       "    .dataframe tbody tr th {\n",
       "        vertical-align: top;\n",
       "    }\n",
       "\n",
       "    .dataframe thead th {\n",
       "        text-align: right;\n",
       "    }\n",
       "</style>\n",
       "<table border=\"1\" class=\"dataframe\">\n",
       "  <thead>\n",
       "    <tr style=\"text-align: right;\">\n",
       "      <th></th>\n",
       "      <th>most_common_non_repeated_bigram</th>\n",
       "    </tr>\n",
       "  </thead>\n",
       "  <tbody>\n",
       "    <tr>\n",
       "      <th>bir gün</th>\n",
       "      <td>25</td>\n",
       "    </tr>\n",
       "    <tr>\n",
       "      <th>bu gece</th>\n",
       "      <td>21</td>\n",
       "    </tr>\n",
       "    <tr>\n",
       "      <th>ne olur</th>\n",
       "      <td>14</td>\n",
       "    </tr>\n",
       "    <tr>\n",
       "      <th>bir daha</th>\n",
       "      <td>12</td>\n",
       "    </tr>\n",
       "    <tr>\n",
       "      <th>senin için</th>\n",
       "      <td>10</td>\n",
       "    </tr>\n",
       "  </tbody>\n",
       "</table>\n",
       "</div>"
      ],
      "text/plain": [
       "            most_common_non_repeated_bigram\n",
       "bir gün                                  25\n",
       "bu gece                                  21\n",
       "ne olur                                  14\n",
       "bir daha                                 12\n",
       "senin için                               10"
      ]
     },
     "execution_count": 178,
     "metadata": {},
     "output_type": "execute_result"
    }
   ],
   "source": [
    "pd.DataFrame(post['most_common_non_repeated_bigram'].value_counts()).head()"
   ]
  },
  {
   "cell_type": "markdown",
   "metadata": {},
   "source": [
    "## Lemmatized versions of these features\n",
    "- number of repeated lemmas\n",
    "- number of repeated lemma bigrams\n",
    "- most common lemma bigram\n",
    "- most common non-repeated lemma bigram"
   ]
  },
  {
   "cell_type": "code",
   "execution_count": 179,
   "metadata": {},
   "outputs": [],
   "source": [
    "df['lemmatized_text'] = df['text'].map(lemmatize)"
   ]
  },
  {
   "cell_type": "code",
   "execution_count": 180,
   "metadata": {},
   "outputs": [
    {
     "data": {
      "text/plain": [
       "<matplotlib.axes._subplots.AxesSubplot at 0x1a161133c8>"
      ]
     },
     "execution_count": 180,
     "metadata": {},
     "output_type": "execute_result"
    },
    {
     "data": {
      "image/png": "[encoded data removed]",
      "text/plain": [
       "<matplotlib.figure.Figure at 0x1a268d8390>"
      ]
     },
     "metadata": {},
     "output_type": "display_data"
    }
   ],
   "source": [
    "df['repeated_lemmatized_words'] = df['lemmatized_text'].map(count_repeated_words)\n",
    "\n",
    "sns.distplot(df['repeated_lemmatized_words'], kde = False)"
   ]
  },
  {
   "cell_type": "code",
   "execution_count": 181,
   "metadata": {},
   "outputs": [
    {
     "data": {
      "text/plain": [
       "<matplotlib.axes._subplots.AxesSubplot at 0x1a1f4f9630>"
      ]
     },
     "execution_count": 181,
     "metadata": {},
     "output_type": "execute_result"
    },
    {
     "data": {
      "image/png": "[encoded data removed]",
      "text/plain": [
       "<matplotlib.figure.Figure at 0x1a267e4fd0>"
      ]
     },
     "metadata": {},
     "output_type": "display_data"
    }
   ],
   "source": [
    "df['repeated_lemma_bigrams'] = df['lemmatized_text'].map(count_repeated_bigrams)\n",
    "sns.distplot(df['repeated_lemma_bigrams'], kde = False)"
   ]
  },
  {
   "cell_type": "code",
   "execution_count": 182,
   "metadata": {},
   "outputs": [
    {
     "data": {
      "text/html": [
       "<div>\n",
       "<style scoped>\n",
       "    .dataframe tbody tr th:only-of-type {\n",
       "        vertical-align: middle;\n",
       "    }\n",
       "\n",
       "    .dataframe tbody tr th {\n",
       "        vertical-align: top;\n",
       "    }\n",
       "\n",
       "    .dataframe thead th {\n",
       "        text-align: right;\n",
       "    }\n",
       "</style>\n",
       "<table border=\"1\" class=\"dataframe\">\n",
       "  <thead>\n",
       "    <tr style=\"text-align: right;\">\n",
       "      <th></th>\n",
       "      <th>most_common_lemma_bigram</th>\n",
       "    </tr>\n",
       "  </thead>\n",
       "  <tbody>\n",
       "    <tr>\n",
       "      <th>aman aman</th>\n",
       "      <td>83</td>\n",
       "    </tr>\n",
       "    <tr>\n",
       "      <th>ne ol</th>\n",
       "      <td>62</td>\n",
       "    </tr>\n",
       "    <tr>\n",
       "      <th>ben ben</th>\n",
       "      <td>42</td>\n",
       "    </tr>\n",
       "    <tr>\n",
       "      <th>bir gün</th>\n",
       "      <td>40</td>\n",
       "    </tr>\n",
       "    <tr>\n",
       "      <th>sen ben</th>\n",
       "      <td>40</td>\n",
       "    </tr>\n",
       "  </tbody>\n",
       "</table>\n",
       "</div>"
      ],
      "text/plain": [
       "           most_common_lemma_bigram\n",
       "aman aman                        83\n",
       "ne ol                            62\n",
       "ben ben                          42\n",
       "bir gün                          40\n",
       "sen ben                          40"
      ]
     },
     "execution_count": 182,
     "metadata": {},
     "output_type": "execute_result"
    }
   ],
   "source": [
    "df['most_common_lemma_bigram'] = df['lemmatized_text'].map(get_most_common_bigram)\n",
    "temp_df = pd.DataFrame(df['most_common_lemma_bigram'].value_counts())\n",
    "temp_df.head(5)"
   ]
  },
  {
   "cell_type": "code",
   "execution_count": 183,
   "metadata": {},
   "outputs": [
    {
     "data": {
      "text/html": [
       "<div>\n",
       "<style scoped>\n",
       "    .dataframe tbody tr th:only-of-type {\n",
       "        vertical-align: middle;\n",
       "    }\n",
       "\n",
       "    .dataframe tbody tr th {\n",
       "        vertical-align: top;\n",
       "    }\n",
       "\n",
       "    .dataframe thead th {\n",
       "        text-align: right;\n",
       "    }\n",
       "</style>\n",
       "<table border=\"1\" class=\"dataframe\">\n",
       "  <thead>\n",
       "    <tr style=\"text-align: right;\">\n",
       "      <th></th>\n",
       "      <th>most_common_non_repeated_lemma_bigram</th>\n",
       "    </tr>\n",
       "  </thead>\n",
       "  <tbody>\n",
       "    <tr>\n",
       "      <th>ne ol</th>\n",
       "      <td>63</td>\n",
       "    </tr>\n",
       "    <tr>\n",
       "      <th>sen ben</th>\n",
       "      <td>41</td>\n",
       "    </tr>\n",
       "    <tr>\n",
       "      <th>bir gün</th>\n",
       "      <td>40</td>\n",
       "    </tr>\n",
       "    <tr>\n",
       "      <th>bu gece</th>\n",
       "      <td>34</td>\n",
       "    </tr>\n",
       "    <tr>\n",
       "      <th>bir yan</th>\n",
       "      <td>29</td>\n",
       "    </tr>\n",
       "  </tbody>\n",
       "</table>\n",
       "</div>"
      ],
      "text/plain": [
       "         most_common_non_repeated_lemma_bigram\n",
       "ne ol                                       63\n",
       "sen ben                                     41\n",
       "bir gün                                     40\n",
       "bu gece                                     34\n",
       "bir yan                                     29"
      ]
     },
     "execution_count": 183,
     "metadata": {},
     "output_type": "execute_result"
    }
   ],
   "source": [
    "df['most_common_non_repeated_lemma_bigram'] = df['lemmatized_text'].map(get_most_common_non_repeated_bigram)\n",
    "temp_df = pd.DataFrame(df['most_common_non_repeated_lemma_bigram'].value_counts())\n",
    "temp_df.head(5)"
   ]
  },
  {
   "cell_type": "code",
   "execution_count": 184,
   "metadata": {},
   "outputs": [
    {
     "data": {
      "text/plain": [
       "Index(['artist', 'album', 'text', 'release', 'name', 'year',\n",
       "       'written_before_2002', 'written_before_2004', 'written_before_2006',\n",
       "       'written_before_2008', 'oy_length', 'ah_length', 'ey_length',\n",
       "       'vay_length', 'oh_length', 'longest_word_length', 'total_words',\n",
       "       'repeated_exact_words', 'repeated_bigrams', 'most_common_bigram',\n",
       "       'most_common_non_repeated_bigram', 'lemmatized_text',\n",
       "       'repeated_lemmatized_words', 'repeated_lemma_bigrams',\n",
       "       'most_common_lemma_bigram', 'most_common_non_repeated_lemma_bigram'],\n",
       "      dtype='object')"
      ]
     },
     "execution_count": 184,
     "metadata": {},
     "output_type": "execute_result"
    }
   ],
   "source": [
    "df.columns"
   ]
  },
  {
   "cell_type": "markdown",
   "metadata": {},
   "source": [
    "### About this dataframe:\n",
    "- numeric features:\n",
    " - longest_oy, longest_ah, longest_ey, longest_vay, longest_oh, \n",
    " - longest_word_length, total_words\n",
    " - repeated_exact_words, repeated_bigrams\n",
    " - repeated_lemmatized_words, repeated_lemma_bigrams\n",
    "- categorical features\n",
    " - most_common_bigram, most_common_non_repeated_bigram\n",
    " - most_common_lemma_bigram, most_common_non_repeated_lemma_bigram"
   ]
  },
  {
   "cell_type": "code",
   "execution_count": 185,
   "metadata": {},
   "outputs": [],
   "source": [
    "df.fillna('na', inplace=True)"
   ]
  },
  {
   "cell_type": "code",
   "execution_count": 187,
   "metadata": {},
   "outputs": [],
   "source": [
    "df.to_csv(\"../assets/data/full_frame_20180711.csv\")"
   ]
  },
  {
   "cell_type": "code",
   "execution_count": null,
   "metadata": {},
   "outputs": [],
   "source": []
  }
 ],
 "metadata": {
  "kernelspec": {
   "display_name": "Python [conda root]",
   "language": "python",
   "name": "conda-root-py"
  },
  "language_info": {
   "codemirror_mode": {
    "name": "ipython",
    "version": 3
   },
   "file_extension": ".py",
   "mimetype": "text/x-python",
   "name": "python",
   "nbconvert_exporter": "python",
   "pygments_lexer": "ipython3",
   "version": "3.6.4"
  }
 },
 "nbformat": 4,
 "nbformat_minor": 2
}
