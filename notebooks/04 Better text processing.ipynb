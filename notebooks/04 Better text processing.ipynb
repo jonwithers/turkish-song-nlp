{
 "cells": [
  {
   "cell_type": "markdown",
   "metadata": {},
   "source": [
    "# Feature Engineering\n",
    "Carefully teasing out patterns in the corpus is a key part of natural language processing. Cleaning is all done, so now it's time to get things that a human speaker would know out of the data. The result of this notebook is a large csv. From here, the data goes into two paths: the unsupervised path and the supervised path."
   ]
  },
  {
   "cell_type": "code",
   "execution_count": 1,
   "metadata": {},
   "outputs": [],
   "source": [
    "import pandas as pd\n",
    "import numpy as np\n",
    "import re\n",
    "\n",
    "import seaborn as sns\n",
    "import matplotlib.pyplot as plt"
   ]
  },
  {
   "cell_type": "code",
   "execution_count": 2,
   "metadata": {},
   "outputs": [
    {
     "name": "stdout",
     "output_type": "stream",
     "text": [
      "Text processing functions loaded.\n"
     ]
    }
   ],
   "source": [
    "%run ../scripts/post_scraping_text_processing.py functions"
   ]
  },
  {
   "cell_type": "code",
   "execution_count": 3,
   "metadata": {},
   "outputs": [],
   "source": [
    "df = pd.read_csv(\"../assets/data/assembled_20180711.csv\", index_col=0)"
   ]
  },
  {
   "cell_type": "code",
   "execution_count": 4,
   "metadata": {},
   "outputs": [
    {
     "data": {
      "text/plain": [
       "Index(['artist', 'album', 'text', 'release', 'name', 'year',\n",
       "       'written_before_2002', 'written_before_2004', 'written_before_2006',\n",
       "       'written_before_2008'],\n",
       "      dtype='object')"
      ]
     },
     "execution_count": 4,
     "metadata": {},
     "output_type": "execute_result"
    }
   ],
   "source": [
    "df.columns"
   ]
  },
  {
   "cell_type": "code",
   "execution_count": 5,
   "metadata": {},
   "outputs": [
    {
     "data": {
      "text/plain": [
       "'ellemeyin beni bu gece dostlar çok büyük derdim var i̇çimdeki boşluk içkiyle doldu benim kendime kastım var dönse de dünya artık çevremde durmuyor ruhum bu süslü bedende ve yine o şişe yine elimde tükensin artık ellemeyin beni ah bu zamanlar çok büyük derdim var i̇çimdeki boşluk içkiyle doldu benim kendime kastım var'"
      ]
     },
     "execution_count": 5,
     "metadata": {},
     "output_type": "execute_result"
    }
   ],
   "source": [
    "df.loc[52145,'text'].lower()"
   ]
  },
  {
   "cell_type": "markdown",
   "metadata": {},
   "source": [
    "## Vocables: Non-lexical words\n",
    "Turkish songs use certain sounds that don't carry strict lexical meaning, but are expressions of grief or are just good musical material. We should include some scripting to figure out if there's any pattern in the use of these vocables. I've picked 5 common vocables: `oy`, `ah`, `ey`, `vay`, and `oh`. For each, I'm making a column for the total amount of characters that each song spends on these vocables as well as replacing them in the corpus."
   ]
  },
  {
   "cell_type": "code",
   "execution_count": 6,
   "metadata": {},
   "outputs": [],
   "source": [
    "# First the vocable patterns: each vocable can have 1+ of all the characters in it\n",
    "vocable_patterns = {\n",
    "    'oy':  r'\\bo+y+\\b',\n",
    "    'ah':  r'\\ba+h+\\b',\n",
    "    'ey':  r'\\be+y+\\b',\n",
    "    'vay': r'\\bva+y+\\b',\n",
    "    'oh':  r'\\bo+h+\\b',\n",
    "}"
   ]
  },
  {
   "cell_type": "code",
   "execution_count": 7,
   "metadata": {},
   "outputs": [],
   "source": [
    "def vocable_counter(text, vocable_pattern = r'\\bo+h+\\b'):\n",
    "    list_of_vocables = re.findall(vocable_pattern, text.lower())\n",
    "    if list_of_vocables != None:\n",
    "        len_voc = 0\n",
    "        for match in list_of_vocables:\n",
    "            len_voc += len(match)\n",
    "        return len_voc\n",
    "    else:\n",
    "        return 0\n",
    "    \n",
    "def vocable_encoder(text, vocable_pattern = r'\\bo+h+\\b'):\n",
    "    text = text.lower()\n",
    "    list_of_vocables = re.findall(vocable_pattern, text)\n",
    "    if list_of_vocables != None:\n",
    "        for match in list_of_vocables:\n",
    "            text = re.sub(match, key, text)\n",
    "        return text\n",
    "    else:\n",
    "        return text"
   ]
  },
  {
   "cell_type": "code",
   "execution_count": 8,
   "metadata": {},
   "outputs": [],
   "source": [
    "test = 'Ellemeyin beni bu gece dostlar Çok büyük derdim var İçimdeki boşluk içkiyle doldu Benim kendime kastım var Dönse de dünya artık çevremde Durmuyor ruhum bu süslü bedende Ve yine o şişe yine elimde Tükensin artık Ellemeyin beni ah bu zamanlar Çok büyük derdim var İçimdeki boşluk içkiyle doldu Benim kendime kastım var'"
   ]
  },
  {
   "cell_type": "code",
   "execution_count": 9,
   "metadata": {},
   "outputs": [
    {
     "data": {
      "text/plain": [
       "0"
      ]
     },
     "execution_count": 9,
     "metadata": {},
     "output_type": "execute_result"
    }
   ],
   "source": [
    "vocable_counter(test, r'\\bo+h+\\b')"
   ]
  },
  {
   "cell_type": "code",
   "execution_count": 10,
   "metadata": {},
   "outputs": [
    {
     "data": {
      "text/plain": [
       "'ellemeyin beni bu gece dostlar çok büyük derdim var i̇çimdeki boşluk içkiyle doldu benim kendime kastım var dönse de dünya artık çevremde durmuyor ruhum bu süslü bedende ve yine o şişe yine elimde tükensin artık ellemeyin beni ah bu zamanlar çok büyük derdim var i̇çimdeki boşluk içkiyle doldu benim kendime kastım var'"
      ]
     },
     "execution_count": 10,
     "metadata": {},
     "output_type": "execute_result"
    }
   ],
   "source": [
    "vocable_encoder(test, r'\\bo+h+\\b')"
   ]
  },
  {
   "cell_type": "code",
   "execution_count": 11,
   "metadata": {},
   "outputs": [],
   "source": [
    "# Next the counter. For each key in the dictionary above this loop makes a new column.\n",
    "for key, value in vocable_patterns.items():\n",
    "    def vocable_counter(text, vocable_pattern = value):\n",
    "        list_of_vocables = re.findall(vocable_pattern, text.lower())\n",
    "        if list_of_vocables != None:\n",
    "            len_voc = 0\n",
    "            for match in list_of_vocables:\n",
    "                len_voc += len(match)\n",
    "            return len_voc\n",
    "        else:\n",
    "            return 0\n",
    "    df[key+'_length'] = df['text'].map(vocable_counter)"
   ]
  },
  {
   "cell_type": "code",
   "execution_count": 12,
   "metadata": {},
   "outputs": [],
   "source": [
    "# Finally, a loop to replace all the long drawn out vocables with a simple short version\n",
    "\n",
    "for key, value in vocable_patterns.items():\n",
    "    def vocable_encoder(text, vocable_pattern = value):\n",
    "        text = text.lower()\n",
    "        list_of_vocables = list(re.findall(vocable_pattern, text))\n",
    "        if list_of_vocables != None:\n",
    "            for match in list_of_vocables:\n",
    "                text = re.sub(match, key, text)\n",
    "        return text\n",
    "    df['text'] = df['text'].map(vocable_encoder)"
   ]
  },
  {
   "cell_type": "code",
   "execution_count": 13,
   "metadata": {},
   "outputs": [
    {
     "data": {
      "text/plain": [
       "'ellemeyin beni bu gece dostlar çok büyük derdim var i̇çimdeki boşluk içkiyle doldu benim kendime kastım var dönse de dünya artık çevremde durmuyor ruhum bu süslü bedende ve yine o şişe yine elimde tükensin artık ellemeyin beni ah bu zamanlar çok büyük derdim var i̇çimdeki boşluk içkiyle doldu benim kendime kastım var'"
      ]
     },
     "execution_count": 13,
     "metadata": {},
     "output_type": "execute_result"
    }
   ],
   "source": [
    "df.loc[52145,'text']"
   ]
  },
  {
   "cell_type": "code",
   "execution_count": 14,
   "metadata": {},
   "outputs": [],
   "source": [
    "df['text'] = df['text'].map(lambda x: re.sub('i̇', 'i', x))"
   ]
  },
  {
   "cell_type": "code",
   "execution_count": 15,
   "metadata": {},
   "outputs": [
    {
     "data": {
      "text/plain": [
       "'insanlar kendini bilebilseydi dünyada haksızlık kavga olmazdı insan doğan yine insan ölseydi belki de dünyada hayvan kalmazdı hayvanlar yabanda sürüsüyünen geçinemez biri birisiyen insan cennetinin hurisiyinen sevişseydi hak yabana salmazdı tüm canların hak olduğun bilmese hakkın aşkı yüreğine dolmasa o güzel cemale aşık olmasa kul garibim bu sazını çalmazdı söz&müzik neşet ertaş'"
      ]
     },
     "execution_count": 15,
     "metadata": {},
     "output_type": "execute_result"
    }
   ],
   "source": [
    "df.loc[38252,'text']"
   ]
  },
  {
   "cell_type": "markdown",
   "metadata": {},
   "source": [
    "## Some other simple features\n",
    "- longest word\n",
    "- total words\n",
    "- how many words are repeated\n",
    "- how many bigrams are repeated\n",
    "- most common bigram"
   ]
  },
  {
   "cell_type": "markdown",
   "metadata": {},
   "source": [
    "***Longest word turns out to be a hugely important feature. I believe this might be for one or both of the following reasons:    \n",
    "1) It reflects linguistic data that lemmatization cuts off  \n",
    "2) Newer songs are more sloppily transcribed, and I wasn't able to scrape this away entirely***"
   ]
  },
  {
   "cell_type": "code",
   "execution_count": 16,
   "metadata": {},
   "outputs": [],
   "source": [
    "def find_longest_word(text):\n",
    "    \"\"\"Finds the longest word in a lyric\"\"\"\n",
    "    r = 0\n",
    "    for i in text.split():\n",
    "        if len(i) > r:\n",
    "            r = len(i)\n",
    "    return r"
   ]
  },
  {
   "cell_type": "code",
   "execution_count": 17,
   "metadata": {},
   "outputs": [],
   "source": [
    "df['longest_word_length'] = df['text'].map(find_longest_word)"
   ]
  },
  {
   "cell_type": "code",
   "execution_count": 18,
   "metadata": {},
   "outputs": [
    {
     "data": {
      "image/png": "[encoded data removed]",
      "text/plain": [
       "<matplotlib.figure.Figure at 0x1a0c0c4c50>"
      ]
     },
     "metadata": {},
     "output_type": "display_data"
    }
   ],
   "source": [
    "plt.figure(figsize = (10,10))\n",
    "sns.distplot(df['longest_word_length'], kde = False)\n",
    "plt.title(\"Distribution of longest words in each song\", fontsize = 22)\n",
    "plt.xlabel(\"Length of Longest Word\", fontsize = 20)\n",
    "plt.ylabel(\"Count\", fontsize = 20)\n",
    "plt.savefig(\"../assets/visualizations/longest_word_distribution.png\")"
   ]
  },
  {
   "cell_type": "code",
   "execution_count": 19,
   "metadata": {},
   "outputs": [
    {
     "name": "stdout",
     "output_type": "stream",
     "text": [
      "1\n"
     ]
    },
    {
     "data": {
      "text/plain": [
       "'dün yine seni andik cümbür cemaat cümbür andik ayazda kaldik cümbür cemaat cümbür kahkaha attik durduk her yerde seni sorduk sordukça hasta olduk cümbür cemaat cümbür cümbürücümcümbürübürücümbürcümbürcemaatcümbür siseler elimizde cümbür cemaat cümbür leblebi cebimizde cümbür cemaat cümbür hasret var içimizde sen yoksun aramizda süphe var kafamizda cümbür cemaat cümbür cümbürücümcümbürübürücümbürcümbürcemaatcümbür gel artik bekiyoruz cümbür cemaat cümbür seni sayikliyoruz cümbür cemaat cümbür hiç mutlu olmuyoruz meskten zevk almiyoruz hep seni ariyoruz cümbür cemaat cümbür cümbürücümcümbürübürücümbürcümbürcemaatcümbür'"
      ]
     },
     "execution_count": 19,
     "metadata": {},
     "output_type": "execute_result"
    }
   ],
   "source": [
    "print(df[df['longest_word_length'] > 40].loc[21125,'written_before_2002'])\n",
    "df[df['longest_word_length'] > 40].loc[21125,'text']"
   ]
  },
  {
   "cell_type": "code",
   "execution_count": 20,
   "metadata": {},
   "outputs": [],
   "source": [
    "df['total_words'] = df['text'].map(lambda x: len(x.split()))"
   ]
  },
  {
   "cell_type": "code",
   "execution_count": 21,
   "metadata": {},
   "outputs": [
    {
     "data": {
      "image/png": "[encoded data removed]",
      "text/plain": [
       "<matplotlib.figure.Figure at 0x1a0c2a4588>"
      ]
     },
     "metadata": {},
     "output_type": "display_data"
    }
   ],
   "source": [
    "plt.figure(figsize = (10,10))\n",
    "sns.distplot(df['total_words'], kde = False)\n",
    "plt.title(\"Distribution of number of words per song\", fontsize = 22)\n",
    "plt.xlabel(\"Word Count\", fontsize = 20)\n",
    "plt.ylabel(\"Number of songs\", fontsize = 20)\n",
    "plt.savefig(\"../assets/visualizations/number_of_word_distribution.png\")"
   ]
  },
  {
   "cell_type": "code",
   "execution_count": 22,
   "metadata": {},
   "outputs": [
    {
     "name": "stdout",
     "output_type": "stream",
     "text": [
      "1\n"
     ]
    },
    {
     "data": {
      "text/plain": [
       "'ais ezhel ve yine bizle sekizle çekil ve rap izle delirmemen işte değil hemen iste dumanını al buna kulağını aç aga bu takımla kazanılan bu kaçıncı maç hacı kötü rapin tekler senin rapim teklen benim sende tek dert kesin neden taglenmediğin gelir tekmem çetin gider eklem yerin bana back ver kariyerim beklenmedik ve hala türkçe rapte zihniyet eksik arabesk yapar adam ismide rapçi fanın olması için iş ve gerekli de nasıl rap yapak aga kişneyerek mi ve de rapi batağından aldık yaparız adam kızmamalısın bize rapi çakarız apansız aramızda kalsın kafanız kadardır aga zıpla lan çık o yatağımdan artık red bize  gibi orjinal halk akımları gerek yapamıyo yer altının paf takımları rapi yolda bollamayla rahat takılmanın bize benzetilmen sağlıyorsa altyapı hazır demek fark atıp açtık iyice arayı siz de hala hayallerde hasmınızı tarayın okyanusta kulaç atın ama bura panayır ve ayrıca hedefinde görünen o karayız lan ayı olmuyosa zorlama bence sanma biri gelip sana kol kanat gercek biz de kendi çabamızla ortama gerçek bi heyecan getirdik neden zor para vermek iki bira az içip de albümü alcak dinleyici gerekiyo çünkü sistem alçak sebepsizce bok atarsan üstümüzde kalcak piyasanın ortasında süngümüz ve sancak emrah karakuyu bize bi bak herşey yolunda bebeğim ben asla yorulmam gecenin sonunda kanına karışacak bu müzik son hızla son hızla bu  buluşma iyi olur bence hemen buna alışman sakın konuşma çünkü son derece saçma bizle yarışman keişan hiphop artık bilinçlendi kesin olarak usade mos def burda yeşil oda var hadi yat ya da bak aga kasmadan ağır gel bu pastadan pay yok bi bas tada zar patlar yeniçeri türkün gücü bu kırdığım da önyargı üstün düşün sus yerleşti beyin fakat geçti epey kullanılmaz aynı cümlede destur ve kei bizimle kapışmak için önce bi kingkong getir sekizin yaptığını kaldıramaz windovs  kapak oldun diyosun ki manita süs ama kei dediğin rape sade karikatür red verdi yine en zor sap beat yedi bunu sallanır endoplazmik retikulum kalemle kağıt arkadaşım sekiz geldi merhaba şimdi sağa sola salla başı anil piyanci rapin adı çıkmıştı dokuza biz indirdik sekize peşine düşmedi ki bir milim geriye bu işi benzetelim bir bilim tezine ama pop dinlemek bildiğin eziyet duyuru halka basın arkama geç kasıt arama genç anıl yakar ateş ver yazın barlara ses aga korsana hayır satın almana yes rap şunu anla mizahta özgür piyancı bu takar inatla gözlük hiphopla sözlüyüm pikapta gönlüm bu bi gerçek uzatır rihanna ömrü yok olup gidince sakın suçlama beni tanrı senin  katın vermiş kuşlara beyin yıllardır yazıyorum utanmaz elim anıl piyancı diğer adım uslanmaz herif emrah karakuyu bize bi bak herşey yolunda bebeğim ben asla yorulmam gecenin sonunda kanına karışacak bu müzik son hızla son hızla bu  buluşma iyi olur bence hemen buna alışman sakın konuşma çünkü son derece saçma bizle yarışman grogi  beyaz zenci tavırları yasa dışı zengin veya bencil çalışmalı masa başı diplomalı işsiz yaratır bu pislik düzen bence mistik şekilde geçtim bu pisti bizi denk alan beyinlerde batarya zayıf bense saçı sarı teni beyaz rastafarayım lakin pasta yarım fakat biz aslan payını almak için yeryüzüne çıktık saklanmayınız homie ölümüne yaşarız şimdi bak yine önümüzde başarı buranın horozları çöplüğünde savaşır yastasınız ne yapalım biz de bu müziğin hastasıyız basma kalıp tabuları yık bavuluna tık türkçe rap tabutunu kır pabucunu yırt canımı sıkmak ister onlar çünkü çoğu boş adam bense gavura kızıp da bugün oruç bozamam nomad yavaş ol yerini bil bigo bi mühendis hiphopun bu cetvelinde milimetrik değersiniz kliplerde izlediğini sokaklarda yaladım mürekkebi diplomamda nyc yazıyo kürekledim tutuldu her bi kasım açıldı kanatlarım bi başkadır inan tadı gökyüzünde tur atmanın tabanvaya binmekten nasır tutmuş ayaklarım adım gibi büyüktür bu kültüre katkılarım ipe uy serme sakın kazı kazan emekle hiç gerek yok diss atarak avuç açıp dilenmene sayemizde rap edildi revize rap büyük bi pasta dedik böldük onu sekize oynama poligonda kapış gel arenada şöhret kaldırabilcek kaç adam var piyasada tonla yükü kaldıran bu marşandizin adı ne n ve de o ve de m ve de a  d'"
      ]
     },
     "execution_count": 22,
     "metadata": {},
     "output_type": "execute_result"
    }
   ],
   "source": [
    "print(df[df['total_words'] > 40].loc[21125,'written_before_2002'])\n",
    "df[df['total_words'] == df['total_words'].max()].loc[45424, 'text']"
   ]
  },
  {
   "cell_type": "code",
   "execution_count": 23,
   "metadata": {},
   "outputs": [],
   "source": [
    "def count_repeated_words(text):\n",
    "    text = re.sub(r\"[,.?'\\\"\\\\]\", \"\", text)\n",
    "    text = text.lower().split()\n",
    "    count = 0\n",
    "    for word in list(set(text)):\n",
    "        count += (text.count(word) - 1)\n",
    "    return count"
   ]
  },
  {
   "cell_type": "code",
   "execution_count": 24,
   "metadata": {},
   "outputs": [],
   "source": [
    "def make_bigrams(text):\n",
    "    text = re.sub(r\"[,.?'\\\"\\\\]\", \"\", text)\n",
    "    text = text.lower().split()\n",
    "    return [f\"{i} {j}\" for i,j in zip(text[:-1], text[1:])]\n",
    "        "
   ]
  },
  {
   "cell_type": "code",
   "execution_count": 25,
   "metadata": {},
   "outputs": [],
   "source": [
    "def count_repeated_bigrams(text):\n",
    "    bigrams = make_bigrams(text)\n",
    "    count = 0\n",
    "    for bigram in list(set(bigrams)):\n",
    "        count += (bigrams.count(bigram) - 1)\n",
    "    return count"
   ]
  },
  {
   "cell_type": "code",
   "execution_count": 26,
   "metadata": {},
   "outputs": [],
   "source": [
    "df['repeated_exact_words'] = df['text'].map(count_repeated_words)"
   ]
  },
  {
   "cell_type": "code",
   "execution_count": 27,
   "metadata": {},
   "outputs": [],
   "source": [
    "df['repeated_bigrams'] = df['text'].map(count_repeated_bigrams)"
   ]
  },
  {
   "cell_type": "code",
   "execution_count": 28,
   "metadata": {},
   "outputs": [
    {
     "data": {
      "image/png": "[encoded data removed]",
      "text/plain": [
       "<matplotlib.figure.Figure at 0x10353b9b0>"
      ]
     },
     "metadata": {},
     "output_type": "display_data"
    }
   ],
   "source": [
    "plt.figure(figsize = (10,10))\n",
    "sns.distplot(df['repeated_bigrams'], kde = False)\n",
    "plt.title(\"Distribution of repeated bigrams per song\", fontsize = 22)\n",
    "plt.xlabel(\"Repeated Bigrams\", fontsize = 20)\n",
    "plt.ylabel(\"Number of songs\", fontsize = 20)\n",
    "plt.savefig(\"../assets/visualizations/repeated_bigrams_distribution.png\")"
   ]
  },
  {
   "cell_type": "code",
   "execution_count": 29,
   "metadata": {},
   "outputs": [
    {
     "data": {
      "image/png": "[encoded data removed]",
      "text/plain": [
       "<matplotlib.figure.Figure at 0x1a0c821400>"
      ]
     },
     "metadata": {},
     "output_type": "display_data"
    }
   ],
   "source": [
    "plt.figure(figsize = (10,10))\n",
    "sns.distplot(df['repeated_exact_words'], kde = False)\n",
    "plt.title(\"Distribution of repeated words per song\", fontsize = 22)\n",
    "plt.xlabel(\"Repeated Words\", fontsize = 20)\n",
    "plt.ylabel(\"Number of songs\", fontsize = 20)\n",
    "plt.savefig(\"../assets/visualizations/repeated_words_distribution.png\")"
   ]
  },
  {
   "cell_type": "code",
   "execution_count": 30,
   "metadata": {},
   "outputs": [],
   "source": [
    "def get_most_common_bigram(text):\n",
    "    bigrams = make_bigrams(text)\n",
    "    most = 0\n",
    "    most_common_bigram = None\n",
    "    for bigram in list(set(bigrams)):\n",
    "        if (bigrams.count(bigram) - 1) > most:\n",
    "            most = (bigrams.count(bigram) - 1)\n",
    "            most_common_bigram = bigram\n",
    "    if most > 1:\n",
    "        return most_common_bigram\n",
    "    else:\n",
    "        return None\n",
    "\n",
    "df['most_common_bigram'] = df['text'].map(get_most_common_bigram)"
   ]
  },
  {
   "cell_type": "code",
   "execution_count": 31,
   "metadata": {},
   "outputs": [
    {
     "data": {
      "text/plain": [
       "285    edeyim hey\n",
       "286          None\n",
       "289          None\n",
       "292          None\n",
       "296      allah ey\n",
       "Name: most_common_bigram, dtype: object"
      ]
     },
     "execution_count": 31,
     "metadata": {},
     "output_type": "execute_result"
    }
   ],
   "source": [
    "df['most_common_bigram'].head()"
   ]
  },
  {
   "cell_type": "code",
   "execution_count": 32,
   "metadata": {},
   "outputs": [
    {
     "data": {
      "text/html": [
       "<div>\n",
       "<style scoped>\n",
       "    .dataframe tbody tr th:only-of-type {\n",
       "        vertical-align: middle;\n",
       "    }\n",
       "\n",
       "    .dataframe tbody tr th {\n",
       "        vertical-align: top;\n",
       "    }\n",
       "\n",
       "    .dataframe thead th {\n",
       "        text-align: right;\n",
       "    }\n",
       "</style>\n",
       "<table border=\"1\" class=\"dataframe\">\n",
       "  <thead>\n",
       "    <tr style=\"text-align: right;\">\n",
       "      <th></th>\n",
       "      <th>most_common_bigram</th>\n",
       "    </tr>\n",
       "  </thead>\n",
       "  <tbody>\n",
       "    <tr>\n",
       "      <th>aman aman</th>\n",
       "      <td>75</td>\n",
       "    </tr>\n",
       "    <tr>\n",
       "      <th>oy oy</th>\n",
       "      <td>53</td>\n",
       "    </tr>\n",
       "    <tr>\n",
       "      <th>vay vay</th>\n",
       "      <td>34</td>\n",
       "    </tr>\n",
       "    <tr>\n",
       "      <th>gel gel</th>\n",
       "      <td>33</td>\n",
       "    </tr>\n",
       "    <tr>\n",
       "      <th>yar yar</th>\n",
       "      <td>31</td>\n",
       "    </tr>\n",
       "    <tr>\n",
       "      <th>bir gün</th>\n",
       "      <td>30</td>\n",
       "    </tr>\n",
       "    <tr>\n",
       "      <th>bu gece</th>\n",
       "      <td>24</td>\n",
       "    </tr>\n",
       "    <tr>\n",
       "      <th>bir daha</th>\n",
       "      <td>22</td>\n",
       "    </tr>\n",
       "    <tr>\n",
       "      <th>ne olur</th>\n",
       "      <td>17</td>\n",
       "    </tr>\n",
       "    <tr>\n",
       "      <th>beni beni</th>\n",
       "      <td>17</td>\n",
       "    </tr>\n",
       "    <tr>\n",
       "      <th>nenni nenni</th>\n",
       "      <td>13</td>\n",
       "    </tr>\n",
       "    <tr>\n",
       "      <th>senin için</th>\n",
       "      <td>13</td>\n",
       "    </tr>\n",
       "    <tr>\n",
       "      <th>of of</th>\n",
       "      <td>12</td>\n",
       "    </tr>\n",
       "    <tr>\n",
       "      <th>la la</th>\n",
       "      <td>11</td>\n",
       "    </tr>\n",
       "    <tr>\n",
       "      <th>ne zaman</th>\n",
       "      <td>11</td>\n",
       "    </tr>\n",
       "    <tr>\n",
       "      <th>ben sana</th>\n",
       "      <td>11</td>\n",
       "    </tr>\n",
       "    <tr>\n",
       "      <th>kime ne</th>\n",
       "      <td>10</td>\n",
       "    </tr>\n",
       "    <tr>\n",
       "      <th>ya da</th>\n",
       "      <td>10</td>\n",
       "    </tr>\n",
       "    <tr>\n",
       "      <th>yok yok</th>\n",
       "      <td>10</td>\n",
       "    </tr>\n",
       "    <tr>\n",
       "      <th>her zaman</th>\n",
       "      <td>10</td>\n",
       "    </tr>\n",
       "  </tbody>\n",
       "</table>\n",
       "</div>"
      ],
      "text/plain": [
       "             most_common_bigram\n",
       "aman aman                    75\n",
       "oy oy                        53\n",
       "vay vay                      34\n",
       "gel gel                      33\n",
       "yar yar                      31\n",
       "bir gün                      30\n",
       "bu gece                      24\n",
       "bir daha                     22\n",
       "ne olur                      17\n",
       "beni beni                    17\n",
       "nenni nenni                  13\n",
       "senin için                   13\n",
       "of of                        12\n",
       "la la                        11\n",
       "ne zaman                     11\n",
       "ben sana                     11\n",
       "kime ne                      10\n",
       "ya da                        10\n",
       "yok yok                      10\n",
       "her zaman                    10"
      ]
     },
     "execution_count": 32,
     "metadata": {},
     "output_type": "execute_result"
    }
   ],
   "source": [
    "temp_df = pd.DataFrame(df['most_common_bigram'].value_counts())\n",
    "\n",
    "temp_df.head(20)"
   ]
  },
  {
   "cell_type": "code",
   "execution_count": 33,
   "metadata": {},
   "outputs": [],
   "source": [
    "aman_aman = df[df['most_common_bigram'] == 'aman aman']"
   ]
  },
  {
   "cell_type": "code",
   "execution_count": 34,
   "metadata": {},
   "outputs": [
    {
     "data": {
      "text/plain": [
       "0.6533333333333333"
      ]
     },
     "execution_count": 34,
     "metadata": {},
     "output_type": "execute_result"
    }
   ],
   "source": [
    "1 - aman_aman['written_before_2002'].mean()"
   ]
  },
  {
   "cell_type": "code",
   "execution_count": 35,
   "metadata": {},
   "outputs": [
    {
     "data": {
      "text/html": [
       "<div>\n",
       "<style scoped>\n",
       "    .dataframe tbody tr th:only-of-type {\n",
       "        vertical-align: middle;\n",
       "    }\n",
       "\n",
       "    .dataframe tbody tr th {\n",
       "        vertical-align: top;\n",
       "    }\n",
       "\n",
       "    .dataframe thead th {\n",
       "        text-align: right;\n",
       "    }\n",
       "</style>\n",
       "<table border=\"1\" class=\"dataframe\">\n",
       "  <thead>\n",
       "    <tr style=\"text-align: right;\">\n",
       "      <th></th>\n",
       "      <th>most_common_non_repeated_bigram</th>\n",
       "    </tr>\n",
       "  </thead>\n",
       "  <tbody>\n",
       "    <tr>\n",
       "      <th>bir gün</th>\n",
       "      <td>30</td>\n",
       "    </tr>\n",
       "    <tr>\n",
       "      <th>bu gece</th>\n",
       "      <td>26</td>\n",
       "    </tr>\n",
       "    <tr>\n",
       "      <th>bir daha</th>\n",
       "      <td>23</td>\n",
       "    </tr>\n",
       "    <tr>\n",
       "      <th>ne olur</th>\n",
       "      <td>18</td>\n",
       "    </tr>\n",
       "    <tr>\n",
       "      <th>senin için</th>\n",
       "      <td>14</td>\n",
       "    </tr>\n",
       "  </tbody>\n",
       "</table>\n",
       "</div>"
      ],
      "text/plain": [
       "            most_common_non_repeated_bigram\n",
       "bir gün                                  30\n",
       "bu gece                                  26\n",
       "bir daha                                 23\n",
       "ne olur                                  18\n",
       "senin için                               14"
      ]
     },
     "execution_count": 35,
     "metadata": {},
     "output_type": "execute_result"
    }
   ],
   "source": [
    "def get_most_common_non_repeated_bigram(text):\n",
    "    bigrams = make_bigrams(text)\n",
    "    most = 0\n",
    "    most_common_bigram = None\n",
    "    for bigram in list(set(bigrams)):\n",
    "        if (bigram.split()[0] != bigram.split()[1]) and ((bigrams.count(bigram) - 1) > most):\n",
    "            most = (bigrams.count(bigram) - 1)\n",
    "            most_common_bigram = bigram\n",
    "    if most > 1:\n",
    "        return most_common_bigram\n",
    "    else:\n",
    "        return None\n",
    "\n",
    "df['most_common_non_repeated_bigram'] = df['text'].map(get_most_common_non_repeated_bigram)\n",
    "temp_df = pd.DataFrame(df['most_common_non_repeated_bigram'].value_counts())\n",
    "temp_df.head()"
   ]
  },
  {
   "cell_type": "code",
   "execution_count": 36,
   "metadata": {},
   "outputs": [],
   "source": [
    "pre = df[df['written_before_2002'] == 1]\n",
    "post = df[df['written_before_2002'] == 0]"
   ]
  },
  {
   "cell_type": "code",
   "execution_count": 37,
   "metadata": {},
   "outputs": [
    {
     "data": {
      "text/html": [
       "<div>\n",
       "<style scoped>\n",
       "    .dataframe tbody tr th:only-of-type {\n",
       "        vertical-align: middle;\n",
       "    }\n",
       "\n",
       "    .dataframe tbody tr th {\n",
       "        vertical-align: top;\n",
       "    }\n",
       "\n",
       "    .dataframe thead th {\n",
       "        text-align: right;\n",
       "    }\n",
       "</style>\n",
       "<table border=\"1\" class=\"dataframe\">\n",
       "  <thead>\n",
       "    <tr style=\"text-align: right;\">\n",
       "      <th></th>\n",
       "      <th>most_common_non_repeated_bigram</th>\n",
       "    </tr>\n",
       "  </thead>\n",
       "  <tbody>\n",
       "    <tr>\n",
       "      <th>bir gün</th>\n",
       "      <td>10</td>\n",
       "    </tr>\n",
       "    <tr>\n",
       "      <th>bir daha</th>\n",
       "      <td>10</td>\n",
       "    </tr>\n",
       "    <tr>\n",
       "      <th>ne olur</th>\n",
       "      <td>8</td>\n",
       "    </tr>\n",
       "    <tr>\n",
       "      <th>ben sana</th>\n",
       "      <td>8</td>\n",
       "    </tr>\n",
       "    <tr>\n",
       "      <th>bu gece</th>\n",
       "      <td>6</td>\n",
       "    </tr>\n",
       "  </tbody>\n",
       "</table>\n",
       "</div>"
      ],
      "text/plain": [
       "          most_common_non_repeated_bigram\n",
       "bir gün                                10\n",
       "bir daha                               10\n",
       "ne olur                                 8\n",
       "ben sana                                8\n",
       "bu gece                                 6"
      ]
     },
     "execution_count": 37,
     "metadata": {},
     "output_type": "execute_result"
    }
   ],
   "source": [
    "pd.DataFrame(pre['most_common_non_repeated_bigram'].value_counts()).head()"
   ]
  },
  {
   "cell_type": "code",
   "execution_count": 38,
   "metadata": {},
   "outputs": [
    {
     "data": {
      "text/html": [
       "<div>\n",
       "<style scoped>\n",
       "    .dataframe tbody tr th:only-of-type {\n",
       "        vertical-align: middle;\n",
       "    }\n",
       "\n",
       "    .dataframe tbody tr th {\n",
       "        vertical-align: top;\n",
       "    }\n",
       "\n",
       "    .dataframe thead th {\n",
       "        text-align: right;\n",
       "    }\n",
       "</style>\n",
       "<table border=\"1\" class=\"dataframe\">\n",
       "  <thead>\n",
       "    <tr style=\"text-align: right;\">\n",
       "      <th></th>\n",
       "      <th>most_common_non_repeated_bigram</th>\n",
       "    </tr>\n",
       "  </thead>\n",
       "  <tbody>\n",
       "    <tr>\n",
       "      <th>bu gece</th>\n",
       "      <td>20</td>\n",
       "    </tr>\n",
       "    <tr>\n",
       "      <th>bir gün</th>\n",
       "      <td>20</td>\n",
       "    </tr>\n",
       "    <tr>\n",
       "      <th>bir daha</th>\n",
       "      <td>13</td>\n",
       "    </tr>\n",
       "    <tr>\n",
       "      <th>senin için</th>\n",
       "      <td>11</td>\n",
       "    </tr>\n",
       "    <tr>\n",
       "      <th>ne olur</th>\n",
       "      <td>10</td>\n",
       "    </tr>\n",
       "  </tbody>\n",
       "</table>\n",
       "</div>"
      ],
      "text/plain": [
       "            most_common_non_repeated_bigram\n",
       "bu gece                                  20\n",
       "bir gün                                  20\n",
       "bir daha                                 13\n",
       "senin için                               11\n",
       "ne olur                                  10"
      ]
     },
     "execution_count": 38,
     "metadata": {},
     "output_type": "execute_result"
    }
   ],
   "source": [
    "pd.DataFrame(post['most_common_non_repeated_bigram'].value_counts()).head()"
   ]
  },
  {
   "cell_type": "markdown",
   "metadata": {},
   "source": [
    "## Lemmatized versions of these features\n",
    "- number of repeated lemmas\n",
    "- number of repeated lemma bigrams\n",
    "- most common lemma bigram\n",
    "- most common non-repeated lemma bigram"
   ]
  },
  {
   "cell_type": "code",
   "execution_count": 39,
   "metadata": {},
   "outputs": [],
   "source": [
    "df['lemmatized_text'] = df['text'].map(lemmatize)"
   ]
  },
  {
   "cell_type": "code",
   "execution_count": 47,
   "metadata": {},
   "outputs": [
    {
     "data": {
      "image/png": "[encoded data removed]",
      "text/plain": [
       "<matplotlib.figure.Figure at 0x1a0fb05668>"
      ]
     },
     "metadata": {},
     "output_type": "display_data"
    }
   ],
   "source": [
    "df['repeated_lemmatized_words'] = df['lemmatized_text'].map(count_repeated_words)\n",
    "plt.figure(figsize = (10,10))\n",
    "sns.distplot(df['repeated_lemmatized_words'], kde = False)\n",
    "plt.title(\"Distribution of repeated lemmatized words per song\", fontsize = 22)\n",
    "plt.xlabel(\"Repeated Lemmas\", fontsize = 20)\n",
    "plt.ylabel(\"Number of songs\", fontsize = 20)\n",
    "plt.savefig(\"../assets/visualizations/repeated_lemmas_distribution.png\")\n"
   ]
  },
  {
   "cell_type": "code",
   "execution_count": 48,
   "metadata": {},
   "outputs": [
    {
     "data": {
      "image/png": "[encoded data removed]",
      "text/plain": [
       "<matplotlib.figure.Figure at 0x1a10c94668>"
      ]
     },
     "metadata": {},
     "output_type": "display_data"
    }
   ],
   "source": [
    "df['repeated_lemma_bigrams'] = df['lemmatized_text'].map(count_repeated_bigrams)\n",
    "plt.figure(figsize = (10,10))\n",
    "sns.distplot(df['repeated_lemma_bigrams'], kde = False)\n",
    "plt.title(\"Distribution of repeated lemmatized bigrams per song\", fontsize = 22)\n",
    "plt.xlabel(\"Repeated Lemma Bigrams\", fontsize = 20)\n",
    "plt.ylabel(\"Number of songs\", fontsize = 20)\n",
    "plt.savefig(\"../assets/visualizations/repeated_lemma_bigrams_distribution.png\")"
   ]
  },
  {
   "cell_type": "code",
   "execution_count": 42,
   "metadata": {},
   "outputs": [
    {
     "data": {
      "text/html": [
       "<div>\n",
       "<style scoped>\n",
       "    .dataframe tbody tr th:only-of-type {\n",
       "        vertical-align: middle;\n",
       "    }\n",
       "\n",
       "    .dataframe tbody tr th {\n",
       "        vertical-align: top;\n",
       "    }\n",
       "\n",
       "    .dataframe thead th {\n",
       "        text-align: right;\n",
       "    }\n",
       "</style>\n",
       "<table border=\"1\" class=\"dataframe\">\n",
       "  <thead>\n",
       "    <tr style=\"text-align: right;\">\n",
       "      <th></th>\n",
       "      <th>most_common_lemma_bigram</th>\n",
       "    </tr>\n",
       "  </thead>\n",
       "  <tbody>\n",
       "    <tr>\n",
       "      <th>aman aman</th>\n",
       "      <td>69</td>\n",
       "    </tr>\n",
       "    <tr>\n",
       "      <th>oy oy</th>\n",
       "      <td>52</td>\n",
       "    </tr>\n",
       "    <tr>\n",
       "      <th>gel gel</th>\n",
       "      <td>44</td>\n",
       "    </tr>\n",
       "    <tr>\n",
       "      <th>ben sen</th>\n",
       "      <td>37</td>\n",
       "    </tr>\n",
       "    <tr>\n",
       "      <th>ben ben</th>\n",
       "      <td>35</td>\n",
       "    </tr>\n",
       "  </tbody>\n",
       "</table>\n",
       "</div>"
      ],
      "text/plain": [
       "           most_common_lemma_bigram\n",
       "aman aman                        69\n",
       "oy oy                            52\n",
       "gel gel                          44\n",
       "ben sen                          37\n",
       "ben ben                          35"
      ]
     },
     "execution_count": 42,
     "metadata": {},
     "output_type": "execute_result"
    }
   ],
   "source": [
    "df['most_common_lemma_bigram'] = df['lemmatized_text'].map(get_most_common_bigram)\n",
    "temp_df = pd.DataFrame(df['most_common_lemma_bigram'].value_counts())\n",
    "temp_df.head(5)"
   ]
  },
  {
   "cell_type": "code",
   "execution_count": 43,
   "metadata": {},
   "outputs": [
    {
     "data": {
      "text/html": [
       "<div>\n",
       "<style scoped>\n",
       "    .dataframe tbody tr th:only-of-type {\n",
       "        vertical-align: middle;\n",
       "    }\n",
       "\n",
       "    .dataframe tbody tr th {\n",
       "        vertical-align: top;\n",
       "    }\n",
       "\n",
       "    .dataframe thead th {\n",
       "        text-align: right;\n",
       "    }\n",
       "</style>\n",
       "<table border=\"1\" class=\"dataframe\">\n",
       "  <thead>\n",
       "    <tr style=\"text-align: right;\">\n",
       "      <th></th>\n",
       "      <th>most_common_non_repeated_lemma_bigram</th>\n",
       "    </tr>\n",
       "  </thead>\n",
       "  <tbody>\n",
       "    <tr>\n",
       "      <th>ben sen</th>\n",
       "      <td>38</td>\n",
       "    </tr>\n",
       "    <tr>\n",
       "      <th>ne ol</th>\n",
       "      <td>37</td>\n",
       "    </tr>\n",
       "    <tr>\n",
       "      <th>sen ben</th>\n",
       "      <td>32</td>\n",
       "    </tr>\n",
       "    <tr>\n",
       "      <th>bir gün</th>\n",
       "      <td>31</td>\n",
       "    </tr>\n",
       "    <tr>\n",
       "      <th>bu gece</th>\n",
       "      <td>29</td>\n",
       "    </tr>\n",
       "  </tbody>\n",
       "</table>\n",
       "</div>"
      ],
      "text/plain": [
       "         most_common_non_repeated_lemma_bigram\n",
       "ben sen                                     38\n",
       "ne ol                                       37\n",
       "sen ben                                     32\n",
       "bir gün                                     31\n",
       "bu gece                                     29"
      ]
     },
     "execution_count": 43,
     "metadata": {},
     "output_type": "execute_result"
    }
   ],
   "source": [
    "df['most_common_non_repeated_lemma_bigram'] = df['lemmatized_text'].map(get_most_common_non_repeated_bigram)\n",
    "temp_df = pd.DataFrame(df['most_common_non_repeated_lemma_bigram'].value_counts())\n",
    "temp_df.head(5)"
   ]
  },
  {
   "cell_type": "code",
   "execution_count": 44,
   "metadata": {},
   "outputs": [
    {
     "data": {
      "text/plain": [
       "Index(['artist', 'album', 'text', 'release', 'name', 'year',\n",
       "       'written_before_2002', 'written_before_2004', 'written_before_2006',\n",
       "       'written_before_2008', 'oy_length', 'ah_length', 'ey_length',\n",
       "       'vay_length', 'oh_length', 'longest_word_length', 'total_words',\n",
       "       'repeated_exact_words', 'repeated_bigrams', 'most_common_bigram',\n",
       "       'most_common_non_repeated_bigram', 'lemmatized_text',\n",
       "       'repeated_lemmatized_words', 'repeated_lemma_bigrams',\n",
       "       'most_common_lemma_bigram', 'most_common_non_repeated_lemma_bigram'],\n",
       "      dtype='object')"
      ]
     },
     "execution_count": 44,
     "metadata": {},
     "output_type": "execute_result"
    }
   ],
   "source": [
    "df.columns"
   ]
  },
  {
   "cell_type": "markdown",
   "metadata": {},
   "source": [
    "### About this dataframe:\n",
    "- numeric features:\n",
    " - longest_oy, longest_ah, longest_ey, longest_vay, longest_oh, \n",
    " - longest_word_length, total_words\n",
    " - repeated_exact_words, repeated_bigrams\n",
    " - repeated_lemmatized_words, repeated_lemma_bigrams\n",
    "- categorical features\n",
    " - most_common_bigram, most_common_non_repeated_bigram\n",
    " - most_common_lemma_bigram, most_common_non_repeated_lemma_bigram"
   ]
  },
  {
   "cell_type": "code",
   "execution_count": 45,
   "metadata": {},
   "outputs": [],
   "source": [
    "df.fillna('na', inplace=True)"
   ]
  },
  {
   "cell_type": "code",
   "execution_count": 46,
   "metadata": {},
   "outputs": [],
   "source": [
    "df.to_csv(\"../assets/data/full_frame_20180711.csv\")"
   ]
  },
  {
   "cell_type": "markdown",
   "metadata": {},
   "source": [
    "## Word Clouds"
   ]
  },
  {
   "cell_type": "code",
   "execution_count": 87,
   "metadata": {},
   "outputs": [],
   "source": [
    "from wordcloud import WordCloud\n",
    "\n",
    "from PIL import Image"
   ]
  },
  {
   "cell_type": "code",
   "execution_count": 89,
   "metadata": {},
   "outputs": [],
   "source": [
    "stops = STOP_WORDS"
   ]
  },
  {
   "cell_type": "code",
   "execution_count": 111,
   "metadata": {},
   "outputs": [],
   "source": [
    "stops.add(\"ben\")\n",
    "stops.add(\"bir\")\n",
    "stops.add(\"sen\")\n",
    "stops.add(\"ol\")\n",
    "stops.add(\"gel\")"
   ]
  },
  {
   "cell_type": "code",
   "execution_count": 122,
   "metadata": {},
   "outputs": [],
   "source": [
    "mask = np.array(Image.open(\"/Users/jswithers/Downloads/black-star-crescent-512.jpg\"))"
   ]
  },
  {
   "cell_type": "code",
   "execution_count": 169,
   "metadata": {},
   "outputs": [
    {
     "data": {
      "image/png": "[encoded data removed]",
      "text/plain": [
       "<matplotlib.figure.Figure at 0x1a27a7fc50>"
      ]
     },
     "metadata": {},
     "output_type": "display_data"
    }
   ],
   "source": [
    "wc = WordCloud(background_color=\"white\", max_words=10000, stopwords=stops, width = 10000, height = 8000, mask = mask, colormap='Reds')\n",
    "\n",
    "text = df['lemmatized_text']\n",
    "\n",
    "text = list(text)\n",
    "\n",
    "text  = \" \".join(text)\n",
    "\n",
    "wc.generate(text)\n",
    "\n",
    "plt.imshow(wc, interpolation='bilinear')\n",
    "plt.axis(\"off\")\n",
    "# plt.imshow(cmap=plt.cm.gray, interpolation='bilinear')\n",
    "plt.axis(\"off\")\n",
    "plt.savefig(\"../assets/visualizations/wordcloud1.png\")"
   ]
  },
  {
   "cell_type": "code",
   "execution_count": null,
   "metadata": {},
   "outputs": [],
   "source": []
  }
 ],
 "metadata": {
  "kernelspec": {
   "display_name": "Python [conda root]",
   "language": "python",
   "name": "conda-root-py"
  },
  "language_info": {
   "codemirror_mode": {
    "name": "ipython",
    "version": 3
   },
   "file_extension": ".py",
   "mimetype": "text/x-python",
   "name": "python",
   "nbconvert_exporter": "python",
   "pygments_lexer": "ipython3",
   "version": "3.6.4"
  }
 },
 "nbformat": 4,
 "nbformat_minor": 2
}
