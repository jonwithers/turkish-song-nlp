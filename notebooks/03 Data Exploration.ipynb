{
 "cells": [
  {
   "cell_type": "markdown",
   "metadata": {},
   "source": [
    "# EDA\n",
    "Now that the data is cleaned, what's in it?"
   ]
  },
  {
   "cell_type": "code",
   "execution_count": 26,
   "metadata": {},
   "outputs": [],
   "source": [
    "import pandas as pd\n",
    "import numpy as np\n",
    "import matplotlib.pyplot as plt\n",
    "import seaborn as sns\n",
    "\n",
    "from sklearn.feature_extraction.text import CountVectorizer, HashingVectorizer, TfidfVectorizer"
   ]
  },
  {
   "cell_type": "code",
   "execution_count": 27,
   "metadata": {},
   "outputs": [
    {
     "name": "stdout",
     "output_type": "stream",
     "text": [
      "Text processing functions loaded.\n"
     ]
    }
   ],
   "source": [
    "%run ../scripts/post_scraping_text_processing.py functions"
   ]
  },
  {
   "cell_type": "markdown",
   "metadata": {},
   "source": [
    "## Reading in data\n",
    "This notebook takes the output of the script `train_test_split.py`, which divides the data into training and test sets. Later this division proves to be unnecessary at this stage."
   ]
  },
  {
   "cell_type": "code",
   "execution_count": 28,
   "metadata": {},
   "outputs": [],
   "source": [
    "train = pd.read_csv('../assets/train.csv', index_col=0)\n",
    "test = pd.read_csv('../assets/test.csv', index_col = 0)\n",
    "df = pd.concat([train, test], axis = 0)"
   ]
  },
  {
   "cell_type": "code",
   "execution_count": 29,
   "metadata": {},
   "outputs": [
    {
     "name": "stdout",
     "output_type": "stream",
     "text": [
      "(11538, 5)\n",
      "(3847, 5)\n",
      "(15385, 5)\n"
     ]
    }
   ],
   "source": [
    "print(train.shape)\n",
    "print(test.shape)\n",
    "print(df.shape)"
   ]
  },
  {
   "cell_type": "code",
   "execution_count": 30,
   "metadata": {},
   "outputs": [
    {
     "data": {
      "text/plain": [
       "Index(['artist', 'album', 'text', 'name', 'written_precoup'], dtype='object')"
      ]
     },
     "execution_count": 30,
     "metadata": {},
     "output_type": "execute_result"
    }
   ],
   "source": [
    "df.columns"
   ]
  },
  {
   "cell_type": "markdown",
   "metadata": {},
   "source": [
    "## Looking at the two classes separately\n",
    "In this section:\n",
    "- split the dataframe into two based on target class\n",
    "- define a function that uses `CountVectorizer` to produce a word list with frequencies and proportions"
   ]
  },
  {
   "cell_type": "code",
   "execution_count": 31,
   "metadata": {},
   "outputs": [],
   "source": [
    "precoup = df[df['written_precoup']==1]\n",
    "postcoup = df[df['written_precoup'] ==0]"
   ]
  },
  {
   "cell_type": "code",
   "execution_count": 32,
   "metadata": {},
   "outputs": [],
   "source": [
    "precoup_corpus = precoup['text'].copy()\n",
    "postcoup_corpus = postcoup['text'].copy()"
   ]
  },
  {
   "cell_type": "code",
   "execution_count": 33,
   "metadata": {},
   "outputs": [],
   "source": [
    "cvec_pre = CountVectorizer(stop_words=STOP_WORDS, min_df=2)"
   ]
  },
  {
   "cell_type": "code",
   "execution_count": 34,
   "metadata": {},
   "outputs": [
    {
     "data": {
      "text/plain": [
       "CountVectorizer(analyzer='word', binary=False, decode_error='strict',\n",
       "        dtype=<class 'numpy.int64'>, encoding='utf-8', input='content',\n",
       "        lowercase=True, max_df=1.0, max_features=None, min_df=2,\n",
       "        ngram_range=(1, 1), preprocessor=None,\n",
       "        stop_words={'neredeyse', 'nedense', 'burasından', 'bitevi', 'üzere', 'bizce', 'yakınlarda', 'ediliyor', 'kiminin', 'iyicene', 'eğer', 'şayet', 'evvelemirde', 'birinin', 'birice', 'kimi', 'esasen', 'hangisinden', 'denli', 'kendisi', 'herkesi', 'burada', 'halihazırda', 'hiçbirinden', 'kanımca', 'hiç',...mlesine', 'epeyi', 'bunlar', 'şundan', 'pekala', 'sizden', 'bizzat', 'yalnızca', 'göre', 'birlikte'},\n",
       "        strip_accents=None, token_pattern='(?u)\\\\b\\\\w\\\\w+\\\\b',\n",
       "        tokenizer=None, vocabulary=None)"
      ]
     },
     "execution_count": 34,
     "metadata": {},
     "output_type": "execute_result"
    }
   ],
   "source": [
    "cvec_pre.fit(precoup_corpus)"
   ]
  },
  {
   "cell_type": "code",
   "execution_count": 35,
   "metadata": {},
   "outputs": [],
   "source": [
    "transformed = cvec_pre.transform(precoup_corpus)"
   ]
  },
  {
   "cell_type": "code",
   "execution_count": 36,
   "metadata": {},
   "outputs": [
    {
     "data": {
      "text/html": [
       "<div>\n",
       "<style scoped>\n",
       "    .dataframe tbody tr th:only-of-type {\n",
       "        vertical-align: middle;\n",
       "    }\n",
       "\n",
       "    .dataframe tbody tr th {\n",
       "        vertical-align: top;\n",
       "    }\n",
       "\n",
       "    .dataframe thead th {\n",
       "        text-align: right;\n",
       "    }\n",
       "</style>\n",
       "<table border=\"1\" class=\"dataframe\">\n",
       "  <thead>\n",
       "    <tr style=\"text-align: right;\">\n",
       "      <th></th>\n",
       "      <th>count</th>\n",
       "    </tr>\n",
       "  </thead>\n",
       "  <tbody>\n",
       "    <tr>\n",
       "      <th>bir</th>\n",
       "      <td>6569</td>\n",
       "    </tr>\n",
       "    <tr>\n",
       "      <th>gel</th>\n",
       "      <td>1459</td>\n",
       "    </tr>\n",
       "    <tr>\n",
       "      <th>yar</th>\n",
       "      <td>1212</td>\n",
       "    </tr>\n",
       "    <tr>\n",
       "      <th>aman</th>\n",
       "      <td>989</td>\n",
       "    </tr>\n",
       "    <tr>\n",
       "      <th>ah</th>\n",
       "      <td>892</td>\n",
       "    </tr>\n",
       "    <tr>\n",
       "      <th>gün</th>\n",
       "      <td>870</td>\n",
       "    </tr>\n",
       "    <tr>\n",
       "      <th>aşk</th>\n",
       "      <td>716</td>\n",
       "    </tr>\n",
       "    <tr>\n",
       "      <th>oy</th>\n",
       "      <td>643</td>\n",
       "    </tr>\n",
       "    <tr>\n",
       "      <th>sensiz</th>\n",
       "      <td>565</td>\n",
       "    </tr>\n",
       "    <tr>\n",
       "      <th>güzel</th>\n",
       "      <td>545</td>\n",
       "    </tr>\n",
       "    <tr>\n",
       "      <th>gönül</th>\n",
       "      <td>540</td>\n",
       "    </tr>\n",
       "    <tr>\n",
       "      <th>gece</th>\n",
       "      <td>518</td>\n",
       "    </tr>\n",
       "    <tr>\n",
       "      <th>vay</th>\n",
       "      <td>516</td>\n",
       "    </tr>\n",
       "    <tr>\n",
       "      <th>deli</th>\n",
       "      <td>498</td>\n",
       "    </tr>\n",
       "    <tr>\n",
       "      <th>zaman</th>\n",
       "      <td>497</td>\n",
       "    </tr>\n",
       "    <tr>\n",
       "      <th>canım</th>\n",
       "      <td>493</td>\n",
       "    </tr>\n",
       "    <tr>\n",
       "      <th>bak</th>\n",
       "      <td>468</td>\n",
       "    </tr>\n",
       "    <tr>\n",
       "      <th>al</th>\n",
       "      <td>468</td>\n",
       "    </tr>\n",
       "    <tr>\n",
       "      <th>gelir</th>\n",
       "      <td>425</td>\n",
       "    </tr>\n",
       "    <tr>\n",
       "      <th>dünya</th>\n",
       "      <td>402</td>\n",
       "    </tr>\n",
       "  </tbody>\n",
       "</table>\n",
       "</div>"
      ],
      "text/plain": [
       "        count\n",
       "bir      6569\n",
       "gel      1459\n",
       "yar      1212\n",
       "aman      989\n",
       "ah        892\n",
       "gün       870\n",
       "aşk       716\n",
       "oy        643\n",
       "sensiz    565\n",
       "güzel     545\n",
       "gönül     540\n",
       "gece      518\n",
       "vay       516\n",
       "deli      498\n",
       "zaman     497\n",
       "canım     493\n",
       "bak       468\n",
       "al        468\n",
       "gelir     425\n",
       "dünya     402"
      ]
     },
     "execution_count": 36,
     "metadata": {},
     "output_type": "execute_result"
    }
   ],
   "source": [
    "pd.DataFrame(pd.DataFrame(transformed.toarray(), columns=cvec_pre.get_feature_names()).sum().sort_values(ascending =False), columns = ['count']).head(20)"
   ]
  },
  {
   "cell_type": "code",
   "execution_count": 37,
   "metadata": {},
   "outputs": [],
   "source": [
    "def make_vocab_list(corpus, stopwords = None, ngram_range = (1,1), min_df = 1):\n",
    "    \"\"\"Takes a corpus and returns a one column dataframe with words in the index and counts in a column.\n",
    "    \n",
    "    Options:\n",
    "        - stopwords: either a list-like or None (default)\n",
    "        - ngram_range: a tuple (default (1,1))\n",
    "        - min_df: minimum document frequency (default 1)\"\"\"\n",
    "    cv = CountVectorizer(stop_words=stopwords, ngram_range=ngram_range, min_df = min_df)\n",
    "    cv.fit(corpus)\n",
    "    transformed = cv.transform(corpus)\n",
    "    \n",
    "    return pd.DataFrame(pd.DataFrame(transformed.toarray(), columns=cv.get_feature_names()).sum().sort_values(ascending =False), columns = ['count'])\n",
    "    \n",
    "    "
   ]
  },
  {
   "cell_type": "code",
   "execution_count": 38,
   "metadata": {},
   "outputs": [],
   "source": [
    "words_precoup = make_vocab_list(precoup_corpus)\n",
    "words_postcoup = make_vocab_list(postcoup_corpus)"
   ]
  },
  {
   "cell_type": "code",
   "execution_count": 40,
   "metadata": {},
   "outputs": [
    {
     "name": "stdout",
     "output_type": "stream",
     "text": [
      "280331\n",
      "749536\n"
     ]
    }
   ],
   "source": [
    "total_precoup = words_precoup['count'].sum()\n",
    "print(total_precoup)\n",
    "\n",
    "total_postcoup = words_postcoup['count'].sum()\n",
    "print(total_postcoup)"
   ]
  },
  {
   "cell_type": "code",
   "execution_count": 41,
   "metadata": {},
   "outputs": [],
   "source": [
    "words_precoup['proportion'] = words_precoup['count']/total_precoup\n",
    "words_postcoup['proportion'] = words_postcoup['count']/total_postcoup"
   ]
  },
  {
   "cell_type": "code",
   "execution_count": 43,
   "metadata": {},
   "outputs": [
    {
     "data": {
      "text/html": [
       "<div>\n",
       "<style scoped>\n",
       "    .dataframe tbody tr th:only-of-type {\n",
       "        vertical-align: middle;\n",
       "    }\n",
       "\n",
       "    .dataframe tbody tr th {\n",
       "        vertical-align: top;\n",
       "    }\n",
       "\n",
       "    .dataframe thead th {\n",
       "        text-align: right;\n",
       "    }\n",
       "</style>\n",
       "<table border=\"1\" class=\"dataframe\">\n",
       "  <thead>\n",
       "    <tr style=\"text-align: right;\">\n",
       "      <th></th>\n",
       "      <th>count</th>\n",
       "      <th>proportion</th>\n",
       "    </tr>\n",
       "  </thead>\n",
       "  <tbody>\n",
       "    <tr>\n",
       "      <th>bir</th>\n",
       "      <td>6569</td>\n",
       "      <td>0.023433</td>\n",
       "    </tr>\n",
       "    <tr>\n",
       "      <th>bu</th>\n",
       "      <td>3485</td>\n",
       "      <td>0.012432</td>\n",
       "    </tr>\n",
       "    <tr>\n",
       "      <th>ne</th>\n",
       "      <td>2935</td>\n",
       "      <td>0.010470</td>\n",
       "    </tr>\n",
       "    <tr>\n",
       "      <th>ben</th>\n",
       "      <td>2826</td>\n",
       "      <td>0.010081</td>\n",
       "    </tr>\n",
       "    <tr>\n",
       "      <th>beni</th>\n",
       "      <td>2648</td>\n",
       "      <td>0.009446</td>\n",
       "    </tr>\n",
       "    <tr>\n",
       "      <th>sen</th>\n",
       "      <td>2409</td>\n",
       "      <td>0.008593</td>\n",
       "    </tr>\n",
       "    <tr>\n",
       "      <th>seni</th>\n",
       "      <td>2096</td>\n",
       "      <td>0.007477</td>\n",
       "    </tr>\n",
       "    <tr>\n",
       "      <th>bana</th>\n",
       "      <td>1641</td>\n",
       "      <td>0.005854</td>\n",
       "    </tr>\n",
       "    <tr>\n",
       "      <th>gibi</th>\n",
       "      <td>1560</td>\n",
       "      <td>0.005565</td>\n",
       "    </tr>\n",
       "    <tr>\n",
       "      <th>de</th>\n",
       "      <td>1552</td>\n",
       "      <td>0.005536</td>\n",
       "    </tr>\n",
       "    <tr>\n",
       "      <th>gel</th>\n",
       "      <td>1459</td>\n",
       "      <td>0.005205</td>\n",
       "    </tr>\n",
       "    <tr>\n",
       "      <th>sana</th>\n",
       "      <td>1447</td>\n",
       "      <td>0.005162</td>\n",
       "    </tr>\n",
       "    <tr>\n",
       "      <th>var</th>\n",
       "      <td>1367</td>\n",
       "      <td>0.004876</td>\n",
       "    </tr>\n",
       "    <tr>\n",
       "      <th>benim</th>\n",
       "      <td>1334</td>\n",
       "      <td>0.004759</td>\n",
       "    </tr>\n",
       "    <tr>\n",
       "      <th>yar</th>\n",
       "      <td>1212</td>\n",
       "      <td>0.004323</td>\n",
       "    </tr>\n",
       "    <tr>\n",
       "      <th>her</th>\n",
       "      <td>1146</td>\n",
       "      <td>0.004088</td>\n",
       "    </tr>\n",
       "    <tr>\n",
       "      <th>da</th>\n",
       "      <td>1065</td>\n",
       "      <td>0.003799</td>\n",
       "    </tr>\n",
       "    <tr>\n",
       "      <th>ki</th>\n",
       "      <td>1033</td>\n",
       "      <td>0.003685</td>\n",
       "    </tr>\n",
       "    <tr>\n",
       "      <th>çok</th>\n",
       "      <td>1005</td>\n",
       "      <td>0.003585</td>\n",
       "    </tr>\n",
       "    <tr>\n",
       "      <th>aman</th>\n",
       "      <td>989</td>\n",
       "      <td>0.003528</td>\n",
       "    </tr>\n",
       "  </tbody>\n",
       "</table>\n",
       "</div>"
      ],
      "text/plain": [
       "       count  proportion\n",
       "bir     6569    0.023433\n",
       "bu      3485    0.012432\n",
       "ne      2935    0.010470\n",
       "ben     2826    0.010081\n",
       "beni    2648    0.009446\n",
       "sen     2409    0.008593\n",
       "seni    2096    0.007477\n",
       "bana    1641    0.005854\n",
       "gibi    1560    0.005565\n",
       "de      1552    0.005536\n",
       "gel     1459    0.005205\n",
       "sana    1447    0.005162\n",
       "var     1367    0.004876\n",
       "benim   1334    0.004759\n",
       "yar     1212    0.004323\n",
       "her     1146    0.004088\n",
       "da      1065    0.003799\n",
       "ki      1033    0.003685\n",
       "çok     1005    0.003585\n",
       "aman     989    0.003528"
      ]
     },
     "execution_count": 43,
     "metadata": {},
     "output_type": "execute_result"
    }
   ],
   "source": [
    "words_precoup.head(20)"
   ]
  },
  {
   "cell_type": "code",
   "execution_count": 44,
   "metadata": {},
   "outputs": [
    {
     "data": {
      "text/html": [
       "<div>\n",
       "<style scoped>\n",
       "    .dataframe tbody tr th:only-of-type {\n",
       "        vertical-align: middle;\n",
       "    }\n",
       "\n",
       "    .dataframe tbody tr th {\n",
       "        vertical-align: top;\n",
       "    }\n",
       "\n",
       "    .dataframe thead th {\n",
       "        text-align: right;\n",
       "    }\n",
       "</style>\n",
       "<table border=\"1\" class=\"dataframe\">\n",
       "  <thead>\n",
       "    <tr style=\"text-align: right;\">\n",
       "      <th></th>\n",
       "      <th>count</th>\n",
       "      <th>proportion</th>\n",
       "    </tr>\n",
       "  </thead>\n",
       "  <tbody>\n",
       "    <tr>\n",
       "      <th>bir</th>\n",
       "      <td>16505</td>\n",
       "      <td>0.022020</td>\n",
       "    </tr>\n",
       "    <tr>\n",
       "      <th>bu</th>\n",
       "      <td>9736</td>\n",
       "      <td>0.012989</td>\n",
       "    </tr>\n",
       "    <tr>\n",
       "      <th>ben</th>\n",
       "      <td>8011</td>\n",
       "      <td>0.010688</td>\n",
       "    </tr>\n",
       "    <tr>\n",
       "      <th>ne</th>\n",
       "      <td>6864</td>\n",
       "      <td>0.009158</td>\n",
       "    </tr>\n",
       "    <tr>\n",
       "      <th>sen</th>\n",
       "      <td>6638</td>\n",
       "      <td>0.008856</td>\n",
       "    </tr>\n",
       "    <tr>\n",
       "      <th>beni</th>\n",
       "      <td>6412</td>\n",
       "      <td>0.008555</td>\n",
       "    </tr>\n",
       "    <tr>\n",
       "      <th>seni</th>\n",
       "      <td>4894</td>\n",
       "      <td>0.006529</td>\n",
       "    </tr>\n",
       "    <tr>\n",
       "      <th>de</th>\n",
       "      <td>4163</td>\n",
       "      <td>0.005554</td>\n",
       "    </tr>\n",
       "    <tr>\n",
       "      <th>bana</th>\n",
       "      <td>4132</td>\n",
       "      <td>0.005513</td>\n",
       "    </tr>\n",
       "    <tr>\n",
       "      <th>gibi</th>\n",
       "      <td>4036</td>\n",
       "      <td>0.005385</td>\n",
       "    </tr>\n",
       "    <tr>\n",
       "      <th>sana</th>\n",
       "      <td>3889</td>\n",
       "      <td>0.005189</td>\n",
       "    </tr>\n",
       "    <tr>\n",
       "      <th>her</th>\n",
       "      <td>3776</td>\n",
       "      <td>0.005038</td>\n",
       "    </tr>\n",
       "    <tr>\n",
       "      <th>çok</th>\n",
       "      <td>3671</td>\n",
       "      <td>0.004898</td>\n",
       "    </tr>\n",
       "    <tr>\n",
       "      <th>var</th>\n",
       "      <td>3522</td>\n",
       "      <td>0.004699</td>\n",
       "    </tr>\n",
       "    <tr>\n",
       "      <th>yok</th>\n",
       "      <td>3451</td>\n",
       "      <td>0.004604</td>\n",
       "    </tr>\n",
       "    <tr>\n",
       "      <th>da</th>\n",
       "      <td>3085</td>\n",
       "      <td>0.004116</td>\n",
       "    </tr>\n",
       "    <tr>\n",
       "      <th>ki</th>\n",
       "      <td>3054</td>\n",
       "      <td>0.004075</td>\n",
       "    </tr>\n",
       "    <tr>\n",
       "      <th>benim</th>\n",
       "      <td>3036</td>\n",
       "      <td>0.004051</td>\n",
       "    </tr>\n",
       "    <tr>\n",
       "      <th>gel</th>\n",
       "      <td>2789</td>\n",
       "      <td>0.003721</td>\n",
       "    </tr>\n",
       "    <tr>\n",
       "      <th>yar</th>\n",
       "      <td>2670</td>\n",
       "      <td>0.003562</td>\n",
       "    </tr>\n",
       "  </tbody>\n",
       "</table>\n",
       "</div>"
      ],
      "text/plain": [
       "       count  proportion\n",
       "bir    16505    0.022020\n",
       "bu      9736    0.012989\n",
       "ben     8011    0.010688\n",
       "ne      6864    0.009158\n",
       "sen     6638    0.008856\n",
       "beni    6412    0.008555\n",
       "seni    4894    0.006529\n",
       "de      4163    0.005554\n",
       "bana    4132    0.005513\n",
       "gibi    4036    0.005385\n",
       "sana    3889    0.005189\n",
       "her     3776    0.005038\n",
       "çok     3671    0.004898\n",
       "var     3522    0.004699\n",
       "yok     3451    0.004604\n",
       "da      3085    0.004116\n",
       "ki      3054    0.004075\n",
       "benim   3036    0.004051\n",
       "gel     2789    0.003721\n",
       "yar     2670    0.003562"
      ]
     },
     "execution_count": 44,
     "metadata": {},
     "output_type": "execute_result"
    }
   ],
   "source": [
    "words_postcoup.head(20)"
   ]
  },
  {
   "cell_type": "code",
   "execution_count": 47,
   "metadata": {},
   "outputs": [],
   "source": [
    "word_table = words_precoup.merge(words_postcoup, left_index=True, right_index=True, suffixes = ('_pre', '_post'))"
   ]
  },
  {
   "cell_type": "code",
   "execution_count": 48,
   "metadata": {},
   "outputs": [
    {
     "data": {
      "text/html": [
       "<div>\n",
       "<style scoped>\n",
       "    .dataframe tbody tr th:only-of-type {\n",
       "        vertical-align: middle;\n",
       "    }\n",
       "\n",
       "    .dataframe tbody tr th {\n",
       "        vertical-align: top;\n",
       "    }\n",
       "\n",
       "    .dataframe thead th {\n",
       "        text-align: right;\n",
       "    }\n",
       "</style>\n",
       "<table border=\"1\" class=\"dataframe\">\n",
       "  <thead>\n",
       "    <tr style=\"text-align: right;\">\n",
       "      <th></th>\n",
       "      <th>count_pre</th>\n",
       "      <th>proportion_pre</th>\n",
       "      <th>count_post</th>\n",
       "      <th>proportion_post</th>\n",
       "    </tr>\n",
       "  </thead>\n",
       "  <tbody>\n",
       "    <tr>\n",
       "      <th>bir</th>\n",
       "      <td>6569</td>\n",
       "      <td>0.023433</td>\n",
       "      <td>16505</td>\n",
       "      <td>0.022020</td>\n",
       "    </tr>\n",
       "    <tr>\n",
       "      <th>bu</th>\n",
       "      <td>3485</td>\n",
       "      <td>0.012432</td>\n",
       "      <td>9736</td>\n",
       "      <td>0.012989</td>\n",
       "    </tr>\n",
       "    <tr>\n",
       "      <th>ne</th>\n",
       "      <td>2935</td>\n",
       "      <td>0.010470</td>\n",
       "      <td>6864</td>\n",
       "      <td>0.009158</td>\n",
       "    </tr>\n",
       "    <tr>\n",
       "      <th>ben</th>\n",
       "      <td>2826</td>\n",
       "      <td>0.010081</td>\n",
       "      <td>8011</td>\n",
       "      <td>0.010688</td>\n",
       "    </tr>\n",
       "    <tr>\n",
       "      <th>beni</th>\n",
       "      <td>2648</td>\n",
       "      <td>0.009446</td>\n",
       "      <td>6412</td>\n",
       "      <td>0.008555</td>\n",
       "    </tr>\n",
       "  </tbody>\n",
       "</table>\n",
       "</div>"
      ],
      "text/plain": [
       "      count_pre  proportion_pre  count_post  proportion_post\n",
       "bir        6569        0.023433       16505         0.022020\n",
       "bu         3485        0.012432        9736         0.012989\n",
       "ne         2935        0.010470        6864         0.009158\n",
       "ben        2826        0.010081        8011         0.010688\n",
       "beni       2648        0.009446        6412         0.008555"
      ]
     },
     "execution_count": 48,
     "metadata": {},
     "output_type": "execute_result"
    }
   ],
   "source": [
    "word_table.head()"
   ]
  },
  {
   "cell_type": "code",
   "execution_count": 49,
   "metadata": {},
   "outputs": [
    {
     "name": "stdout",
     "output_type": "stream",
     "text": [
      "15175\n"
     ]
    }
   ],
   "source": [
    "print(len(df['text'].unique()))"
   ]
  },
  {
   "cell_type": "code",
   "execution_count": 50,
   "metadata": {},
   "outputs": [
    {
     "data": {
      "text/plain": [
       "(15385, 5)"
      ]
     },
     "execution_count": 50,
     "metadata": {},
     "output_type": "execute_result"
    }
   ],
   "source": [
    "df.shape"
   ]
  },
  {
   "cell_type": "markdown",
   "metadata": {},
   "source": [
    "***Even though I scrubbed and scrubbed, there's still duplicates (same lyrics, different singers) which is probably inevitable***"
   ]
  },
  {
   "cell_type": "code",
   "execution_count": 52,
   "metadata": {},
   "outputs": [
    {
     "data": {
      "text/plain": [
       "Başın öne eğilmesin Aldırma gönül aldırma Ağladığın duyulmasın Aldırma gönül aldırma Dışarıda deli dalgalar Gelip duvarları yalar Seni bu sesler oyalar Aldırma gönül aldırma Kurşun ata ata biter Yollar gide gide biter Mapus yata yata biter Aldırma gönül aldırma Dertlerin kalkınca şaha Bir sitem yolla Allaha Görecek günler var daha Aldırma gönül aldırma                                                                                                                                                                                                                                                                                                                                                                                                                                                                                                                                                                                                                                                                                                                                                                                                                                                                                                                                                                                                                                                                                                                                                                                                                                                                                                                                                                                                                                                                                                                       4\n",
       "Telli turnam selam gotür Sevgilimin diyarına Üzülmesin ağlamasın Belki gelirim yarına cananıma Hasret kimseye kalmasın Sevdalılar ayrılmasınayrılmasın Ben yandım eller yanmasın Sevdanın aşkın uğruna can uğruna Gönüle hasret yazıldı Sevgiye mezar kazıldı İki damla yaş süzüldü Gözlerimin pınarınapınarına Hasret kimseye kalmasın Sevdalılar ayrılmasınayrılmasın Ben yandım eller yanmasın Sevdanın aşkın uğruna can uğruna                                                                                                                                                                                                                                                                                                                                                                                                                                                                                                                                                                                                                                                                                                                                                                                                                                                                                                                                                                                                                                                                                                                                                                                                                                                                                                                                                                                                                                                       3\n",
       "Gönlümde açmadan solan bir gülsün Her zaman gamlıyım her zaman üzgün Beklerim yolunu aylar boyunca Yeterki gel bana Senede bir gün senede bir gün Ağarsın saçların solsun yanağın Adını anmaktan yansın dudağım Bu aşka canımı adayacağım Yeter ki gel bana Senede bir gün senede bir gün                                                                                                                                                                                                                                                                                                                                                                                                                                                                                                                                                                                                                                                                                                                                                                                                                                                                                                                                                                                                                                                                                                                                                                                                                                                                                                                                                                                                                                                                                                                                                                                                3\n",
       "Şu karşıki dağda lambalar yanar Lambanın şavkına da Fadimem Sevgilim yazar Ayletme beni söyletme beni Alçak yüksek tepede Fadimem Bekletme beni Şu karşıki dağda kuzular meler Kuzu sesi değildir Fadimem Ömürler biter Ayletme beni söyletme beni Alçak yüksek tepede Fadimem Bekletme beni                                                                                                                                                                                                                                                                                                                                                                                                                                                                                                                                                                                                                                                                                                                                                                                                                                                                                                                                                                                                                                                                                                                                                                                                                                                                                                                                                                                                                                                                                                                                                                                             3\n",
       "Seyreyle güzel kudreti mevla neler eyler canan canan Allaha sığın adli teala neyler Meyla eylemezem gayrısına tövbeler olsun canan canan Şol yüzleri dost özleri düşmandan usandım Suları şikest meyleri kalp hazreti haktan canan canan Bir ane değin ettiğim isyandan utandım                                                                                                                                                                                                                                                                                                                                                                                                                                                                                                                                                                                                                                                                                                                                                                                                                                                                                                                                                                                                                                                                                                                                                                                                                                                                                                                                                                                                                                                                                                                                                                                                          3\n",
       "Dane dane benleri var yüzünde yüzünde yüzünde Can alcı bakışları gözünde gözünde gözünde Binbir dat var edasında nazında nazında nazında Dünyada yardan datlı var mola var mola var mola Sallanı sallanı gelen yar mola yar mola yar mola Küpeleri yar düşer kulaktan kulaktan kulaktan Zülüfleri tel tel olmuş yanaktan yanaktan yanaktan Ağzı şeker bal akıyor dudaktan dudaktan dudaktan Dünyada yardan datlı var mola var mola var mola Sallanı sallanı gelen yar mola yar mola yar mola Ağır barhanası vardır elinde elinde elinde Datlı kelam gelir yarin dilinde dilinde dilinde Kemer olsam sevdiğimin belinde belinde belinde Dünyada yardan datlı var mola var mola var mola Sallanı sallanı gelen yar mola yar mola yar mola                                                                                                                                                                                                                                                                                                                                                                                                                                                                                                                                                                                                                                                                                                                                                                                                                                                                                                                                                                                                                                                                                                                                                  3\n",
       "Burası agora meyhanesi Burada yaşar aşkların En divanesı en şahanesi Bu gece benim gecem Bu gece benim gecem Cama vuran her damlada Seni hatırlıyorum Ve sena susuzluğumu Bu aksam ümitlerimi Meze yapıp içiyorum İçiyor içiyorum                                                                                                                                                                                                                                                                                                                                                                                                                                                                                                                                                                                                                                                                                                                                                                                                                                                                                                                                                                                                                                                                                                                                                                                                                                                                                                                                                                                                                                                                                                                                                                                                                                                        3\n",
       "Karadır kaşların ferman yazdırır Aşkın beni diyar diyar gezdirir Lokman Hekim gelse yaram azdırır Yaramı sarmağa yar kendi gelsin Ormanların gümbürtüsü başıma vurur Nazlı yarin hayali karşımda durur Karadır kaşların benzer kömüre Yardan ayrı düşmek zarar ömüre Kollarımdan bağlasalar demire Kırarım demiri kaçarım yare Ormanların gümbürtüsü başıma vurur Nazlı yarin hayali karşımda durur Uzaklara gittim gelirim diye Tabancamı doldurdum vururum diye Hiç aklıma gelmez ölürüm diye Ölüm ver Allahım ayrılık verme Ormanların gümbürtüsü başıma vurur Nazlı yarin hayali karşımda durur                                                                                                                                                                                                                                                                                                                                                                                                                                                                                                                                                                                                                                                                                                                                                                                                                                                                                                                                                                                                                                                                                                                                                                                                                                                                                      3\n",
       "O beni bir bahar akşamı terk edip gitti Ne o geri geldi ne bu ömür bitti Nerdesin nerdesin yeşil gözlü meleğim Nerdesin nerdesin şirin sözlü bebeğim Ne olur bir bahar akşamı sen bana dönsen Yine benim olsan yine beni sevsen Gel bana dön bana yeşil gözlü meleğim Dön bana gel bana şirin sözlü bebeğim                                                                                                                                                                                                                                                                                                                                                                                                                                                                                                                                                                                                                                                                                                                                                                                                                                                                                                                                                                                                                                                                                                                                                                                                                                                                                                                                                                                                                                                                                                                                                                              3\n",
       "Bağa gel bostana gel Vay vay vay vay vay vay vay Yar yandım Dile gel destana gel Leylim leylim leylim leylim Eğer anan vermezse Vay vay vay vay vay vay vay Yar yandm Yalandan hastalan gel Leylim leylim leylim Bağlar narsız olur mu Gönül yarsız olur mu Ben eyledim sen etme Vay vay vay vay vay vay vay Yar yandım Kul kusursuz olur mu Leylim leylim leylim Bağa gel bostana gel Vay vay vay vay vay vay vay Yar yandım Dile gel destana gel Leylim leylim leylim Eğer baban vermezse Vay vay vay vay vay vay vay Yar yandım Yalandan hastalan gel Bağ ayrı bostan ayrı Olamam dosttan ayrı İnsanoğlu yaşar mı Vay vay vay vay vay vay vay Kalsa nefesten ayrı Leylim leylim leylim leylim                                                                                                                                                                                                                                                                                                                                                                                                                                                                                                                                                                                                                                                                                                                                                                                                                                                                                                                                                                                                                                                                                                                                                                                         2\n",
       "Bugünkü aklım olsaydı Harcar mıydım günlerimi Her kadehte her yalanda Saklar mıydım dertlerimi Saçlara dolunca aklar Birden bir pişmanlık başlar Sanki felek tokadını Bizim gibilere saklar Boşvere boşvere ne hale geldik Her yüze güleni biz dost bildik Geçti yıllar bir su gibi Neredeydik nerelere geldik Biz mi olduk terkedilen Felek alacağın olsun Bize böyle dert çektiren Sevgiliye selam olsun                                                                                                                                                                                                                                                                                                                                                                                                                                                                                                                                                                                                                                                                                                                                                                                                                                                                                                                                                                                                                                                                                                                                                                                                                                                                                                                                                                                                                                                                               2\n",
       "senyorita sen oley amigos desem okey kızlar ve bn oley hey millet hey hoop hey bir alem olur bu barlar var ya bence bir alem var bu barda abi söyle bu ne alem böyle tabii bizde varız madem öle gençlerle daldık içeriye senyorita salsa diye diye okey millet hoop hey biz geldik amigos oley abi ya bu müzik harika çok uzun süreck bu gece galiba dans dans sabaha kadr herkes elleri havaya atar gel gel yanıma abla bu salsa yaklaş yanıma kalçanı salla gel dans edelim sn ve bn el ele baş başa ben ve sn senyorita sen oley amigos desem okey                                                                                                                                                                                                                                                                                                                                                                                                                                                                                                                                                                                                                                                                                                                                                                                                                                                                                                                                                                                                                                                                                                                                                                                                                                                                                                                                   2\n",
       "Hanım kızlar kızlar Canım kızlar kızlar Bezenmiş düğüne gider Elma yanaklı kızlar Eğdim söğüt dalını Saydım yapraklarını Yarım hamamdan gelmiş Öptüm yanaklarını Hanım kızlar kızlar Canım kızlar kızlar Bezenmiş düğüne gider Elma yanaklı kızlar Kuşburnunun kurusu Geçti kızlar sürüsü Sürüsünden fayda yok Beni yaktı birisi Hanım kızlar kızlar Canım kızlar kızlar                                                                                                                                                                                                                                                                                                                                                                                                                                                                                                                                                                                                                                                                                                                                                                                                                                                                                                                                                                                                                                                                                                                                                                                                                                                                                                                                                                                                                                                                                                                 2\n",
       "Duyduk duymadık demeyin Doğru söyleyin Nolur benden gizlemeyin Şimdi o kimin Yetmez miydi ona aşkım Beklemekle geçti hayatım Gece gündüz hep yalvardım Kırıldı artık sazım İçmişim dertliyim Bir bilsen ben ne haldeyim İçmişim dertliyim Ben sensizim neyleyim                                                                                                                                                                                                                                                                                                                                                                                                                                                                                                                                                                                                                                                                                                                                                                                                                                                                                                                                                                                                                                                                                                                                                                                                                                                                                                                                                                                                                                                                                                                                                                                                                          2\n",
       "Değmen benim gamlı yaslı gönlüme Ben bir selvi boylu yardan ayrıldım Evvel bağban idim dostun bağında Talan vurdu ayva nardan ayrıldım Gökyüzünde turna gibi dönende Baykuş gibi viran yurda konanda Çok ağladım mecnun gibi çöllerde Ferhat gibi şirin yardan ayrıldım                                                                                                                                                                                                                                                                                                                                                                                                                                                                                                                                                                                                                                                                                                                                                                                                                                                                                                                                                                                                                                                                                                                                                                                                                                                                                                                                                                                                                                                                                                                                                                                                                  2\n",
       "Gözlerin bir ömür diyor O hiç peşimden gitmiyor Her yerde beni izliyor Üstelik hiç de susmuyor Aşkımdan çatlasa delirse umrumda sanki Bir gitse yok olsa istemem başka hiçbir şey Deli oğlan sus çıkarma Beni yoldan sözlerin hep yalan Delioğlan aklın varsa kaç oğlan Bak geliyor babam Deli oğlan git başımdan git oğlan Kalmadı duymayan Deli oğlan sen şansına küs oğlan Benimki bir arslan Görmedim böyle bir çocuk Bilmem sonum ne olacak Kaçsam bile köşe bucak O gelip beni bulacak Aşkımdan çatlasa delirse umrumda sanki Bir gitse yok olsa istemem başka birşey                                                                                                                                                                                                                                                                                                                                                                                                                                                                                                                                                                                                                                                                                                                                                                                                                                                                                                                                                                                                                                                                                                                                                                                                                                                                                                              2\n",
       "Bugün niye dargınsın Kaderine kırgınsın Dünden kalmış yorgunsun Vay vay Murtaza Eğer çıkarsan yaza Ara sıra gel bize Kan dolmuş kara göze Vay vay vay vay Murtaza Bir odada yaşarsın Gece gündüz koşarsın Doğduğuna şaşarsın Vay vay Murtaza Eğer çıkarsan yaza Ara sıra gel bize Kan dolmuş kara göze Vay vay vay vay Murtaza                                                                                                                                                                                                                                                                                                                                                                                                                                                                                                                                                                                                                                                                                                                                                                                                                                                                                                                                                                                                                                                                                                                                                                                                                                                                                                                                                                                                                                                                                                                                                           2\n",
       "Yalnızım ben çok yalnızım Buymuş benim alın yazım İster uzak ister yakın Anılar beni rahat bırakın Artık dönsen de dönmesen de Ne çıkar beni sevmesen de Bir kadehim var bak elimde Hasretim içiyorum İnan sevgili küskün değilim Yalnız hayatta tek isteğim Gönülden bana uzanacak Dost elinin delisiyim Yalnızım ben çok yalnızım                                                                                                                                                                                                                                                                                                                                                                                                                                                                                                                                                                                                                                                                                                                                                                                                                                                                                                                                                                                                                                                                                                                                                                                                                                                                                                                                                                                                                                                                                                                                                      2\n",
       "Kader böyle imiş Ne söylesem ne söylesem Ne söylesem boş Gece gündüz dolaştım Aşkınla sarhoş Neşeli olan yuvam Şimdi artık kaldı boş Kader böyle imiş Ne söylesem ne söylesem Ne söylesem boş                                                                                                                                                                                                                                                                                                                                                                                                                                                                                                                                                                                                                                                                                                                                                                                                                                                                                                                                                                                                                                                                                                                                                                                                                                                                                                                                                                                                                                                                                                                                                                                                                                                                                            2\n",
       "Bir aleme indim yalnız Yerde toprak gökte yıldız Bir yan susuz bir yan deniz İki el bir baş verdiler Bir çift göz ağlar da güler Dört bir yanda benim gibiler Doğru söz içinmiş diller İşte kalbin sev dediler Bana yalan söylediler Bana yalan söylediler Kaderden bahsetmediler Varsın böyle geçsin ömrüm Neşeyle dolsun bari her günüm Hani benim sevdiklerim Hani gönül verdiklerim Hasret gider ben giderim                                                                                                                                                                                                                                                                                                                                                                                                                                                                                                                                                                                                                                                                                                                                                                                                                                                                                                                                                                                                                                                                                                                                                                                                                                                                                                                                                                                                                                                                         2\n",
       "Gesi bağlarında dolanıyorum yitirdim yarimi Aman aranıyorum yitirdim yarimi aman aranıyorum Bir tek selamına güveniyorum gel otur yanıma Hallarımı söyleyeyim derdimden anlamaz ben o yari neyleyim Gesi bağlarında üç top gülüm var hey Allahtan korkmaz Sana bana ölüm var hey Allahtan korkmaz sana bana ölüm var Ölüm varsa bu dünyada zulüm var Atma garip anam beni dağlar ardına Kimseler yanmasın anam yansın derdime                                                                                                                                                                                                                                                                                                                                                                                                                                                                                                                                                                                                                                                                                                                                                                                                                                                                                                                                                                                                                                                                                                                                                                                                                                                                                                                                                                                                                                                            2\n",
       "Dudaklarında arzu kollarında yanlız ben Sana bakan bir çift göz ben olayım sevgilim Gününe gecene eş gözünde yaş yine ben olayım Sana aşık yanlız ben ben olayım sevgilim Bütün ömür boyunca kalbinde sevgilin ben Benliğinde yanlız ben ben olayım sevgilim Gününe gecene eş gözünde yaş yine ben Sana aşık yanlız ben ben olayım sevgilim                                                                                                                                                                                                                                                                                                                                                                                                                                                                                                                                                                                                                                                                                                                                                                                                                                                                                                                                                                                                                                                                                                                                                                                                                                                                                                                                                                                                                                                                                                                                              2\n",
       "Ne olur söyleyin sevenler bana Ayrilmak kanunmu ask kitabinda El ele tutusup gülmeden daha Terk etmek kanunmu ask kitabinda Ümitlerim kirildi bitti Hayallerim yikildi gitti Bu dert beni benden etti Sevdim sevdim bak ne hale geldim Her seven sonunda düsüyor derde Bu ask kitabinin yazani nerde Bir asik inandi çok sevdi diye Terk etmek kanunmu ask kitabinda Ümitlerim kirildi bitti Hayallerim yikildi gitti Bu dert beni benden etti Sevdim sevdim bak ne hale geldim                                                                                                                                                                                                                                                                                                                                                                                                                                                                                                                                                                                                                                                                                                                                                                                                                                                                                                                                                                                                                                                                                                                                                                                                                                                                                                                                                                                                          2\n",
       "Aşkınla yana yana Kül olsa da ocağım Bu gönül sayfasını Artık kapatacağım Geçse de gençlik çağım Boş kalsa da kucağım Sözümü tutacağım Adını anmayacağım Kalbimden ben seni Söküp atacağım Bu gönül sayfasını Artık kapatacağım Geçse de gençlik çağım Boş kalsa da kucağım Sözümü tutacağım Adını anmayacağım                                                                                                                                                                                                                                                                                                                                                                                                                                                                                                                                                                                                                                                                                                                                                                                                                                                                                                                                                                                                                                                                                                                                                                                                                                                                                                                                                                                                                                                                                                                                                                           2\n",
       "Gözüm yolda gönlüm darda Ya kendin gel ya da haber yolla Duyarım yazmışsın iki satır mektup Vermişsin trene halini unutup Kara tren gecikir belki hiç gelmez Dağlarda salınırda derdimi bilmez Dumanın savurur halimi görmez Kan dolar yüreğim gözyaşım dinmez Yara bende derman sende Ya kendin gel yada bana gel de Duyarım yazmışsın iki satır mektup Vermişsin trene halini unutup Kara tren gecikir belki hiç gelmez Dağlarda salınırda derdimi bilmez Dumanın savurur halimi görmez Kan dolar yüreğim gözyaşım dinmez                                                                                                                                                                                                                                                                                                                                                                                                                                                                                                                                                                                                                                                                                                                                                                                                                                                                                                                                                                                                                                                                                                                                                                                                                                                                                                                                                              2\n",
       "Bir sabah çıksam kaybolsam Dönmesem kalsam anılarda Belki bir sevda türküsünde vurulurdum Gel künyemi al dağlardan Aşk nedir söyle kayboldum Belki bir düşte unutulmak Her sabah bir dev masalında uyanınca Hep çocuk kalmak kurtulmak Kar yağıyor bu gece Öyle beyaz ki şehir                                                                                                                                                                                                                                                                                                                                                                                                                                                                                                                                                                                                                                                                                                                                                                                                                                                                                                                                                                                                                                                                                                                                                                                                                                                                                                                                                                                                                                                                                                                                                                                                           2\n",
       "Mevsimler yaz tutup çöller ağlasın Ahımda inleyen teller ağlasın Mademki sen yoksun şimdi yanımda Leylaklar dökülüp güller ağlasın Sevgilim bu yerden gittin gideli Ilgıt ılgıt esen sevdanın yeli Şu öksüz ruhumun sensin emeli Leylaklar dökülüp güller ağlasın Bu aşkın emeli sarmış gönlümü Rüzgarlar söylesin bu son sözümü Ne çare kaybettim nazlı gülümü Leylaklar dökülüp güller ağlasın                                                                                                                                                                                                                                                                                                                                                                                                                                                                                                                                                                                                                                                                                                                                                                                                                                                                                                                                                                                                                                                                                                                                                                                                                                                                                                                                                                                                                                                                                         2\n",
       "Sevemez kimse seni Benim sevdiğim kadar Sevgilim sen olmasan Yaşamak neye yarar Hergün seni düşünür Heran seni yaşarım Seni sevmekden değil Kaybetmekden korkarım Birgün beni unutur Başkalarına bakma Birazcık sevgin varsa Beni yanlız bırakma Hergün seni düşünür Heran seni yaşarım Seni sevmekden degil Kaybetmekden korkarım                                                                                                                                                                                                                                                                                                                                                                                                                                                                                                                                                                                                                                                                                                                                                                                                                                                                                                                                                                                                                                                                                                                                                                                                                                                                                                                                                                                                                                                                                                                                                       2\n",
       "Hastayım yalnızım Seni yanımda sanıp da Bahtiyâr ölmek isterim Mahmûru hülyâyım câmı lebinden Kanıp da bahtiyâr ölmek isterim Bir olmaz hevesin düştüm peşine Vuruldum hüsnünün şen güneşine Güzel gözlerinin aşk ateşine Yanıp da bahtiyâr ölmek isterim Talihin kahrı var her hevesimde Boğulmuş figânlar titrer sesimde O güzel ismini son nefesimde Anıp da bahtiyâr ölmek isterim                                                                                                                                                                                                                                                                                                                                                                                                                                                                                                                                                                                                                                                                                                                                                                                                                                                                                                                                                                                                                                                                                                                                                                                                                                                                                                                                                                                                                                                                                                   2\n",
       "Sen belli unuttun beni zamanla Ben hala aşığım sana delilik bu Sen çoktan alıştın bensiz hayata Ben seni beklerim hala delilik bu Ellerin dilinde nasıl karalandın ah insafsız Hasretin elinde bir başıma kaldım savunmasız Geceler amansız unutmak imkansız Dinmiyor gözyaşım Allahım Bu kadar gönülden sevecek ne vardı Sönmüyor yangınım Allahım Geceler amansız unutmak imkansız Dinmiyor gözyaşım allahım Bu kadar gönülden sevecek ne vardı Sönmüyor yangınım Allahım                                                                                                                                                                                                                                                                                                                                                                                                                                                                                                                                                                                                                                                                                                                                                                                                                                                                                                                                                                                                                                                                                                                                                                                                                                                                                                                                                                                                              2\n",
       "                                                                                                                                                                                                                                                                                                                                                                                                                                                                                                                                                                                                                                                                                                                                                                                                                                                                                                                                                                                                                                                                                                                                                                                                                                                                                                                                                                                                                                                                                                                                                                                                                                                                                                                                                                                                                                                                                        ..\n",
       "Kara haber tez duyulur unutsun beni demişsin Bende kalan resimleri mektupları istemişsin Üzülme sevdiceğim bir daha çıkmam karşına Sana son kez yazıyorum hatıralar yeter bana Unutma ki dünya fani veren Allah alır canı Ben nasıl unuturum seni can bedenden çıkmayınca Kurumuş bir çiçek buldum mektupların arasında Bir tek onu saklıyorum onu da çok görme bana Aşkların en güzelini yaşamıştık yıllarca                                                                                                                                                                                                                                                                                                                                                                                                                                                                                                                                                                                                                                                                                                                                                                                                                                                                                                                                                                                                                                                                                                                                                                                                                                                                                                                                                                                                                                                                            1\n",
       "Koşa koşa ardından bittim halim ortada Seni delice seven kalbim hurda Unutalım olanları baksın herkes kendi yoluna Adımı değiştirdim senden sonra budala budala Boş lafla rüzgarla çıkılmaz bu yola Sen düz git ben zaten o yana bu yana Yokluğun mertliği bozduğu dünyada sevmekse Karşında budala budala Zor yokluğunun arkası Gittiğinden bu yana yüreğim sabır taşı Yok unut deme imkansız Ben garip budala sen gönül yarası Boş lafla rüzgarla çıkılmaz bu yola Sen düz git ben anca o yana bu yana Yokluğun mertliği bozduğu dünyada sevmekse Karşında budala budala                                                                                                                                                                                                                                                                                                                                                                                                                                                                                                                                                                                                                                                                                                                                                                                                                                                                                                                                                                                                                                                                                                                                                                                                                                                                                                               1\n",
       "Ardımda yollar birikmiş paramparça Geriye adım atamıyorum Kırılmış yerler var ömrümde Kalbime batıyor dayanamıyorum İçimden çığlıklar geçiyor Vagon vagon azap yüklü Sana sesimi duyuramıyorum Gururum kapılara kilit vurmuş açamıyorum Anla artık sen gel ben sana gelemiyorum Gururum kapılarda kilit kilit açamıyorum Anla artık sen gel ben sana gelemiyorum                                                                                                                                                                                                                                                                                                                                                                                                                                                                                                                                                                                                                                                                                                                                                                                                                                                                                                                                                                                                                                                                                                                                                                                                                                                                                                                                                                                                                                                                                                                         1\n",
       "Gözyaşımla açtım pencereyi Dertlerimle sildim elbisemi Bulut camdan yağsa cam kesiği Sen benim yanık göğsümsün Gözyaşımla açtım pencereyi Dertlerimle sildim elbisemi Kalp ağrımı yazdım ellerime Sen benim yanık göğsümsün Dönmem asla küskünüm hikayeme Sen benim aşk mektubumsun Hıçkırık sesi kalbin iğnesi hatıra izi Filmimin sonu annemin yüzü tuzumun buzu Saçımın teli yaramın tozu son öpüş gibi Odam sıcak bilmiyor gittiğini Sesim kızık ağladım her yerimi Bulut camdan yağsa cam kesiği Sen benim yanık göğsümsün Odam sıcak bilmiyor gittiğini Sesim kızık ağladım her yerimi Bulut camdan yağsa cam kesiği Sen benim aşk mektubumsun Hıçkırık sesi kalbin iğnesi hatıra izi Filmimin sonu annemin yüzü tuzumun buzu Saçımın teli yaramın tozu son öpüş gibi                                                                                                                                                                                                                                                                                                                                                                                                                                                                                                                                                                                                                                                                                                                                                                                                                                                                                                                                                                                                                                                                                                              1\n",
       "TERKEDILEN SEVGILI safagin kollarinda uykuya dalmis Dusleri sitem dolu gozlerinde hep yas opulesi dudaklari hickirikla sarilmis Aglamaktan da ote inliyor yavas yavas Agliyorinliyor terkedilen sevgili Her nedense bos bir cukura adim atmak ister gibi Sanki hayat anlamini yitirmis gibi Arasira titreyip hickiran nefesinde Ihanetin nedenini arayip sorar gibi Kollarinda terkedilisinin acilari yatiyor Sabah olmasin ister cunku dertler basliyor Sevilecek yuzunde bin acinin izi var Diken diken bedeninde acilar kol geziyor Agliyorinliyor terkedilen sevgili Her nedense bos bir cukura adim atmak ister gibi Sanki hayat anlamini yitirmis gibi Arasira titreyip hickiran nefesinde Ihanetin nedenini arayip sorar gibi                                                                                                                                                                                                                                                                                                                                                                                                                                                                                                                                                                                                                                                                                                                                                                                                                                                                                                                                                                                                                                                                                                                                                     1\n",
       "Bayıldım kaş çatışına Bayıldım çapkın baygın bakışına Yangın çıkarsa hoş olur da yanında Tutuşmak tutuşmak Bayıldım iç çekişine Bayıldım bittim öldüm gülüşüne Aşkım tutarsa hoş olurdu sana Sarılmak sarılmak Pantalonunu sevdim Çıkar onu bebeğim Hadi gel bize gidelim Gömleğini çok sevdim                                                                                                                                                                                                                                                                                                                                                                                                                                                                                                                                                                                                                                                                                                                                                                                                                                                                                                                                                                                                                                                                                                                                                                                                                                                                                                                                                                                                                                                                                                                                                                                           1\n",
       "Nefesim yetmez sevdiğimi söylesem Bir gün yetmez seni görmek istesem bana Koşmak istesem dağlar var Dizime kadar niye karlar var burda Aramızda sorunlar yok Derin bir nefes al kalp çözebilir inan Zaman olsan saat olurum Herkes gitsede kalan olurum Sanma gidersen talan olurum Ama kalırsan bundan mutlu olurum Aman Allahım ne şansızım Bir daha sevemem çok kararsızım Sandım kalbim yürüyebiliyor Papatya değil o seviyor sevmiyor Bana soru olsan cevap olurum Gözümü bağlasan arar bulurum Sandım yanıldım Seni O Sandım Ben nerden bileyim Herkes gibi çekipte gideceğini Söyle ben nerden bilirim Ben gibi birini arar bulurum kendim Canım olsan kanın olurum Nerde olursan arar bulurum sandım Yanıldım vallaha sen sandım Nasıl tahmin edeyim Sen gibi taklit yapacağını Sor vallaha nasıl öğrenebilirim Sen gibi kalbini kırmamayı Bir yanım kal der Bir yanım git kaldım öylece Bir yanım ben Her yanım sen hadi gel gizlice Mutluluğu kalkıp sana sorsam Kırılan düşlerin umudu nerde Görmedim on adım attım yetişemedim İşte böyle sende rüyalarımın tabiri böylemi söyle Bir aşkın şansına hiç gülmez Filmi bilmeden ileri sarıyor Anlamıyor defalarca soruyor Belki bu sahneye gözü doluyor Koşarak bana gel seni bulurum inan Davet etsen konuk olurum Çölüm olsan suyun olurum sandım Bütün herşey tersine dönebiliyor bazen Bu dertler benim olamaz Daha yeni başlıyor bu son olamaz sandım Boşuna yerim dolamaz Koşa koşa bana gel yolun olurum inan Bana soru olsan cevap olurum Gözümü bağlasan arar bulurum Sandım yanıldım Seni O Sandım Ben nerden bileyim Herkes gibi çekipte gideceğini Söyle ben nerden bilirim Ben gibi birini arar bulurum kendim Canım olsan kanın olurum Nerde olursan arar bulurum sandım Yanıldım vallaha sen sandım Nasıl tahmin edeyim Sen gibi taklit yapacağını Sor vallaha nasıl öğrenebilirim Sen gibi kalbini kırmamayı    1\n",
       "umutlarimi caldilar yarinlarimi aldilar kime can dost dediysem hepsi sirtimdan vurdular agladim bu kaderime ah ettim kendi kendime agladim bu kaderime ah ettim kendi kendime dert ekledim yuregime canimi aldilar benden dert ekledim yuregime sevdami caldilar benden bir basima yanliz kaldim derdime derman aradim hani can dost dediklerim zor gunumde bulamadim agladim bu kaderime ah ettim kendi kendime agladim bu kaderime ah ettim kendi kendime dert ekledim yuregime                                                                                                                                                                                                                                                                                                                                                                                                                                                                                                                                                                                                                                                                                                                                                                                                                                                                                                                                                                                                                                                                                                                                                                                                                                                                                                                                                                                                        1\n",
       "senden sonra aldığım nefes bile ağır bir dost selamı bile kahır geliyor ölüyor da bu kalbim başkasını istemiyor lanet olsun denedim olmuyor dalga dalga vuruyor hasretin limanlara sana adadım bu ömrü adamam başkasına bir kuru can bıraktın Allahın aşkına hiç mi sevmedin beni kalbimim üstünde ayak izin duruyor ezip geçerken unuttuğun oooo bilmesen de seni hemde de deliler gibi seviyor belki de adını unuttuğun o benim                                                                                                                                                                                                                                                                                                                                                                                                                                                                                                                                                                                                                                                                                                                                                                                                                                                                                                                                                                                                                                                                                                                                                                                                                                                                                                                                                                                                                                                        1\n",
       "verse  Hünkarın geldi yetme rapçi İç organlarına göz diken toprak ben canını istiyorum ruhum etçil Anlatayım nedir emekçi  Bu piyasayı salya sümükten kurtaran Acil yardım ekibi kafiyelerim işçi Öfkenin çirkin yüzüylesin şuan canın sıkılacak Onursuzluğun gözlerimle tutuklandı yaka paça Boş ver tabi ya doğrular hep kafa açar Yaslan arkana bıraksam karada yılana sarılacan Sakin ol nasıl ki sustun sesin çıkmadı Popilist vaazlar dinledin inandın içim sızladı Kulağına sinek vızladı takma sakın Zengin hırsın fakire deprem oldu toplarım yıkık karizmanı Körpe tavrın ustalaşmış kötülük için fosil Fikrim ağır detayları silik geleceğin kan deresi Gevşeklikten kurtul ezik Sanal kimliklerini sikiyim şu soluduğun gerçekler bu leş dünyanın ta kendisi Nakarat x Bu senin ellerinde Binlerce plandan birini seç ininde Kur salak olma dur yerinde Rap click povv kocaman yüreğimde                                                                                                                                                                                                                                                                                                                                                                                                                                                                                                                                                                                                                                                                                                                                                                                                                                                                                                                                                                                     1\n",
       "Uykunun gözleri vardı Yüreğimde Sessizce yok olan Umutlar gibi Ağlıyordum sensiz geçen Şu günlere Tükenmişim boş vermişim Ben her şeye Deniz kızı en son tutkum Aşkım benim Anlamsız geçen Bir ömür benim Yalnız seni seni isterim Acımasız dalgalar Onu bana getirin                                                                                                                                                                                                                                                                                                                                                                                                                                                                                                                                                                                                                                                                                                                                                                                                                                                                                                                                                                                                                                                                                                                                                                                                                                                                                                                                                                                                                                                                                                                                                                                                                    1\n",
       "Baldan tatlı dilllerine Uğradım güllerine Çıktım gurbetin yoluna Döndü bana kefen ile Derde bakın derde bakın Gelin benle ağıt yakın Mezarını kazmışlar oyy Üzerine toprak atın Anlatılmaz ki anlatam Yaramı kime dağlatam Tabut geldi can içinde O can içinde bende yatam Derde bakın derde bakın                                                                                                                                                                                                                                                                                                                                                                                                                                                                                                                                                                                                                                                                                                                                                                                                                                                                                                                                                                                                                                                                                                                                                                                                                                                                                                                                                                                                                                                                                                                                                                                       1\n",
       "Her çizgim senden sonra daha derin Varsın bulsun senin de bende ki eserin Biraz daha kırık belki biraz daha yorgunum Mutluluğa hiç uğramadan bitmiş seferim Ağlasam da yalvarsam da belli şimdiden bu veda Diğerleri gibi hadi git bırak beni Hep oyna düşman mı yatağıma aldım Hep aynı aşktan mı çamura bulaştığım Yine mi ilk ben bağrıma taşla Hadi kaldıysa cesaretin bileğimden başla Kimlere feda kimlere satıldı gönül                                                                                                                                                                                                                                                                                                                                                                                                                                                                                                                                                                                                                                                                                                                                                                                                                                                                                                                                                                                                                                                                                                                                                                                                                                                                                                                                                                                                                                                           1\n",
       "BUGÜN SENİN DOĞUM GÜNÜN Bugün senin doğum günün Sana dargın olamam ki Şu gönlümü kırsan bile Kıran sensin diyemem ki Bugün senin doğum günün Senden özür beklemem ki En küçük bir ima ile Moralini bozamam ki Bugün senin doğum günün Ben seni hiç üzemem ki Mutlu mutsuz bir gün sensiz Yaşıyorum diyemem ki                                                                                                                                                                                                                                                                                                                                                                                                                                                                                                                                                                                                                                                                                                                                                                                                                                                                                                                                                                                                                                                                                                                                                                                                                                                                                                                                                                                                                                                                                                                                                                            1\n",
       "Bir gün daha yaşandı ve bitti Küçük sevinçleri ve küçük kederleriyle Her hangi bir gündü çok önemli değildi Seni düşündüğüm bir kaç andan başka Bilirim herkes payına düşeni yaşar Ve her yeni günle değişir hep bir şeyler Sende kendi payından bir hatıra seç Ne olur o ben olayım Beni unutma                                                                                                                                                                                                                                                                                                                                                                                                                                                                                                                                                                                                                                                                                                                                                                                                                                                                                                                                                                                                                                                                                                                                                                                                                                                                                                                                                                                                                                                                                                                                                                                         1\n",
       "Dalyan gibi bir çocuktu Benim gözümde küçüktü Küstü de dağlara çıktı İner mi inmez mi bilmem Şimdi dağların tozudur Belki isyanın sazıdır Hala kalbimde sızıdır Diner mi dinmez mi bilmem Adı Yılmaz kendi Yılmaz Makamı yok dem tutulmaz                                                                                                                                                                                                                                                                                                                                                                                                                                                                                                                                                                                                                                                                                                                                                                                                                                                                                                                                                                                                                                                                                                                                                                                                                                                                                                                                                                                                                                                                                                                                                                                                                                                1\n",
       "Çekemem bu hasreti çekemem Ağlarım gözümden yaş dökemem Yar şimdi nerelerde bilemem Dönerim belkide hiç göremem Dağlar yanayım yanıp solayım Yol ver gönlüme yarimi bulayım Susarım yüreğimin dili yok Ağlarım sevdiğimin eli yok Kokladım rüzgarları kokladım Gül kokan saçlarının teli yok Dağlar yanayım yanıp solayım Yol ver gönlüme yarimi bulayım                                                                                                                                                                                                                                                                                                                                                                                                                                                                                                                                                                                                                                                                                                                                                                                                                                                                                                                                                                                                                                                                                                                                                                                                                                                                                                                                                                                                                                                                                                                                 1\n",
       "Yağmur uyurken Karanlığın kıyısında Rüzgar susarken Cehennemin ortasında Matem tuttu yıldızlar Gidenlerin ardından O göç yolu Matem dolu Arta kalan bir derin Kıyamet uykusu                                                                                                                                                                                                                                                                                                                                                                                                                                                                                                                                                                                                                                                                                                                                                                                                                                                                                                                                                                                                                                                                                                                                                                                                                                                                                                                                                                                                                                                                                                                                                                                                                                                                                                             1\n",
       "Hangi köşede açıyor şimdi kalbim Sıcağı nasıl seversin o biliyor mu Resmim duruyor mu hala rüzgarımda Yoksa siz öpüşürken çekmeden gülüyor mu Elbet yavaş yavaş silinirim aklından Günler geçtikçe alışkanlıklarından O şarkılar bile beni söylemez olur Ona benim gibi seslenme ne olur Durmam artık buralarda yollar benim kaderim İyi dilekler benden sana göz yaşımı ertelerim Sitem etmem haber yollamam yakışmaz bana Yakışmaz bana misafirim nasıl olsa her gece rüyalarına nakarat x                                                                                                                                                                                                                                                                                                                                                                                                                                                                                                                                                                                                                                                                                                                                                                                                                                                                                                                                                                                                                                                                                                                                                                                                                                                                                                                                                                                             1\n",
       "bu sensiz geçen bir gün bu sensiz bir istanbul bu sensiz ilk gün değil ah bu ilk sürgün değil senin şarkın canım bu şarkı benim eksik yanım bu şarkı sen unuttun belki çoktandır ama benim sonum bu şarkı yarım kaldı her şeyim bu öykü yarım kaldı bu şarkı zehir gibi                                                                                                                                                                                                                                                                                                                                                                                                                                                                                                                                                                                                                                                                                                                                                                                                                                                                                                                                                                                                                                                                                                                                                                                                                                                                                                                                                                                                                                                                                                                                                                                                                  1\n",
       "Yatağa değil bazen sadece salağa yatarsın Hayallerinle başbaşa sabaha kadarsın Kader utansın” demek basit kaçış Şimdi o hayalleri günahlara satın Beni dinlerken bozulur rahatın Çok mu ağladın Yok mu artık seni kurtaracak bir kahraman Tüm yalanlara açılan yaralara Yalanlara deli olanlara inat Biram gelmeyecek sandım biran Ulan ne boktan şu hayat bu aralar Her yüzüyle tanıştığım insanlar Çok tatlı ağlıyor timsahlar Yok mu başka derdi bu kindarlar Nefret ettim aynada simamdam Bir ben değil Sende bulandın günaha Bana herkes neden düşman oldu Neden herkes yabancı Sende görüyormusun o anlattığın kabusları Rüyalarında Biliyorum İkimizde bulandık günaha” Şans dedikleri pis pis sırıtır Kanadı kırıktır bunu dinleyenin Bu şarkıda buluştuk bak… Üzüldüm haline affına sığınarak Kimin haddine kilit vurmak duygulara Uykulara hasret kalmak Arayıpta bulmak arazi olmak ikisinin paydası arsızlaşmak Bir gün bir yer de karşılaşmak Bağışlamak ya da ayrılaşmak… Hayatı beklemeye almak… Yalandır sigarayı azaltmak Ağustosta buz tutmak ihanet” Bu metanet bilinir rivayet Hep acele acele bize kalır ihale Aşk dedikleri kenar bir mahalle Anlatıcam bir saniye rakıdan alsana bir duble Neyse zaten sönmüş nargilem Şah ve de mat bu da son hamlem O gözle gördüğün öyle böyle değil Bundan böyle beni düşman bil Hayatta mutluluklar dilerim ya da günaha bulan bu da bi fikir… Bir ben değil Sende bulandın günaha Bana herkes neden düşman oldu Neden herkes yabancı Sende görüyormusun o anlattığın kabusları Rüyalarında Biliyorum İkimizde bulandık günaha”                                                                                                                                                                                                                                                                                              1\n",
       "Ben bir haydut içen tüttüren Bir güneyli soğuk sevmeyen Sevip sevip de bir türlü İlanı aşk edemeyen Sen bir engerek beni büyüleyen Tutup kıskıvrak bırakmayan Şah damarımdan içeriye Güzel güzel zehirleyen Kalelerim düşüyor Tek tek düşüyor Cephanem bitiyor Tek tek bitiyor Teslim ilan ediyorum Beyaz bir bayrak çektim geceye Yüreğimde yıldızlar Bu sözlerin hiç dönüşü de olmaz Teslimim sana Ben bir haydur lodosla gezen Geçtiği yerde son kez esen Elmas yataklarından çalıp Gözlerden döken Dudaklarıma şimşek düşüren Damarlarımda ismi inleyen Kimsin nesin ne cesaret Bu nasıl esaret Kalelerim düşüyor Tek tek düşüyor Cephanem bitiyor Tek tek bitiyor Teslim ilan ediyorum Beyaz bir bayrak çektim geceye Yüreğimde yıldızlar Bu sözlerin hiç dönüşü de olmaz Teslimim sana                                                                                                                                                                                                                                                                                                                                                                                                                                                                                                                                                                                                                                                                                                                                                                                                                                                                                                                                                                                                                                                                                             1\n",
       "Açmaz oldu gonca güller sen yoksun diye Gülmez oldu gülen yüzüm sen yoksun diye Ne olduda beni bırakıp gittin ellere Sen sevmiştin ben sevmiştim yalan mı söyle Beni perişan ettin de üzülmedin mi Mutlu geçen günleri sen düşünmedin mi Gonca gülüm derdim sana Canım aşkım derdin bana Doğru söyle şimdi bana Mutlu musun sen Sazım sözüm iki gözüm ruhum özümdün Gülüm çiçeğimdin benim canım ömrümdün Bırakıp giderken beni vurdun öldürdün Neyleyim ben sensizliği neyleyim söyle                                                                                                                                                                                                                                                                                                                                                                                                                                                                                                                                                                                                                                                                                                                                                                                                                                                                                                                                                                                                                                                                                                                                                                                                                                                                                                                                                                                                   1\n",
       "Beni munzur emzirdi Dağlarda büyümüşüm Bu şehir anlamadı Sen beni anlamadın Sokaklar anlamadı Gel sevdada gör Gel dağlarda gör beni Gel kavgada gör beni Beni dicle emzirdi Kavgayla büyümüşüm Sen kavgada gör beni                                                                                                                                                                                                                                                                                                                                                                                                                                                                                                                                                                                                                                                                                                                                                                                                                                                                                                                                                                                                                                                                                                                                                                                                                                                                                                                                                                                                                                                                                                                                                                                                                                                                      1\n",
       "nolur git lütfen git hayallerimi yorma yorma git nolur git lütfen git hüzünlerimi sorma sorma git ya da gel biraz daha konuşalım müşterek bir paydada buluşalım bir tek dileğim var anlaşalım hayat benim kime ne danışmadım bilene yana yana kül olmuş olsam kime ne bu ıstırap halleri yakın etti elleri kana kana kaybolmuş olsam kime ne nolur git lütfen git                                                                                                                                                                                                                                                                                                                                                                                                                                                                                                                                                                                                                                                                                                                                                                                                                                                                                                                                                                                                                                                                                                                                                                                                                                                                                                                                                                                                                                                                                                                        1\n",
       "Son verip bu hasrete Gülecegiz yakinda Elbet yine el ele Olacagiz yakinda Süründürür bizleri Hayatin cileleri Icimizden Dertleri Silecegiz yakinda Gurbet elde kederden Neler cektik kaderden Yuvamizi tez elden Kuracagiz yakinda Süründürür bizleri Hayatin cileleri Icimizden Dertleri Silecegiz yakinda                                                                                                                                                                                                                                                                                                                                                                                                                                                                                                                                                                                                                                                                                                                                                                                                                                                                                                                                                                                                                                                                                                                                                                                                                                                                                                                                                                                                                                                                                                                                                                              1\n",
       "Dost kalmak zor seninle Çocukluğun yüzünden Sanma herkes sen ben gibi Menfaat aşkın temeli Ne kadar versen de yetmez Mutluluk hiç gelmez Zamanla değişir sanma Bahaneler bulma Toz pembe rüyalarda Gerçekler kapkara Kızma bana inanmasan da Ne olur unutma Dost acı söyler Dost acı söyler Dost acı söyler                                                                                                                                                                                                                                                                                                                                                                                                                                                                                                                                                                                                                                                                                                                                                                                                                                                                                                                                                                                                                                                                                                                                                                                                                                                                                                                                                                                                                                                                                                                                                                              1\n",
       "Kimbilir kaçıncı arayışım bu Benden kaçan mutluluğumu Nerede belli değil Kimbilir kaçıncı arayışım bu Kaybettim her bulduğumu Kader bana dost değil Ağla ağla halime Gülme kapat gözlerini Görme tek bir söz söyleme Ağla ağla halime Gülme kapat gözlerini Görme tek bir söz söyleme Yok mu bir soru sormayan Yarını olmayan Güneşi doğmayan Bir yolun yolcusuyum dokunma Ağla ağla halime Gülme kapat gözlerini Görme tek bir söz söyleme Sanki bir yangın içimde Külleri savrulan Yakılan yıkılan dünyamda Artık bir yer yok bana Ağla ağla halime Gülme kapat gözlerini Görme tek bir söz söyleme Ağla ağla halime Gülme kapat gözlerini Görme tek bir söz söyleme Ağla ağla halime Gülme kapat gözlerini Görme tek bir söz söyleme                                                                                                                                                                                                                                                                                                                                                                                                                                                                                                                                                                                                                                                                                                                                                                                                                                                                                                                                                                                                                                                                                                                                                  1\n",
       "Hiç konuşmak gelmiyor içimden bu ara Tadı da yok ağzımın ağzımın içi yara Başladığım yerdeyim gitmiyorum bir adım Doldurdum kadehleri içmiyorum bir yudum Bıraktığın karanlığın içinde kayboldum Pişman etti baktığıma aynalar Şimdi ağlamıyorum eskisi kadar Hüznümün maskesi zoraki kahkahalar                                                                                                                                                                                                                                                                                                                                                                                                                                                                                                                                                                                                                                                                                                                                                                                                                                                                                                                                                                                                                                                                                                                                                                                                                                                                                                                                                                                                                                                                                                                                                                                         1\n",
       "Cesaretin var mı Kendine inanmaya Cesaretin var mı Sen başkasın ben başka Cesaretin var mı Kuralsız yaşamaya Cesaretin var mı Kendin gibi olmaya Masum kalamayız Mevzular Hiç bildiğin gibi değil Sandığım gibi değil Hiç bildiğim gibi değil Sandığım gibi değil Artık anla Artık anla                                                                                                                                                                                                                                                                                                                                                                                                                                                                                                                                                                                                                                                                                                                                                                                                                                                                                                                                                                                                                                                                                                                                                                                                                                                                                                                                                                                                                                                                                                                                                                                                  1\n",
       "Name: text, Length: 15175, dtype: int64"
      ]
     },
     "execution_count": 52,
     "metadata": {},
     "output_type": "execute_result"
    }
   ],
   "source": [
    "df['text'].value_counts()"
   ]
  }
 ],
 "metadata": {
  "kernelspec": {
   "display_name": "Python [conda root]",
   "language": "python",
   "name": "conda-root-py"
  },
  "language_info": {
   "codemirror_mode": {
    "name": "ipython",
    "version": 3
   },
   "file_extension": ".py",
   "mimetype": "text/x-python",
   "name": "python",
   "nbconvert_exporter": "python",
   "pygments_lexer": "ipython3",
   "version": "3.6.4"
  }
 },
 "nbformat": 4,
 "nbformat_minor": 2
}
