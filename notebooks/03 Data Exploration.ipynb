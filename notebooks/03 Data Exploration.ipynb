{
 "cells": [
  {
   "cell_type": "markdown",
   "metadata": {},
   "source": [
    "# EDA\n",
    "Now that the data is cleaned, what's in it?"
   ]
  },
  {
   "cell_type": "code",
   "execution_count": 1,
   "metadata": {},
   "outputs": [],
   "source": [
    "import pandas as pd\n",
    "import numpy as np\n",
    "import matplotlib.pyplot as plt\n",
    "import seaborn as sns\n",
    "\n",
    "from sklearn.feature_extraction.text import CountVectorizer, HashingVectorizer, TfidfVectorizer"
   ]
  },
  {
   "cell_type": "code",
   "execution_count": 2,
   "metadata": {},
   "outputs": [
    {
     "name": "stdout",
     "output_type": "stream",
     "text": [
      "Text processing functions loaded.\n"
     ]
    }
   ],
   "source": [
    "%run ../scripts/post_scraping_text_processing.py functions"
   ]
  },
  {
   "cell_type": "markdown",
   "metadata": {},
   "source": [
    "## Reading in data\n",
    "This notebook takes the output of the script `train_test_split.py`, which divides the data into training and test sets. Later this division proves to be unnecessary at this stage."
   ]
  },
  {
   "cell_type": "code",
   "execution_count": 3,
   "metadata": {},
   "outputs": [],
   "source": [
    "train = pd.read_csv('../assets/data/train.csv', index_col=0)\n",
    "test = pd.read_csv('../assets/data/test.csv', index_col = 0)\n",
    "df = pd.concat([train, test], axis = 0)"
   ]
  },
  {
   "cell_type": "code",
   "execution_count": 4,
   "metadata": {},
   "outputs": [
    {
     "name": "stdout",
     "output_type": "stream",
     "text": [
      "(11538, 6)\n",
      "(3847, 6)\n",
      "(15385, 6)\n"
     ]
    }
   ],
   "source": [
    "print(train.shape)\n",
    "print(test.shape)\n",
    "print(df.shape)"
   ]
  },
  {
   "cell_type": "code",
   "execution_count": 5,
   "metadata": {},
   "outputs": [
    {
     "data": {
      "text/plain": [
       "Index(['artist', 'album', 'text', 'name', 'year', 'written_before'], dtype='object')"
      ]
     },
     "execution_count": 5,
     "metadata": {},
     "output_type": "execute_result"
    }
   ],
   "source": [
    "df.columns"
   ]
  },
  {
   "cell_type": "markdown",
   "metadata": {},
   "source": [
    "## Looking at the two classes separately\n",
    "In this section:\n",
    "- split the dataframe into two based on target class\n",
    "- define a function that uses `CountVectorizer` to produce a word list with frequencies and proportions"
   ]
  },
  {
   "cell_type": "code",
   "execution_count": 6,
   "metadata": {},
   "outputs": [],
   "source": [
    "precoup = df[df['written_before']==1]\n",
    "postcoup = df[df['written_before'] ==0]"
   ]
  },
  {
   "cell_type": "code",
   "execution_count": 7,
   "metadata": {},
   "outputs": [],
   "source": [
    "precoup_corpus = precoup['text'].copy()\n",
    "postcoup_corpus = postcoup['text'].copy()"
   ]
  },
  {
   "cell_type": "code",
   "execution_count": 8,
   "metadata": {},
   "outputs": [],
   "source": [
    "cvec_pre = CountVectorizer(stop_words=STOP_WORDS, min_df=2)"
   ]
  },
  {
   "cell_type": "code",
   "execution_count": 9,
   "metadata": {},
   "outputs": [
    {
     "data": {
      "text/plain": [
       "CountVectorizer(analyzer='word', binary=False, decode_error='strict',\n",
       "        dtype=<class 'numpy.int64'>, encoding='utf-8', input='content',\n",
       "        lowercase=True, max_df=1.0, max_features=None, min_df=2,\n",
       "        ngram_range=(1, 1), preprocessor=None,\n",
       "        stop_words={'başkası', 'nasılsa', 'evvelce', 'mü', 'az', 'şura', 'çoğun', 'birisine', 'onları', 'ancak', 'kendilerine', 'hiçbirinde', 'dayanarak', 'çoğunda', 'binaen', 'birileri', 'ettiğini', 'şuracıkta', 'birisinin', 'şeyler', 'sizin', 'onda', 'yalnız', 'esasen', 'kendi', 'vasıtasıyla', 'nerdeyse',...mlemizden', 'daima', 'öbürüne', 'nere', 'şundan', 'nice', 'kimisinde', 'hiçbirine', 'bunda', 'gine'},\n",
       "        strip_accents=None, token_pattern='(?u)\\\\b\\\\w\\\\w+\\\\b',\n",
       "        tokenizer=None, vocabulary=None)"
      ]
     },
     "execution_count": 9,
     "metadata": {},
     "output_type": "execute_result"
    }
   ],
   "source": [
    "cvec_pre.fit(precoup_corpus)"
   ]
  },
  {
   "cell_type": "code",
   "execution_count": 10,
   "metadata": {},
   "outputs": [],
   "source": [
    "transformed = cvec_pre.transform(precoup_corpus)"
   ]
  },
  {
   "cell_type": "code",
   "execution_count": 11,
   "metadata": {},
   "outputs": [
    {
     "data": {
      "text/html": [
       "<div>\n",
       "<style scoped>\n",
       "    .dataframe tbody tr th:only-of-type {\n",
       "        vertical-align: middle;\n",
       "    }\n",
       "\n",
       "    .dataframe tbody tr th {\n",
       "        vertical-align: top;\n",
       "    }\n",
       "\n",
       "    .dataframe thead th {\n",
       "        text-align: right;\n",
       "    }\n",
       "</style>\n",
       "<table border=\"1\" class=\"dataframe\">\n",
       "  <thead>\n",
       "    <tr style=\"text-align: right;\">\n",
       "      <th></th>\n",
       "      <th>count</th>\n",
       "    </tr>\n",
       "  </thead>\n",
       "  <tbody>\n",
       "    <tr>\n",
       "      <th>bir</th>\n",
       "      <td>6569</td>\n",
       "    </tr>\n",
       "    <tr>\n",
       "      <th>gel</th>\n",
       "      <td>1459</td>\n",
       "    </tr>\n",
       "    <tr>\n",
       "      <th>yar</th>\n",
       "      <td>1212</td>\n",
       "    </tr>\n",
       "    <tr>\n",
       "      <th>aman</th>\n",
       "      <td>989</td>\n",
       "    </tr>\n",
       "    <tr>\n",
       "      <th>ah</th>\n",
       "      <td>892</td>\n",
       "    </tr>\n",
       "    <tr>\n",
       "      <th>gün</th>\n",
       "      <td>870</td>\n",
       "    </tr>\n",
       "    <tr>\n",
       "      <th>aşk</th>\n",
       "      <td>716</td>\n",
       "    </tr>\n",
       "    <tr>\n",
       "      <th>oy</th>\n",
       "      <td>643</td>\n",
       "    </tr>\n",
       "    <tr>\n",
       "      <th>sensiz</th>\n",
       "      <td>565</td>\n",
       "    </tr>\n",
       "    <tr>\n",
       "      <th>güzel</th>\n",
       "      <td>545</td>\n",
       "    </tr>\n",
       "    <tr>\n",
       "      <th>gönül</th>\n",
       "      <td>540</td>\n",
       "    </tr>\n",
       "    <tr>\n",
       "      <th>gece</th>\n",
       "      <td>518</td>\n",
       "    </tr>\n",
       "    <tr>\n",
       "      <th>vay</th>\n",
       "      <td>516</td>\n",
       "    </tr>\n",
       "    <tr>\n",
       "      <th>deli</th>\n",
       "      <td>498</td>\n",
       "    </tr>\n",
       "    <tr>\n",
       "      <th>zaman</th>\n",
       "      <td>497</td>\n",
       "    </tr>\n",
       "    <tr>\n",
       "      <th>canım</th>\n",
       "      <td>493</td>\n",
       "    </tr>\n",
       "    <tr>\n",
       "      <th>bak</th>\n",
       "      <td>468</td>\n",
       "    </tr>\n",
       "    <tr>\n",
       "      <th>al</th>\n",
       "      <td>468</td>\n",
       "    </tr>\n",
       "    <tr>\n",
       "      <th>gelir</th>\n",
       "      <td>425</td>\n",
       "    </tr>\n",
       "    <tr>\n",
       "      <th>dünya</th>\n",
       "      <td>402</td>\n",
       "    </tr>\n",
       "  </tbody>\n",
       "</table>\n",
       "</div>"
      ],
      "text/plain": [
       "        count\n",
       "bir      6569\n",
       "gel      1459\n",
       "yar      1212\n",
       "aman      989\n",
       "ah        892\n",
       "gün       870\n",
       "aşk       716\n",
       "oy        643\n",
       "sensiz    565\n",
       "güzel     545\n",
       "gönül     540\n",
       "gece      518\n",
       "vay       516\n",
       "deli      498\n",
       "zaman     497\n",
       "canım     493\n",
       "bak       468\n",
       "al        468\n",
       "gelir     425\n",
       "dünya     402"
      ]
     },
     "execution_count": 11,
     "metadata": {},
     "output_type": "execute_result"
    }
   ],
   "source": [
    "pd.DataFrame(pd.DataFrame(transformed.toarray(), columns=cvec_pre.get_feature_names()).sum().sort_values(ascending =False), columns = ['count']).head(20)"
   ]
  },
  {
   "cell_type": "code",
   "execution_count": 12,
   "metadata": {},
   "outputs": [],
   "source": [
    "def make_vocab_list(corpus, stopwords = None, ngram_range = (1,1), min_df = 1):\n",
    "    \"\"\"Takes a corpus and returns a one column dataframe with words in the index and counts in a column.\n",
    "    \n",
    "    Options:\n",
    "        - stopwords: either a list-like or None (default)\n",
    "        - ngram_range: a tuple (default (1,1))\n",
    "        - min_df: minimum document frequency (default 1)\"\"\"\n",
    "    cv = CountVectorizer(stop_words=stopwords, ngram_range=ngram_range, min_df = min_df)\n",
    "    cv.fit(corpus)\n",
    "    transformed = cv.transform(corpus)\n",
    "    \n",
    "    return pd.DataFrame(pd.DataFrame(transformed.toarray(), columns=cv.get_feature_names()).sum().sort_values(ascending =False), columns = ['count'])\n",
    "    \n",
    "    "
   ]
  },
  {
   "cell_type": "code",
   "execution_count": 13,
   "metadata": {},
   "outputs": [],
   "source": [
    "words_precoup = make_vocab_list(precoup_corpus)\n",
    "words_postcoup = make_vocab_list(postcoup_corpus)"
   ]
  },
  {
   "cell_type": "code",
   "execution_count": 14,
   "metadata": {},
   "outputs": [
    {
     "name": "stdout",
     "output_type": "stream",
     "text": [
      "280331\n",
      "749536\n"
     ]
    }
   ],
   "source": [
    "total_precoup = words_precoup['count'].sum()\n",
    "print(total_precoup)\n",
    "\n",
    "total_postcoup = words_postcoup['count'].sum()\n",
    "print(total_postcoup)"
   ]
  },
  {
   "cell_type": "code",
   "execution_count": 15,
   "metadata": {},
   "outputs": [],
   "source": [
    "words_precoup['proportion'] = words_precoup['count']/total_precoup\n",
    "words_postcoup['proportion'] = words_postcoup['count']/total_postcoup"
   ]
  },
  {
   "cell_type": "code",
   "execution_count": 16,
   "metadata": {},
   "outputs": [
    {
     "data": {
      "text/html": [
       "<div>\n",
       "<style scoped>\n",
       "    .dataframe tbody tr th:only-of-type {\n",
       "        vertical-align: middle;\n",
       "    }\n",
       "\n",
       "    .dataframe tbody tr th {\n",
       "        vertical-align: top;\n",
       "    }\n",
       "\n",
       "    .dataframe thead th {\n",
       "        text-align: right;\n",
       "    }\n",
       "</style>\n",
       "<table border=\"1\" class=\"dataframe\">\n",
       "  <thead>\n",
       "    <tr style=\"text-align: right;\">\n",
       "      <th></th>\n",
       "      <th>count</th>\n",
       "      <th>proportion</th>\n",
       "    </tr>\n",
       "  </thead>\n",
       "  <tbody>\n",
       "    <tr>\n",
       "      <th>bir</th>\n",
       "      <td>6569</td>\n",
       "      <td>0.023433</td>\n",
       "    </tr>\n",
       "    <tr>\n",
       "      <th>bu</th>\n",
       "      <td>3485</td>\n",
       "      <td>0.012432</td>\n",
       "    </tr>\n",
       "    <tr>\n",
       "      <th>ne</th>\n",
       "      <td>2935</td>\n",
       "      <td>0.010470</td>\n",
       "    </tr>\n",
       "    <tr>\n",
       "      <th>ben</th>\n",
       "      <td>2826</td>\n",
       "      <td>0.010081</td>\n",
       "    </tr>\n",
       "    <tr>\n",
       "      <th>beni</th>\n",
       "      <td>2648</td>\n",
       "      <td>0.009446</td>\n",
       "    </tr>\n",
       "    <tr>\n",
       "      <th>sen</th>\n",
       "      <td>2409</td>\n",
       "      <td>0.008593</td>\n",
       "    </tr>\n",
       "    <tr>\n",
       "      <th>seni</th>\n",
       "      <td>2096</td>\n",
       "      <td>0.007477</td>\n",
       "    </tr>\n",
       "    <tr>\n",
       "      <th>bana</th>\n",
       "      <td>1641</td>\n",
       "      <td>0.005854</td>\n",
       "    </tr>\n",
       "    <tr>\n",
       "      <th>gibi</th>\n",
       "      <td>1560</td>\n",
       "      <td>0.005565</td>\n",
       "    </tr>\n",
       "    <tr>\n",
       "      <th>de</th>\n",
       "      <td>1552</td>\n",
       "      <td>0.005536</td>\n",
       "    </tr>\n",
       "    <tr>\n",
       "      <th>gel</th>\n",
       "      <td>1459</td>\n",
       "      <td>0.005205</td>\n",
       "    </tr>\n",
       "    <tr>\n",
       "      <th>sana</th>\n",
       "      <td>1447</td>\n",
       "      <td>0.005162</td>\n",
       "    </tr>\n",
       "    <tr>\n",
       "      <th>var</th>\n",
       "      <td>1367</td>\n",
       "      <td>0.004876</td>\n",
       "    </tr>\n",
       "    <tr>\n",
       "      <th>benim</th>\n",
       "      <td>1334</td>\n",
       "      <td>0.004759</td>\n",
       "    </tr>\n",
       "    <tr>\n",
       "      <th>yar</th>\n",
       "      <td>1212</td>\n",
       "      <td>0.004323</td>\n",
       "    </tr>\n",
       "    <tr>\n",
       "      <th>her</th>\n",
       "      <td>1146</td>\n",
       "      <td>0.004088</td>\n",
       "    </tr>\n",
       "    <tr>\n",
       "      <th>da</th>\n",
       "      <td>1065</td>\n",
       "      <td>0.003799</td>\n",
       "    </tr>\n",
       "    <tr>\n",
       "      <th>ki</th>\n",
       "      <td>1033</td>\n",
       "      <td>0.003685</td>\n",
       "    </tr>\n",
       "    <tr>\n",
       "      <th>çok</th>\n",
       "      <td>1005</td>\n",
       "      <td>0.003585</td>\n",
       "    </tr>\n",
       "    <tr>\n",
       "      <th>aman</th>\n",
       "      <td>989</td>\n",
       "      <td>0.003528</td>\n",
       "    </tr>\n",
       "  </tbody>\n",
       "</table>\n",
       "</div>"
      ],
      "text/plain": [
       "       count  proportion\n",
       "bir     6569    0.023433\n",
       "bu      3485    0.012432\n",
       "ne      2935    0.010470\n",
       "ben     2826    0.010081\n",
       "beni    2648    0.009446\n",
       "sen     2409    0.008593\n",
       "seni    2096    0.007477\n",
       "bana    1641    0.005854\n",
       "gibi    1560    0.005565\n",
       "de      1552    0.005536\n",
       "gel     1459    0.005205\n",
       "sana    1447    0.005162\n",
       "var     1367    0.004876\n",
       "benim   1334    0.004759\n",
       "yar     1212    0.004323\n",
       "her     1146    0.004088\n",
       "da      1065    0.003799\n",
       "ki      1033    0.003685\n",
       "çok     1005    0.003585\n",
       "aman     989    0.003528"
      ]
     },
     "execution_count": 16,
     "metadata": {},
     "output_type": "execute_result"
    }
   ],
   "source": [
    "words_precoup.head(20)"
   ]
  },
  {
   "cell_type": "code",
   "execution_count": 17,
   "metadata": {},
   "outputs": [
    {
     "data": {
      "text/html": [
       "<div>\n",
       "<style scoped>\n",
       "    .dataframe tbody tr th:only-of-type {\n",
       "        vertical-align: middle;\n",
       "    }\n",
       "\n",
       "    .dataframe tbody tr th {\n",
       "        vertical-align: top;\n",
       "    }\n",
       "\n",
       "    .dataframe thead th {\n",
       "        text-align: right;\n",
       "    }\n",
       "</style>\n",
       "<table border=\"1\" class=\"dataframe\">\n",
       "  <thead>\n",
       "    <tr style=\"text-align: right;\">\n",
       "      <th></th>\n",
       "      <th>count</th>\n",
       "      <th>proportion</th>\n",
       "    </tr>\n",
       "  </thead>\n",
       "  <tbody>\n",
       "    <tr>\n",
       "      <th>bir</th>\n",
       "      <td>16505</td>\n",
       "      <td>0.022020</td>\n",
       "    </tr>\n",
       "    <tr>\n",
       "      <th>bu</th>\n",
       "      <td>9736</td>\n",
       "      <td>0.012989</td>\n",
       "    </tr>\n",
       "    <tr>\n",
       "      <th>ben</th>\n",
       "      <td>8011</td>\n",
       "      <td>0.010688</td>\n",
       "    </tr>\n",
       "    <tr>\n",
       "      <th>ne</th>\n",
       "      <td>6864</td>\n",
       "      <td>0.009158</td>\n",
       "    </tr>\n",
       "    <tr>\n",
       "      <th>sen</th>\n",
       "      <td>6638</td>\n",
       "      <td>0.008856</td>\n",
       "    </tr>\n",
       "    <tr>\n",
       "      <th>beni</th>\n",
       "      <td>6412</td>\n",
       "      <td>0.008555</td>\n",
       "    </tr>\n",
       "    <tr>\n",
       "      <th>seni</th>\n",
       "      <td>4894</td>\n",
       "      <td>0.006529</td>\n",
       "    </tr>\n",
       "    <tr>\n",
       "      <th>de</th>\n",
       "      <td>4163</td>\n",
       "      <td>0.005554</td>\n",
       "    </tr>\n",
       "    <tr>\n",
       "      <th>bana</th>\n",
       "      <td>4132</td>\n",
       "      <td>0.005513</td>\n",
       "    </tr>\n",
       "    <tr>\n",
       "      <th>gibi</th>\n",
       "      <td>4036</td>\n",
       "      <td>0.005385</td>\n",
       "    </tr>\n",
       "    <tr>\n",
       "      <th>sana</th>\n",
       "      <td>3889</td>\n",
       "      <td>0.005189</td>\n",
       "    </tr>\n",
       "    <tr>\n",
       "      <th>her</th>\n",
       "      <td>3776</td>\n",
       "      <td>0.005038</td>\n",
       "    </tr>\n",
       "    <tr>\n",
       "      <th>çok</th>\n",
       "      <td>3671</td>\n",
       "      <td>0.004898</td>\n",
       "    </tr>\n",
       "    <tr>\n",
       "      <th>var</th>\n",
       "      <td>3522</td>\n",
       "      <td>0.004699</td>\n",
       "    </tr>\n",
       "    <tr>\n",
       "      <th>yok</th>\n",
       "      <td>3451</td>\n",
       "      <td>0.004604</td>\n",
       "    </tr>\n",
       "    <tr>\n",
       "      <th>da</th>\n",
       "      <td>3085</td>\n",
       "      <td>0.004116</td>\n",
       "    </tr>\n",
       "    <tr>\n",
       "      <th>ki</th>\n",
       "      <td>3054</td>\n",
       "      <td>0.004075</td>\n",
       "    </tr>\n",
       "    <tr>\n",
       "      <th>benim</th>\n",
       "      <td>3036</td>\n",
       "      <td>0.004051</td>\n",
       "    </tr>\n",
       "    <tr>\n",
       "      <th>gel</th>\n",
       "      <td>2789</td>\n",
       "      <td>0.003721</td>\n",
       "    </tr>\n",
       "    <tr>\n",
       "      <th>yar</th>\n",
       "      <td>2670</td>\n",
       "      <td>0.003562</td>\n",
       "    </tr>\n",
       "  </tbody>\n",
       "</table>\n",
       "</div>"
      ],
      "text/plain": [
       "       count  proportion\n",
       "bir    16505    0.022020\n",
       "bu      9736    0.012989\n",
       "ben     8011    0.010688\n",
       "ne      6864    0.009158\n",
       "sen     6638    0.008856\n",
       "beni    6412    0.008555\n",
       "seni    4894    0.006529\n",
       "de      4163    0.005554\n",
       "bana    4132    0.005513\n",
       "gibi    4036    0.005385\n",
       "sana    3889    0.005189\n",
       "her     3776    0.005038\n",
       "çok     3671    0.004898\n",
       "var     3522    0.004699\n",
       "yok     3451    0.004604\n",
       "da      3085    0.004116\n",
       "ki      3054    0.004075\n",
       "benim   3036    0.004051\n",
       "gel     2789    0.003721\n",
       "yar     2670    0.003562"
      ]
     },
     "execution_count": 17,
     "metadata": {},
     "output_type": "execute_result"
    }
   ],
   "source": [
    "words_postcoup.head(20)"
   ]
  },
  {
   "cell_type": "code",
   "execution_count": 18,
   "metadata": {},
   "outputs": [],
   "source": [
    "word_table = words_precoup.merge(words_postcoup, left_index=True, right_index=True, suffixes = ('_pre', '_post'))"
   ]
  },
  {
   "cell_type": "code",
   "execution_count": 19,
   "metadata": {},
   "outputs": [
    {
     "data": {
      "text/html": [
       "<div>\n",
       "<style scoped>\n",
       "    .dataframe tbody tr th:only-of-type {\n",
       "        vertical-align: middle;\n",
       "    }\n",
       "\n",
       "    .dataframe tbody tr th {\n",
       "        vertical-align: top;\n",
       "    }\n",
       "\n",
       "    .dataframe thead th {\n",
       "        text-align: right;\n",
       "    }\n",
       "</style>\n",
       "<table border=\"1\" class=\"dataframe\">\n",
       "  <thead>\n",
       "    <tr style=\"text-align: right;\">\n",
       "      <th></th>\n",
       "      <th>count_pre</th>\n",
       "      <th>proportion_pre</th>\n",
       "      <th>count_post</th>\n",
       "      <th>proportion_post</th>\n",
       "    </tr>\n",
       "  </thead>\n",
       "  <tbody>\n",
       "    <tr>\n",
       "      <th>bir</th>\n",
       "      <td>6569</td>\n",
       "      <td>0.023433</td>\n",
       "      <td>16505</td>\n",
       "      <td>0.022020</td>\n",
       "    </tr>\n",
       "    <tr>\n",
       "      <th>bu</th>\n",
       "      <td>3485</td>\n",
       "      <td>0.012432</td>\n",
       "      <td>9736</td>\n",
       "      <td>0.012989</td>\n",
       "    </tr>\n",
       "    <tr>\n",
       "      <th>ne</th>\n",
       "      <td>2935</td>\n",
       "      <td>0.010470</td>\n",
       "      <td>6864</td>\n",
       "      <td>0.009158</td>\n",
       "    </tr>\n",
       "    <tr>\n",
       "      <th>ben</th>\n",
       "      <td>2826</td>\n",
       "      <td>0.010081</td>\n",
       "      <td>8011</td>\n",
       "      <td>0.010688</td>\n",
       "    </tr>\n",
       "    <tr>\n",
       "      <th>beni</th>\n",
       "      <td>2648</td>\n",
       "      <td>0.009446</td>\n",
       "      <td>6412</td>\n",
       "      <td>0.008555</td>\n",
       "    </tr>\n",
       "  </tbody>\n",
       "</table>\n",
       "</div>"
      ],
      "text/plain": [
       "      count_pre  proportion_pre  count_post  proportion_post\n",
       "bir        6569        0.023433       16505         0.022020\n",
       "bu         3485        0.012432        9736         0.012989\n",
       "ne         2935        0.010470        6864         0.009158\n",
       "ben        2826        0.010081        8011         0.010688\n",
       "beni       2648        0.009446        6412         0.008555"
      ]
     },
     "execution_count": 19,
     "metadata": {},
     "output_type": "execute_result"
    }
   ],
   "source": [
    "word_table.head()"
   ]
  },
  {
   "cell_type": "code",
   "execution_count": 20,
   "metadata": {},
   "outputs": [
    {
     "name": "stdout",
     "output_type": "stream",
     "text": [
      "15175\n"
     ]
    }
   ],
   "source": [
    "print(len(df['text'].unique()))"
   ]
  },
  {
   "cell_type": "code",
   "execution_count": 21,
   "metadata": {},
   "outputs": [
    {
     "data": {
      "text/plain": [
       "(15385, 6)"
      ]
     },
     "execution_count": 21,
     "metadata": {},
     "output_type": "execute_result"
    }
   ],
   "source": [
    "df.shape"
   ]
  },
  {
   "cell_type": "markdown",
   "metadata": {},
   "source": [
    "***Even though I scrubbed and scrubbed, there's still duplicates (same lyrics, different singers) which is probably inevitable***"
   ]
  },
  {
   "cell_type": "code",
   "execution_count": 22,
   "metadata": {},
   "outputs": [
    {
     "data": {
      "text/plain": [
       "Başın öne eğilmesin Aldırma gönül aldırma Ağladığın duyulmasın Aldırma gönül aldırma Dışarıda deli dalgalar Gelip duvarları yalar Seni bu sesler oyalar Aldırma gönül aldırma Kurşun ata ata biter Yollar gide gide biter Mapus yata yata biter Aldırma gönül aldırma Dertlerin kalkınca şaha Bir sitem yolla Allaha Görecek günler var daha Aldırma gönül aldırma                                                                                                                                                                                                                                                                                                                                                                                                                                                                                                                                                                                                                                                                                                                                                                                                                                                                                                                                                                                                                                                                                                                                                                                                                                                                                                                                                                                                                                                                                                                                           4\n",
       "Şu karşıki dağda lambalar yanar Lambanın şavkına da Fadimem Sevgilim yazar Ayletme beni söyletme beni Alçak yüksek tepede Fadimem Bekletme beni Şu karşıki dağda kuzular meler Kuzu sesi değildir Fadimem Ömürler biter Ayletme beni söyletme beni Alçak yüksek tepede Fadimem Bekletme beni                                                                                                                                                                                                                                                                                                                                                                                                                                                                                                                                                                                                                                                                                                                                                                                                                                                                                                                                                                                                                                                                                                                                                                                                                                                                                                                                                                                                                                                                                                                                                                                                                 3\n",
       "Gönlümde açmadan solan bir gülsün Her zaman gamlıyım her zaman üzgün Beklerim yolunu aylar boyunca Yeterki gel bana Senede bir gün senede bir gün Ağarsın saçların solsun yanağın Adını anmaktan yansın dudağım Bu aşka canımı adayacağım Yeter ki gel bana Senede bir gün senede bir gün                                                                                                                                                                                                                                                                                                                                                                                                                                                                                                                                                                                                                                                                                                                                                                                                                                                                                                                                                                                                                                                                                                                                                                                                                                                                                                                                                                                                                                                                                                                                                                                                                    3\n",
       "O beni bir bahar akşamı terk edip gitti Ne o geri geldi ne bu ömür bitti Nerdesin nerdesin yeşil gözlü meleğim Nerdesin nerdesin şirin sözlü bebeğim Ne olur bir bahar akşamı sen bana dönsen Yine benim olsan yine beni sevsen Gel bana dön bana yeşil gözlü meleğim Dön bana gel bana şirin sözlü bebeğim                                                                                                                                                                                                                                                                                                                                                                                                                                                                                                                                                                                                                                                                                                                                                                                                                                                                                                                                                                                                                                                                                                                                                                                                                                                                                                                                                                                                                                                                                                                                                                                                  3\n",
       "Burası agora meyhanesi Burada yaşar aşkların En divanesı en şahanesi Bu gece benim gecem Bu gece benim gecem Cama vuran her damlada Seni hatırlıyorum Ve sena susuzluğumu Bu aksam ümitlerimi Meze yapıp içiyorum İçiyor içiyorum                                                                                                                                                                                                                                                                                                                                                                                                                                                                                                                                                                                                                                                                                                                                                                                                                                                                                                                                                                                                                                                                                                                                                                                                                                                                                                                                                                                                                                                                                                                                                                                                                                                                            3\n",
       "Seyreyle güzel kudreti mevla neler eyler canan canan Allaha sığın adli teala neyler Meyla eylemezem gayrısına tövbeler olsun canan canan Şol yüzleri dost özleri düşmandan usandım Suları şikest meyleri kalp hazreti haktan canan canan Bir ane değin ettiğim isyandan utandım                                                                                                                                                                                                                                                                                                                                                                                                                                                                                                                                                                                                                                                                                                                                                                                                                                                                                                                                                                                                                                                                                                                                                                                                                                                                                                                                                                                                                                                                                                                                                                                                                              3\n",
       "Telli turnam selam gotür Sevgilimin diyarına Üzülmesin ağlamasın Belki gelirim yarına cananıma Hasret kimseye kalmasın Sevdalılar ayrılmasınayrılmasın Ben yandım eller yanmasın Sevdanın aşkın uğruna can uğruna Gönüle hasret yazıldı Sevgiye mezar kazıldı İki damla yaş süzüldü Gözlerimin pınarınapınarına Hasret kimseye kalmasın Sevdalılar ayrılmasınayrılmasın Ben yandım eller yanmasın Sevdanın aşkın uğruna can uğruna                                                                                                                                                                                                                                                                                                                                                                                                                                                                                                                                                                                                                                                                                                                                                                                                                                                                                                                                                                                                                                                                                                                                                                                                                                                                                                                                                                                                                                                                           3\n",
       "Karadır kaşların ferman yazdırır Aşkın beni diyar diyar gezdirir Lokman Hekim gelse yaram azdırır Yaramı sarmağa yar kendi gelsin Ormanların gümbürtüsü başıma vurur Nazlı yarin hayali karşımda durur Karadır kaşların benzer kömüre Yardan ayrı düşmek zarar ömüre Kollarımdan bağlasalar demire Kırarım demiri kaçarım yare Ormanların gümbürtüsü başıma vurur Nazlı yarin hayali karşımda durur Uzaklara gittim gelirim diye Tabancamı doldurdum vururum diye Hiç aklıma gelmez ölürüm diye Ölüm ver Allahım ayrılık verme Ormanların gümbürtüsü başıma vurur Nazlı yarin hayali karşımda durur                                                                                                                                                                                                                                                                                                                                                                                                                                                                                                                                                                                                                                                                                                                                                                                                                                                                                                                                                                                                                                                                                                                                                                                                                                                                                                          3\n",
       "Dane dane benleri var yüzünde yüzünde yüzünde Can alcı bakışları gözünde gözünde gözünde Binbir dat var edasında nazında nazında nazında Dünyada yardan datlı var mola var mola var mola Sallanı sallanı gelen yar mola yar mola yar mola Küpeleri yar düşer kulaktan kulaktan kulaktan Zülüfleri tel tel olmuş yanaktan yanaktan yanaktan Ağzı şeker bal akıyor dudaktan dudaktan dudaktan Dünyada yardan datlı var mola var mola var mola Sallanı sallanı gelen yar mola yar mola yar mola Ağır barhanası vardır elinde elinde elinde Datlı kelam gelir yarin dilinde dilinde dilinde Kemer olsam sevdiğimin belinde belinde belinde Dünyada yardan datlı var mola var mola var mola Sallanı sallanı gelen yar mola yar mola yar mola                                                                                                                                                                                                                                                                                                                                                                                                                                                                                                                                                                                                                                                                                                                                                                                                                                                                                                                                                                                                                                                                                                                                                                      3\n",
       "Dün gece seni düşündüm durdum Hatıralarla avundum durdum Seni yaşadım seni aradım Sen benim için vazgeçilmezsin Aşığım sana doyamıyorum Ne de güzelsin bakamıyorum Seni sevmeye kıyamıyorum Bu ne büyük aşk anlamıyorum Sel olsa yıllar kan olsa yaşlar Sensiz soframda taş olsa aşlar Unutmam seni yine severim Alın yazımsın yemin ederim Aşığım sana doyamıyorum Ne de güzelsin bakamıyorum Seni sevmeye kıyamıyorum Bu ne büyük aşk anlamıyorum                                                                                                                                                                                                                                                                                                                                                                                                                                                                                                                                                                                                                                                                                                                                                                                                                                                                                                                                                                                                                                                                                                                                                                                                                                                                                                                                                                                                                                                          2\n",
       "Sor bir kendine adaletin var mı diye Yok cevabini al hele kendi kendine Yalnızlık zordur anla bir kere Sevilen yaşatır bunu hep sevene Önce yaptıklarının hesabını beynine ver Vicdan ilk önce temiz düşünceler bekler Sen koyma kafana sevmemeyi kazanamazsın Hep karşıdan bekledikçe Aşkını gizledikçe Yalnızlık hep seninle                                                                                                                                                                                                                                                                                                                                                                                                                                                                                                                                                                                                                                                                                                                                                                                                                                                                                                                                                                                                                                                                                                                                                                                                                                                                                                                                                                                                                                                                                                                                                                               2\n",
       "Aras Aras han Aras Bingölden kalkan Aras Al başımdan sevdayı Hazarda çalkan Aras Yar beni yara beni Öldürür yara beni Aras kurbanım olam Al götür yara beni Dağlar siz ne dağlarsınız Kardan kemer bağlarsınız Gül sizde bülbül sizde Daha neye ağlarsınız                                                                                                                                                                                                                                                                                                                                                                                                                                                                                                                                                                                                                                                                                                                                                                                                                                                                                                                                                                                                                                                                                                                                                                                                                                                                                                                                                                                                                                                                                                                                                                                                                                                   2\n",
       "yapamam söz veremem sonu yok senle olamam kapalı bir kapısı acılı yaslı yüreğim alaca düştü gönlüme baharı saklı sevgimin yaralı gelme üstüne inadı haklı sevgimin acılıyım yaralıyım ah dur kanarsam bir daha yasaklı aşklara kanarsam dili kara yalanlara olmaz kendim olamam zorla var olurum yarınsız gecelere boğulurum sebebim ah dünlerim sebebim zor günlerim dualarım tanrıya düşürmesin bir daha yasak aşkın kollarına                                                                                                                                                                                                                                                                                                                                                                                                                                                                                                                                                                                                                                                                                                                                                                                                                                                                                                                                                                                                                                                                                                                                                                                                                                                                                                                                                                                                                                                                             2\n",
       "Bir sevda geldi başıma Felek su kattı aşıma Uyku girmiyor gözüme ah Unuttun beni zalim Unuttun beni zalim Gülüşün ince kıvrak şensin Bir selam vermeden geçersin Bilsen beni ne çok üzersin Seviyorum seviyorum Seviyorum seni zalim                                                                                                                                                                                                                                                                                                                                                                                                                                                                                                                                                                                                                                                                                                                                                                                                                                                                                                                                                                                                                                                                                                                                                                                                                                                                                                                                                                                                                                                                                                                                                                                                                                                                         2\n",
       "Resimlere bak Mektubumla avun Şarkılar tut Kendinden vazgeç Yastığına sarıl Korkular tut Dağılsın kalbin Öl hatta orda Lanetler yağdır Beni hatırla Her telefona sen çık Her kapıya sen koş Beni hatırla Sen bir yerlerde ben bir şehirde Akşam olunca beni hatırla                                                                                                                                                                                                                                                                                                                                                                                                                                                                                                                                                                                                                                                                                                                                                                                                                                                                                                                                                                                                                                                                                                                                                                                                                                                                                                                                                                                                                                                                                                                                                                                                                                          2\n",
       "Ey şanlı orduey şanlı asker Haydi gazanfer ummanı safter Bir elde kalkan bir elde hançer Serhadde doğru ey şanlı asker Deryada olsa herşey muzaffer Dillerde tekbir Allahü ekber Allahü ekber Allahü ekber Ordumuz olsun daim muzaffer                                                                                                                                                                                                                                                                                                                                                                                                                                                                                                                                                                                                                                                                                                                                                                                                                                                                                                                                                                                                                                                                                                                                                                                                                                                                                                                                                                                                                                                                                                                                                                                                                                                                       2\n",
       "Gece saat oniki Gönlüm delinin teki O her gece böyledir Ne istiyor bilmemki Onikiye on kala Beni biraz oyala Sen anlarsın halimden Kalbimi getir yola İster bir masal söyle İster sokul kalbime İstersen ellerimi Ellerine al söyle İstersen aşkımızdan Dolaşsın bu dudaklar Hiç sesimi çıkartmam Artık sabaha kadar                                                                                                                                                                                                                                                                                                                                                                                                                                                                                                                                                                                                                                                                                                                                                                                                                                                                                                                                                                                                                                                                                                                                                                                                                                                                                                                                                                                                                                                                                                                                                                                         2\n",
       "Geçmesin günümüz sevgilim yasla O Güzel başını göğsüme yasla Birleşebilir mi ahh aşk ihtirasla O güzel başını göğsüme yasla Ela gözlerinde menevişler var Kor gibi dudaklar ve kızıl saçlar Okşasam doyamam ah ta fecre kadar O Güzel başını Göğsüme yasla                                                                                                                                                                                                                                                                                                                                                                                                                                                                                                                                                                                                                                                                                                                                                                                                                                                                                                                                                                                                                                                                                                                                                                                                                                                                                                                                                                                                                                                                                                                                                                                                                                                   2\n",
       "Bir haber bırakmadın Beni nasıl terk ettin Ne yaptım ki sana ben Bana düşmanlık ettin Alışmışım bir kere Seni her gün görmeye Kollarımı dolayıp Arzu ile öpmeye Arzu ile öpmeye                                                                                                                                                                                                                                                                                                                                                                                                                                                                                                                                                                                                                                                                                                                                                                                                                                                                                                                                                                                                                                                                                                                                                                                                                                                                                                                                                                                                                                                                                                                                                                                                                                                                                                                              2\n",
       "Ben küskünüm feleğe Düştüm bitmez çileye Nerelere gideyim Kara bahtım gülmeye Ben küskünüm feleğe Düştüm bitmez çileye Ben ne ettim feleğe Verdi bana bu derdi Yıllardır hep ağlattın Şu gönlüm güldürmedi Ben küskünüm feleğe Düştüm bitmez çileye                                                                                                                                                                                                                                                                                                                                                                                                                                                                                                                                                                                                                                                                                                                                                                                                                                                                                                                                                                                                                                                                                                                                                                                                                                                                                                                                                                                                                                                                                                                                                                                                                                                          2\n",
       "Ağlama bebek ağlama sende Umut sende yarın sende Yağmur gibi gözlerinden akan yaş niye Bu suskunluk bu durgunluk sıkıntın niye Çok uzakta öyle bir yer var O yerlerde mutluluklar Paylaşılmaya hazır Bir hayat var Ağlama bebeğim ağlama sende Acı sende hasret sende Dalıp dalıp derinlere düşünmen niye Bu küskünlük bu dargınlık kızgınlık niye                                                                                                                                                                                                                                                                                                                                                                                                                                                                                                                                                                                                                                                                                                                                                                                                                                                                                                                                                                                                                                                                                                                                                                                                                                                                                                                                                                                                                                                                                                                                                           2\n",
       "Alıcı kuşlar gibi başımın üstünde dönüp durmayın Alıcı kuşlar gibi başımın üstünde dönüp durmayın Kol kola girip yalnızlığımı vurmayın yüzüme kar taneleri Kol kola girip yalnızlığımı vurmayın yüzüme kar taneleri Ah özledim hemde çok özledim ezberledim beklemeyi Özledim hemde çok özledim ezberledim beklemeyi Yollar benim umudumdur yoları kapatmayın Yağmayın yollarıma durun kar taneleri Yollar benim umudumdur yoları kapatmayın Yağmayın yollarıma durun kar taneleri                                                                                                                                                                                                                                                                                                                                                                                                                                                                                                                                                                                                                                                                                                                                                                                                                                                                                                                                                                                                                                                                                                                                                                                                                                                                                                                                                                                                                           2\n",
       "Duyduk duymadık demeyin Doğru söyleyin Nolur benden gizlemeyin Şimdi o kimin Yetmez miydi ona aşkım Beklemekle geçti hayatım Gece gündüz hep yalvardım Kırıldı artık sazım İçmişim dertliyim Bir bilsen ben ne haldeyim İçmişim dertliyim Ben sensizim neyleyim                                                                                                                                                                                                                                                                                                                                                                                                                                                                                                                                                                                                                                                                                                                                                                                                                                                                                                                                                                                                                                                                                                                                                                                                                                                                                                                                                                                                                                                                                                                                                                                                                                              2\n",
       "Asker yolu beklerim Gunu gune eklerim Sen git yarim askere de talime de Ben burayi beklerim Mendilimde tel oya Gulmedim doya doya Asker yolu beklerim de Gununu saya saya Pilav pisirdim yavan Üstune kestim sogan Yatagina uzandim da Uyan askerim uyan Mendilimde tel oya Gulmedim doya doya Asker yolu beklerim de Gununu saya saya                                                                                                                                                                                                                                                                                                                                                                                                                                                                                                                                                                                                                                                                                                                                                                                                                                                                                                                                                                                                                                                                                                                                                                                                                                                                                                                                                                                                                                                                                                                                                                       2\n",
       "Çekemezler sevgimizi Bilemezler kalbimizi tanrı yazmış Bir seni bir beni sen benimsin ben senin Dudağında beyaz güller yanağında siyah ben Bilemezler sevgimizi sen benimsin ben de senin Mutlu geçer günlerimiz sevgi dolu kalplerimiz Ömür boyu beraberiz sen benimsin bende senin                                                                                                                                                                                                                                                                                                                                                                                                                                                                                                                                                                                                                                                                                                                                                                                                                                                                                                                                                                                                                                                                                                                                                                                                                                                                                                                                                                                                                                                                                                                                                                                                                         2\n",
       "Eylen Yolcum Eylen Bir Su Vereyim Susuz Çöller Aşmadın mı Yaralı Hüseyin Cemali Vardır Yüzünde Beni Mahrum Etme Dost Ellerinden Şah Yollarından Bende Ayrı Düştüm Sevdiklerimden Ok Yedim Zamane Yezitlerinden Dileğim Var Kerbelanın Çölünden Beni Mahrum Etme Dost Ellerinden Şah Ellerinden Sensin Zeynel Canım Kabe Dediğim Sana Gelen Oklar Sinemi Deldi Bak Bende Susuzum O Günden Beri Beni Mahrum Etme Dost Ellerinden Şah Yollarından                                                                                                                                                                                                                                                                                                                                                                                                                                                                                                                                                                                                                                                                                                                                                                                                                                                                                                                                                                                                                                                                                                                                                                                                                                                                                                                                                                                                                                                               2\n",
       "Bahçalarda mor meni Verem ettin sen beni Nasıl verem olmayım Eller sarıyor seni Ben sana yandım gelin Yanağı allı gelin Gaziantep yolunda Öldürdün beni gelin Bahçalarda meleme Yar göğsün düğmeleme Ölürsem kanlım sensin Gözlerin sürmeleme                                                                                                                                                                                                                                                                                                                                                                                                                                                                                                                                                                                                                                                                                                                                                                                                                                                                                                                                                                                                                                                                                                                                                                                                                                                                                                                                                                                                                                                                                                                                                                                                                                                                2\n",
       "Bir köprü gibidir sırtında hayat taşır Saltanat sürerken içinde acı taşır Hayat o köprüden binbir kılıkta geçer Yollara hem sevgi hem de acıyı döker İnsanoğlu yaşamaktan elbet zevk almak ister Düşüncelerden sıyrılıp biraz mest olmak ister Şarkılarla türkülerle içindekini döker Kuralları değişse de bu oyun böyle Böyle sürer gider oyuncular değişir Bir köprü gibidir insanoğlu dünyada Sırtında kaderi gözlerinde umutla                                                                                                                                                                                                                                                                                                                                                                                                                                                                                                                                                                                                                                                                                                                                                                                                                                                                                                                                                                                                                                                                                                                                                                                                                                                                                                                                                                                                                                                                           2\n",
       "Oğul bu nasıl gelin Yüzlerinin çili belli İnce giymiş teni belli Anasının huyu belli Oğul bu nasıl gelin Yandım bu nasıl gelin E bize de öğret hadi hadi yavrum Ağaç kovuğundan biz çıkmadık Bizim de anamız babamız vardı Arka mahalleden biz gelmedik Tek yumurta pişiriyor Bana kötü düşünüyo Uyuz gibi kaşınıyo Oğul bu nasıl Yandım bu nasıl gelin                                                                                                                                                                                                                                                                                                                                                                                                                                                                                                                                                                                                                                                                                                                                                                                                                                                                                                                                                                                                                                                                                                                                                                                                                                                                                                                                                                                                                                                                                                                                                      2\n",
       "Ay doğa sini sini Sevmişem birisini Cellat boynumu vursa Söylemem doğrusunu Ay doğar ağaçlara Gölge düşer taşlara Can kurban canım kurban Alnındaki kaşlara                                                                                                                                                                                                                                                                                                                                                                                                                                                                                                                                                                                                                                                                                                                                                                                                                                                                                                                                                                                                                                                                                                                                                                                                                                                                                                                                                                                                                                                                                                                                                                                                                                                                                                                                                  2\n",
       "                                                                                                                                                                                                                                                                                                                                                                                                                                                                                                                                                                                                                                                                                                                                                                                                                                                                                                                                                                                                                                                                                                                                                                                                                                                                                                                                                                                                                                                                                                                                                                                                                                                                                                                                                                                                                                                                                                            ..\n",
       "Seni sesini gözlerinin rengini unutabilsem Şu zavallı gönlümü avutabilsem ahh avutabilsem Geçer o tatlı dertlerin unutabilsem Şu zavallı gönlümü avutabilsem ahh avutabilsem                                                                                                                                                                                                                                                                                                                                                                                                                                                                                                                                                                                                                                                                                                                                                                                                                                                                                                                                                                                                                                                                                                                                                                                                                                                                                                                                                                                                                                                                                                                                                                                                                                                                                                                                 1\n",
       "Paran da senin olsun pulun da senin kabahat seni deli gibi sevenin yolların açık olsun aydınlık olsun kendine çok iyi bak eski bebeğim Bu sevgiden yoruldum denizinde boğuldum aşkını başına çal soğudum yar soğudum Evin de senin olsun barkın da senin bilmiyorum neler var aklımda senin çok güvenme kendine kurnazlığına aklını  dakikada alırlar senin                                                                                                                                                                                                                                                                                                                                                                                                                                                                                                                                                                                                                                                                                                                                                                                                                                                                                                                                                                                                                                                                                                                                                                                                                                                                                                                                                                                                                                                                                                                                                  1\n",
       "Hiç hesapta yoktun aşk sen kimsin Kimlerdensin bilemedim adın ne senin Sende incinmişsin az benim kadar Çık gel yeniden ruhum delilensin Hoşgeldin Yüreğime sefa geldin Aşk değil başka türlü dalıverdim İlk değil son kez sen gir cennetime Ben çoktan ateşlerde yanıverdim Aşk usul usul yanaşır kalbe sızar Bilirim küskün yüreğin o sevdalar seni bozar Ya çık git ardına bakmadan ya temelli uğra Sen yaralı ben yaralı yürek ağlar Aşk usul usul yanaşır kalbe sızar Bilirim küskün yüreğin o sevdalar seni bozar Ya çık git ardına bakmadan ya temelli uğra Sen yaralı ben yaralı yürek ağlar                                                                                                                                                                                                                                                                                                                                                                                                                                                                                                                                                                                                                                                                                                                                                                                                                                                                                                                                                                                                                                                                                                                                                                                                                                                                                                         1\n",
       "Bu aralar sanki sana bir haller oldu Tavırların çok değişti Bilmediğim bir şey mi var Aklında ayrılık varsa Bir ömür sevsem de yetmez seni sevmeye Kolay mı benden kurtulmak Bilmediğim bir şey mi var Sevgimin bittiği yerde nefretim başlar Akıllı ol senin aklını alırım Benim olmazsan vallah kapına dayanırım Akıllı ol senin aklını alırım Benim olmazsan vallah dediğimi yaparım                                                                                                                                                                                                                                                                                                                                                                                                                                                                                                                                                                                                                                                                                                                                                                                                                                                                                                                                                                                                                                                                                                                                                                                                                                                                                                                                                                                                                                                                                                                      1\n",
       "Tamburam rebab oldu Ciğerim kebap oldu İstedim vermediler Bir zalim sebep oldu Aman aman aman Ben sana hayran Ördek suya dal da gel Yardan haber al da gel Eğer yarim gelmezse Tut kolundan al da gel Aman aman aman Ben sana hayran Ördek göllerde olur Şahin kollarda olur Yari gurbet gezenin Gözü yollarda olur Aman aman aman Ben sana hayran                                                                                                                                                                                                                                                                                                                                                                                                                                                                                                                                                                                                                                                                                                                                                                                                                                                                                                                                                                                                                                                                                                                                                                                                                                                                                                                                                                                                                                                                                                                                                           1\n",
       "Ben bir Yakup idim Kendi halimde Mevlamın kelamı Vardır dilimde Yusufu kaybettim Kenan elinde Ağlar yakup ağlar yusufum deyu Gitti de gelmedi vah yavrum deyu Yusufu götürdüler ölüm kastine Attılar kuyuya başı üstüne İhlas ile çıktı suyun üstüne                                                                                                                                                                                                                                                                                                                                                                                                                                                                                                                                                                                                                                                                                                                                                                                                                                                                                                                                                                                                                                                                                                                                                                                                                                                                                                                                                                                                                                                                                                                                                                                                                                                         1\n",
       "Batan bir güneş gibi ayrıldık Ne ağladık ne sözümüz bu dedik Mutluluk dilemeden ayrıldık Ne bir el ne bir mendil salladık [Nakarat] Sen bende ben ölürsem ölürsün Sen ölürsen ben zaten ölürüm Biten bir şafak gibi ayrıldık Ne elveda ne sadece sarıldık                                                                                                                                                                                                                                                                                                                                                                                                                                                                                                                                                                                                                                                                                                                                                                                                                                                                                                                                                                                                                                                                                                                                                                                                                                                                                                                                                                                                                                                                                                                                                                                                                                                    1\n",
       "Yüzünü görmek sevmek istedim Gel diye mesajlar bıraktım hiç dönmedin Güzel günlerdi değerli her anı benim için Gerek yoktu ki bu anlamsız boşluğa Bir kez olsun içine baksaydın O boşluğu başka keklerle doldurmazdın ya Herkes mi böyyle söyle Bu dünya dönmez böyle Nereye baksam sorsam Yalan dolan var sagımda solumda Kapını caldım durdum istedim aç diye Sarılmayı özledim dün gece Balkonda durdum baktım geceye yıldıza Emanet ettim seni karanlığa Bir kez olsun içine baksaydın O boşluğu başka keklerle doldurmazdın ya Herkes mi böyyle söyle Bu dünya dönmez böyle Nereye baksam sorsam Yalan dolan var sağımda solumda Gece gündüz yokluğunda Telefonumdan ayrılmaz gözlerim Belki beni ararsın diye Saat  de  te  te  de  da derken işte Geçti güzelim gün görüşemedik yine Kaçarı göçeri yok bu aşk dediğimiz iş Hep karışık hep bulaşık hep dejenere Herkes mi böyyle söyle Bu dünya dönmez böyle Nereye baksam sorsam Yalan dolan var sagımda solumda                                                                                                                                                                                                                                                                                                                                                                                                                                                                                                                                                                                                                                                                                                                                                                                                                                                                                                                                     1\n",
       "Bir kilo kestaneyi aldım elliye Kabuğunu soydurdum esmer benliye Esmer bana küsmüş aldattım diye Kestanem aman kestanem aman kestanem aman Kestaneyi kavurdum soba üstünde Kabuğunu soydurdum sofa üstünde Sen kaybettim esmerim bana küstün de Kestanem aman kestanem aman kestanem aman Kestaneyi kavurdum arabalarda Kabuğunu kuruttum arabalarda Benim sevdiceğim yok aralarında Kestanem aman kestanem aman kestanem aman                                                                                                                                                                                                                                                                                                                                                                                                                                                                                                                                                                                                                                                                                                                                                                                                                                                                                                                                                                                                                                                                                                                                                                                                                                                                                                                                                                                                                                                                               1\n",
       "Gurbeti mesken mi tuttun Gittin beni de unuttun Yoksa başka yar mı buldun Bir selam gönder bari Bayramdan bayrama Ne yazarsın ne çizersin Yollar ırak der geçersin Gel desem de gelemezsin Cemalin göster bari Bayramdan bayrama Deyin vefasız yarime Belki de çıkmam yarına Arada gel mezarıma Bir Fatiha oku bari Bayramdan bayrama                                                                                                                                                                                                                                                                                                                                                                                                                                                                                                                                                                                                                                                                                                                                                                                                                                                                                                                                                                                                                                                                                                                                                                                                                                                                                                                                                                                                                                                                                                                                                                        1\n",
       "Ak Göğsünde Nokta Nokta Ben Olam Sen Çiçek Ol Ben Petekte Bal Olam Siyah Saçlarından Ak Bir Tel Olam Tararken Kopartma Beni Sevdiğim Kumaş Olan Ellerinle Biç Beni İçki Olan Yudum Yudum İç Beni Mektup Olan Beyaz Zarftan Aç Beni Okumadan Yere Atma Sevdiğim Mendilinde Oya Olam Pul Olam Sen Kabul Et Ben Kapında Kul Olam Dosta Giden Uzun İnce Yol Olam Yorulup Terk Etme Beni Sevdiğim                                                                                                                                                                                                                                                                                                                                                                                                                                                                                                                                                                                                                                                                                                                                                                                                                                                                                                                                                                                                                                                                                                                                                                                                                                                                                                                                                                                                                                                                                                                 1\n",
       "Ne sevdalar ne vedalar ne acılar gördü şu gönlüm Ne vefalar ne yalanlar aşkı ölesiye tatdı gönül Yaralı şu kalbe hiç insaf yokmu Yılların hatırına kal desem çokmu Acı bana tanrım acı bana yar Sensiz ben ölürüm bu dünya bana dar Acı bana tanrım acı bana yar Sensiz cennet biter cehennem başlar                                                                                                                                                                                                                                                                                                                                                                                                                                                                                                                                                                                                                                                                                                                                                                                                                                                                                                                                                                                                                                                                                                                                                                                                                                                                                                                                                                                                                                                                                                                                                                                                         1\n",
       "Ben seni ben seni büyüttün barış savaş Ağırdan al biraz ne olur acelen mi var yavaş Kaç darbeye daha dayanır bu aşk bi baksaydık Ne söyleseydik olmadı bari sussaydık Sustum tamam ama içim avaz avaz Yüzümde güneş kalbimde ayaz Bir suçlu mu lazım illa ki asacak Zaten bu kalbim müebbet yatacak Faili meçhul faili meçhuldü bu aşkın Faili meçhul faili meçhuldü bu aşkın                                                                                                                                                                                                                                                                                                                                                                                                                                                                                                                                                                                                                                                                                                                                                                                                                                                                                                                                                                                                                                                                                                                                                                                                                                                                                                                                                                                                                                                                                                                                1\n",
       "Daha onaltı yaşına basmamıştı bal sultan Bakmaya kıyamazdım öyle güzeldi bal sultan Bir sabah dediler ki gelin oldu gitti gurbete bal sultan Yüreğime düştü ateş inanmak bal sultan Her damla yağmurda sen varsın bal sultan Her tüten dumanda yine sen bal sultan Aşk ateşiyle yanmayan nasıl ocak yaksın ki Çocukluk nedir bilmeyen nasıl çocuk baksın ki Duydum ki dalından kopmuş gül gibi solmuş gurbette bal Sultan Altın kafesteki bülbül gibi susmuş bal sultan Her damla yağmurda sen varsın bal sultan Her tüten dumanda yine sen bal sultan Bir akşam karanlığında çıkıp gitmiş bal sultan Gün batısında yıldızlarla buluşmuş bal sultan O gün bu gündür tatlı bir rüzgar eser gurbetten bal sultan Ve karanlık gecelerde ışıldar tüm yıldızlar Her damla yağmurda sen varsın bal sultan Her tüten dumanda yine sen bal sultan                                                                                                                                                                                                                                                                                                                                                                                                                                                                                                                                                                                                                                                                                                                                                                                                                                                                                                                                                                                                                                                                    1\n",
       "Vakti seherde Açılır perde Düştüğün yerde Derman sendedir Düşmüşüm kaldır Mihnetim oldur Ağlarım güldür Derman sendedir Benim bi çare Kaldım avare Yürek pür yare Derman sendedir                                                                                                                                                                                                                                                                                                                                                                                                                                                                                                                                                                                                                                                                                                                                                                                                                                                                                                                                                                                                                                                                                                                                                                                                                                                                                                                                                                                                                                                                                                                                                                                                                                                                                                                            1\n",
       "Derdimden anlayan yok Halin nedir diyen yok Bu böyle yaŞamak m Sanki benim canIm yok AglamadIk günüm yok Nasibim aglamak mı Bana gülmek yasak mı Bu böyle yasamak mı Sanki benim canım yok Ağlamadık günüm yok Benim Allahtan başka elimden tutanm yok                                                                                                                                                                                                                                                                                                                                                                                                                                                                                                                                                                                                                                                                                                                                                                                                                                                                                                                                                                                                                                                                                                                                                                                                                                                                                                                                                                                                                                                                                                                                                                                                                                                       1\n",
       "Git sonuna kadar Yok artık bir duyan umursayan Oysaki aşk ölene kadar Diyordun ya hani yalan dolan Eriyordum sensiz muma dönmüş kalbi Hiç görmezdin niye neden neden neden Ve uzatmak yersiz nasıl olsa Yoldan döndürmezdin niye neden neden neden Of veryansın edemem kadere Sevdim bu benim meselem Eğilsem bile devrilmem Sor dönmezsem sebebi ne diye Aydım iyiye kötüye Gel gör ki çok zor Bir süre o sancı Misafir bir yangı aman aman Sonra keder bırakır yakanı                                                                                                                                                                                                                                                                                                                                                                                                                                                                                                                                                                                                                                                                                                                                                                                                                                                                                                                                                                                                                                                                                                                                                                                                                                                                                                                                                                                                                                      1\n",
       "Elveda dost deli gönül elveda Canım of sen gel gel aman Baş yastıkta ela gözler uykuda Ben saramadım saranlara aşk olsun Aşk olsun yar aşk olsun Küçücükten bir yar sevdim Göksuda Canım of sen gel gel aman Ben gidiyorum eller sana eş olsun Ben saramadım saranlara aşk olsun Aşk olsun yar aşk olsun                                                                                                                                                                                                                                                                                                                                                                                                                                                                                                                                                                                                                                                                                                                                                                                                                                                                                                                                                                                                                                                                                                                                                                                                                                                                                                                                                                                                                                                                                                                                                                                                     1\n",
       "Seninle çok uzaklarda Issız bir adada olsak Başbaşa kalsak diyorum Sabahları balık tutup Akşama mumları yaksak Seni bir öpsem diyorum Güneş doğarken uyusak Akşam olunca uyansan Biraz yaşasak diyorum Dolaşsak aylak aylak Leylek gibi lak lak Biraz konuşsak diyorum Duymasın kalmasın şehirde                                                                                                                                                                                                                                                                                                                                                                                                                                                                                                                                                                                                                                                                                                                                                                                                                                                                                                                                                                                                                                                                                                                                                                                                                                                                                                                                                                                                                                                                                                                                                                                                             1\n",
       "Ben Ümit Davala bir hikaye anlatıcam sana Benim senin belki de hepimizin aşk hikayesi bu hele bi dinle Farkında mısın neler yaşadık eşi benzeri yok kaptırdık Ama ters giden bir şey vardı bulabilseydik böyle olmazdı Belki de hata sende veya bende Neye yarar bebeğim sonu böyleyse Soracaksan bana nedir benim hatam Bekle bi dakka hepsini anlatıcam Öncelikle şunu söyleyeyim ki Mektuplarını attım o sayfayı da kapadım Açamazsın artık eski defterleri Açsanda okunamaz mürekkebi silindi Gelelim sana asıl meseleye İçini kemiren yiyip bitiren şüpheye Hep karşıma bi sorun çıkardın sonra da onu üzerime yıktın Biliyorum bunu istemeden yaptın ama beni yeterince yıprattın Yaptıkların çok şey alıp götürdü benden Çıldırmak üzereyim söyle neden Sabahları kalkmadan geceleri yatmadan Kara kara rüyalar bıktım bu olanlardan Al beni öp beni dedin inkar mı ediyorsun Konuşsana be kızım ne susuyorsun [Nakarat] Hangimiz siyah hangimiz beyaz Sil gözyaşını gülümse biraz Sınırları yıktım sevdim seni Bir dediğini iki etmedim ki Ama sen ne yaptın çaktın kibriti Bir anda küle çevirdin ikimizi Artık istiyorum benim gibi ol asabi Dinle bak ne diyor Kayahan abi Bizimkisi bir aşk hikayesi                                                                                                                                                                                                                                                                                                                                                                                                                                                                                                                                                                                                                                                                                             1\n",
       "Çektiğim cevri cefalar oy Sevdiğim senden içeri oy İkrar İmani hak ise Sende çek benden içeri İkrar imanı güderim İkrarsız dostu niderim Gah gelirim gah giderim Bir şirin candan içeri Hatayiyim Hak Erenler Hakkı özünde görenler Bu yola ikrar verenler Can verir candan içeri                                                                                                                                                                                                                                                                                                                                                                                                                                                                                                                                                                                                                                                                                                                                                                                                                                                                                                                                                                                                                                                                                                                                                                                                                                                                                                                                                                                                                                                                                                                                                                                                                            1\n",
       "Geçti yıllar ah geç aydım Anladım ki boşa gün saydım Bakakaldım giden güne Ben hep düne ait kaldım Çocukluğum kavruk Gençliğim savruk Yetişkinliğimden hiç hayır yok Hayat kadere inat Seni sil baştan yaşayacağım Ahdım olsun Esip geçtim yağıp geçtim Kaçırdım tez zamanları Pişmanlıklar düşmanlıklar Bitmez dilimin amanları SözMüzik Sezen Aksu                                                                                                                                                                                                                                                                                                                                                                                                                                                                                                                                                                                                                                                                                                                                                                                                                                                                                                                                                                                                                                                                                                                                                                                                                                                                                                                                                                                                                                                                                                                                                         1\n",
       "Anladın mı hayat budur İnsanı böyle kalbinden vurur Bu duruma düşmezdin hani Zehir gibi çalışan aklın durur Âşık olmuşsun yazık derdin Bu hâlime hep gülerdin Fazla içme diye nasihat verdin En sonunda sen de sevdin Geceleri içiyorsun Kadehleri saymıyorsun Ben içerim diyorsun Gülme dedim komşuna Şimdi geldi başına Bak aşkından yanıyorsun                                                                                                                                                                                                                                                                                                                                                                                                                                                                                                                                                                                                                                                                                                                                                                                                                                                                                                                                                                                                                                                                                                                                                                                                                                                                                                                                                                                                                                                                                                                                                            1\n",
       "Ne çileler geldi geçti gözümden İkrah ettimtövbe ettim şaştımben Kara gözlü ceylan düştü önüme Ardı sıra sevdaiçin koştumben Bendedim ben ağladım Paralandım dalım vurdu göğsüme Yaralandım ele güneş doğdu Sabah oldu hey ben mateme Giripde karalandım  heyyy Bugün bir yanım ali bir yanım osman Hem aliye hem osmana bu canım kurban Bugün hem aliyim ben hem osmanım Sol yanıma kurşunyedim Düştü sağyanım toprak sağ yanım                                                                                                                                                                                                                                                                                                                                                                                                                                                                                                                                                                                                                                                                                                                                                                                                                                                                                                                                                                                                                                                                                                                                                                                                                                                                                                                                                                                                                                                                             1\n",
       "Drama köprüsü Hasan dardır geçilmez Soğuktur suları da Hasan bir tas içilmez Anadan geçilir Hasan yardan geçilmez At martini de bre Hasan dağlar inlesin Drama mahpusunda Hasan dostlar dinlesin Mezar taşlarını Hasan koyun mu sandın Adam öldürmeyi de Hasan oyun mu sandın Drama mapusunu Hasan evin mi sandın At martini de bre Hasan dağlar inlesin Drama mahpusunda Hasan dostlar dinlesin                                                                                                                                                                                                                                                                                                                                                                                                                                                                                                                                                                                                                                                                                                                                                                                                                                                                                                                                                                                                                                                                                                                                                                                                                                                                                                                                                                                                                                                                                                             1\n",
       "Ara beni bir şeyler yap Hadi gel bu gece Dokunma hiç tenime Gel gel göz göze sevişelim Çıldırt beni uğraş benle Bir kadın gibi Denedim bak olmuyor Ah eskisi gibi Bağlanmam İnanmam ben aşka Sevmek başka ah Sevişmek başka                                                                                                                                                                                                                                                                                                                                                                                                                                                                                                                                                                                                                                                                                                                                                                                                                                                                                                                                                                                                                                                                                                                                                                                                                                                                                                                                                                                                                                                                                                                                                                                                                                                                                  1\n",
       "Sanma ki sağlam şu yüreğim hala Herşeyi baştan alabilir İkimizin ayrılığı beni çok yordu Sen de kararsızdın ya giderken İnsanız elbet olabilir Bana biraz erken sana geç koydu Yarım kalan bir film gibi başrolünde sen Yarattığın savaşların kahramanı ben Bu yaşların bir haddi var mutlaka taşar Bende koptu herşey sen gidince Şimdi zor başlar Karşıma geçmiş aşk mı diyorsun Olmuyor herşey istediğin gibi çocuk Ben de değiştim sorsana yıllara Kalmıyor herşey bıraktığın gibi çocuk                                                                                                                                                                                                                                                                                                                                                                                                                                                                                                                                                                                                                                                                                                                                                                                                                                                                                                                                                                                                                                                                                                                                                                                                                                                                                                                                                                                                                 1\n",
       "Saçların bir balık ağı gibi yakaladı bedenimi Av ve avcı bu kadar yakın olmasaydı Yaşamazdık birbirimizi Saçların bir gözyaşı gibi ıslatıyor tenimi Eğer ben bu kadar susamış olmasaydım Belki de içmezdim seni Bir kokun var ki hiç bitmiyor Saatlerce üstümden uçup gitmiyor Günler sonra beni terk etmiyor Saçların bir sarmaşık gibi düğümlüyor ellerimi Eğer ben böyle akıllı deli olmasaydım Belki de anlamazdın beni Saçların bir ipek böceği gibi örüyor geleceğimi Eğer sonuna kadar yaşamak olmasaydı Tanımazdık birbirimizi                                                                                                                                                                                                                                                                                                                                                                                                                                                                                                                                                                                                                                                                                                                                                                                                                                                                                                                                                                                                                                                                                                                                                                                                                                                                                                                                                                       1\n",
       "Bir yiğit gurbete gitse Gör başına neler gelir Garip sılayı andıkça Yaş gözüne dolar gelir Evlerinin önü söğüt Atalardan almış öğüt Yarinden ayrılan yiğit Sılasına döner gelir Bağrıma basarım taşlar Akıttım gözümden yaşlar Yavrusun yitiren kuşlar Sılasına döner gelir Söz Müzik  Anonim                                                                                                                                                                                                                                                                                                                                                                                                                                                                                                                                                                                                                                                                                                                                                                                                                                                                                                                                                                                                                                                                                                                                                                                                                                                                                                                                                                                                                                                                                                                                                                                                                1\n",
       "Aslında Ben Bu Nişanı Bozarım Bozmasına Amma Kınalı Kuzum Bu Kına Gecesini Yıkarım Yıkmasına Amma Gel Gör Ki Yasak Sevdam Haramdır Bize Bugun Yazgıdır Biçilmiş Kefen Bize Giy Bastan Asagıya Uzulmesin Kına Yakan Parmakların Akmasın Gozpınarların Kimseye Yakışmadıgı Kadar Sür Bayramlık Kınalarını Ellerin Ve Bayramın Zehrini Serbet Bilip İç Bugun Sus Bugun Ne Olur Sus Bugun Figanın Yuregime El Sat Git Ne Olur Git Bugun Cayımın Sekerini Gozlerimin Ferini Yuregimin Nefesini Bakmaya Kıyamadıgım Gozlerin Ve Demek Caglarını Öldurup Gidiyosun Git Cicegim Ölümün Uzmesin Gozlerin Ve Git Cayımın Demi Gonlumun Diregi Umudumun Kandili Söndürde Oyle Git Derdimin Fermanı Gozlerini Gozlerimde Kör Ette Git Üzülme Körler Görmesede Sever Nazlı Cicegim Bindallından Yas Süzulmesin Kına Yakan Ellerin Yanmasın Şen Sarkılar Duyulsun Yedi Tepenin Eteklerinde İstanbulun Yuregine Dügün Kurulsun Yeterki Gül Giderken Sen Doruklardan Karlar Erisin Alayın Bası Evinizden Ankaraya Degsin Yeterki Gul Sen Cayımın Demi Aci Sigaramın Duman Gülü Yeterki Gul Sen Cagların Cagların Ölsün İşte Kumrum Sen Ucuyosun Bilmiyosun Amma Kumrulardan Biri Ucunca Yuvadan Otekilerine Haramdır Yasam Git Hadi Gule Gule Git Mahser Yerine Cevirde Git Kıyametim Olda Git Ne Olur Vurda Git Unuttugum Duvarları Yani Yuregimde Duvalarında Kazılı İsmini Yakta Cennetimi Cehnenneme Cevirde Git Git İşte Cicegim Bir An Evvel Git İçimdeki Hayvan Susmadan Git Birazdan İnsan Yanımda Aglamadan Yalvartmadan Ve Bin Kez Ayaklarına Kapanmadan Git Ne Olur Git Artık Off Offf Ölümüne Sevmiyosam Ve Ölümüne Goz Yaşı Dokmuyosam Namerdim Havalarda Dona Kaldım Yar Senden Ayrı Kaldım Soylemedim Turkumu Can Tenden Ayrı Kaldım Diyarım Surgun Olmuş Canım Küs Kalmış Bana Feryata Feryat Bana Yoldas Olmuş Dert Olmuş Dokunmasınlar Bana Cana Hasret Kaldım Konusmasınlar Daha Nazlımdan Ayrı Kaldım    1\n",
       "Name: text, Length: 15175, dtype: int64"
      ]
     },
     "execution_count": 22,
     "metadata": {},
     "output_type": "execute_result"
    }
   ],
   "source": [
    "df['text'].value_counts()"
   ]
  }
 ],
 "metadata": {
  "kernelspec": {
   "display_name": "Python [conda root]",
   "language": "python",
   "name": "conda-root-py"
  },
  "language_info": {
   "codemirror_mode": {
    "name": "ipython",
    "version": 3
   },
   "file_extension": ".py",
   "mimetype": "text/x-python",
   "name": "python",
   "nbconvert_exporter": "python",
   "pygments_lexer": "ipython3",
   "version": "3.6.4"
  }
 },
 "nbformat": 4,
 "nbformat_minor": 2
}
