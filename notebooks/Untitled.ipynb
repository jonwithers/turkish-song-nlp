{
 "cells": [
  {
   "cell_type": "code",
   "execution_count": 1,
   "metadata": {},
   "outputs": [
    {
     "name": "stdout",
     "output_type": "stream",
     "text": [
      "df loaded.\n",
      "15425 rows x 5 columns\n"
     ]
    }
   ],
   "source": [
    "import pandas as pd\n",
    "import numpy as np\n",
    "import seaborn as sns\n",
    "import matplotlib.pyplot as plt\n",
    "\n",
    "from sklearn.feature_extraction.text import CountVectorizer\n",
    "from sklearn.model_selection import train_test_split\n",
    "from sklearn.naive_bayes import GaussianNB\n",
    "from sklearn.metrics import confusion_matrix\n",
    "\n",
    "%run ../scripts/post_scraping_text_processing.py load"
   ]
  },
  {
   "cell_type": "code",
   "execution_count": 2,
   "metadata": {},
   "outputs": [],
   "source": [
    "corpus = df['text'].copy()\n",
    "\n",
    "years = pd.to_datetime(df['release']).dt.year\n",
    "y = years.map(lambda x: 1 if x <2002 else 0)"
   ]
  },
  {
   "cell_type": "code",
   "execution_count": 3,
   "metadata": {},
   "outputs": [
    {
     "data": {
      "text/plain": [
       "<matplotlib.axes._subplots.AxesSubplot at 0x11a472780>"
      ]
     },
     "execution_count": 3,
     "metadata": {},
     "output_type": "execute_result"
    },
    {
     "data": {
      "image/png": "[encoded data removed]",
      "text/plain": [
       "<matplotlib.figure.Figure at 0x1198a89e8>"
      ]
     },
     "metadata": {},
     "output_type": "display_data"
    }
   ],
   "source": [
    "cvec = CountVectorizer()\n",
    "cvec.fit(corpus)\n",
    "matrix = cvec.transform(corpus)\n",
    "X = matrix.toarray()\n",
    "X_train, X_test, y_train, y_test = train_test_split(X, y, stratify = y)\n",
    "gnb = GaussianNB()\n",
    "gnb.fit(X_train, y_train)\n",
    "sns.heatmap(confusion_matrix(y_test, gnb.predict(X_test)), fmt = 'g', annot = True)"
   ]
  },
  {
   "cell_type": "code",
   "execution_count": 4,
   "metadata": {},
   "outputs": [
    {
     "name": "stdout",
     "output_type": "stream",
     "text": [
      "Sensitivity: 0.27264957265\n",
      "Specificity: 0.805731298846\n"
     ]
    }
   ],
   "source": [
    "tn, fp, fn, tp = confusion_matrix(y_test, gnb.predict(X_test)).ravel()\n",
    "\n",
    "sens = tp/(tp + fn)\n",
    "spec = tn/(tn + fp)\n",
    "print('Sensitivity:',sens)\n",
    "print('Specificity:',spec)"
   ]
  },
  {
   "cell_type": "markdown",
   "metadata": {},
   "source": [
    "Pretty shitty performance."
   ]
  },
  {
   "cell_type": "code",
   "execution_count": 5,
   "metadata": {},
   "outputs": [],
   "source": [
    "from sklearn.linear_model import LogisticRegression"
   ]
  },
  {
   "cell_type": "code",
   "execution_count": 6,
   "metadata": {},
   "outputs": [
    {
     "data": {
      "text/plain": [
       "<matplotlib.axes._subplots.AxesSubplot at 0x11237cf60>"
      ]
     },
     "execution_count": 6,
     "metadata": {},
     "output_type": "execute_result"
    },
    {
     "data": {
      "image/png": "[encoded data removed]",
      "text/plain": [
       "<matplotlib.figure.Figure at 0x11980eda0>"
      ]
     },
     "metadata": {},
     "output_type": "display_data"
    }
   ],
   "source": [
    "lr = LogisticRegression()\n",
    "lr.fit(X_train, y_train)\n",
    "sns.heatmap(confusion_matrix(y_test, lr.predict(X_test)), fmt = 'g', annot = True)"
   ]
  },
  {
   "cell_type": "code",
   "execution_count": 7,
   "metadata": {},
   "outputs": [
    {
     "name": "stdout",
     "output_type": "stream",
     "text": [
      "Sensitivity: 0.313675213675\n",
      "Specificity: 0.781540751768\n"
     ]
    }
   ],
   "source": [
    "tn, fp, fn, tp = confusion_matrix(y_test, lr.predict(X_test)).ravel()\n",
    "\n",
    "sens = tp/(tp + fn)\n",
    "spec = tn/(tn + fp)\n",
    "print('Sensitivity:',sens)\n",
    "print('Specificity:',spec)"
   ]
  },
  {
   "cell_type": "code",
   "execution_count": 8,
   "metadata": {},
   "outputs": [],
   "source": [
    "from sklearn.metrics import roc_curve"
   ]
  },
  {
   "cell_type": "code",
   "execution_count": 39,
   "metadata": {},
   "outputs": [
    {
     "data": {
      "text/plain": [
       "97014    -1.167213\n",
       "26384    -1.092515\n",
       "53734    -1.019120\n",
       "40882    -1.018894\n",
       "56531    -1.018640\n",
       "7298     -0.998966\n",
       "74231    -0.967523\n",
       "76213    -0.953486\n",
       "46414    -0.949393\n",
       "103736   -0.937365\n",
       "dtype: float64"
      ]
     },
     "execution_count": 39,
     "metadata": {},
     "output_type": "execute_result"
    }
   ],
   "source": [
    "pd.Series(lr.coef_[0]).sort_values()[:10]"
   ]
  },
  {
   "cell_type": "code",
   "execution_count": 41,
   "metadata": {},
   "outputs": [
    {
     "name": "stdout",
     "output_type": "stream",
     "text": [
      "çalan \t\t\t -1.16721268417\n",
      "düzenleme \t\t\t -1.09251543317\n",
      "koşa \t\t\t -1.01911965673\n",
      "helal \t\t\t -1.01889369756\n",
      "kısa \t\t\t -1.01864035201\n",
      "azrail \t\t\t -0.998965730615\n",
      "sevmiyor \t\t\t -0.967523047228\n",
      "soru \t\t\t -0.953485585674\n",
      "kalbine \t\t\t -0.949392771517\n",
      "şi \t\t\t -0.937364540027\n",
      "peşindeyim \t\t\t -0.929917445345\n",
      "yorma \t\t\t -0.926565198008\n",
      "kalbimin \t\t\t -0.922026855973\n",
      "fark \t\t\t -0.905258709898\n",
      "cümle \t\t\t -0.899335952517\n",
      "başlıyor \t\t\t -0.880132494366\n",
      "susuz \t\t\t -0.880037070622\n",
      "arım \t\t\t -0.87757126887\n",
      "ellerimde \t\t\t -0.876821774056\n",
      "ulan \t\t\t -0.859578667144\n",
      "yandığım \t\t\t -0.859000685766\n",
      "ellerinde \t\t\t -0.855640585186\n",
      "sustum \t\t\t -0.849370490568\n",
      "gadınım \t\t\t -0.848486829287\n",
      "melek \t\t\t -0.845266224167\n",
      "bülbülleri \t\t\t -0.842405474256\n",
      "canın \t\t\t -0.834452648555\n",
      "kandım \t\t\t -0.833761891523\n",
      "yollardan \t\t\t -0.832412670166\n",
      "bulmak \t\t\t -0.83186108325\n",
      "ölüyorum \t\t\t -0.829708099405\n",
      "tuttum \t\t\t -0.824149928837\n",
      "bakış \t\t\t -0.823785205536\n",
      "içimi \t\t\t -0.818578131477\n",
      "karası \t\t\t -0.80974184167\n",
      "kimiz \t\t\t -0.799482578532\n",
      "tabi \t\t\t -0.792032345211\n",
      "aşktan \t\t\t -0.791105719521\n",
      "olursam \t\t\t -0.788326135606\n",
      "birbir \t\t\t -0.787050629643\n",
      "yoruldum \t\t\t -0.785955125149\n",
      "mesken \t\t\t -0.784031644784\n",
      "değiştim \t\t\t -0.780724647116\n",
      "hangimiz \t\t\t -0.778543298953\n",
      "benimki \t\t\t -0.774176032446\n",
      "sesler \t\t\t -0.773420685119\n",
      "ilacı \t\t\t -0.770322752111\n",
      "görmem \t\t\t -0.768033091876\n",
      "keşke \t\t\t -0.767197843085\n",
      "oda \t\t\t -0.765309183038\n",
      "sinemde \t\t\t -0.764389968747\n",
      "sallanır \t\t\t -0.761713154162\n",
      "kanat \t\t\t -0.757921855897\n",
      "hasretle \t\t\t -0.755480365265\n",
      "yokluğunda \t\t\t -0.752166682565\n",
      "kalk \t\t\t -0.75131445511\n",
      "stedim \t\t\t -0.748846812798\n",
      "arkamdan \t\t\t -0.744035687393\n",
      "yeminim \t\t\t -0.741205100552\n",
      "hayatın \t\t\t -0.740814833421\n",
      "rüzgara \t\t\t -0.740732072488\n",
      "dillerine \t\t\t -0.740264420355\n",
      "akşamlarda \t\t\t -0.739999260312\n",
      "birimi \t\t\t -0.731192620497\n",
      "otur \t\t\t -0.729584148158\n",
      "üzerimde \t\t\t -0.729028329775\n",
      "yüzlüm \t\t\t -0.728988340309\n",
      "pire \t\t\t -0.728568871426\n",
      "sessizce \t\t\t -0.723210886376\n",
      "bence \t\t\t -0.720985781326\n",
      "görmeye \t\t\t -0.720843104442\n",
      "bircan \t\t\t -0.719330723053\n",
      "soğuk \t\t\t -0.719031424254\n",
      "yani \t\t\t -0.715811768199\n",
      "aç \t\t\t -0.714334867316\n",
      "ağlardım \t\t\t -0.713471363659\n",
      "söylenmemiş \t\t\t -0.712324089978\n",
      "cümleler \t\t\t -0.704546925971\n",
      "sanırım \t\t\t -0.703694824474\n",
      "reva \t\t\t -0.700659414612\n",
      "anladın \t\t\t -0.700258740205\n",
      "yaralarımı \t\t\t -0.699144402622\n",
      "tutunacak \t\t\t -0.698720687041\n",
      "kapanmaz \t\t\t -0.697736050608\n",
      "arsız \t\t\t -0.696709344461\n",
      "görüyor \t\t\t -0.696436462692\n",
      "sitemim \t\t\t -0.696362009723\n",
      "kurt \t\t\t -0.696141120968\n",
      "oyy \t\t\t -0.693153148838\n",
      "arama \t\t\t -0.691458335887\n",
      "olduğum \t\t\t -0.69090498046\n",
      "batıyor \t\t\t -0.686284399432\n",
      "ölmedim \t\t\t -0.686102319073\n",
      "kaşı \t\t\t -0.686041426411\n",
      "anlamıyor \t\t\t -0.685414759526\n",
      "dolarım \t\t\t -0.684686121506\n",
      "esti \t\t\t -0.684057104351\n",
      "benimdir \t\t\t -0.683479436811\n",
      "çıkacak \t\t\t -0.68326013669\n",
      "yürek \t\t\t -0.682952672344\n"
     ]
    }
   ],
   "source": [
    "for item in pd.Series(lr.coef_[0]).sort_values()[:100].index:\n",
    "    print(cvec.get_feature_names()[item], '\\t\\t\\t', pd.Series(lr.coef_[0]).sort_values()[item])"
   ]
  },
  {
   "cell_type": "code",
   "execution_count": null,
   "metadata": {},
   "outputs": [],
   "source": []
  }
 ],
 "metadata": {
  "kernelspec": {
   "display_name": "Python [conda root]",
   "language": "python",
   "name": "conda-root-py"
  },
  "language_info": {
   "codemirror_mode": {
    "name": "ipython",
    "version": 3
   },
   "file_extension": ".py",
   "mimetype": "text/x-python",
   "name": "python",
   "nbconvert_exporter": "python",
   "pygments_lexer": "ipython3",
   "version": "3.6.4"
  }
 },
 "nbformat": 4,
 "nbformat_minor": 2
}
