{
 "cells": [
  {
   "cell_type": "code",
   "execution_count": 32,
   "metadata": {},
   "outputs": [],
   "source": [
    "import pandas as pd\n",
    "import numpy as np\n",
    "import seaborn as sns\n",
    "import matplotlib.pyplot as plt\n",
    "\n",
    "from sklearn.feature_extraction.text import CountVectorizer, TfidfVectorizer\n",
    "from sklearn.model_selection import train_test_split\n",
    "from sklearn.naive_bayes import GaussianNB\n",
    "from sklearn.metrics import confusion_matrix\n",
    "\n",
    "from sklearn.preprocessing import OneHotEncoder, StandardScaler, LabelEncoder\n",
    "from sklearn.pipeline import Pipeline, FeatureUnion\n",
    "\n",
    "from sklearn.linear_model import LogisticRegression\n",
    "from sklearn.metrics import f1_score\n",
    "from sklearn.metrics import roc_curve\n",
    "\n",
    "from sklearn.metrics import confusion_matrix\n",
    "from sklearn.svm import SVC"
   ]
  },
  {
   "cell_type": "code",
   "execution_count": null,
   "metadata": {},
   "outputs": [],
   "source": [
    "train = pd.read_csv('../assets/train.csv', index_col=0)\n",
    "test = pd.read_csv('../assets/test.csv', index_col=0)\n",
    "\n",
    "X_train = train[['artist', 'album', 'text', 'name']]\n",
    "y_train = train['written_precoup']\n",
    "\n",
    "X_test = test[['artist', 'album', 'text', 'name']]\n",
    "y_test = test['written_precoup']\n",
    "\n",
    "X_train.columns"
   ]
  },
  {
   "cell_type": "code",
   "execution_count": null,
   "metadata": {},
   "outputs": [],
   "source": [
    "X_train = pd.get_dummies(X_train, columns=['artist', 'album'])\n",
    "X_test = pd.get_dummies(X_test, columns=['artist', 'album'])"
   ]
  },
  {
   "cell_type": "code",
   "execution_count": null,
   "metadata": {},
   "outputs": [],
   "source": [
    "cvec = CountVectorizer()"
   ]
  },
  {
   "cell_type": "code",
   "execution_count": null,
   "metadata": {},
   "outputs": [],
   "source": [
    "counts = cvec.fit_transform(X_train['text'] + \" \" + X_train['name'] )"
   ]
  },
  {
   "cell_type": "code",
   "execution_count": null,
   "metadata": {},
   "outputs": [],
   "source": [
    "X_train = X_train[[i for i in X_train.columns if (i != 'text') and (i != 'name')]]"
   ]
  },
  {
   "cell_type": "code",
   "execution_count": null,
   "metadata": {},
   "outputs": [],
   "source": [
    "X_train.select_dtypes(exclude=['O']).values.shape"
   ]
  },
  {
   "cell_type": "code",
   "execution_count": null,
   "metadata": {},
   "outputs": [],
   "source": [
    "counts.shape"
   ]
  },
  {
   "cell_type": "code",
   "execution_count": null,
   "metadata": {},
   "outputs": [],
   "source": [
    "a = X_train.select_dtypes(exclude=['O']).values\n",
    "b = counts"
   ]
  },
  {
   "cell_type": "code",
   "execution_count": null,
   "metadata": {},
   "outputs": [],
   "source": [
    "a.shape, b.shape"
   ]
  },
  {
   "cell_type": "code",
   "execution_count": null,
   "metadata": {},
   "outputs": [],
   "source": [
    "X_train = np.concatenate((a, b.toarray()), axis = 1)"
   ]
  },
  {
   "cell_type": "code",
   "execution_count": null,
   "metadata": {},
   "outputs": [],
   "source": [
    "X_train.shape"
   ]
  },
  {
   "cell_type": "code",
   "execution_count": null,
   "metadata": {},
   "outputs": [],
   "source": [
    "lr = LogisticRegression()"
   ]
  },
  {
   "cell_type": "code",
   "execution_count": null,
   "metadata": {},
   "outputs": [],
   "source": [
    "lr.fit(X_train, y_train)"
   ]
  },
  {
   "cell_type": "code",
   "execution_count": null,
   "metadata": {},
   "outputs": [],
   "source": [
    "lr.score(X_train, y_train)"
   ]
  },
  {
   "cell_type": "code",
   "execution_count": null,
   "metadata": {},
   "outputs": [],
   "source": [
    "# gnb = GaussianNB()\n",
    "# gnb.fit(X_train, y_train)\n",
    "# sns.heatmap(confusion_matrix(y_test, gnb.predict(X_test)), fmt = 'g', annot = True)\n",
    "\n",
    "# tn, fp, fn, tp = confusion_matrix(y_test, gnb.predict(X_test)).ravel()\n",
    "\n",
    "# sens = tp/(tp + fn)\n",
    "# spec = tn/(tn + fp)\n",
    "# print('Sensitivity:',sens)\n",
    "# print('Specificity:',spec)\n",
    "\n",
    "# Pretty shitty performance.\n",
    "\n",
    "# lr = LogisticRegression()\n",
    "# lr.fit(X_train, y_train)\n",
    "# sns.heatmap(confusion_matrix(y_test, lr.predict(X_test)), fmt = 'g', annot = True)\n",
    "\n",
    "# tn, fp, fn, tp = confusion_matrix(y_test, lr.predict(X_test)).ravel()\n",
    "\n",
    "# sens = tp/(tp + fn)\n",
    "# spec = tn/(tn + fp)\n",
    "# print('Sensitivity:',sens)\n",
    "# print('Specificity:',spec)\n",
    "\n",
    "# np.mean(y)\n",
    "\n",
    "# f1_score(y_test, lr.predict(X_test))\n",
    "\n",
    "# for item in pd.Series(lr.coef_[0]).sort_values()[:100].index:\n",
    "#     print((cvec.get_feature_names()[item] + ':').ljust(15), round(pd.Series(lr.coef_[0]).sort_values()[item], 5))\n",
    "\n",
    "# tfidf = TfidfVectorizer(stop_words=STOP_WORDS)\n",
    "# tfidf.fit(corpus)\n",
    "# matrix = tfidf.transform(corpus)\n",
    "# X = matrix.toarray()\n",
    "# X_train, X_test, y_train, y_test = train_test_split(X, y, stratify = y)\n",
    "\n",
    "# lr = LogisticRegression()\n",
    "# lr.fit(X_train, y_train)\n",
    "# sns.heatmap(confusion_matrix(y_test, lr.predict(X_test)), fmt = 'g', annot = True)\n",
    "\n",
    "# tn, fp, fn, tp = confusion_matrix(y_test, lr.predict(X_test)).ravel()\n",
    "\n",
    "# sens = tp/(tp + fn)\n",
    "# spec = tn/(tn + fp)\n",
    "# print('Sensitivity:',sens)\n",
    "# print('Specificity:',spec)\n",
    "\n",
    "# f1_score(y_test, lr.predict(X_test))\n",
    "\n",
    "# for item in pd.Series(lr.coef_[0]).sort_values(ascending = False)[:100].index:\n",
    "#     print((tfidf.get_feature_names()[item] + ':').ljust(15), round(pd.Series(lr.coef_[0])[item], 5))"
   ]
  },
  {
   "cell_type": "markdown",
   "metadata": {},
   "source": [
    "## Let's try again"
   ]
  },
  {
   "cell_type": "code",
   "execution_count": null,
   "metadata": {},
   "outputs": [],
   "source": [
    "train = pd.read_csv('../assets/train.csv', index_col=0)\n",
    "test = pd.read_csv('../assets/test.csv', index_col=0)\n",
    "\n",
    "X_train = train[['artist', 'album', 'text', 'name']]\n",
    "y_train = train['written_precoup']\n",
    "\n",
    "X_test = test[['artist', 'album', 'text', 'name']]\n",
    "y_test = test['written_precoup']\n",
    "\n",
    "\n",
    "train_ind = X_train.index\n",
    "test_ind = X_test.index\n",
    "\n",
    "X_total = pd.concat([X_train, X_test], axis = 0, sort = True)\n",
    "X_total = pd.get_dummies(X_total, columns=['artist', 'album'])\n",
    "X_train = X_total.loc[train_ind, :]\n",
    "X_test = X_total.loc[test_ind, :]\n",
    "\n",
    "# cvec = CountVectorizer()\n",
    "# cvec.fit(X_train['text'])\n",
    "\n",
    "# transformed_train = pd.DataFrame(cvec.transform(X_train['text']).todense(), columns=cvec.get_feature_names())\n",
    "# transformed_test = pd.DataFrame(cvec.transform(X_test['text']).todense(), columns=cvec.get_feature_names())\n",
    "\n",
    "# X_train = pd.concat([transformed_train, X_train], axis = 1)\n",
    "# X_test = pd.concat([transformed_test, X_test], axis = 1)\n",
    "# X_train.to_csv('X_train.csv')\n",
    "# X_test.to_csv('X_test.csv')"
   ]
  },
  {
   "cell_type": "code",
   "execution_count": null,
   "metadata": {},
   "outputs": [],
   "source": [
    "X_train = X_train[[i for i in X_train.columns if (i != 'text') & (i != 'name')]]"
   ]
  },
  {
   "cell_type": "code",
   "execution_count": null,
   "metadata": {},
   "outputs": [],
   "source": [
    "X_test = X_test[[i for i in X_test.columns if (i != 'text') & (i != 'name')]]"
   ]
  },
  {
   "cell_type": "code",
   "execution_count": null,
   "metadata": {},
   "outputs": [],
   "source": [
    "lr = LogisticRegression()"
   ]
  },
  {
   "cell_type": "code",
   "execution_count": null,
   "metadata": {},
   "outputs": [],
   "source": [
    "lr.fit(X_train, y_train)"
   ]
  },
  {
   "cell_type": "code",
   "execution_count": null,
   "metadata": {},
   "outputs": [],
   "source": [
    "y_test.sum()/len(y_test)"
   ]
  },
  {
   "cell_type": "code",
   "execution_count": null,
   "metadata": {},
   "outputs": [],
   "source": [
    "lr.score(X_test, y_test)"
   ]
  },
  {
   "cell_type": "code",
   "execution_count": null,
   "metadata": {},
   "outputs": [],
   "source": [
    "pd.DataFrame({\n",
    "    'param':X_train.columns,\n",
    "    'coef':lr.coef_[0]\n",
    "}).sort_values(by = 'coef', ascending = False)"
   ]
  },
  {
   "cell_type": "code",
   "execution_count": null,
   "metadata": {},
   "outputs": [],
   "source": [
    "sns.heatmap(confusion_matrix(y_test, lr.predict(X_test)), fmt = 'g', annot = True)"
   ]
  },
  {
   "cell_type": "code",
   "execution_count": 2,
   "metadata": {},
   "outputs": [],
   "source": [
    "train = pd.read_csv('../assets/train.csv', index_col=0)\n",
    "test = pd.read_csv('../assets/test.csv', index_col=0)\n",
    "\n",
    "corpus_train = train['name']\n",
    "y_train = train['written_precoup']\n",
    "\n",
    "corpus_test = test['name']\n",
    "y_test = test['written_precoup']\n",
    "\n",
    "\n",
    "\n",
    "\n",
    "# X_total = pd.concat([X_train, X_test], axis = 0, sort = True)\n",
    "# X_total = pd.get_dummies(X_total, columns=['artist', 'album'])\n",
    "# X_train = X_total.loc[train_ind, :]\n",
    "# X_test = X_total.loc[test_ind, :]\n",
    "\n",
    "cvec = CountVectorizer(min_df = 3, max_features=5000)\n",
    "cvec.fit(corpus_train)\n",
    "\n",
    "transformed_train = pd.DataFrame(cvec.transform(corpus_train).todense(), columns=cvec.get_feature_names())\n",
    "transformed_test = pd.DataFrame(cvec.transform(corpus_test).todense(), columns=cvec.get_feature_names())\n",
    "\n",
    "# X_train = pd.concat([transformed_train, X_train], axis = 1)\n",
    "# X_test = pd.concat([transformed_test, X_test], axis = 1)\n",
    "# X_train.to_csv('X_train.csv')\n",
    "# X_test.to_csv('X_test.csv')"
   ]
  },
  {
   "cell_type": "code",
   "execution_count": null,
   "metadata": {},
   "outputs": [],
   "source": [
    "lr = LogisticRegression()\n",
    "lr.fit(transformed_train, y_train)"
   ]
  },
  {
   "cell_type": "code",
   "execution_count": null,
   "metadata": {},
   "outputs": [],
   "source": [
    "sns.heatmap(confusion_matrix(y_test, lr.predict(transformed_test)), fmt = 'g', annot = True)"
   ]
  },
  {
   "cell_type": "code",
   "execution_count": null,
   "metadata": {},
   "outputs": [],
   "source": [
    "f1_score(y_test, lr.predict(transformed_test))"
   ]
  },
  {
   "cell_type": "code",
   "execution_count": null,
   "metadata": {},
   "outputs": [],
   "source": [
    "tn, fp, fn, tp = confusion_matrix(y_test, lr.predict(transformed_test)).ravel() \n",
    "\n",
    "sensitivity = tp/(tp+fn)\n",
    "specificity = tn/(tn+fp)\n",
    "\n",
    "print(\"sens:\", sensitivity)\n",
    "\n",
    "print(\"spec:\",specificity)"
   ]
  },
  {
   "cell_type": "code",
   "execution_count": 4,
   "metadata": {},
   "outputs": [],
   "source": [
    "supvec = SVC(random_state=42, C=100000, probability=True)"
   ]
  },
  {
   "cell_type": "code",
   "execution_count": 5,
   "metadata": {},
   "outputs": [
    {
     "data": {
      "text/plain": [
       "SVC(C=100000, cache_size=200, class_weight=None, coef0=0.0,\n",
       "  decision_function_shape='ovr', degree=3, gamma='auto', kernel='rbf',\n",
       "  max_iter=-1, probability=True, random_state=42, shrinking=True,\n",
       "  tol=0.001, verbose=False)"
      ]
     },
     "execution_count": 5,
     "metadata": {},
     "output_type": "execute_result"
    }
   ],
   "source": [
    "supvec.fit(transformed_train, y_train)"
   ]
  },
  {
   "cell_type": "code",
   "execution_count": 6,
   "metadata": {},
   "outputs": [],
   "source": [
    "y_pred = supvec.predict(transformed_test)"
   ]
  },
  {
   "cell_type": "code",
   "execution_count": 7,
   "metadata": {},
   "outputs": [
    {
     "name": "stdout",
     "output_type": "stream",
     "text": [
      "sens: 0.235042735043\n",
      "spec: 0.814291030889\n"
     ]
    }
   ],
   "source": [
    "tn, fp, fn, tp = confusion_matrix(y_test, y_pred).ravel() \n",
    "\n",
    "sensitivity = tp/(tp+fn)\n",
    "specificity = tn/(tn+fp)\n",
    "\n",
    "print(\"sens:\", sensitivity)\n",
    "print(\"spec:\",specificity)"
   ]
  },
  {
   "cell_type": "code",
   "execution_count": null,
   "metadata": {},
   "outputs": [],
   "source": []
  },
  {
   "cell_type": "code",
   "execution_count": null,
   "metadata": {},
   "outputs": [],
   "source": []
  },
  {
   "cell_type": "code",
   "execution_count": 85,
   "metadata": {},
   "outputs": [
    {
     "name": "stdout",
     "output_type": "stream",
     "text": [
      "df loaded.\n",
      "15425 rows x 5 columns\n"
     ]
    }
   ],
   "source": [
    "from sklearn.naive_bayes import MultinomialNB\n",
    "%run ../scripts/post_scraping_text_processing.py run"
   ]
  },
  {
   "cell_type": "code",
   "execution_count": 98,
   "metadata": {},
   "outputs": [],
   "source": [
    "train = pd.read_csv('../assets/train.csv', index_col=0)\n",
    "test = pd.read_csv('../assets/test.csv', index_col=0)\n",
    "\n",
    "corpus_train = train['name']\n",
    "y_train = train['written_precoup']\n",
    "\n",
    "corpus_test = test['name']\n",
    "y_test = test['written_precoup']\n",
    "\n",
    "\n",
    "\n",
    "\n",
    "# X_total = pd.concat([X_train, X_test], axis = 0, sort = True)\n",
    "# X_total = pd.get_dummies(X_total, columns=['artist', 'album'])\n",
    "# X_train = X_total.loc[train_ind, :]\n",
    "# X_test = X_total.loc[test_ind, :]\n",
    "\n",
    "cvec = CountVectorizer(min_df = 3, max_features=10000, ngram_range=(1,2), stop_words=STOP_WORDS)\n",
    "cvec.fit(corpus_train)\n",
    "\n",
    "transformed_train = pd.DataFrame(cvec.transform(corpus_train).todense(), columns=cvec.get_feature_names())\n",
    "transformed_test = pd.DataFrame(cvec.transform(corpus_test).todense(), columns=cvec.get_feature_names())\n",
    "\n",
    "# X_train = pd.concat([transformed_train, X_train], axis = 1)\n",
    "# X_test = pd.concat([transformed_test, X_test], axis = 1)\n",
    "# X_train.to_csv('X_train.csv')\n",
    "# X_test.to_csv('X_test.csv')"
   ]
  },
  {
   "cell_type": "code",
   "execution_count": 104,
   "metadata": {},
   "outputs": [],
   "source": [
    "mnb = MultinomialNB()"
   ]
  },
  {
   "cell_type": "code",
   "execution_count": 105,
   "metadata": {},
   "outputs": [
    {
     "data": {
      "text/plain": [
       "MultinomialNB(alpha=1.0, class_prior=None, fit_prior=True)"
      ]
     },
     "execution_count": 105,
     "metadata": {},
     "output_type": "execute_result"
    }
   ],
   "source": [
    "mnb.fit(transformed_train, y_train)"
   ]
  },
  {
   "cell_type": "code",
   "execution_count": 106,
   "metadata": {},
   "outputs": [],
   "source": [
    "y_pred = mnb.predict(transformed_test)"
   ]
  },
  {
   "cell_type": "code",
   "execution_count": 109,
   "metadata": {},
   "outputs": [
    {
     "name": "stdout",
     "output_type": "stream",
     "text": [
      "sens: 0.103418803419\n",
      "spec: 0.937476739859\n"
     ]
    }
   ],
   "source": [
    "tn, fp, fn, tp = confusion_matrix(y_test, y_pred).ravel() \n",
    "sensitivity = tp/(tp+fn)\n",
    "specificity = tn/(tn+fp)\n",
    "\n",
    "print(\"sens:\", sensitivity)\n",
    "print(\"spec:\",specificity)"
   ]
  },
  {
   "cell_type": "code",
   "execution_count": 108,
   "metadata": {},
   "outputs": [
    {
     "data": {
      "text/plain": [
       "<matplotlib.axes._subplots.AxesSubplot at 0x1a0cdaf1d0>"
      ]
     },
     "execution_count": 108,
     "metadata": {},
     "output_type": "execute_result"
    },
    {
     "data": {
      "image/png": "[encoded data removed]",
      "text/plain": [
       "<matplotlib.figure.Figure at 0x103744f28>"
      ]
     },
     "metadata": {},
     "output_type": "display_data"
    }
   ],
   "source": [
    "sns.heatmap(confusion_matrix(y_test, y_pred), fmt = 'g', annot = True)"
   ]
  },
  {
   "cell_type": "code",
   "execution_count": null,
   "metadata": {},
   "outputs": [],
   "source": []
  }
 ],
 "metadata": {
  "kernelspec": {
   "display_name": "Python [conda root]",
   "language": "python",
   "name": "conda-root-py"
  },
  "language_info": {
   "codemirror_mode": {
    "name": "ipython",
    "version": 3
   },
   "file_extension": ".py",
   "mimetype": "text/x-python",
   "name": "python",
   "nbconvert_exporter": "python",
   "pygments_lexer": "ipython3",
   "version": "3.6.4"
  }
 },
 "nbformat": 4,
 "nbformat_minor": 2
}
