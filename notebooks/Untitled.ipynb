{
 "cells": [
  {
   "cell_type": "code",
   "execution_count": 12,
   "metadata": {},
   "outputs": [],
   "source": [
    "import pandas as pd\n",
    "import numpy as np\n",
    "import seaborn as sns\n",
    "import matplotlib.pyplot as plt\n",
    "\n",
    "from sklearn.feature_extraction.text import CountVectorizer, TfidfVectorizer\n",
    "from sklearn.model_selection import train_test_split\n",
    "from sklearn.naive_bayes import GaussianNB\n",
    "from sklearn.metrics import confusion_matrix\n",
    "\n",
    "from sklearn.preprocessing import OneHotEncoder, StandardScaler, LabelEncoder\n",
    "from sklearn.pipeline import Pipeline, FeatureUnion\n",
    "\n",
    "from sklearn.linear_model import LogisticRegression\n",
    "from sklearn.metrics import f1_score\n",
    "from sklearn.metrics import roc_curve\n",
    "\n",
    "from sklearn.metrics import confusion_matrix\n",
    "from sklearn.svm import SVC"
   ]
  },
  {
   "cell_type": "code",
   "execution_count": 18,
   "metadata": {},
   "outputs": [
    {
     "name": "stdout",
     "output_type": "stream",
     "text": [
      "df loaded.\n",
      "15425 rows x 5 columns\n"
     ]
    }
   ],
   "source": [
    "%run ../scripts/post_scraping_text_processing.py run"
   ]
  },
  {
   "cell_type": "code",
   "execution_count": 19,
   "metadata": {},
   "outputs": [
    {
     "data": {
      "text/plain": [
       "'Red Ankaradaaayız  Trenle İzmir ordan İstanbul her kafadayız Antalya konserinden çıktık havadayız Elde bira  lira güme gitti paradayız hala Tam aradayız Birazcık gangstayız birazcık paradayız Kitlendik hostese sanırım abazayız Bir gün para sayıp tamamlıcaz haritayı Anıl Piyancı Kanıma karıştığı gün hiphop ben baştan aşşağa değiştim Herbi bok vuruyodum  Sonra İşler büyüdü ve başka tasalar Senin topuklarına sıkarım başla halaya Diyen tipler ve şarkılarım Kır akımları Türedikçe güldük biz kafaları ayılmadı Bir türlü tanımadım yıllardın ayıkanı Bir gündür değil yıllardır ayıkanım Pislik defol Seni de dizdikbeton oldun altımıza Rap için izninde yok Şimdi izmirde çok yaşadı bizimle şok Artık yapıyolar diss atarak ismimle şov Cevap vermedikçe kudurur alamaz prim Başımı ağrıtır ve banada getir aspirin İsmimim geçtiği dissi dinler  kişi Ama balerinin hiti geçti  BİNİ  Keişan Sigara elimde Red destekli kafein Uzay bu yolun sonuyeşil oda henüz NASA değil Tavan olduğu günden beri asabiyim Kızmadığım günler dışında diğer günler kafam iyi Tütünün biziz geri  kişi maarb ucunuz Klavye rhymemım seviyosa beni mouse ucunuz İndigo birasıyla mutlu Kamuf olmasanda kanka Big-Oda ekli zaten bugün yine bağ-kurulur Tükürüğümün boyu monitör kadar Bizimle rap yapma git evde ye bonibon felan Sekizle takılmak zahmetli biraz zor iş olsada Anıl ve Red Ais Grogi Ceyhan Tony Montana Kamuf Kanka olsaydın Kafa sokak orgazmı Kabuk kanar kol kaldı Sapık sanan osmansın Patikada krom kaplı Bahis açan hortlaksın Manitana çok battı hoşlandım Red Ankaradaaayız  Trenle İzmir ordan İstanbul her kafadayız Antalya konserinden çıktık havadayız Elde bira  lira güme gitti paradayız hala Tam aradayız Birazcık gangstayız birazcık paradayız Kitlendik hostese sanırım abazayız Bir gün para sayıp tamamlıcaz haritayı Dolaptaki ketçaplar Kan yaratacak hiphopcıyı pek takmam Şimdi reklamlar Yere serelecek Türkçe Rapı sevemeyip kanka adam tek rounda Amele modeline bürün yürü rapi tanıt otobüste Çevrende kadın varsa tek amacın onu sikmek Bir kaç apaçi kanka koal yapıp hit olursa destek olcan ona kafeinle Elinde son parayla alcan uykusuz Herkes okuyo bende bakim derken kalcan uykusuz Rape benzeyen bir şarkı açıcan fazla duygulu Orda çekmez gelip takiyim uydunu Hasta olup koyucan burune bez Senin iyi dediğini yapabilir bir domates Müzik deli işi Müzik benim işim Müzik ruhun gıdasıysa olum benim ruhum obez Ais Ezhel Miclan savaşa giren Ais varsa kaçar Çünkü rhymemım en az ray kadar bu Haydarpaşadan Bizde payplar havada ve de high-live yaşanan Dönüştü burada dar kulağına kaymak sanata Hergün icra ederken bebeler rapi minimal şekillerde Sonumuz gelmez sen tutup sekizi yan çevirsende dan ege ve marmaraya geç Diyarbakır takıl ve suppa ankaraya geç  Bi güzelce bas Dikkat ette yakalamasın kaz kafa Babinin ordularını es gibi yak Ya da köle ol Domuzlara küle boğ Bence hızımı aldım sanma Kırılır amcık ağızlar Biz duyulduk senin sesin kısılır azcık ağırdan Yer altının dibindeyim sıvılır artık lavlar ki yaşadığım şehir sıfırın altı lan mal Red Ankaradaaayız  Trenle İzmir ordan İstanbul her kafadayız Antalya konserinden çıktık havadayız Elde bira  lira güme gitti paradayız hala Tam aradayız Birazcık gangstayız birazcık paradayız Kitlendik hostese sanırım abazayız Bir gün para sayıp tamamlıcaz haritayı'"
      ]
     },
     "execution_count": 19,
     "metadata": {},
     "output_type": "execute_result"
    }
   ],
   "source": [
    "df['text'][1593]"
   ]
  },
  {
   "cell_type": "code",
   "execution_count": 20,
   "metadata": {},
   "outputs": [],
   "source": [
    "df.to_csv(\"../assets/lyrics/final_processed.csv\")"
   ]
  },
  {
   "cell_type": "code",
   "execution_count": 21,
   "metadata": {},
   "outputs": [
    {
     "data": {
      "text/html": [
       "<div>\n",
       "<style scoped>\n",
       "    .dataframe tbody tr th:only-of-type {\n",
       "        vertical-align: middle;\n",
       "    }\n",
       "\n",
       "    .dataframe tbody tr th {\n",
       "        vertical-align: top;\n",
       "    }\n",
       "\n",
       "    .dataframe thead th {\n",
       "        text-align: right;\n",
       "    }\n",
       "</style>\n",
       "<table border=\"1\" class=\"dataframe\">\n",
       "  <thead>\n",
       "    <tr style=\"text-align: right;\">\n",
       "      <th></th>\n",
       "      <th>artist</th>\n",
       "      <th>album</th>\n",
       "      <th>text</th>\n",
       "      <th>release</th>\n",
       "      <th>name</th>\n",
       "    </tr>\n",
       "  </thead>\n",
       "  <tbody>\n",
       "    <tr>\n",
       "      <th>285</th>\n",
       "      <td>Abdal</td>\n",
       "      <td>Ervah-I Ezelde</td>\n",
       "      <td>Altın yüzüğüm kırıldı hey Suya düştü su duruld...</td>\n",
       "      <td>2013-03-16</td>\n",
       "      <td>Altın Yüzüğüm Kırıldı</td>\n",
       "    </tr>\n",
       "    <tr>\n",
       "      <th>286</th>\n",
       "      <td>Abdal</td>\n",
       "      <td>Ervah-I Ezelde</td>\n",
       "      <td>Bir bağ bozumuydu gidişin Plajlar boşalmıştı B...</td>\n",
       "      <td>2011-12-02</td>\n",
       "      <td>Bağbozumu</td>\n",
       "    </tr>\n",
       "    <tr>\n",
       "      <th>289</th>\n",
       "      <td>Abdal</td>\n",
       "      <td>Ervah-I Ezelde</td>\n",
       "      <td>Bir of çeksem karşı ki dağlar yıkılır Bugün po...</td>\n",
       "      <td>2011-12-02</td>\n",
       "      <td>Bir Of Çeksem Karşıki Dağlar Yıkılır</td>\n",
       "    </tr>\n",
       "    <tr>\n",
       "      <th>292</th>\n",
       "      <td>Abdal</td>\n",
       "      <td>Ervah-I Ezelde</td>\n",
       "      <td>Eğin dedikleri anam bir küçük şehir nidem Nine...</td>\n",
       "      <td>2011-12-02</td>\n",
       "      <td>Eğin Dedikleri Bir Küçük Şehir</td>\n",
       "    </tr>\n",
       "    <tr>\n",
       "      <th>296</th>\n",
       "      <td>Abdullah Akbulak</td>\n",
       "      <td>Zakirin Gözyaşı</td>\n",
       "      <td>Subhanım Allah sultanım Allah Mağrifet eden ra...</td>\n",
       "      <td>2003-11-07</td>\n",
       "      <td>Acizim</td>\n",
       "    </tr>\n",
       "  </tbody>\n",
       "</table>\n",
       "</div>"
      ],
      "text/plain": [
       "               artist            album  \\\n",
       "285             Abdal   Ervah-I Ezelde   \n",
       "286             Abdal   Ervah-I Ezelde   \n",
       "289             Abdal   Ervah-I Ezelde   \n",
       "292             Abdal   Ervah-I Ezelde   \n",
       "296  Abdullah Akbulak  Zakirin Gözyaşı   \n",
       "\n",
       "                                                  text     release  \\\n",
       "285  Altın yüzüğüm kırıldı hey Suya düştü su duruld...  2013-03-16   \n",
       "286  Bir bağ bozumuydu gidişin Plajlar boşalmıştı B...  2011-12-02   \n",
       "289  Bir of çeksem karşı ki dağlar yıkılır Bugün po...  2011-12-02   \n",
       "292  Eğin dedikleri anam bir küçük şehir nidem Nine...  2011-12-02   \n",
       "296  Subhanım Allah sultanım Allah Mağrifet eden ra...  2003-11-07   \n",
       "\n",
       "                                     name  \n",
       "285                 Altın Yüzüğüm Kırıldı  \n",
       "286                             Bağbozumu  \n",
       "289  Bir Of Çeksem Karşıki Dağlar Yıkılır  \n",
       "292        Eğin Dedikleri Bir Küçük Şehir  \n",
       "296                                Acizim  "
      ]
     },
     "execution_count": 21,
     "metadata": {},
     "output_type": "execute_result"
    }
   ],
   "source": [
    "df.head()"
   ]
  },
  {
   "cell_type": "code",
   "execution_count": 22,
   "metadata": {},
   "outputs": [],
   "source": [
    "train = pd.read_csv('../assets/train.csv', index_col=0)"
   ]
  },
  {
   "cell_type": "code",
   "execution_count": 27,
   "metadata": {},
   "outputs": [],
   "source": [
    "corpus = train['text'].copy()"
   ]
  },
  {
   "cell_type": "code",
   "execution_count": 33,
   "metadata": {},
   "outputs": [],
   "source": [
    "corpus = corpus.str.lower()"
   ]
  },
  {
   "cell_type": "code",
   "execution_count": 34,
   "metadata": {},
   "outputs": [],
   "source": [
    "tfidf = TfidfVectorizer()"
   ]
  },
  {
   "cell_type": "code",
   "execution_count": 35,
   "metadata": {},
   "outputs": [
    {
     "data": {
      "text/plain": [
       "TfidfVectorizer(analyzer='word', binary=False, decode_error='strict',\n",
       "        dtype=<class 'numpy.int64'>, encoding='utf-8', input='content',\n",
       "        lowercase=True, max_df=1.0, max_features=None, min_df=1,\n",
       "        ngram_range=(1, 1), norm='l2', preprocessor=None, smooth_idf=True,\n",
       "        stop_words=None, strip_accents=None, sublinear_tf=False,\n",
       "        token_pattern='(?u)\\\\b\\\\w\\\\w+\\\\b', tokenizer=None, use_idf=True,\n",
       "        vocabulary=None)"
      ]
     },
     "execution_count": 35,
     "metadata": {},
     "output_type": "execute_result"
    }
   ],
   "source": [
    "tfidf.fit(corpus)"
   ]
  },
  {
   "cell_type": "code",
   "execution_count": 36,
   "metadata": {},
   "outputs": [],
   "source": [
    "transformed = tfidf.transform(corpus)"
   ]
  },
  {
   "cell_type": "code",
   "execution_count": 39,
   "metadata": {},
   "outputs": [
    {
     "data": {
      "text/plain": [
       "(11568, 88723)"
      ]
     },
     "execution_count": 39,
     "metadata": {},
     "output_type": "execute_result"
    }
   ],
   "source": [
    "transformed.toarray().shape"
   ]
  },
  {
   "cell_type": "code",
   "execution_count": 40,
   "metadata": {},
   "outputs": [],
   "source": [
    "from sklearn.metrics.pairwise import cosine_similarity\n",
    "dist = 1 - cosine_similarity(transformed)"
   ]
  },
  {
   "cell_type": "code",
   "execution_count": 49,
   "metadata": {},
   "outputs": [],
   "source": [
    "from scipy.cluster.hierarchy import ward, dendrogram, fcluster"
   ]
  },
  {
   "cell_type": "code",
   "execution_count": 44,
   "metadata": {},
   "outputs": [],
   "source": [
    "linkage_matrix = ward(dist)"
   ]
  },
  {
   "cell_type": "code",
   "execution_count": 48,
   "metadata": {},
   "outputs": [
    {
     "data": {
      "image/png": "[encoded data removed]",
      "text/plain": [
       "<matplotlib.figure.Figure at 0x1c66140a58>"
      ]
     },
     "metadata": {},
     "output_type": "display_data"
    },
    {
     "data": {
      "text/plain": [
       "<matplotlib.figure.Figure at 0x1a17537828>"
      ]
     },
     "metadata": {},
     "output_type": "display_data"
    }
   ],
   "source": [
    "fig, ax = plt.subplots(figsize=(15, 20)) # set size\n",
    "\n",
    "ax = dendrogram(\n",
    "    linkage_matrix,\n",
    "    leaf_rotation=90.,  # rotates the x axis labels\n",
    "    leaf_font_size=8.,  # font size for the x axis labels\n",
    ")\n",
    "\n",
    "plt.tick_params(\\\n",
    "    axis= 'x',          # changes apply to the x-axis\n",
    "    which='both',      # both major and minor ticks are affected\n",
    "    bottom='off',      # ticks along the bottom edge are off\n",
    "    top='off',         # ticks along the top edge are off\n",
    "    labelbottom='off')\n",
    "\n",
    "plt.tight_layout() #show plot with tight layout\n",
    "\n",
    "#uncomment below to save figure\n",
    "plt.show()\n",
    "plt.savefig('../assets/visualizations/ward_clusters.png', dpi=200) #save figure as ward_clusters"
   ]
  },
  {
   "cell_type": "code",
   "execution_count": 51,
   "metadata": {},
   "outputs": [
    {
     "data": {
      "text/plain": [
       "array([1, 2, 2, ..., 1, 5, 5], dtype=int32)"
      ]
     },
     "execution_count": 51,
     "metadata": {},
     "output_type": "execute_result"
    }
   ],
   "source": [
    "\n",
    "fcluster(linkage_matrix, 35, criterion='distance')"
   ]
  },
  {
   "cell_type": "code",
   "execution_count": 52,
   "metadata": {},
   "outputs": [
    {
     "data": {
      "text/plain": [
       "Index(['artist', 'album', 'text', 'name', 'written_precoup'], dtype='object')"
      ]
     },
     "execution_count": 52,
     "metadata": {},
     "output_type": "execute_result"
    }
   ],
   "source": [
    "train.columns"
   ]
  },
  {
   "cell_type": "code",
   "execution_count": 55,
   "metadata": {},
   "outputs": [],
   "source": [
    "train['cluster'] = fcluster(linkage_matrix, 35, criterion='distance')"
   ]
  },
  {
   "cell_type": "code",
   "execution_count": 59,
   "metadata": {},
   "outputs": [
    {
     "data": {
      "text/html": [
       "<div>\n",
       "<style scoped>\n",
       "    .dataframe tbody tr th:only-of-type {\n",
       "        vertical-align: middle;\n",
       "    }\n",
       "\n",
       "    .dataframe tbody tr th {\n",
       "        vertical-align: top;\n",
       "    }\n",
       "\n",
       "    .dataframe thead th {\n",
       "        text-align: right;\n",
       "    }\n",
       "</style>\n",
       "<table border=\"1\" class=\"dataframe\">\n",
       "  <thead>\n",
       "    <tr style=\"text-align: right;\">\n",
       "      <th></th>\n",
       "      <th>artist</th>\n",
       "      <th>album</th>\n",
       "      <th>text</th>\n",
       "      <th>name</th>\n",
       "      <th>written_precoup</th>\n",
       "      <th>cluster</th>\n",
       "    </tr>\n",
       "  </thead>\n",
       "  <tbody>\n",
       "    <tr>\n",
       "      <th>17667</th>\n",
       "      <td>Deniz Seki</td>\n",
       "      <td>Aşk Denizi</td>\n",
       "      <td>Zülüf dökülmüş yüze aman Kaşlar yakışmış göze ...</td>\n",
       "      <td>Zülüf</td>\n",
       "      <td>0</td>\n",
       "      <td>3</td>\n",
       "    </tr>\n",
       "    <tr>\n",
       "      <th>17676</th>\n",
       "      <td>Deniz Toprak</td>\n",
       "      <td>Türkü Molası</td>\n",
       "      <td>GÜL YÜZÜN DÖNME BENDEN ÖLÜRÜM GEÇMEM SENDEN KA...</td>\n",
       "      <td>Gül Yüzün Dönme Benden</td>\n",
       "      <td>0</td>\n",
       "      <td>3</td>\n",
       "    </tr>\n",
       "    <tr>\n",
       "      <th>35874</th>\n",
       "      <td>Moğollar</td>\n",
       "      <td>Dört Renk</td>\n",
       "      <td>Ben de gittim bir geyiğin avınaAh aman aman av...</td>\n",
       "      <td>Alageyik Destanı</td>\n",
       "      <td>1</td>\n",
       "      <td>3</td>\n",
       "    </tr>\n",
       "    <tr>\n",
       "      <th>40181</th>\n",
       "      <td>Orhan Hakalmaz</td>\n",
       "      <td>Destegül</td>\n",
       "      <td>İki keklik bir kayada ötüyor Ötmede keklik der...</td>\n",
       "      <td>İki Keklik</td>\n",
       "      <td>1</td>\n",
       "      <td>3</td>\n",
       "    </tr>\n",
       "    <tr>\n",
       "      <th>55431</th>\n",
       "      <td>Zeynep Başkan</td>\n",
       "      <td>Bu Toprağın Sesleri</td>\n",
       "      <td>Dersini almışta ediyor ezber Sürmeli gözleri s...</td>\n",
       "      <td>Dersini Almışta</td>\n",
       "      <td>0</td>\n",
       "      <td>3</td>\n",
       "    </tr>\n",
       "    <tr>\n",
       "      <th>33863</th>\n",
       "      <td>Mahsun Kırmızıgül</td>\n",
       "      <td>Sarı Sarı</td>\n",
       "      <td>Güneşe dokunmayın o benim sıcaklığım Geceme do...</td>\n",
       "      <td>Ay Aman</td>\n",
       "      <td>0</td>\n",
       "      <td>3</td>\n",
       "    </tr>\n",
       "    <tr>\n",
       "      <th>6836</th>\n",
       "      <td>Aşık Veysel</td>\n",
       "      <td>Yöresel Türküler</td>\n",
       "      <td>Anlatamam derdimi dertsiz insana Dert çekmeyen...</td>\n",
       "      <td>Anlatamam Derdimi</td>\n",
       "      <td>1</td>\n",
       "      <td>3</td>\n",
       "    </tr>\n",
       "    <tr>\n",
       "      <th>5831</th>\n",
       "      <td>Arif Sağ</td>\n",
       "      <td>Seher Yıldızı</td>\n",
       "      <td>Erzurum Çarşı Pazar Neynim Amman Aman Neynim A...</td>\n",
       "      <td>Sarı Gelin</td>\n",
       "      <td>1</td>\n",
       "      <td>3</td>\n",
       "    </tr>\n",
       "    <tr>\n",
       "      <th>54821</th>\n",
       "      <td>Zara</td>\n",
       "      <td>Hazine</td>\n",
       "      <td>Seher vakti çaldım yarin kapısını Aman aman am...</td>\n",
       "      <td>Seher Vakti Çaldım Yarin Kapısını</td>\n",
       "      <td>0</td>\n",
       "      <td>3</td>\n",
       "    </tr>\n",
       "    <tr>\n",
       "      <th>27004</th>\n",
       "      <td>Hasret Gültekin</td>\n",
       "      <td>Rüzgarın Kanatlarında</td>\n",
       "      <td>Eklemedir koca kavak koca kavak Aman aman Nazl...</td>\n",
       "      <td>Eklemedir Koca Kavak</td>\n",
       "      <td>1</td>\n",
       "      <td>3</td>\n",
       "    </tr>\n",
       "    <tr>\n",
       "      <th>24666</th>\n",
       "      <td>Grup Çığ</td>\n",
       "      <td>Nida</td>\n",
       "      <td>Konma bülbül konma nergis dalına Öldürürler am...</td>\n",
       "      <td>Konma Bülbül</td>\n",
       "      <td>0</td>\n",
       "      <td>3</td>\n",
       "    </tr>\n",
       "    <tr>\n",
       "      <th>9395</th>\n",
       "      <td>Belkıs Akkale</td>\n",
       "      <td>deli sevda</td>\n",
       "      <td>Sıra sıra gelen mektep uşağı aman uşağı uşağıa...</td>\n",
       "      <td>Mektep Uşağı</td>\n",
       "      <td>1</td>\n",
       "      <td>3</td>\n",
       "    </tr>\n",
       "    <tr>\n",
       "      <th>3200</th>\n",
       "      <td>Ankaralı Turgut</td>\n",
       "      <td>Turgutça</td>\n",
       "      <td>Aman kara bir bulut sarsın da Gine evinin damı...</td>\n",
       "      <td>Uzun Hava</td>\n",
       "      <td>0</td>\n",
       "      <td>3</td>\n",
       "    </tr>\n",
       "    <tr>\n",
       "      <th>39590</th>\n",
       "      <td>Oğuz Yılmaz</td>\n",
       "      <td>Zilli Dilek</td>\n",
       "      <td>Denize dal amca Aman bir balık almayınca Ben b...</td>\n",
       "      <td>Alim</td>\n",
       "      <td>1</td>\n",
       "      <td>3</td>\n",
       "    </tr>\n",
       "    <tr>\n",
       "      <th>43894</th>\n",
       "      <td>Rumeli Türküleri</td>\n",
       "      <td>Yöresel Türküler</td>\n",
       "      <td>Kırmızı gülün alı var aman aman Her gün ağlasa...</td>\n",
       "      <td>Kırmızı Gülün Alı Var</td>\n",
       "      <td>1</td>\n",
       "      <td>3</td>\n",
       "    </tr>\n",
       "    <tr>\n",
       "      <th>35545</th>\n",
       "      <td>Mikail Aslan</td>\n",
       "      <td>Olmadı Yar&amp;Aman Of</td>\n",
       "      <td>Aman of amman off Denizin kenarında Kalayladım...</td>\n",
       "      <td>Aman Of</td>\n",
       "      <td>1</td>\n",
       "      <td>3</td>\n",
       "    </tr>\n",
       "    <tr>\n",
       "      <th>54783</th>\n",
       "      <td>Zara</td>\n",
       "      <td>Türkülerle Türkiye</td>\n",
       "      <td>Dersini almışta ediyor ezber Sürmeli gözleri s...</td>\n",
       "      <td>Dersini Almış</td>\n",
       "      <td>1</td>\n",
       "      <td>3</td>\n",
       "    </tr>\n",
       "    <tr>\n",
       "      <th>13825</th>\n",
       "      <td>Burhan Çaçan</td>\n",
       "      <td>Ayaz Geceler</td>\n",
       "      <td>Oğul bögün daldalanım Yerim yok daldalanım Ben...</td>\n",
       "      <td>Daldalanım</td>\n",
       "      <td>1</td>\n",
       "      <td>3</td>\n",
       "    </tr>\n",
       "    <tr>\n",
       "      <th>31463</th>\n",
       "      <td>Keremcem</td>\n",
       "      <td>Aşk Bitti</td>\n",
       "      <td>Laf dinlemez söz söylenmez aşk bu Alev olur kü...</td>\n",
       "      <td>Aman Aman</td>\n",
       "      <td>0</td>\n",
       "      <td>3</td>\n",
       "    </tr>\n",
       "    <tr>\n",
       "      <th>38943</th>\n",
       "      <td>Niran Ünsal</td>\n",
       "      <td>Bir Avaz Bir Saz</td>\n",
       "      <td>A İstanbul beyim aman Sen bir han mısın Varan ...</td>\n",
       "      <td>Ah İstanbul</td>\n",
       "      <td>0</td>\n",
       "      <td>3</td>\n",
       "    </tr>\n",
       "    <tr>\n",
       "      <th>9162</th>\n",
       "      <td>Başkal</td>\n",
       "      <td>Senin İçin</td>\n",
       "      <td>Sabah ilen esen seher yeli mi Benim gönlüm div...</td>\n",
       "      <td>Hıkkıdık</td>\n",
       "      <td>0</td>\n",
       "      <td>3</td>\n",
       "    </tr>\n",
       "    <tr>\n",
       "      <th>3084</th>\n",
       "      <td>Ankaralı Namık</td>\n",
       "      <td>Hovarda</td>\n",
       "      <td>Kozan dağının eteği Bura koç yiğit yatağı Anam...</td>\n",
       "      <td>Kozan Dağı</td>\n",
       "      <td>0</td>\n",
       "      <td>3</td>\n",
       "    </tr>\n",
       "    <tr>\n",
       "      <th>54761</th>\n",
       "      <td>Zara</td>\n",
       "      <td>Hazine</td>\n",
       "      <td>Aşan bilir karlı dağın ardını Çeken bilir ayrı...</td>\n",
       "      <td>Aşan Bilir Karlı Dağın Ardını</td>\n",
       "      <td>0</td>\n",
       "      <td>3</td>\n",
       "    </tr>\n",
       "    <tr>\n",
       "      <th>9369</th>\n",
       "      <td>Belkıs Akkale</td>\n",
       "      <td>deli sevda</td>\n",
       "      <td>Eklemedir Koca Konak Ekleme Aman Aman Nazlı Da...</td>\n",
       "      <td>Eklemedir Koca Konak</td>\n",
       "      <td>1</td>\n",
       "      <td>3</td>\n",
       "    </tr>\n",
       "    <tr>\n",
       "      <th>39355</th>\n",
       "      <td>Nurettin Rençber</td>\n",
       "      <td>Yalnızlık Yurdun Olur</td>\n",
       "      <td>Karabulut benden yana bir selam gönder cihana ...</td>\n",
       "      <td>Karabulut</td>\n",
       "      <td>0</td>\n",
       "      <td>3</td>\n",
       "    </tr>\n",
       "    <tr>\n",
       "      <th>54480</th>\n",
       "      <td>Yusuf Gül</td>\n",
       "      <td>Bir Ömre Türkü</td>\n",
       "      <td>Sevdasını çektiğim oy nazlı dilber Göz ucuyla ...</td>\n",
       "      <td>Sevdasın Çektiğim</td>\n",
       "      <td>1</td>\n",
       "      <td>3</td>\n",
       "    </tr>\n",
       "    <tr>\n",
       "      <th>27535</th>\n",
       "      <td>Hülya Polat</td>\n",
       "      <td>Haye Haye</td>\n",
       "      <td>Yamadan gel yamadan aman aman Yollar çamur olm...</td>\n",
       "      <td>Yamadan Gel Yamadan</td>\n",
       "      <td>0</td>\n",
       "      <td>3</td>\n",
       "    </tr>\n",
       "    <tr>\n",
       "      <th>2001</th>\n",
       "      <td>Ali Asker</td>\n",
       "      <td>Baçhemsin</td>\n",
       "      <td>Aşan bilir karlı dağın ardını Çeken bilir ayrı...</td>\n",
       "      <td>Aşan Bilir</td>\n",
       "      <td>1</td>\n",
       "      <td>3</td>\n",
       "    </tr>\n",
       "    <tr>\n",
       "      <th>53360</th>\n",
       "      <td>Yavuz Bingöl</td>\n",
       "      <td>Sen Türkülerini Söyle</td>\n",
       "      <td>A İstanbul beğim aman Sen bir han mısın Varan ...</td>\n",
       "      <td>A İstanbul</td>\n",
       "      <td>1</td>\n",
       "      <td>3</td>\n",
       "    </tr>\n",
       "    <tr>\n",
       "      <th>37538</th>\n",
       "      <td>Müzeyyen Senar</td>\n",
       "      <td>Caesar</td>\n",
       "      <td>Aman hasta düştüm Gurbet elde Vallahi su veren...</td>\n",
       "      <td>Hasta Düştüm</td>\n",
       "      <td>1</td>\n",
       "      <td>3</td>\n",
       "    </tr>\n",
       "    <tr>\n",
       "      <th>...</th>\n",
       "      <td>...</td>\n",
       "      <td>...</td>\n",
       "      <td>...</td>\n",
       "      <td>...</td>\n",
       "      <td>...</td>\n",
       "      <td>...</td>\n",
       "    </tr>\n",
       "    <tr>\n",
       "      <th>38239</th>\n",
       "      <td>Neşet Ertaş</td>\n",
       "      <td>circassian</td>\n",
       "      <td>Al yanak allanıyor Aman yazması pullanıyor O y...</td>\n",
       "      <td>Al Yanak Allanıyor</td>\n",
       "      <td>1</td>\n",
       "      <td>3</td>\n",
       "    </tr>\n",
       "    <tr>\n",
       "      <th>43884</th>\n",
       "      <td>Rumeli Türküleri</td>\n",
       "      <td>Yöresel Türküler</td>\n",
       "      <td>İndim yarin bahçesine aman Karadut parmak gibi...</td>\n",
       "      <td>İndim Yarin Bahçesine</td>\n",
       "      <td>0</td>\n",
       "      <td>3</td>\n",
       "    </tr>\n",
       "    <tr>\n",
       "      <th>28946</th>\n",
       "      <td>İsmail Türüt</td>\n",
       "      <td>Piryoz 2</td>\n",
       "      <td>Gökte Uçan Teyyare Selam Söylen O Yare Ben Ken...</td>\n",
       "      <td>Gökte Uçan Teyyare</td>\n",
       "      <td>0</td>\n",
       "      <td>3</td>\n",
       "    </tr>\n",
       "    <tr>\n",
       "      <th>17070</th>\n",
       "      <td>Davut Güloğlu</td>\n",
       "      <td>turbo59</td>\n",
       "      <td>Sevdaya düşen ağlar Virane olur bağlar Yıkılsı...</td>\n",
       "      <td>Oy Aman Aman</td>\n",
       "      <td>0</td>\n",
       "      <td>3</td>\n",
       "    </tr>\n",
       "    <tr>\n",
       "      <th>27689</th>\n",
       "      <td>Hüseyin Karakuş</td>\n",
       "      <td>Evrenin Kahyaları</td>\n",
       "      <td>Bir daracık pencere El vurmayın incire Zalim b...</td>\n",
       "      <td>Bir Daracık Pencere</td>\n",
       "      <td>0</td>\n",
       "      <td>3</td>\n",
       "    </tr>\n",
       "    <tr>\n",
       "      <th>45656</th>\n",
       "      <td>Selda Bağcan</td>\n",
       "      <td>Türkülerimiz 6 - Unutursun Mihribanım</td>\n",
       "      <td>Ceviz arasında vardır evimiz Aman amanda evimi...</td>\n",
       "      <td>Ceviz Arasında</td>\n",
       "      <td>0</td>\n",
       "      <td>3</td>\n",
       "    </tr>\n",
       "    <tr>\n",
       "      <th>54766</th>\n",
       "      <td>Zara</td>\n",
       "      <td>Misafir</td>\n",
       "      <td>Bulut bulut üstüne aman aman of Bulut yağmur ü...</td>\n",
       "      <td>Bulut Bulut Üstüne</td>\n",
       "      <td>1</td>\n",
       "      <td>3</td>\n",
       "    </tr>\n",
       "    <tr>\n",
       "      <th>20903</th>\n",
       "      <td>Erdal Erzincan</td>\n",
       "      <td>deli sevda</td>\n",
       "      <td>Sabahınan Esen Seher Yeli Mi Benim Gönlüm Diva...</td>\n",
       "      <td>Sürmeli</td>\n",
       "      <td>0</td>\n",
       "      <td>3</td>\n",
       "    </tr>\n",
       "    <tr>\n",
       "      <th>3135</th>\n",
       "      <td>Ankaralı Turgut</td>\n",
       "      <td>Beni Görmek İçin Dönme</td>\n",
       "      <td>Aman kara bir bulut sarsın da Gine evinin damı...</td>\n",
       "      <td>Barak</td>\n",
       "      <td>0</td>\n",
       "      <td>3</td>\n",
       "    </tr>\n",
       "    <tr>\n",
       "      <th>52422</th>\n",
       "      <td>Ümit Sayın</td>\n",
       "      <td>Ben Tabi Ki</td>\n",
       "      <td>Kaşları karam Gözleri cezam Aman aman aman Hal...</td>\n",
       "      <td>Ben Tabii Ki</td>\n",
       "      <td>1</td>\n",
       "      <td>3</td>\n",
       "    </tr>\n",
       "    <tr>\n",
       "      <th>1469</th>\n",
       "      <td>Ahmet Şafak</td>\n",
       "      <td>Kan Uykusu - Ben Hala Nöbetlerdeyim</td>\n",
       "      <td>Kozan Dağı Çatal Matal Hey Belalım Aman Arasın...</td>\n",
       "      <td>Kozan Dağı</td>\n",
       "      <td>0</td>\n",
       "      <td>3</td>\n",
       "    </tr>\n",
       "    <tr>\n",
       "      <th>7797</th>\n",
       "      <td>Aynur Haşhaş</td>\n",
       "      <td>deli sevda</td>\n",
       "      <td>Çıktım kozanın dağına hey belalım aman Karı di...</td>\n",
       "      <td>Kozan Dağı</td>\n",
       "      <td>0</td>\n",
       "      <td>3</td>\n",
       "    </tr>\n",
       "    <tr>\n",
       "      <th>51814</th>\n",
       "      <td>Türkü</td>\n",
       "      <td>Türkü</td>\n",
       "      <td>Zülüf Dökülmüş Yüze Aman Kaşlar Yakışmış Göze ...</td>\n",
       "      <td>Zülüf Dökülmüş Yüze</td>\n",
       "      <td>0</td>\n",
       "      <td>3</td>\n",
       "    </tr>\n",
       "    <tr>\n",
       "      <th>37528</th>\n",
       "      <td>Müzeyyen Senar</td>\n",
       "      <td>nodame</td>\n",
       "      <td>Gurbette Ömrüm Geçecek Bir Daracık Yerim De Yo...</td>\n",
       "      <td>Gurbette Ömrüm Geçecek</td>\n",
       "      <td>0</td>\n",
       "      <td>3</td>\n",
       "    </tr>\n",
       "    <tr>\n",
       "      <th>34047</th>\n",
       "      <td>Manga</td>\n",
       "      <td>Işıkları Söndürseler Bile</td>\n",
       "      <td>Yarim geçti aktın gördüm yüzünü Yoksa bir hoyr...</td>\n",
       "      <td>Yaranmaz Aşık</td>\n",
       "      <td>0</td>\n",
       "      <td>3</td>\n",
       "    </tr>\n",
       "    <tr>\n",
       "      <th>45460</th>\n",
       "      <td>Selahattin Bölük</td>\n",
       "      <td>circassian</td>\n",
       "      <td>Ömür boyu mesut yaşamak varken Ayrılığa sebep ...</td>\n",
       "      <td>Vefasız</td>\n",
       "      <td>0</td>\n",
       "      <td>3</td>\n",
       "    </tr>\n",
       "    <tr>\n",
       "      <th>47022</th>\n",
       "      <td>Sıla Gülhan</td>\n",
       "      <td>Eylülün Hüznü</td>\n",
       "      <td>Ak ellere kınalar aman aman sürdümde ne olduki...</td>\n",
       "      <td>Ak Eller</td>\n",
       "      <td>0</td>\n",
       "      <td>3</td>\n",
       "    </tr>\n",
       "    <tr>\n",
       "      <th>55429</th>\n",
       "      <td>Zeynep Başkan</td>\n",
       "      <td>Bu Toprağın Sesleri</td>\n",
       "      <td>Çarşambayı sel aldı bir yar sevdim el aldı ama...</td>\n",
       "      <td>Çarşambayı Sel Aldı</td>\n",
       "      <td>0</td>\n",
       "      <td>3</td>\n",
       "    </tr>\n",
       "    <tr>\n",
       "      <th>8043</th>\n",
       "      <td>Azer Bülbül</td>\n",
       "      <td>Ateş Düştügü Yeri Yakar</td>\n",
       "      <td>Anlayan yok sözlerimden Uyku firar gözlerimden...</td>\n",
       "      <td>Aman Aman</td>\n",
       "      <td>0</td>\n",
       "      <td>3</td>\n",
       "    </tr>\n",
       "    <tr>\n",
       "      <th>50445</th>\n",
       "      <td>Tolga Çandar</td>\n",
       "      <td>Türküleri Egenin 3</td>\n",
       "      <td>Çay benim çeşme benim Aman derdimi deşme benim...</td>\n",
       "      <td>Çay Benim Çeşme Benim</td>\n",
       "      <td>1</td>\n",
       "      <td>3</td>\n",
       "    </tr>\n",
       "    <tr>\n",
       "      <th>55043</th>\n",
       "      <td>Zeki Müren</td>\n",
       "      <td>Gözlerin Doğuyor Gecelerime</td>\n",
       "      <td>Gurbette ömrüm geçecek Bir daracık yerim de yo...</td>\n",
       "      <td>Gurbette Ömrüm Geçecek</td>\n",
       "      <td>1</td>\n",
       "      <td>3</td>\n",
       "    </tr>\n",
       "    <tr>\n",
       "      <th>3175</th>\n",
       "      <td>Ankaralı Turgut</td>\n",
       "      <td>Bay Bay - Şakır Şakır</td>\n",
       "      <td>Kozan dağının eteği Bura koç yiğit yatağı Anam...</td>\n",
       "      <td>Kozan Dağı</td>\n",
       "      <td>0</td>\n",
       "      <td>3</td>\n",
       "    </tr>\n",
       "    <tr>\n",
       "      <th>23219</th>\n",
       "      <td>Fuat Saka</td>\n",
       "      <td>Lazutlar</td>\n",
       "      <td>Aman of aman ey Gidiyon gidemeyon Az doldur iç...</td>\n",
       "      <td>Aman Of Aman Ey</td>\n",
       "      <td>1</td>\n",
       "      <td>3</td>\n",
       "    </tr>\n",
       "    <tr>\n",
       "      <th>32465</th>\n",
       "      <td>Kubat</td>\n",
       "      <td>Arşiv-1</td>\n",
       "      <td>Fincanın etrafı yeşil aman aman At kolun kolla...</td>\n",
       "      <td>Fincanın Etrafı Yeşil</td>\n",
       "      <td>1</td>\n",
       "      <td>3</td>\n",
       "    </tr>\n",
       "    <tr>\n",
       "      <th>37268</th>\n",
       "      <td>Mustafa Özarslan</td>\n",
       "      <td>Salkım Söğüt 2</td>\n",
       "      <td>Erzurum çarşı pazar leylim aman aman Leylim am...</td>\n",
       "      <td>Sarı Gelin</td>\n",
       "      <td>1</td>\n",
       "      <td>3</td>\n",
       "    </tr>\n",
       "    <tr>\n",
       "      <th>40196</th>\n",
       "      <td>Orhan Hakalmaz</td>\n",
       "      <td>Yalan Dünya</td>\n",
       "      <td>Tamburam rebab oldu Ciğerim kebap oldu İstedim...</td>\n",
       "      <td>Tanburam Rebap Oldu</td>\n",
       "      <td>0</td>\n",
       "      <td>3</td>\n",
       "    </tr>\n",
       "    <tr>\n",
       "      <th>9547</th>\n",
       "      <td>Berdan Mardini</td>\n",
       "      <td>Aman Aman</td>\n",
       "      <td>Sana aşkı asıl ben anlatmadım Adım adım kaçtım...</td>\n",
       "      <td>Aman Aman</td>\n",
       "      <td>0</td>\n",
       "      <td>3</td>\n",
       "    </tr>\n",
       "    <tr>\n",
       "      <th>20917</th>\n",
       "      <td>Erdal Güney</td>\n",
       "      <td>Güney Türküleri</td>\n",
       "      <td>Bulut bulut üstüne Aman aman of Bulut yağmur ü...</td>\n",
       "      <td>Bulut Bulut Üstüne</td>\n",
       "      <td>1</td>\n",
       "      <td>3</td>\n",
       "    </tr>\n",
       "    <tr>\n",
       "      <th>24940</th>\n",
       "      <td>Grup Vitamin</td>\n",
       "      <td>Üşüttük</td>\n",
       "      <td>Allahın tokadı yok sürünürsün vallahi Allahın ...</td>\n",
       "      <td>Kurcalama Bozarsın</td>\n",
       "      <td>1</td>\n",
       "      <td>3</td>\n",
       "    </tr>\n",
       "    <tr>\n",
       "      <th>38858</th>\n",
       "      <td>Nilüfer</td>\n",
       "      <td>Nilüferle</td>\n",
       "      <td>Neler çektik neler gördük Sanki kimin umrunda ...</td>\n",
       "      <td>Değişir Dünya</td>\n",
       "      <td>1</td>\n",
       "      <td>3</td>\n",
       "    </tr>\n",
       "  </tbody>\n",
       "</table>\n",
       "<p>82 rows × 6 columns</p>\n",
       "</div>"
      ],
      "text/plain": [
       "                  artist                                  album  \\\n",
       "17667         Deniz Seki                             Aşk Denizi   \n",
       "17676       Deniz Toprak                           Türkü Molası   \n",
       "35874           Moğollar                              Dört Renk   \n",
       "40181     Orhan Hakalmaz                               Destegül   \n",
       "55431      Zeynep Başkan                    Bu Toprağın Sesleri   \n",
       "33863  Mahsun Kırmızıgül                              Sarı Sarı   \n",
       "6836         Aşık Veysel                       Yöresel Türküler   \n",
       "5831            Arif Sağ                          Seher Yıldızı   \n",
       "54821               Zara                                 Hazine   \n",
       "27004    Hasret Gültekin                  Rüzgarın Kanatlarında   \n",
       "24666           Grup Çığ                                   Nida   \n",
       "9395       Belkıs Akkale                             deli sevda   \n",
       "3200     Ankaralı Turgut                               Turgutça   \n",
       "39590        Oğuz Yılmaz                            Zilli Dilek   \n",
       "43894   Rumeli Türküleri                       Yöresel Türküler   \n",
       "35545       Mikail Aslan                     Olmadı Yar&Aman Of   \n",
       "54783               Zara                     Türkülerle Türkiye   \n",
       "13825       Burhan Çaçan                           Ayaz Geceler   \n",
       "31463           Keremcem                              Aşk Bitti   \n",
       "38943        Niran Ünsal                       Bir Avaz Bir Saz   \n",
       "9162              Başkal                             Senin İçin   \n",
       "3084      Ankaralı Namık                                Hovarda   \n",
       "54761               Zara                                 Hazine   \n",
       "9369       Belkıs Akkale                             deli sevda   \n",
       "39355   Nurettin Rençber                  Yalnızlık Yurdun Olur   \n",
       "54480          Yusuf Gül                         Bir Ömre Türkü   \n",
       "27535        Hülya Polat                              Haye Haye   \n",
       "2001           Ali Asker                              Baçhemsin   \n",
       "53360       Yavuz Bingöl                  Sen Türkülerini Söyle   \n",
       "37538     Müzeyyen Senar                                 Caesar   \n",
       "...                  ...                                    ...   \n",
       "38239        Neşet Ertaş                             circassian   \n",
       "43884   Rumeli Türküleri                       Yöresel Türküler   \n",
       "28946       İsmail Türüt                               Piryoz 2   \n",
       "17070      Davut Güloğlu                                turbo59   \n",
       "27689    Hüseyin Karakuş                      Evrenin Kahyaları   \n",
       "45656       Selda Bağcan  Türkülerimiz 6 - Unutursun Mihribanım   \n",
       "54766               Zara                                Misafir   \n",
       "20903     Erdal Erzincan                             deli sevda   \n",
       "3135     Ankaralı Turgut                 Beni Görmek İçin Dönme   \n",
       "52422         Ümit Sayın                            Ben Tabi Ki   \n",
       "1469         Ahmet Şafak    Kan Uykusu - Ben Hala Nöbetlerdeyim   \n",
       "7797        Aynur Haşhaş                             deli sevda   \n",
       "51814              Türkü                                  Türkü   \n",
       "37528     Müzeyyen Senar                                 nodame   \n",
       "34047              Manga              Işıkları Söndürseler Bile   \n",
       "45460   Selahattin Bölük                             circassian   \n",
       "47022        Sıla Gülhan                          Eylülün Hüznü   \n",
       "55429      Zeynep Başkan                    Bu Toprağın Sesleri   \n",
       "8043         Azer Bülbül                Ateş Düştügü Yeri Yakar   \n",
       "50445       Tolga Çandar                     Türküleri Egenin 3   \n",
       "55043         Zeki Müren            Gözlerin Doğuyor Gecelerime   \n",
       "3175     Ankaralı Turgut                  Bay Bay - Şakır Şakır   \n",
       "23219          Fuat Saka                               Lazutlar   \n",
       "32465              Kubat                                Arşiv-1   \n",
       "37268   Mustafa Özarslan                         Salkım Söğüt 2   \n",
       "40196     Orhan Hakalmaz                            Yalan Dünya   \n",
       "9547      Berdan Mardini                              Aman Aman   \n",
       "20917        Erdal Güney                        Güney Türküleri   \n",
       "24940       Grup Vitamin                                Üşüttük   \n",
       "38858            Nilüfer                              Nilüferle   \n",
       "\n",
       "                                                    text  \\\n",
       "17667  Zülüf dökülmüş yüze aman Kaşlar yakışmış göze ...   \n",
       "17676  GÜL YÜZÜN DÖNME BENDEN ÖLÜRÜM GEÇMEM SENDEN KA...   \n",
       "35874  Ben de gittim bir geyiğin avınaAh aman aman av...   \n",
       "40181  İki keklik bir kayada ötüyor Ötmede keklik der...   \n",
       "55431  Dersini almışta ediyor ezber Sürmeli gözleri s...   \n",
       "33863  Güneşe dokunmayın o benim sıcaklığım Geceme do...   \n",
       "6836   Anlatamam derdimi dertsiz insana Dert çekmeyen...   \n",
       "5831   Erzurum Çarşı Pazar Neynim Amman Aman Neynim A...   \n",
       "54821  Seher vakti çaldım yarin kapısını Aman aman am...   \n",
       "27004  Eklemedir koca kavak koca kavak Aman aman Nazl...   \n",
       "24666  Konma bülbül konma nergis dalına Öldürürler am...   \n",
       "9395   Sıra sıra gelen mektep uşağı aman uşağı uşağıa...   \n",
       "3200   Aman kara bir bulut sarsın da Gine evinin damı...   \n",
       "39590  Denize dal amca Aman bir balık almayınca Ben b...   \n",
       "43894  Kırmızı gülün alı var aman aman Her gün ağlasa...   \n",
       "35545  Aman of amman off Denizin kenarında Kalayladım...   \n",
       "54783  Dersini almışta ediyor ezber Sürmeli gözleri s...   \n",
       "13825  Oğul bögün daldalanım Yerim yok daldalanım Ben...   \n",
       "31463  Laf dinlemez söz söylenmez aşk bu Alev olur kü...   \n",
       "38943  A İstanbul beyim aman Sen bir han mısın Varan ...   \n",
       "9162   Sabah ilen esen seher yeli mi Benim gönlüm div...   \n",
       "3084   Kozan dağının eteği Bura koç yiğit yatağı Anam...   \n",
       "54761  Aşan bilir karlı dağın ardını Çeken bilir ayrı...   \n",
       "9369   Eklemedir Koca Konak Ekleme Aman Aman Nazlı Da...   \n",
       "39355  Karabulut benden yana bir selam gönder cihana ...   \n",
       "54480  Sevdasını çektiğim oy nazlı dilber Göz ucuyla ...   \n",
       "27535  Yamadan gel yamadan aman aman Yollar çamur olm...   \n",
       "2001   Aşan bilir karlı dağın ardını Çeken bilir ayrı...   \n",
       "53360  A İstanbul beğim aman Sen bir han mısın Varan ...   \n",
       "37538  Aman hasta düştüm Gurbet elde Vallahi su veren...   \n",
       "...                                                  ...   \n",
       "38239  Al yanak allanıyor Aman yazması pullanıyor O y...   \n",
       "43884  İndim yarin bahçesine aman Karadut parmak gibi...   \n",
       "28946  Gökte Uçan Teyyare Selam Söylen O Yare Ben Ken...   \n",
       "17070  Sevdaya düşen ağlar Virane olur bağlar Yıkılsı...   \n",
       "27689  Bir daracık pencere El vurmayın incire Zalim b...   \n",
       "45656  Ceviz arasında vardır evimiz Aman amanda evimi...   \n",
       "54766  Bulut bulut üstüne aman aman of Bulut yağmur ü...   \n",
       "20903  Sabahınan Esen Seher Yeli Mi Benim Gönlüm Diva...   \n",
       "3135   Aman kara bir bulut sarsın da Gine evinin damı...   \n",
       "52422  Kaşları karam Gözleri cezam Aman aman aman Hal...   \n",
       "1469   Kozan Dağı Çatal Matal Hey Belalım Aman Arasın...   \n",
       "7797   Çıktım kozanın dağına hey belalım aman Karı di...   \n",
       "51814  Zülüf Dökülmüş Yüze Aman Kaşlar Yakışmış Göze ...   \n",
       "37528  Gurbette Ömrüm Geçecek Bir Daracık Yerim De Yo...   \n",
       "34047  Yarim geçti aktın gördüm yüzünü Yoksa bir hoyr...   \n",
       "45460  Ömür boyu mesut yaşamak varken Ayrılığa sebep ...   \n",
       "47022  Ak ellere kınalar aman aman sürdümde ne olduki...   \n",
       "55429  Çarşambayı sel aldı bir yar sevdim el aldı ama...   \n",
       "8043   Anlayan yok sözlerimden Uyku firar gözlerimden...   \n",
       "50445  Çay benim çeşme benim Aman derdimi deşme benim...   \n",
       "55043  Gurbette ömrüm geçecek Bir daracık yerim de yo...   \n",
       "3175   Kozan dağının eteği Bura koç yiğit yatağı Anam...   \n",
       "23219  Aman of aman ey Gidiyon gidemeyon Az doldur iç...   \n",
       "32465  Fincanın etrafı yeşil aman aman At kolun kolla...   \n",
       "37268  Erzurum çarşı pazar leylim aman aman Leylim am...   \n",
       "40196  Tamburam rebab oldu Ciğerim kebap oldu İstedim...   \n",
       "9547   Sana aşkı asıl ben anlatmadım Adım adım kaçtım...   \n",
       "20917  Bulut bulut üstüne Aman aman of Bulut yağmur ü...   \n",
       "24940  Allahın tokadı yok sürünürsün vallahi Allahın ...   \n",
       "38858  Neler çektik neler gördük Sanki kimin umrunda ...   \n",
       "\n",
       "                                    name  written_precoup  cluster  \n",
       "17667                              Zülüf                0        3  \n",
       "17676             Gül Yüzün Dönme Benden                0        3  \n",
       "35874                   Alageyik Destanı                1        3  \n",
       "40181                         İki Keklik                1        3  \n",
       "55431                    Dersini Almışta                0        3  \n",
       "33863                            Ay Aman                0        3  \n",
       "6836                   Anlatamam Derdimi                1        3  \n",
       "5831                          Sarı Gelin                1        3  \n",
       "54821  Seher Vakti Çaldım Yarin Kapısını                0        3  \n",
       "27004               Eklemedir Koca Kavak                1        3  \n",
       "24666                       Konma Bülbül                0        3  \n",
       "9395                        Mektep Uşağı                1        3  \n",
       "3200                           Uzun Hava                0        3  \n",
       "39590                               Alim                1        3  \n",
       "43894              Kırmızı Gülün Alı Var                1        3  \n",
       "35545                            Aman Of                1        3  \n",
       "54783                      Dersini Almış                1        3  \n",
       "13825                         Daldalanım                1        3  \n",
       "31463                          Aman Aman                0        3  \n",
       "38943                        Ah İstanbul                0        3  \n",
       "9162                            Hıkkıdık                0        3  \n",
       "3084                          Kozan Dağı                0        3  \n",
       "54761      Aşan Bilir Karlı Dağın Ardını                0        3  \n",
       "9369                Eklemedir Koca Konak                1        3  \n",
       "39355                          Karabulut                0        3  \n",
       "54480                  Sevdasın Çektiğim                1        3  \n",
       "27535                Yamadan Gel Yamadan                0        3  \n",
       "2001                          Aşan Bilir                1        3  \n",
       "53360                         A İstanbul                1        3  \n",
       "37538                       Hasta Düştüm                1        3  \n",
       "...                                  ...              ...      ...  \n",
       "38239                 Al Yanak Allanıyor                1        3  \n",
       "43884              İndim Yarin Bahçesine                0        3  \n",
       "28946                 Gökte Uçan Teyyare                0        3  \n",
       "17070                       Oy Aman Aman                0        3  \n",
       "27689                Bir Daracık Pencere                0        3  \n",
       "45656                     Ceviz Arasında                0        3  \n",
       "54766                 Bulut Bulut Üstüne                1        3  \n",
       "20903                            Sürmeli                0        3  \n",
       "3135                               Barak                0        3  \n",
       "52422                       Ben Tabii Ki                1        3  \n",
       "1469                          Kozan Dağı                0        3  \n",
       "7797                          Kozan Dağı                0        3  \n",
       "51814                Zülüf Dökülmüş Yüze                0        3  \n",
       "37528             Gurbette Ömrüm Geçecek                0        3  \n",
       "34047                      Yaranmaz Aşık                0        3  \n",
       "45460                            Vefasız                0        3  \n",
       "47022                           Ak Eller                0        3  \n",
       "55429                Çarşambayı Sel Aldı                0        3  \n",
       "8043                           Aman Aman                0        3  \n",
       "50445              Çay Benim Çeşme Benim                1        3  \n",
       "55043             Gurbette Ömrüm Geçecek                1        3  \n",
       "3175                          Kozan Dağı                0        3  \n",
       "23219                    Aman Of Aman Ey                1        3  \n",
       "32465              Fincanın Etrafı Yeşil                1        3  \n",
       "37268                         Sarı Gelin                1        3  \n",
       "40196                Tanburam Rebap Oldu                0        3  \n",
       "9547                           Aman Aman                0        3  \n",
       "20917                 Bulut Bulut Üstüne                1        3  \n",
       "24940                 Kurcalama Bozarsın                1        3  \n",
       "38858                      Değişir Dünya                1        3  \n",
       "\n",
       "[82 rows x 6 columns]"
      ]
     },
     "execution_count": 59,
     "metadata": {},
     "output_type": "execute_result"
    }
   ],
   "source": [
    "train[train['cluster'] == 3]"
   ]
  },
  {
   "cell_type": "markdown",
   "metadata": {},
   "source": [
    "## Let's try again"
   ]
  },
  {
   "cell_type": "code",
   "execution_count": null,
   "metadata": {},
   "outputs": [],
   "source": [
    "train = pd.read_csv('../assets/train.csv', index_col=0)\n",
    "test = pd.read_csv('../assets/test.csv', index_col=0)\n",
    "\n",
    "X_train = train[['artist', 'album', 'text', 'name']]\n",
    "y_train = train['written_precoup']\n",
    "\n",
    "X_test = test[['artist', 'album', 'text', 'name']]\n",
    "y_test = test['written_precoup']\n",
    "\n",
    "\n",
    "train_ind = X_train.index\n",
    "test_ind = X_test.index\n",
    "\n",
    "X_total = pd.concat([X_train, X_test], axis = 0, sort = True)\n",
    "X_total = pd.get_dummies(X_total, columns=['artist', 'album'])\n",
    "X_train = X_total.loc[train_ind, :]\n",
    "X_test = X_total.loc[test_ind, :]\n",
    "\n",
    "# cvec = CountVectorizer()\n",
    "# cvec.fit(X_train['text'])\n",
    "\n",
    "# transformed_train = pd.DataFrame(cvec.transform(X_train['text']).todense(), columns=cvec.get_feature_names())\n",
    "# transformed_test = pd.DataFrame(cvec.transform(X_test['text']).todense(), columns=cvec.get_feature_names())\n",
    "\n",
    "# X_train = pd.concat([transformed_train, X_train], axis = 1)\n",
    "# X_test = pd.concat([transformed_test, X_test], axis = 1)\n",
    "# X_train.to_csv('X_train.csv')\n",
    "# X_test.to_csv('X_test.csv')"
   ]
  },
  {
   "cell_type": "code",
   "execution_count": null,
   "metadata": {},
   "outputs": [],
   "source": [
    "X_train = X_train[[i for i in X_train.columns if (i != 'text') & (i != 'name')]]"
   ]
  },
  {
   "cell_type": "code",
   "execution_count": null,
   "metadata": {},
   "outputs": [],
   "source": [
    "X_test = X_test[[i for i in X_test.columns if (i != 'text') & (i != 'name')]]"
   ]
  },
  {
   "cell_type": "code",
   "execution_count": null,
   "metadata": {},
   "outputs": [],
   "source": [
    "lr = LogisticRegression()"
   ]
  },
  {
   "cell_type": "code",
   "execution_count": null,
   "metadata": {},
   "outputs": [],
   "source": [
    "lr.fit(X_train, y_train)"
   ]
  },
  {
   "cell_type": "code",
   "execution_count": null,
   "metadata": {},
   "outputs": [],
   "source": [
    "y_test.sum()/len(y_test)"
   ]
  },
  {
   "cell_type": "code",
   "execution_count": null,
   "metadata": {},
   "outputs": [],
   "source": [
    "lr.score(X_test, y_test)"
   ]
  },
  {
   "cell_type": "code",
   "execution_count": null,
   "metadata": {},
   "outputs": [],
   "source": [
    "pd.DataFrame({\n",
    "    'param':X_train.columns,\n",
    "    'coef':lr.coef_[0]\n",
    "}).sort_values(by = 'coef', ascending = False)"
   ]
  },
  {
   "cell_type": "code",
   "execution_count": null,
   "metadata": {},
   "outputs": [],
   "source": [
    "sns.heatmap(confusion_matrix(y_test, lr.predict(X_test)), fmt = 'g', annot = True)"
   ]
  },
  {
   "cell_type": "code",
   "execution_count": 2,
   "metadata": {},
   "outputs": [],
   "source": [
    "train = pd.read_csv('../assets/train.csv', index_col=0)\n",
    "test = pd.read_csv('../assets/test.csv', index_col=0)\n",
    "\n",
    "corpus_train = train['name']\n",
    "y_train = train['written_precoup']\n",
    "\n",
    "corpus_test = test['name']\n",
    "y_test = test['written_precoup']\n",
    "\n",
    "\n",
    "\n",
    "\n",
    "# X_total = pd.concat([X_train, X_test], axis = 0, sort = True)\n",
    "# X_total = pd.get_dummies(X_total, columns=['artist', 'album'])\n",
    "# X_train = X_total.loc[train_ind, :]\n",
    "# X_test = X_total.loc[test_ind, :]\n",
    "\n",
    "cvec = CountVectorizer(min_df = 3, max_features=5000)\n",
    "cvec.fit(corpus_train)\n",
    "\n",
    "transformed_train = pd.DataFrame(cvec.transform(corpus_train).todense(), columns=cvec.get_feature_names())\n",
    "transformed_test = pd.DataFrame(cvec.transform(corpus_test).todense(), columns=cvec.get_feature_names())\n",
    "\n",
    "# X_train = pd.concat([transformed_train, X_train], axis = 1)\n",
    "# X_test = pd.concat([transformed_test, X_test], axis = 1)\n",
    "# X_train.to_csv('X_train.csv')\n",
    "# X_test.to_csv('X_test.csv')"
   ]
  },
  {
   "cell_type": "code",
   "execution_count": null,
   "metadata": {},
   "outputs": [],
   "source": [
    "lr = LogisticRegression()\n",
    "lr.fit(transformed_train, y_train)"
   ]
  },
  {
   "cell_type": "code",
   "execution_count": null,
   "metadata": {},
   "outputs": [],
   "source": [
    "sns.heatmap(confusion_matrix(y_test, lr.predict(transformed_test)), fmt = 'g', annot = True)"
   ]
  },
  {
   "cell_type": "code",
   "execution_count": null,
   "metadata": {},
   "outputs": [],
   "source": [
    "f1_score(y_test, lr.predict(transformed_test))"
   ]
  },
  {
   "cell_type": "code",
   "execution_count": null,
   "metadata": {},
   "outputs": [],
   "source": [
    "tn, fp, fn, tp = confusion_matrix(y_test, lr.predict(transformed_test)).ravel() \n",
    "\n",
    "sensitivity = tp/(tp+fn)\n",
    "specificity = tn/(tn+fp)\n",
    "\n",
    "print(\"sens:\", sensitivity)\n",
    "\n",
    "print(\"spec:\",specificity)"
   ]
  },
  {
   "cell_type": "code",
   "execution_count": 4,
   "metadata": {},
   "outputs": [],
   "source": [
    "supvec = SVC(random_state=42, C=100000, probability=True)"
   ]
  },
  {
   "cell_type": "code",
   "execution_count": 5,
   "metadata": {},
   "outputs": [
    {
     "data": {
      "text/plain": [
       "SVC(C=100000, cache_size=200, class_weight=None, coef0=0.0,\n",
       "  decision_function_shape='ovr', degree=3, gamma='auto', kernel='rbf',\n",
       "  max_iter=-1, probability=True, random_state=42, shrinking=True,\n",
       "  tol=0.001, verbose=False)"
      ]
     },
     "execution_count": 5,
     "metadata": {},
     "output_type": "execute_result"
    }
   ],
   "source": [
    "supvec.fit(transformed_train, y_train)"
   ]
  },
  {
   "cell_type": "code",
   "execution_count": 6,
   "metadata": {},
   "outputs": [],
   "source": [
    "y_pred = supvec.predict(transformed_test)"
   ]
  },
  {
   "cell_type": "code",
   "execution_count": 7,
   "metadata": {},
   "outputs": [
    {
     "name": "stdout",
     "output_type": "stream",
     "text": [
      "sens: 0.235042735043\n",
      "spec: 0.814291030889\n"
     ]
    }
   ],
   "source": [
    "tn, fp, fn, tp = confusion_matrix(y_test, y_pred).ravel() \n",
    "\n",
    "sensitivity = tp/(tp+fn)\n",
    "specificity = tn/(tn+fp)\n",
    "\n",
    "print(\"sens:\", sensitivity)\n",
    "print(\"spec:\",specificity)"
   ]
  },
  {
   "cell_type": "code",
   "execution_count": null,
   "metadata": {},
   "outputs": [],
   "source": []
  },
  {
   "cell_type": "code",
   "execution_count": null,
   "metadata": {},
   "outputs": [],
   "source": []
  },
  {
   "cell_type": "code",
   "execution_count": 85,
   "metadata": {},
   "outputs": [
    {
     "name": "stdout",
     "output_type": "stream",
     "text": [
      "df loaded.\n",
      "15425 rows x 5 columns\n"
     ]
    }
   ],
   "source": [
    "from sklearn.naive_bayes import MultinomialNB\n",
    "%run ../scripts/post_scraping_text_processing.py run"
   ]
  },
  {
   "cell_type": "code",
   "execution_count": 98,
   "metadata": {},
   "outputs": [],
   "source": [
    "train = pd.read_csv('../assets/train.csv', index_col=0)\n",
    "test = pd.read_csv('../assets/test.csv', index_col=0)\n",
    "\n",
    "corpus_train = train['name']\n",
    "y_train = train['written_precoup']\n",
    "\n",
    "corpus_test = test['name']\n",
    "y_test = test['written_precoup']\n",
    "\n",
    "\n",
    "\n",
    "\n",
    "# X_total = pd.concat([X_train, X_test], axis = 0, sort = True)\n",
    "# X_total = pd.get_dummies(X_total, columns=['artist', 'album'])\n",
    "# X_train = X_total.loc[train_ind, :]\n",
    "# X_test = X_total.loc[test_ind, :]\n",
    "\n",
    "cvec = CountVectorizer(min_df = 3, max_features=10000, ngram_range=(1,2), stop_words=STOP_WORDS)\n",
    "cvec.fit(corpus_train)\n",
    "\n",
    "transformed_train = pd.DataFrame(cvec.transform(corpus_train).todense(), columns=cvec.get_feature_names())\n",
    "transformed_test = pd.DataFrame(cvec.transform(corpus_test).todense(), columns=cvec.get_feature_names())\n",
    "\n",
    "# X_train = pd.concat([transformed_train, X_train], axis = 1)\n",
    "# X_test = pd.concat([transformed_test, X_test], axis = 1)\n",
    "# X_train.to_csv('X_train.csv')\n",
    "# X_test.to_csv('X_test.csv')"
   ]
  },
  {
   "cell_type": "code",
   "execution_count": 104,
   "metadata": {},
   "outputs": [],
   "source": [
    "mnb = MultinomialNB()"
   ]
  },
  {
   "cell_type": "code",
   "execution_count": 105,
   "metadata": {},
   "outputs": [
    {
     "data": {
      "text/plain": [
       "MultinomialNB(alpha=1.0, class_prior=None, fit_prior=True)"
      ]
     },
     "execution_count": 105,
     "metadata": {},
     "output_type": "execute_result"
    }
   ],
   "source": [
    "mnb.fit(transformed_train, y_train)"
   ]
  },
  {
   "cell_type": "code",
   "execution_count": 106,
   "metadata": {},
   "outputs": [],
   "source": [
    "y_pred = mnb.predict(transformed_test)"
   ]
  },
  {
   "cell_type": "code",
   "execution_count": 109,
   "metadata": {},
   "outputs": [
    {
     "name": "stdout",
     "output_type": "stream",
     "text": [
      "sens: 0.103418803419\n",
      "spec: 0.937476739859\n"
     ]
    }
   ],
   "source": [
    "tn, fp, fn, tp = confusion_matrix(y_test, y_pred).ravel() \n",
    "sensitivity = tp/(tp+fn)\n",
    "specificity = tn/(tn+fp)\n",
    "\n",
    "print(\"sens:\", sensitivity)\n",
    "print(\"spec:\",specificity)"
   ]
  },
  {
   "cell_type": "code",
   "execution_count": 108,
   "metadata": {},
   "outputs": [
    {
     "data": {
      "text/plain": [
       "<matplotlib.axes._subplots.AxesSubplot at 0x1a0cdaf1d0>"
      ]
     },
     "execution_count": 108,
     "metadata": {},
     "output_type": "execute_result"
    },
    {
     "data": {
      "image/png": "[encoded data removed]",
      "text/plain": [
       "<matplotlib.figure.Figure at 0x103744f28>"
      ]
     },
     "metadata": {},
     "output_type": "display_data"
    }
   ],
   "source": [
    "sns.heatmap(confusion_matrix(y_test, y_pred), fmt = 'g', annot = True)"
   ]
  },
  {
   "cell_type": "code",
   "execution_count": null,
   "metadata": {},
   "outputs": [],
   "source": []
  }
 ],
 "metadata": {
  "kernelspec": {
   "display_name": "Python [conda root]",
   "language": "python",
   "name": "conda-root-py"
  },
  "language_info": {
   "codemirror_mode": {
    "name": "ipython",
    "version": 3
   },
   "file_extension": ".py",
   "mimetype": "text/x-python",
   "name": "python",
   "nbconvert_exporter": "python",
   "pygments_lexer": "ipython3",
   "version": "3.6.4"
  }
 },
 "nbformat": 4,
 "nbformat_minor": 2
}
