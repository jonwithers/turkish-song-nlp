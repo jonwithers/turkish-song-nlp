{
 "cells": [
  {
   "cell_type": "markdown",
   "metadata": {},
   "source": [
    "# Cleaning, part 1\n",
    "This notebook cleans the data coming from notebook `01 Adding year to data`. It uses the functions in the script `post_scraping_text_processing.py`."
   ]
  },
  {
   "cell_type": "code",
   "execution_count": 1,
   "metadata": {},
   "outputs": [],
   "source": [
    "import pandas as pd\n",
    "import numpy as np\n",
    "from wordcloud import WordCloud\n",
    "import re\n",
    "from sklearn.feature_extraction.text import CountVectorizer\n",
    "import matplotlib.pyplot as plt"
   ]
  },
  {
   "cell_type": "markdown",
   "metadata": {},
   "source": [
    "### Running functions from post_scraping_text_processing.py\n",
    "`post_scraping_text_processing.py` contains some basic functions for processing this data, as well as some of the cleaning functions that will be generated in this notebook. As I worked through EDA in notebooks, I added functions to the script, so there will be some redundancy between the notebook and the script."
   ]
  },
  {
   "cell_type": "code",
   "execution_count": 2,
   "metadata": {},
   "outputs": [
    {
     "name": "stdout",
     "output_type": "stream",
     "text": [
      "Text processing functions loaded.\n"
     ]
    }
   ],
   "source": [
    "%run ../scripts/post_scraping_text_processing.py functions"
   ]
  },
  {
   "cell_type": "markdown",
   "metadata": {},
   "source": [
    "### Reading in the file from the previous notebook\n",
    "Some columns, it turns out, are no longer necessary."
   ]
  },
  {
   "cell_type": "code",
   "execution_count": 3,
   "metadata": {},
   "outputs": [],
   "source": [
    "df = pd.read_csv(\"../assets/lyrics/master_data_20180626.csv\", index_col=0)"
   ]
  },
  {
   "cell_type": "code",
   "execution_count": 4,
   "metadata": {},
   "outputs": [
    {
     "data": {
      "text/plain": [
       "Index(['artist', 'title', 'album', 'text', 'english_score', 'release', 'name',\n",
       "       'real_name'],\n",
       "      dtype='object')"
      ]
     },
     "execution_count": 4,
     "metadata": {},
     "output_type": "execute_result"
    }
   ],
   "source": [
    "df.columns"
   ]
  },
  {
   "cell_type": "code",
   "execution_count": 5,
   "metadata": {},
   "outputs": [],
   "source": [
    "df.drop(['real_name', 'title', 'english_score'], axis = 1, inplace=True)"
   ]
  },
  {
   "cell_type": "code",
   "execution_count": 6,
   "metadata": {},
   "outputs": [
    {
     "data": {
      "text/plain": [
       "(15691, 5)"
      ]
     },
     "execution_count": 6,
     "metadata": {},
     "output_type": "execute_result"
    }
   ],
   "source": [
    "df.shape"
   ]
  },
  {
   "cell_type": "markdown",
   "metadata": {},
   "source": [
    "***15,691 songs before cleaning. Some of these are in English, French, Kurdish, and other languages.***"
   ]
  },
  {
   "cell_type": "markdown",
   "metadata": {},
   "source": [
    "## Cleaning rows with non-Turkish songs or characters"
   ]
  },
  {
   "cell_type": "markdown",
   "metadata": {},
   "source": [
    "### Three immediate transformations:\n",
    "- Some rows (40) represent instrumental tracks, and the text for these rows just says that there aren't any lyrics.\n",
    "    - get rid of rows with 'Şarkı enstrümantal olduğu için şarkı sözü bulunmamaktadır' in 'text'.\n",
    "- replace the weird × character with a real x\n",
    "- get rid of songs with ANY non-Latin characters (there aren't many, but there are a few songs in Arabic or Russian)"
   ]
  },
  {
   "cell_type": "code",
   "execution_count": 7,
   "metadata": {},
   "outputs": [],
   "source": [
    "df = df[~(df['text'].str.contains('Şarkı enstrümantal olduğu için şarkı sözü bulunmamaktadır'))]"
   ]
  },
  {
   "cell_type": "code",
   "execution_count": 8,
   "metadata": {},
   "outputs": [],
   "source": [
    "df['text'] = df['text'].str.replace('×', 'x')"
   ]
  },
  {
   "cell_type": "code",
   "execution_count": 9,
   "metadata": {},
   "outputs": [],
   "source": [
    "non_latin_chars = '[ΌΓΜΝΤΧάέήίαγδεζηθικλμνοπρςτυφχψωόБГДЗКМНОПСТЧЩабвгдежзийклмнопрстуфхцчшщъюяѕابتجحخدذرزسشصضطعفقكلمنهوي]'\n",
    "df = df[~(df['text'].str.contains(non_latin_chars))]"
   ]
  },
  {
   "cell_type": "markdown",
   "metadata": {},
   "source": [
    "### Harder choices:  other bad characters\n",
    "- Most songs with characters like é aren't in Turkish, but some still are.\n",
    "- Steps:\n",
    "  - copy the corpus and explore it\n",
    "  - pull out bad Latin characters (not punctuation)"
   ]
  },
  {
   "cell_type": "code",
   "execution_count": 10,
   "metadata": {},
   "outputs": [],
   "source": [
    "corpus = df['text'].copy()"
   ]
  },
  {
   "cell_type": "code",
   "execution_count": 11,
   "metadata": {},
   "outputs": [
    {
     "data": {
      "text/plain": [
       "285    Altın yüzüğüm kırıldı (hey) Suya düştü su duru...\n",
       "286    Bir bağ bozumuydu gidişin Plajlar boşalmıştı B...\n",
       "289    Bir of çeksem karşı ki dağlar yıkılır Bugün po...\n",
       "292    Eğin dedikleri (anam) bir küçük şehir (nidem) ...\n",
       "296    Subhanım Allah, sultanım Allah, Mağrifet eden ...\n",
       "Name: text, dtype: object"
      ]
     },
     "execution_count": 11,
     "metadata": {},
     "output_type": "execute_result"
    }
   ],
   "source": [
    "corpus.head()"
   ]
  },
  {
   "cell_type": "code",
   "execution_count": 12,
   "metadata": {},
   "outputs": [],
   "source": [
    "corpus = corpus.map(remove_and_reg)\n",
    "corpus = corpus.map(remove_punctuation)"
   ]
  },
  {
   "cell_type": "code",
   "execution_count": 13,
   "metadata": {},
   "outputs": [
    {
     "data": {
      "text/plain": [
       "'Ç̇lÂçUîê¸i]wä¶pğHMþx14′İS0QCÜ²qÃßbt\\ufeffáLo5Ş®8ð3æV`¢ˊcPGEXdÓÛ}£sœ6ÉÑù Au*|ò–ÁT9YeKJì#fşZÚóčž{😂k&Wjöã“èª‚_g¡z”ïëü>a…Ö<[$IO‘FúyB%-û=Níâ�hnvàñôË2rÈšåR¿ýőĞ~D‐ıø’»¦7é+m'"
      ]
     },
     "execution_count": 13,
     "metadata": {},
     "output_type": "execute_result"
    }
   ],
   "source": [
    "corpus_letters = \"\".join(corpus)\n",
    "\"\".join(set(corpus_letters))"
   ]
  },
  {
   "cell_type": "code",
   "execution_count": 14,
   "metadata": {},
   "outputs": [],
   "source": [
    "corpus = corpus.map(lambda x: x.replace('�', ''))\n",
    "corpus = corpus.map(lambda x: x.replace('😂', ''))\n",
    "corpus = corpus.map(lambda x: x.replace('²', ''))"
   ]
  },
  {
   "cell_type": "code",
   "execution_count": 15,
   "metadata": {},
   "outputs": [],
   "source": [
    "latin_bad_chars_regex = '[åïß£ðÉ¡äžÓ¢ÁčÑéñ¿ëúìàËÈ®òÃ¶šőãýþèóæáÚœÛíùøª]' # ḃ apparently meets b, � should be apostrophe, 😂 should be removed"
   ]
  },
  {
   "cell_type": "code",
   "execution_count": 16,
   "metadata": {},
   "outputs": [
    {
     "data": {
      "text/plain": [
       "'[åïß£ðÉ¡äžÓ¢ÁčÑéñ¿ëúìàËÈ®òÃ¶šőãýþèóæáÚœÛíùøª]'"
      ]
     },
     "execution_count": 16,
     "metadata": {},
     "output_type": "execute_result"
    }
   ],
   "source": [
    "latin_bad_chars_regex"
   ]
  },
  {
   "cell_type": "markdown",
   "metadata": {},
   "source": [
    "***Some of these songs are in languages other than Turkish, but some are in Turkish. In these cases, the transcriber made non-standard choices for representing certain Turkish sounds.***"
   ]
  },
  {
   "cell_type": "code",
   "execution_count": 17,
   "metadata": {},
   "outputs": [
    {
     "data": {
      "text/plain": [
       "'Geceler yarim oldu Anam anam garibem Ağlamak kárim oldu Anam anam anam garibem Her dertten yıkılmazdım Anam anam garibem Sebebim zalim oldu Anam anam anam garibem Bayram gelmiş neyime Anam anam garibem Kan damlar yüreğime Anam anam anam garibem Yaralarım sızlıyor Anam anam garibem Doktor gelmiş neyime Anam anam anam garibem... '"
      ]
     },
     "execution_count": 17,
     "metadata": {},
     "output_type": "execute_result"
    }
   ],
   "source": [
    "df[corpus.str.contains(latin_bad_chars_regex)].loc[10877,'text']"
   ]
  },
  {
   "cell_type": "code",
   "execution_count": 18,
   "metadata": {},
   "outputs": [
    {
     "data": {
      "text/html": [
       "<div>\n",
       "<style scoped>\n",
       "    .dataframe tbody tr th:only-of-type {\n",
       "        vertical-align: middle;\n",
       "    }\n",
       "\n",
       "    .dataframe tbody tr th {\n",
       "        vertical-align: top;\n",
       "    }\n",
       "\n",
       "    .dataframe thead th {\n",
       "        text-align: right;\n",
       "    }\n",
       "</style>\n",
       "<table border=\"1\" class=\"dataframe\">\n",
       "  <thead>\n",
       "    <tr style=\"text-align: right;\">\n",
       "      <th></th>\n",
       "      <th>artist</th>\n",
       "      <th>album</th>\n",
       "      <th>text</th>\n",
       "      <th>release</th>\n",
       "      <th>name</th>\n",
       "    </tr>\n",
       "  </thead>\n",
       "  <tbody>\n",
       "    <tr>\n",
       "      <th>1000</th>\n",
       "      <td>Adx</td>\n",
       "      <td>Exécution</td>\n",
       "      <td>Fils d'Agrippine et de Germanicus Tu es devenu...</td>\n",
       "      <td>1998-01-01</td>\n",
       "      <td>Caligula</td>\n",
       "    </tr>\n",
       "    <tr>\n",
       "      <th>1007</th>\n",
       "      <td>Adx</td>\n",
       "      <td>Immortel</td>\n",
       "      <td>Regardez-moi si vous l'osez, Je vous respire C...</td>\n",
       "      <td>2011-10-17</td>\n",
       "      <td>Immortel</td>\n",
       "    </tr>\n",
       "    <tr>\n",
       "      <th>1014</th>\n",
       "      <td>Adx</td>\n",
       "      <td>Exécution</td>\n",
       "      <td>On ne sait pas d'où il vient Ni comment il a f...</td>\n",
       "      <td>1998-01-01</td>\n",
       "      <td>L'étranger</td>\n",
       "    </tr>\n",
       "    <tr>\n",
       "      <th>1212</th>\n",
       "      <td>Agony</td>\n",
       "      <td>Millennium</td>\n",
       "      <td>Frente nacional unión Cero participación No ha...</td>\n",
       "      <td>1996-08-01</td>\n",
       "      <td>Guerrillas</td>\n",
       "    </tr>\n",
       "    <tr>\n",
       "      <th>2365</th>\n",
       "      <td>Alizee</td>\n",
       "      <td>taxedomask</td>\n",
       "      <td>Le monde est aux blondes décolorées J'annonce ...</td>\n",
       "      <td>2014-06-23</td>\n",
       "      <td>Blonde</td>\n",
       "    </tr>\n",
       "  </tbody>\n",
       "</table>\n",
       "</div>"
      ],
      "text/plain": [
       "      artist       album                                               text  \\\n",
       "1000     Adx   Exécution  Fils d'Agrippine et de Germanicus Tu es devenu...   \n",
       "1007     Adx    Immortel  Regardez-moi si vous l'osez, Je vous respire C...   \n",
       "1014     Adx   Exécution  On ne sait pas d'où il vient Ni comment il a f...   \n",
       "1212   Agony  Millennium  Frente nacional unión Cero participación No ha...   \n",
       "2365  Alizee  taxedomask  Le monde est aux blondes décolorées J'annonce ...   \n",
       "\n",
       "         release        name  \n",
       "1000  1998-01-01    Caligula  \n",
       "1007  2011-10-17    Immortel  \n",
       "1014  1998-01-01  L'étranger  \n",
       "1212  1996-08-01  Guerrillas  \n",
       "2365  2014-06-23      Blonde  "
      ]
     },
     "execution_count": 18,
     "metadata": {},
     "output_type": "execute_result"
    }
   ],
   "source": [
    "df[corpus.str.contains(latin_bad_chars_regex)].head()"
   ]
  },
  {
   "cell_type": "markdown",
   "metadata": {},
   "source": [
    "### To get rid of the songs that have bad characters but exclude the Turkish ones:\n",
    "- make a list of the indexes for Turkish-language lyrics that nevertheless contain bad Latin chars (Turkish exceptions)\n",
    "- make a list of the index of the entries that have the bad Latin characters\n",
    "- drop the Turkish exceptions from that list\n",
    "- use that list to filter the original dataframe"
   ]
  },
  {
   "cell_type": "code",
   "execution_count": 19,
   "metadata": {},
   "outputs": [
    {
     "data": {
      "text/plain": [
       "'Sabah uyandım, yanımda yoksun Solumda bir acı, senden yoksun Soluksuz kaldım köşelerde Yalnızım, sanki yorgun İnan, değildi sonsuz Bitti gitti seyrettik aşkı Sanmışım yolu yordamı bu Böyle yazılmadı ya da ben öyle kandım Şimdi, tek başımayken, Kimin öyküsü bu ? [Nakarat²] Bu benim öyküm, birazcık yaralı Kalbimin pek çok yeri yamalı Kan akar kanadımdan Düşer yere, yere kalanı Birazcık yaralı... Yeri yamalı... Akar kanadımdan.. Geri kalanı... Yamalı yamalı... '"
      ]
     },
     "execution_count": 19,
     "metadata": {},
     "output_type": "execute_result"
    }
   ],
   "source": [
    "df.loc[51041, 'text']"
   ]
  },
  {
   "cell_type": "code",
   "execution_count": 20,
   "metadata": {},
   "outputs": [],
   "source": [
    "tr_bad_chars = [53589, 53602, 7199, 10877, 14731, 51120, 53602, 54753, 19378, 20366, 21101, 22154, 22157, 27489, 28398, 38708, 49124]"
   ]
  },
  {
   "cell_type": "code",
   "execution_count": 21,
   "metadata": {},
   "outputs": [],
   "source": [
    "non_turkish_index = corpus[corpus.str.contains(latin_bad_chars_regex)].index\n",
    "non_turkish_index = corpus[non_turkish_index].drop(tr_bad_chars).index\n",
    "df = df.drop(non_turkish_index)"
   ]
  },
  {
   "cell_type": "code",
   "execution_count": 22,
   "metadata": {},
   "outputs": [
    {
     "data": {
      "text/plain": [
       "(15484, 5)"
      ]
     },
     "execution_count": 22,
     "metadata": {},
     "output_type": "execute_result"
    }
   ],
   "source": [
    "df.shape"
   ]
  },
  {
   "cell_type": "code",
   "execution_count": 23,
   "metadata": {},
   "outputs": [
    {
     "data": {
      "text/plain": [
       "\"Taleal bedru aleyna Min seniyyatil veda Vecebeş şükrü aleyna Veda alil lehida Ay doğdu üzerimize Veda tepelerinden Şükür gerekti bizlere Allah'a davetinden Eyyühel meb'u süfina Ci'te bil emril mut'a Ci'te şerreftel medina Merhaben ya hayra da \""
      ]
     },
     "execution_count": 23,
     "metadata": {},
     "output_type": "execute_result"
    }
   ],
   "source": [
    "df.loc[453, 'text']"
   ]
  },
  {
   "cell_type": "markdown",
   "metadata": {},
   "source": [
    "## Combining this into a function, which can be found in the scripts subdirectory"
   ]
  },
  {
   "cell_type": "code",
   "execution_count": 24,
   "metadata": {},
   "outputs": [],
   "source": [
    "df = pd.read_csv(\"../assets/lyrics/master_data_20180626.csv\", index_col=0)\n",
    "\n",
    "def grooming_language(df):\n",
    "    \"\"\"Takes a dataframe and performs 6 steps:\n",
    "        - gets rid of unnecessary columns\n",
    "        - gets rid of instrumental songs\n",
    "        - replaces some dumb characters\n",
    "        - gets rid on non-latin character songs\n",
    "        - gets rid of Turkish non-latin character songs\"\"\"\n",
    "    # Step 1: get rid of unnecessary columns, do initial corpus preparation\n",
    "    df.drop(['real_name', 'title', 'english_score'], axis = 1, inplace=True)\n",
    "    df.drop(28398, inplace = True)\n",
    "    df['text'] = df['text'].map(remove_and_reg)\n",
    "    df['text'] = df['text'].map(remove_punctuation)\n",
    "\n",
    "    # Step 2: get rid of instrumental songs\n",
    "    df = df[~(df['text'].str.contains('Şarkı enstrümantal olduğu için şarkı sözü bulunmamaktadır.'))]\n",
    "    \n",
    "    # Step 3: replace the weird x with regular x\n",
    "    df['text'] = df['text'].str.replace('×', 'x')\n",
    "    \n",
    "    # Step 4: get rid of non-Latin songs\n",
    "    non_latin_chars = '[ΌΓΜΝΤΧάέήίαγδεζηθικλμνοπρςτυφχψωόБГДЗКМНОПСТЧЩабвгдежзийклмнопрстуфхцчшщъюяѕابتجحخدذرزسشصضطعفقكلمنهوي]'\n",
    "    df = df[~(df['text'].str.contains(non_latin_chars))]\n",
    "\n",
    "    # Step 5: Replace some obvious non-issues\n",
    "    df['text'] = df['text'].map(lambda x: x.replace('�', ''))\n",
    "    df['text'] = df['text'].map(lambda x: x.replace('😂', ''))\n",
    "    df['text'] = df['text'].map(lambda x: x.replace('²', ''))\n",
    "    \n",
    "    # Step 6: Take out the non-Turkish Latin-character songs\n",
    "    latin_bad_chars_regex = '[åïß£ðÉ¡äžÓ¢ÁčÑéñ¿ëúìàËÈ®òÃ¶šőãýþèóæáÚœÛíùøª]'\n",
    "    tr_bad_chars = [53589, 53602, 7199, 10877, 14731, 51120, 53602, 54753, 19378, 20366, 21101, 22154, 22157, 27489, 28398, 38708, 49124]\n",
    "    non_turkish_index = corpus[corpus.str.contains(latin_bad_chars_regex)].index\n",
    "    non_turkish_index = corpus[non_turkish_index].drop(tr_bad_chars).index\n",
    "    df = df.drop(non_turkish_index)\n",
    "    return df"
   ]
  },
  {
   "cell_type": "code",
   "execution_count": 25,
   "metadata": {},
   "outputs": [],
   "source": [
    "df = grooming_language(df)"
   ]
  },
  {
   "cell_type": "code",
   "execution_count": 26,
   "metadata": {},
   "outputs": [
    {
     "data": {
      "text/plain": [
       "(15523, 5)"
      ]
     },
     "execution_count": 26,
     "metadata": {},
     "output_type": "execute_result"
    }
   ],
   "source": [
    "df.shape"
   ]
  },
  {
   "cell_type": "markdown",
   "metadata": {},
   "source": [
    "### Now to check what's left"
   ]
  },
  {
   "cell_type": "code",
   "execution_count": 27,
   "metadata": {},
   "outputs": [
    {
     "data": {
      "text/html": [
       "<div>\n",
       "<style scoped>\n",
       "    .dataframe tbody tr th:only-of-type {\n",
       "        vertical-align: middle;\n",
       "    }\n",
       "\n",
       "    .dataframe tbody tr th {\n",
       "        vertical-align: top;\n",
       "    }\n",
       "\n",
       "    .dataframe thead th {\n",
       "        text-align: right;\n",
       "    }\n",
       "</style>\n",
       "<table border=\"1\" class=\"dataframe\">\n",
       "  <thead>\n",
       "    <tr style=\"text-align: right;\">\n",
       "      <th></th>\n",
       "      <th>artist</th>\n",
       "      <th>album</th>\n",
       "      <th>text</th>\n",
       "      <th>release</th>\n",
       "      <th>name</th>\n",
       "    </tr>\n",
       "  </thead>\n",
       "  <tbody>\n",
       "    <tr>\n",
       "      <th>7199</th>\n",
       "      <td>Atilla Taş</td>\n",
       "      <td>Bir Atilla Taş Albümü</td>\n",
       "      <td>Bekarlar bekarlar Nasil yatarlar Anam yok Baba...</td>\n",
       "      <td>2007-05-04</td>\n",
       "      <td>Bekarlar</td>\n",
       "    </tr>\n",
       "    <tr>\n",
       "      <th>10877</th>\n",
       "      <td>Bülent Ersoy</td>\n",
       "      <td>Beddua</td>\n",
       "      <td>Geceler yarim oldu Anam anam garibem Ağlamak k...</td>\n",
       "      <td>1991-11-29</td>\n",
       "      <td>Geceler Yarim Oldu</td>\n",
       "    </tr>\n",
       "    <tr>\n",
       "      <th>14731</th>\n",
       "      <td>Cem Karaca</td>\n",
       "      <td>Yiyin Efendiler</td>\n",
       "      <td>Alamanya Çok uzaktan fetva ile bilinmez Alaman...</td>\n",
       "      <td>2017-06-09</td>\n",
       "      <td>Alamanya</td>\n",
       "    </tr>\n",
       "    <tr>\n",
       "      <th>19378</th>\n",
       "      <td>Edip Akbayram</td>\n",
       "      <td>Bir Şarkın Olsun Dudaklarında</td>\n",
       "      <td>Bu toprakta kalır adın Tohumların arasında Yeş...</td>\n",
       "      <td>1993-06-28</td>\n",
       "      <td>Ağıt</td>\n",
       "    </tr>\n",
       "    <tr>\n",
       "      <th>20366</th>\n",
       "      <td>Emrah</td>\n",
       "      <td>Sen Gülünce</td>\n",
       "      <td>BEN GURBETIN KUCAGINDA DÜSÉ KALKA YORULDUM BIR...</td>\n",
       "      <td>1991-08-06</td>\n",
       "      <td>İki Gözüm İki Çeşme</td>\n",
       "    </tr>\n",
       "    <tr>\n",
       "      <th>21101</th>\n",
       "      <td>Erkan Oğur</td>\n",
       "      <td>deli sevda</td>\n",
       "      <td>Siyah perçemlerin gonca yüzlerin Garip bülbül ...</td>\n",
       "      <td>2001-08-23</td>\n",
       "      <td>Siyah Perçemlerin Gonca Yüzlerin</td>\n",
       "    </tr>\n",
       "    <tr>\n",
       "      <th>22154</th>\n",
       "      <td>Fatih Yeşilgül</td>\n",
       "      <td>Ağlama</td>\n",
       "      <td>Bilmez misin ben bir tek sana yandım yine sana...</td>\n",
       "      <td>2018-01-24</td>\n",
       "      <td>Canına Kıyamadım</td>\n",
       "    </tr>\n",
       "    <tr>\n",
       "      <th>22157</th>\n",
       "      <td>Fatih Yeşilgül</td>\n",
       "      <td>Ağlama</td>\n",
       "      <td>Son noktasına kadar séN yazdırdın sonunda yaln...</td>\n",
       "      <td>2018-01-24</td>\n",
       "      <td>İnadına</td>\n",
       "    </tr>\n",
       "    <tr>\n",
       "      <th>27489</th>\n",
       "      <td>Hülya Avşar</td>\n",
       "      <td>Herşey Gönlünce Olsun</td>\n",
       "      <td>Kalplerimiz bir olsa Sevdamız başka başka Olsu...</td>\n",
       "      <td>1989-06-13</td>\n",
       "      <td>Kalplerimiz Bir Olsa</td>\n",
       "    </tr>\n",
       "    <tr>\n",
       "      <th>38708</th>\n",
       "      <td>Nihan</td>\n",
       "      <td>Terk-i Diyar</td>\n",
       "      <td>oturdugu yerden kaLkmas hicßirseyi umursamaz i...</td>\n",
       "      <td>2005-09-13</td>\n",
       "      <td>Kımılda</td>\n",
       "    </tr>\n",
       "    <tr>\n",
       "      <th>49124</th>\n",
       "      <td>Taner Olgun</td>\n",
       "      <td>Be Gülüm</td>\n",
       "      <td>Sevdaya Düşeli Yaram Derindir Söyleyin Dostlar...</td>\n",
       "      <td>2004</td>\n",
       "      <td>Sevdaya Düşeli</td>\n",
       "    </tr>\n",
       "    <tr>\n",
       "      <th>51120</th>\n",
       "      <td>Tuncay Tuncel</td>\n",
       "      <td>Okul Yolunda</td>\n",
       "      <td>Hani cok sevmistin beni ne oldu sana gülüm Ner...</td>\n",
       "      <td>2001-03-16</td>\n",
       "      <td>Gülüm</td>\n",
       "    </tr>\n",
       "    <tr>\n",
       "      <th>53589</th>\n",
       "      <td>Yeni Türkü</td>\n",
       "      <td>Aşk Yeniden</td>\n",
       "      <td>Ağır kapı aksak lisan Kelimeler yetmiyor Çıpla...</td>\n",
       "      <td>1996-08-26</td>\n",
       "      <td>Ağır Kapı</td>\n",
       "    </tr>\n",
       "    <tr>\n",
       "      <th>53602</th>\n",
       "      <td>Yeni Türkü</td>\n",
       "      <td>Vira Vira</td>\n",
       "      <td>Bir çapkın dilencidansederek gezip durur şehri...</td>\n",
       "      <td>2001</td>\n",
       "      <td>Bir Çapkın Dilenci</td>\n",
       "    </tr>\n",
       "    <tr>\n",
       "      <th>54753</th>\n",
       "      <td>Zara</td>\n",
       "      <td>Bülbül-i Şeyda</td>\n",
       "      <td>Ah Nice bir uyursun uyanmaz mısın Göcdü kervan...</td>\n",
       "      <td>2005-09-29</td>\n",
       "      <td>Ah Nice Bir Uyursun</td>\n",
       "    </tr>\n",
       "  </tbody>\n",
       "</table>\n",
       "</div>"
      ],
      "text/plain": [
       "               artist                          album  \\\n",
       "7199       Atilla Taş          Bir Atilla Taş Albümü   \n",
       "10877    Bülent Ersoy                         Beddua   \n",
       "14731      Cem Karaca                Yiyin Efendiler   \n",
       "19378   Edip Akbayram  Bir Şarkın Olsun Dudaklarında   \n",
       "20366           Emrah                    Sen Gülünce   \n",
       "21101      Erkan Oğur                     deli sevda   \n",
       "22154  Fatih Yeşilgül                         Ağlama   \n",
       "22157  Fatih Yeşilgül                         Ağlama   \n",
       "27489     Hülya Avşar          Herşey Gönlünce Olsun   \n",
       "38708           Nihan                   Terk-i Diyar   \n",
       "49124     Taner Olgun                       Be Gülüm   \n",
       "51120   Tuncay Tuncel                   Okul Yolunda   \n",
       "53589      Yeni Türkü                    Aşk Yeniden   \n",
       "53602      Yeni Türkü                      Vira Vira   \n",
       "54753            Zara                 Bülbül-i Şeyda   \n",
       "\n",
       "                                                    text     release  \\\n",
       "7199   Bekarlar bekarlar Nasil yatarlar Anam yok Baba...  2007-05-04   \n",
       "10877  Geceler yarim oldu Anam anam garibem Ağlamak k...  1991-11-29   \n",
       "14731  Alamanya Çok uzaktan fetva ile bilinmez Alaman...  2017-06-09   \n",
       "19378  Bu toprakta kalır adın Tohumların arasında Yeş...  1993-06-28   \n",
       "20366  BEN GURBETIN KUCAGINDA DÜSÉ KALKA YORULDUM BIR...  1991-08-06   \n",
       "21101  Siyah perçemlerin gonca yüzlerin Garip bülbül ...  2001-08-23   \n",
       "22154  Bilmez misin ben bir tek sana yandım yine sana...  2018-01-24   \n",
       "22157  Son noktasına kadar séN yazdırdın sonunda yaln...  2018-01-24   \n",
       "27489  Kalplerimiz bir olsa Sevdamız başka başka Olsu...  1989-06-13   \n",
       "38708  oturdugu yerden kaLkmas hicßirseyi umursamaz i...  2005-09-13   \n",
       "49124  Sevdaya Düşeli Yaram Derindir Söyleyin Dostlar...        2004   \n",
       "51120  Hani cok sevmistin beni ne oldu sana gülüm Ner...  2001-03-16   \n",
       "53589  Ağır kapı aksak lisan Kelimeler yetmiyor Çıpla...  1996-08-26   \n",
       "53602  Bir çapkın dilencidansederek gezip durur şehri...        2001   \n",
       "54753  Ah Nice bir uyursun uyanmaz mısın Göcdü kervan...  2005-09-29   \n",
       "\n",
       "                                   name  \n",
       "7199                           Bekarlar  \n",
       "10877                Geceler Yarim Oldu  \n",
       "14731                          Alamanya  \n",
       "19378                              Ağıt  \n",
       "20366               İki Gözüm İki Çeşme  \n",
       "21101  Siyah Perçemlerin Gonca Yüzlerin  \n",
       "22154                  Canına Kıyamadım  \n",
       "22157                           İnadına  \n",
       "27489              Kalplerimiz Bir Olsa  \n",
       "38708                           Kımılda  \n",
       "49124                    Sevdaya Düşeli  \n",
       "51120                             Gülüm  \n",
       "53589                         Ağır Kapı  \n",
       "53602                Bir Çapkın Dilenci  \n",
       "54753               Ah Nice Bir Uyursun  "
      ]
     },
     "execution_count": 27,
     "metadata": {},
     "output_type": "execute_result"
    }
   ],
   "source": [
    "df[df['text'].str.contains('[åïß£ðÉ¡äžÓ¢ÁčÑéñ¿ëúìàËÈ®òÃ¶šőãýþèóæáÚœÛíùøª]')]"
   ]
  },
  {
   "cell_type": "code",
   "execution_count": 28,
   "metadata": {},
   "outputs": [],
   "source": [
    "df = pd.read_csv(\"../assets/lyrics/master_data_20180626.csv\", index_col=0)\n",
    "df = grooming_language(df)"
   ]
  },
  {
   "cell_type": "markdown",
   "metadata": {},
   "source": [
    "### Replacing non-standard characters\n",
    "Some digging around suggests the following transformations. There are probably more, but there are diminishing returns for this kind of cleaning."
   ]
  },
  {
   "cell_type": "code",
   "execution_count": 29,
   "metadata": {},
   "outputs": [],
   "source": [
    "def replace_weird_chars(text_col):\n",
    "    text_col = text_col.str.replace('ä', 'a')\n",
    "    text_col = text_col.str.replace('á', 'a')\n",
    "    text_col = text_col.str.replace('ß', 'b')\n",
    "    text_col = text_col.str.replace('Ã¢', 'a')\n",
    "    text_col = text_col.str.replace('É', 'E')\n",
    "    text_col = text_col.str.replace('Ã‚', 'A')\n",
    "    text_col = text_col.str.replace('é', 'e')\n",
    "    text_col = text_col.str.replace('ð', 'ğ')\n",
    "    text_col = text_col.str.replace('w', 'v')\n",
    "    text_col = text_col.str.replace('göanül', 'gönül')\n",
    "    text_col = text_col.str.replace('ú', 'u')\n",
    "    text_col = text_col.str.replace('ý', 'ı')\n",
    "    text_col = text_col.str.replace('í', 'i')\n",
    "    text_col = text_col.str.replace('Söz  Fikret Şeneş & Müzik  Diques Fleche', '')\n",
    "    text_col = text_col.str.replace('Icqum 150' , '')\n",
    "    text_col = text_col.str.replace('Montesquieuyu' , '')\n",
    "    return text_col\n",
    "\n",
    "def drop_more_wrong_language(df):\n",
    "    df.drop(df[df['text'].str.contains('qu')].index, inplace = True)\n",
    "    df.drop(df[(df['text'].str.contains('of') & df['text'].str.contains('my')) | (df['text'].str.contains('the') & df['text'].str.contains('you'))].index, inplace = True)\n",
    "    df.drop(df[(df['text'].str.contains('your'))].index, inplace = True)\n",
    "    df.drop(df[(df['text'].str.contains(' for '))].index, inplace = True)\n",
    "    df.drop(df[(df['text'].str.contains(' For '))].index, inplace = True)\n",
    "    df.drop(df[(df['text'].str.contains(' With '))].index, inplace = True)\n",
    "    df.drop(df[(df['text'].str.contains(' love '))].index, inplace = True)\n",
    "    df.drop(df[(df['text'].str.contains('Love'))].index, inplace = True)\n",
    "    df.drop(df[(df['text'].str.contains(' çi '))].index, inplace = True)\n",
    "    df = df[df['artist'] != 'Agire Jiyan'] # These artists only write in Kurdish\n",
    "    df = df[df['artist'] != 'Abidin Biter']\n",
    "    return df\n",
    "\n",
    "def clean_bad_langauge(df):\n",
    "    \"\"\"Wrapper for grooming_langauge, replace_weird_chars, and drop_more_wrong_language\"\"\"\n",
    "    df = grooming_language(df)\n",
    "    df['text'] = replace_weird_chars(df['text'])\n",
    "    df = drop_more_wrong_language(df)\n",
    "    return df"
   ]
  },
  {
   "cell_type": "markdown",
   "metadata": {},
   "source": [
    "### Testing... does this all work together?"
   ]
  },
  {
   "cell_type": "code",
   "execution_count": 30,
   "metadata": {},
   "outputs": [
    {
     "data": {
      "text/plain": [
       "(15523, 5)"
      ]
     },
     "execution_count": 30,
     "metadata": {},
     "output_type": "execute_result"
    }
   ],
   "source": [
    "df.shape"
   ]
  },
  {
   "cell_type": "markdown",
   "metadata": {},
   "source": [
    "### The final script includes a few more cleaning functions that further reduce the total data to 15,425"
   ]
  },
  {
   "cell_type": "code",
   "execution_count": 31,
   "metadata": {},
   "outputs": [
    {
     "name": "stderr",
     "output_type": "stream",
     "text": [
      "/Users/jswithers/ga-dsi/capstone/scripts/post_scraping_text_processing.py:113: SettingWithCopyWarning: \n",
      "A value is trying to be set on a copy of a slice from a DataFrame.\n",
      "Try using .loc[row_indexer,col_indexer] = value instead\n",
      "\n",
      "See the caveats in the documentation: http://pandas.pydata.org/pandas-docs/stable/indexing.html#indexing-view-versus-copy\n",
      "  df['text'] = df['text'].map(lambda x: x.replace('×', 'x'))\n"
     ]
    },
    {
     "name": "stdout",
     "output_type": "stream",
     "text": [
      "df loaded.\n",
      "15385 rows x 5 columns\n"
     ]
    }
   ],
   "source": [
    "%run ../scripts/post_scraping_text_processing.py run"
   ]
  },
  {
   "cell_type": "markdown",
   "metadata": {},
   "source": [
    "## Zipf's Law\n",
    "From [Wikipedia](https://en.wikipedia.org/wiki/Zipf%27s_law):  \n",
    ">Zipf's law states that given some corpus of natural language utterances, the frequency of any word is inversely proportional to its rank in the frequency table.  "
   ]
  },
  {
   "cell_type": "markdown",
   "metadata": {},
   "source": [
    "This allows for a visual and high-level confirmation that our data comes from a corpus of natural language utterances."
   ]
  },
  {
   "cell_type": "markdown",
   "metadata": {},
   "source": [
    "### Making a list of word frequencies with `CountVectorizer`"
   ]
  },
  {
   "cell_type": "code",
   "execution_count": 32,
   "metadata": {},
   "outputs": [
    {
     "data": {
      "text/plain": [
       "CountVectorizer(analyzer='word', binary=False, decode_error='strict',\n",
       "        dtype=<class 'numpy.int64'>, encoding='utf-8', input='content',\n",
       "        lowercase=True, max_df=1.0, max_features=None, min_df=1,\n",
       "        ngram_range=(1, 1), preprocessor=None, stop_words=None,\n",
       "        strip_accents=None, token_pattern='(?u)\\\\b\\\\w\\\\w+\\\\b',\n",
       "        tokenizer=None, vocabulary=None)"
      ]
     },
     "execution_count": 32,
     "metadata": {},
     "output_type": "execute_result"
    }
   ],
   "source": [
    "cvec = CountVectorizer()\n",
    "cvec.fit(corpus)"
   ]
  },
  {
   "cell_type": "code",
   "execution_count": 33,
   "metadata": {},
   "outputs": [],
   "source": [
    "transformed_corpus = cvec.transform(corpus)\n",
    "\n",
    "word_table = pd.DataFrame(transformed_corpus.toarray(), columns=cvec.get_feature_names())\n",
    "\n",
    "word_series = word_table.sum()\n",
    "\n",
    "word_series = word_series.sort_values(ascending = False)\n",
    "\n",
    "zipfs_test_df = pd.DataFrame({\n",
    "    'word': word_series.index,\n",
    "    'count': word_series.values\n",
    "})"
   ]
  },
  {
   "cell_type": "markdown",
   "metadata": {},
   "source": [
    "### Generating the plot"
   ]
  },
  {
   "cell_type": "code",
   "execution_count": 34,
   "metadata": {},
   "outputs": [
    {
     "data": {
      "image/png": "[encoded data removed]",
      "text/plain": [
       "<matplotlib.figure.Figure at 0x116435ef0>"
      ]
     },
     "metadata": {},
     "output_type": "display_data"
    }
   ],
   "source": [
    "plt.figure(figsize=(15,15))\n",
    "plt.yscale('log')\n",
    "plt.xscale('log')\n",
    "plt.scatter(zipfs_test_df.index, zipfs_test_df['count'], s = 100, marker = 'o', alpha = 0.2, c = \"teal\")\n",
    "plt.xlim((10**-.4,10**5.4))\n",
    "plt.xlabel(\"Term rank (log scale)\", fontsize = 18)\n",
    "plt.ylabel(\"Term count (log scale)\", fontsize = 18)\n",
    "plt.title(\"Zipf's law for Turkish song corpus\\n\", fontsize = 28)\n",
    "\n",
    "plt.savefig(\"../assets/visualizations/zipf.png\")"
   ]
  },
  {
   "cell_type": "code",
   "execution_count": null,
   "metadata": {},
   "outputs": [],
   "source": []
  }
 ],
 "metadata": {
  "kernelspec": {
   "display_name": "Python [conda root]",
   "language": "python",
   "name": "conda-root-py"
  },
  "language_info": {
   "codemirror_mode": {
    "name": "ipython",
    "version": 3
   },
   "file_extension": ".py",
   "mimetype": "text/x-python",
   "name": "python",
   "nbconvert_exporter": "python",
   "pygments_lexer": "ipython3",
   "version": "3.6.4"
  }
 },
 "nbformat": 4,
 "nbformat_minor": 2
}
