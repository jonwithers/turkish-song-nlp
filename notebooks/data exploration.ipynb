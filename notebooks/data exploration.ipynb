{
 "cells": [
  {
   "cell_type": "code",
   "execution_count": 1,
   "metadata": {},
   "outputs": [],
   "source": [
    "import pandas as pd\n",
    "import numpy as np\n",
    "import matplotlib.pyplot as plt\n",
    "\n",
    "import random\n",
    "\n",
    "from TurkishStemmer import TurkishStemmer\n",
    "from nltk.tokenize import RegexpTokenizer\n",
    "from nltk.stem import PorterStemmer\n",
    "from nltk.corpus import stopwords\n",
    "import re"
   ]
  },
  {
   "cell_type": "markdown",
   "metadata": {},
   "source": [
    "# Data exploration, first pass: more cleaning functions\n",
    "This section creates a column with ads and whitespace removed (`fixed_text`) and a column with Turkish stopwords removed and words stemmed according to the `TurkishStemmer()` function (`processed_text`). These functions are added to the cleaning script. "
   ]
  },
  {
   "cell_type": "code",
   "execution_count": null,
   "metadata": {},
   "outputs": [],
   "source": [
    "df = pd.read_csv('assets/lyrics/lyrics_scraped_20180621-134937.csv', index_col = 0)"
   ]
  },
  {
   "cell_type": "code",
   "execution_count": null,
   "metadata": {},
   "outputs": [],
   "source": [
    "df.shape"
   ]
  },
  {
   "cell_type": "code",
   "execution_count": null,
   "metadata": {},
   "outputs": [],
   "source": [
    "df.head()"
   ]
  },
  {
   "cell_type": "code",
   "execution_count": null,
   "metadata": {},
   "outputs": [],
   "source": [
    "def text_process(text):\n",
    "    '''\n",
    "    Takes in a string of text, then performs the following:\n",
    "        1. Tokenizes and removes punctuation\n",
    "        2. Removes stopwords\n",
    "        3. Stems\n",
    "        4. Returns a list of the cleaned text\n",
    "    '''\n",
    "    if pd.isnull(text):\n",
    "        return []\n",
    "    # tokenizing and removing punctuation\n",
    "    tokenizer = RegexpTokenizer(r'\\w+')\n",
    "    text_processed=tokenizer.tokenize(text)\n",
    "    \n",
    "    # removing any stopwords\n",
    "    text_processed = [word.lower() for word in text_processed if word.lower() not in stopwords.words('turkish')]\n",
    "    \n",
    "    # stemming\n",
    "    stemmer = TurkishStemmer()\n",
    "    \n",
    "    text_processed = [stemmer.stem(word) for word in text_processed]\n",
    "    \n",
    "    try:\n",
    "        text_processed.remove('b')\n",
    "    except: \n",
    "        pass\n",
    "\n",
    "    return \" \".join(text_processed) ## <-- we're keeping our words distinct"
   ]
  },
  {
   "cell_type": "code",
   "execution_count": null,
   "metadata": {},
   "outputs": [],
   "source": [
    "test_text = df['text'][34]"
   ]
  },
  {
   "cell_type": "code",
   "execution_count": null,
   "metadata": {},
   "outputs": [],
   "source": [
    "text_process(test_text)"
   ]
  },
  {
   "cell_type": "code",
   "execution_count": null,
   "metadata": {},
   "outputs": [],
   "source": [
    "df['processed_text'] = df['text'].map(text_process)"
   ]
  },
  {
   "cell_type": "code",
   "execution_count": null,
   "metadata": {},
   "outputs": [],
   "source": [
    "df['processed_text']\n",
    "df['num_words'] = [len(x) for x in df['text'].str.split(\" \")]"
   ]
  },
  {
   "cell_type": "code",
   "execution_count": null,
   "metadata": {},
   "outputs": [],
   "source": [
    "df.loc[1,['text', 'num_words']]['num_words']"
   ]
  },
  {
   "cell_type": "code",
   "execution_count": null,
   "metadata": {},
   "outputs": [],
   "source": [
    "df.sort_values('num_words', ascending=False)"
   ]
  },
  {
   "cell_type": "code",
   "execution_count": null,
   "metadata": {},
   "outputs": [],
   "source": [
    "test = df.loc[1246, 'text']"
   ]
  },
  {
   "cell_type": "code",
   "execution_count": null,
   "metadata": {},
   "outputs": [],
   "source": [
    "test"
   ]
  },
  {
   "cell_type": "code",
   "execution_count": null,
   "metadata": {},
   "outputs": [],
   "source": [
    "pattern = r'(eval.*])'"
   ]
  },
  {
   "cell_type": "code",
   "execution_count": null,
   "metadata": {},
   "outputs": [],
   "source": [
    "test = re.sub(pattern, \"\", test)\n",
    "test = re.sub(r\"\\s+\", \" \", test)\n",
    "test"
   ]
  },
  {
   "cell_type": "code",
   "execution_count": 31,
   "metadata": {},
   "outputs": [],
   "source": [
    "def remove_ads(text):\n",
    "    pattern = r'(eval.*])'\n",
    "    return re.sub(pattern, \"\", text)\n",
    "\n",
    "def regularize_whitespace(text):\n",
    "    whitepattern = r'\\s+'\n",
    "    return re.sub(whitepattern, \" \", text)\n",
    "\n",
    "def remove_and_reg(text):\n",
    "    text = remove_ads(text)\n",
    "    text = regularize_whitespace(text)\n",
    "    return text"
   ]
  },
  {
   "cell_type": "code",
   "execution_count": null,
   "metadata": {},
   "outputs": [],
   "source": [
    "df['fixed_text'] = df['text'].map(remove_and_reg)"
   ]
  },
  {
   "cell_type": "code",
   "execution_count": null,
   "metadata": {},
   "outputs": [],
   "source": [
    "df['fixed_text']"
   ]
  },
  {
   "cell_type": "code",
   "execution_count": null,
   "metadata": {},
   "outputs": [],
   "source": [
    "df[df['title'].str.find('Dost') > 0]"
   ]
  },
  {
   "cell_type": "code",
   "execution_count": null,
   "metadata": {},
   "outputs": [],
   "source": [
    "df.loc[1287, 'fixed_text'].strip()"
   ]
  },
  {
   "cell_type": "code",
   "execution_count": null,
   "metadata": {},
   "outputs": [],
   "source": [
    "df.loc[1287, 'text']"
   ]
  },
  {
   "cell_type": "code",
   "execution_count": null,
   "metadata": {},
   "outputs": [],
   "source": [
    "df[df['text'].str.contains(\" les\")]['text']"
   ]
  },
  {
   "cell_type": "code",
   "execution_count": null,
   "metadata": {},
   "outputs": [],
   "source": [
    "df.loc[449, 'fixed_text'].strip()"
   ]
  },
  {
   "cell_type": "code",
   "execution_count": null,
   "metadata": {},
   "outputs": [],
   "source": [
    "df.loc[449, 'text'].strip()"
   ]
  },
  {
   "cell_type": "code",
   "execution_count": null,
   "metadata": {},
   "outputs": [],
   "source": [
    "df[(df['artist'] == 'Candan Erçetin') & df['album'].str.contains(\"Aranjman\")]"
   ]
  },
  {
   "cell_type": "code",
   "execution_count": null,
   "metadata": {},
   "outputs": [],
   "source": [
    "df.loc[1313,'text'].strip()"
   ]
  },
  {
   "cell_type": "code",
   "execution_count": null,
   "metadata": {},
   "outputs": [],
   "source": [
    "df.loc[1313, 'title']"
   ]
  },
  {
   "cell_type": "code",
   "execution_count": null,
   "metadata": {},
   "outputs": [],
   "source": [
    "for text in df.loc[1310:1320, 'fixed_text']:\n",
    "    print(text)\n",
    "    print('_-----_')"
   ]
  },
  {
   "cell_type": "code",
   "execution_count": null,
   "metadata": {},
   "outputs": [],
   "source": [
    "re.sub(r'[^A-Za-z ]', \"\", df.loc[1313,'text'])"
   ]
  },
  {
   "cell_type": "code",
   "execution_count": null,
   "metadata": {},
   "outputs": [],
   "source": [
    "set(df.loc[1313,'text'].strip().lower().split(\" \"))"
   ]
  },
  {
   "cell_type": "markdown",
   "metadata": {},
   "source": [
    "# Playing with word2vec"
   ]
  },
  {
   "cell_type": "code",
   "execution_count": null,
   "metadata": {},
   "outputs": [],
   "source": [
    "from gensim.models import word2vec"
   ]
  },
  {
   "cell_type": "code",
   "execution_count": null,
   "metadata": {},
   "outputs": [],
   "source": [
    "f = \"assets/lyrics/lyrics_scraped_20180621-134937.csv\"\n",
    "df = pd.read_csv(f, index_col=0)"
   ]
  },
  {
   "cell_type": "code",
   "execution_count": null,
   "metadata": {},
   "outputs": [],
   "source": [
    "df.shape"
   ]
  },
  {
   "cell_type": "code",
   "execution_count": null,
   "metadata": {},
   "outputs": [],
   "source": [
    "df['artist'].value_counts()"
   ]
  },
  {
   "cell_type": "code",
   "execution_count": null,
   "metadata": {},
   "outputs": [],
   "source": [
    "num_features = 400    # Word vector dimensionality                      \n",
    "min_word_count = 15   # Minimum word count (seems to mean that if a word appears less than this number ignore it)                        \n",
    "num_workers = 4       # Number of threads to run in parallel\n",
    "context = 4          # Context window size                                                                                    \n",
    "downsampling = 1e-3   # Downsample setting for frequent words"
   ]
  },
  {
   "cell_type": "code",
   "execution_count": null,
   "metadata": {},
   "outputs": [],
   "source": [
    "text = df['text'].map(remove_and_reg)"
   ]
  },
  {
   "cell_type": "code",
   "execution_count": null,
   "metadata": {},
   "outputs": [],
   "source": [
    "text = [i.lower().split(\" \") for i in text]"
   ]
  },
  {
   "cell_type": "code",
   "execution_count": null,
   "metadata": {},
   "outputs": [],
   "source": [
    "model = word2vec.Word2Vec(text, workers=num_workers, \\\n",
    "            size=num_features, min_count = min_word_count, \\\n",
    "            window = context, sample = downsampling)"
   ]
  },
  {
   "cell_type": "code",
   "execution_count": null,
   "metadata": {},
   "outputs": [],
   "source": [
    "voc = list(model.wv.vocab.keys())"
   ]
  },
  {
   "cell_type": "code",
   "execution_count": null,
   "metadata": {},
   "outputs": [],
   "source": [
    "voc"
   ]
  },
  {
   "cell_type": "code",
   "execution_count": null,
   "metadata": {},
   "outputs": [],
   "source": [
    "model.wv.most_similar('çocuklar', topn=30)"
   ]
  },
  {
   "cell_type": "markdown",
   "metadata": {},
   "source": [
    "# English testing"
   ]
  },
  {
   "cell_type": "code",
   "execution_count": 6,
   "metadata": {},
   "outputs": [],
   "source": [
    "df = pd.read_csv('assets/test.csv')"
   ]
  },
  {
   "cell_type": "code",
   "execution_count": 8,
   "metadata": {},
   "outputs": [],
   "source": [
    "df.columns = ['artist','title','album','text']"
   ]
  },
  {
   "cell_type": "code",
   "execution_count": 24,
   "metadata": {},
   "outputs": [],
   "source": [
    "def check_for_english(text):\n",
    "    text_words = text.split(\" \")\n",
    "    english_words = set(['I', \"we're\", \"the\", \"an\", \"one\", \"to\", \"give\", \"love\"])\n",
    "    counter = 0\n",
    "    for word in text_words:\n",
    "        if word in english_words:\n",
    "            counter += 1\n",
    "    return counter\n",
    "    "
   ]
  },
  {
   "cell_type": "code",
   "execution_count": 32,
   "metadata": {},
   "outputs": [],
   "source": [
    "df['text'] = df['text'].map(remove_and_reg)"
   ]
  },
  {
   "cell_type": "code",
   "execution_count": 33,
   "metadata": {},
   "outputs": [],
   "source": [
    "df['english_score'] = df['text'].map(check_for_english)"
   ]
  },
  {
   "cell_type": "code",
   "execution_count": 34,
   "metadata": {},
   "outputs": [
    {
     "data": {
      "text/plain": [
       "(348, 5)"
      ]
     },
     "execution_count": 34,
     "metadata": {},
     "output_type": "execute_result"
    }
   ],
   "source": [
    "df[df['english_score'] == 0].shape"
   ]
  },
  {
   "cell_type": "code",
   "execution_count": 35,
   "metadata": {},
   "outputs": [
    {
     "data": {
      "text/plain": [
       "(315, 5)"
      ]
     },
     "execution_count": 35,
     "metadata": {},
     "output_type": "execute_result"
    }
   ],
   "source": [
    "df[df['english_score'] != 0].shape"
   ]
  },
  {
   "cell_type": "code",
   "execution_count": 37,
   "metadata": {},
   "outputs": [
    {
     "name": "stdout",
     "output_type": "stream",
     "text": [
      "Hey we're gonna be around Hey we're gonna work it out Hey there's nothing to fight about Today we're gonna be about You hardly know me, you say I'm your best friend Everything's ace, it'll work out in the end Say that you love us, I don't believe that you want me to stay You're hoping that I'll go away I'm gonna be around Hey I'm gonna work it out Hey there's plenty to fight about No way I'm ever going down \n",
      "----------------\n",
      "Afterburner, after burning out, There's a news alert in ??, And some poor kid who drowned. Operator, operating round, Could you take a chance in our romance, You did nothing about. Oooo ooo, Take it like a man and do without. Oooo ooo, It takes a century to figure out. Oooo ooo, Making like we know what its about. Oooo ooo, Talk about it. After burning out. After burning out. After burning out. Times when i've forgotten you're around. Ten years later, I can't believe its dead, What we lost you're in without it started coming round again. Space invader, Tried it on again, I thought your tapes alone and your face is gone, and they're never gonna end. Oooo ooo, Take it like a man and do without. Oooo ooo, It takes a century to figure out. \n",
      "----------------\n",
      "There's an angel on the corner And they say she's watching over Over when we are under Fall asleep on the ground [Pre chorus:] Hey Can you feel it calling your name Like a storm on a bone in the rain The pain now going you're not around [Chorus:] Wide awake for the night again Awake for the night again Hanging on the phone i can't wait a minute longer Gonna teach you the art of making sense I gotta rock another city I gotta break another country I'm gonna kick it til i'm 50 Or i'm deep in the ground [Pre chorus:] Hey Not another bone for the pain \n",
      "----------------\n",
      "Bad idea, bad idea, bad idea! Bad idea, bad idea, bad idea! 99% is great, the other 1% I hate Little things keep bugging at my head Wake up calls Bad idea! Smack and that Bad idea! Fashion caf© Bad idea! Friendly fire, GMTV Darker mornings Bad idea! And pay per view Bad idea! Litter dropping Bad idea! I made a list, I've got the lot, and all the stuff is all I'm taught \n",
      "----------------\n",
      "Run around, What's the frequency you're on? Get around, That's addiction you'll get some. Heart attack, Not as big as the next one. Pulling back, Things look different when you're young. Can't find a, good reason. Can't fight this way i'm feeling. These jealous, teenagers, That laugh at my behaviour. You'd be better off without me, Hate to see you sorry, Days are closing in, You're better off with him. Its boring but i'm making, Promises i'm breaking, Days are growing thin, You're better off with, Anyone, Makes no difference just pick one. Get around, What's the frequency you're on. You're scared around, Conversations you're never wrong. You're better off, New relations, You're better off, You're better off, You'd be better off without me, Hate to see you sorry, Days are closing in, \n",
      "----------------\n",
      "Some days go on forever, Last long into the night, Some days feel like December, although its warm on the inside. Forget the middle of summer, I bet you I am alive. We'll wipe the floors together, nice try. Save it all, You have all the answers, Thank you for the memories and hope you go with it. Crying out, You have all the anger, Blame it on yourself again, there's nothing wrong with it. You're a black hole! Some days are complicated, Some ways i'll take the blame, Some days i take it all to, heart again. This place is made of panic, They check you every mile, Thank god you're going out for, a while. Save it all, \n",
      "----------------\n",
      "My name is Jason, I'll rock your face in, 'cause I've got relations in my band We like Van Halen and Iron Maiden, I'll do the talking understand? Cheeky monkey! Cheeky monkey! Yeah, you know I right, do you want a fight? Stay up all night, if you've got the time Any time I want to, Any place I'll need to I'll be there, yeah I'll be all right So get out of the kitchen, check out my pigeon Fed-ex the masses, on my way Jump on a rock bus, no one can stop us We're going bonkers today Cheeky monkey! Cheeky monkey! Yeah, you know I right, do you want a fight? Stay up all night, cos we've got the time And any time I want to, Any place I need to \n",
      "----------------\n",
      "Yeahhhhh Why you standin there, whatchu starin at? Yeahh we kicked it into overdrive and I'm glad you came along for the ride Sit in tight, watch out for ice These roads are dangerous tonight Danger Stranded with nowhere to go, lets get wasted Throw all your change on the floor This is a chance to lose control and forget all about this mess that we've been stuck in for so long We will prevail, and party to pass all this unwanted time Lets get, GET WASTED More alcohol than anyone could drink in a single night We can tear the place apart but please don't get in a fight! Here we go, get on the floor, get some Don't stop the flow, get up And then we realized We got to get out of this state I can't imagine another day of entrapment Stranded in the ice, we gotta give this a try Sliding off the road, and we got hit by a truck! \n",
      "----------------\n",
      "Lose yourself, save yourself. One more night, one more time. By yourself, no one else. One arrival time to hear you cry tonight. Pray today, slide away. And hide away, no one came. Holy graves, maiden names. Take a breath and hold it in and out again. And if you die, alone tonight. I'll be right, by your side. My advice, alone tonight. Wait a while save a life. Take yourself, you hate yourself. Lie awake, wide awake. Bruise yourself, lose yourself. \n",
      "----------------\n",
      "Buy a junk?, delay that moon?, you think we feel the need to prove That we play the fucking tunes, while you're the one that's fucking you Now if you'd ever spared a day, at these things that don't fucking go away You can see that our contract says that we get to do this our own way Who can't challenge what you do? Don't be punks! Who can't challenge where to go? Don't be punks! And when will we change our tune? Don't be punks! You can't tell 'em when and much! Don't be punks! At this point you fucking loser, you don't have a fucking opinion! \n",
      "----------------\n",
      "I'm down on the floor, there's a man at the door He won't let me in 'cause he thinks he's the law He'll give me a shout when he's figured it out Gotta pick myself up, what am I waiting for? It's never enough, yeah it's never too late I reminded myself that I'm starting again You're telling me \"never\", it should be \"whenever\" And when the world is swinging, I feel like I don't fit in Don't even know the way, don't hear a word they say And all the money making, I just want to have a go, I'm always up on time Why can't I be just like the people that I know? I've got what it takes, I'm bang up to date You know how it is, I'm all over the place Kicked in the face, I'm backstage, everyone here is half of my age Standing in line, I'm hitching a ride I'll give it a try but I don't have the time You're telling me \"never\", it should be \"whenever\" And when the world is swinging, I feel like I don't fit in Don't even know the way, don't hear a word they say And all the money making, I just want to have a go, I'm always up on time Why can't I be just like the people that I know? \n",
      "----------------\n",
      "Thanks a bunch for staying with us tonight Over lunch, we'll talk about the lights I need to go now, I need to drive round I need to lie down Thanks i'm stunned it's time to go I promise you're my best friend Then in the end, that wont make it so I need to go now, I need to drive round I need to lie down Probably notice you're probably worth it, just about Probably notice you're probably worth it, just about Thanks thanks a lot, we love you all Thanks, please thank your Mums 'cause you are the best that we've ever known I need to go now, I need to drive round \n",
      "----------------\n",
      "I like the summer like you like your wife Live in the \"master\" for the rest of my life Every year since I was young And always here and always fun Distant places, staying faces All I want, I understand is it's the summer Over and over it's summer again Fills up the sad hole in my head again Several hours and passing faster To lift their head down to the sand Distant places, staying faces All I want, I understand is it's the summer And it's with it's flowers, and big huge skies It gets high for hours, and then it dies Ocean keeps me up all night Sunshine makes my hair turn white You know I hate the winter time All because there's nothing quite like the summer And it's with it's flowers, and breeses off shore It gets high for hours, and then back for more And it's with it's showers, and big big skies It gets high for hours, and then it dies \n",
      "----------------\n",
      "Yeah yeah yeah I've seen it all Yeah yeah yeah I've heard it all J.P wants to rock, not at five o'clock hes not There's a medal in the kitchen for catching early worms Yeah yeah yeah you're gonna bet Yeah yeah you're gonna learn Don't bother waking me at 5 in the morning 'Cause I don't want to know Don't bother waking me at 5 in the morning 'Cause I don't want to know Stevie knows that it ain't dead Yeah Farmer uncle still in bed M.A.C. was born to rock, there's not a moment that he's not \"A\" communication, illin' in my sleep Yeah yeah yeah yeah yeah yeah yeah I lost count of my sheep Don't bother waking me at 5 in the morning \n",
      "----------------\n",
      "Sick of you, how old do you think you are? Never move, you think everything's too far Telling you you're a fool, but you don't wanna know Thinking through and let me tell you, you're not even close...yeah I tell ya I can't stay you're in the way, so listen when I'm talking It's better than I write, remember every night Say to me you might, be the one What kept you, I'm not bothered anymore Can't place it, get me heading for the door Foot down, you know I like to look outside You found it, you found something that you like...yeah I tell ya I can't stay you're in the, so listen when I'm talking Tell me when I should, i don't drink in your pub What makes you think I work round your ohhhhohhhhhhhh \n",
      "----------------\n",
      "Well we did this once before, and we're giving it some more And it's OK to be as you are you know It's always five on one and you notice when we're done That nobody got hurt, you're the same as what you were you know I've got something for starters, throw it up in the air And I bet you don't care, we're getting louder It sounds ok to me on the desk at ICP Roll the tape 'cos we're rocking album two And our manager don't mind, 'cos we put all that behind We've got another bite and you know the time is right to rock for you I've got something for starters, throw it up in the air \n",
      "----------------\n",
      "All your friends are famous, you're the man at pulling favours Is that the best that you could do? Is that the best we can do? You say it before, and say it again \"You're gonna be massive it's a matter of when\" Is that the best we could do? Do we owe it all to you? You're getting around, you're getting me down It's not that you're used to failure, you put the hours in the cheques come later That's the best that you can do? It's time to take on something new? You're moving in circles, you're all over LA You're big with the ladies, so they don't think you're gay Is that the best you could do? And do we owe it all to you? \n",
      "----------------\n",
      "SIKE! EVERYTHING THAT YOU SAY is false Just like your actions Fill your mouth up with a filthy waste Breathe it in Oh yeah, here we go So how does it feel when the tables are turned? Take a moment breathe it in Get a better perception of the damages Oh, I'm glad I finally got the chance to say 'I got the last laugh now!” And now we start again Oh, we'll take this situation right back to the city that created us \n",
      "----------------\n",
      "Suck it up, we're going down 30 seconds 'till we smash into the ground The passengers have lost their smiles Soon their bodies will be wreckage spread for miles I'm in the shit, knee-deep in it, I know that this might hurt a bit I leave my debts but no regrets - except I wish I'd took the train Another day, another flight There's not a chance of going down, but then we just might So this is it, this is goodbye And I feel like I'm gonna lose my mind I'm in the shit, knee-deep in it, I know that this might hurt a bit I leave my debts but no regrets - except I wish I'd took the train Everybody has their day and I guess I'm just the same [ reklamı gizle hide ads ]But I'm going nowhere Everybody has their day, never thought it would be this way And I really don't care I'm in the shit, knee-deep in it, I know that this might hurt a bit I leave my debts but no regrets - except I wish I'd took the train We're going down, we're out of sky It sure helps if you can see the funny side So this is over and out, this is goodbye And I'm feeling like I'm gonna lose my mind I try to reach her, but she's not there But back home I hope she knows how much I care I ease the seat back and start to pray To the same God that puts bombs in cargo bays \n",
      "----------------\n",
      "Bonfires burning bright Pumpkin faces in the night I remember halloween Dead Cats hanging from poles Little Dead are out in droves I remember Halloween Brown Leafed Vertigo Where skeletal life is known I remember Halloween This day anything goes Burning bodies hanging from poles I remember Halloween \n",
      "----------------\n",
      "Hang on, don't be frightened, Hold on, keep the light on, You call me anytime you want to. Keep a night in summer, Don't cry when its over, You take me anywhere you need to. Like its your birthday, Like on your first date, Hey! You're gonna make it in your own way! You're gonna make it in your own way! Hey! You gotta make it in your own way! Or you're gonna fall... Come on, getting violent, Be strong, and don't be frightened, That's crazy talk where out from hold you lost this. Go where the weather takes you, Don't care, they'll never break you, Love is all we needed in the first place. Like its your birthday, Like on your first date, Hey! You're gonna make it in your own way! You're gonna make it in your own way! Hey! You gotta make it in your own way! Or you're gonna fall... Hey! You gotta make it in your own way! Hey! You gotta make it in your own way! Hey! You gotta make it in your own way! Or don't make it at all... Days'll never feel the same, I get your tears, I feel your pain, I know two people that think the same, I'm giving you your own way. Like its your birthday, Like on your first date, Like its your birthday, Like on your first date, Hey! You gotta make it in your own way! You gotta make it in your own way! Hey! You gotta make it in your own way! Or you're gonna fall... Hey! You're gonna make it in your own way! Hey! You're gonna make it in your own way! Hey! You're gonna make it in your own way! Or don't make it at all... \n",
      "----------------\n",
      "6 o'clock on a tube stop, waiting for a subway train On my own, so alone, why does everybody look the same? To the right there's a sign, telling me which way to go To the left there's an old man shouting at the radio The radioooo-oh Get out, get out, get out, yeah 6 o'clock on a tube stop, waiting for a subway train On my own, so alone, why does everybody look the same? There's a man with a gold band, but he's got his eye on mine There a bomb in a sports bag, could go off at any time - at any time! When my knees don't work, I start to shake I won't panic, I won't hesitate It's alright, it's OK The daylight is that way We all go the same way \n",
      "----------------\n",
      "I want to feel important, want to think I'm worth it Still feeling lame in the end Sit in, in the evening talking to my robots Still feel the same in the end Spend a little time, spend a bit more cash, makes you feel aright Want to know the truth, I feel the same as you do Wake up in the morning, be careful what you ask for It's never gonna do in the end The telephone is ringing, let 'em do the talking It's never gonna do in the end \n",
      "----------------\n",
      "And I'd have a house under the ground All my friends would all come round Laugh about the ones that got away I wouldn't know the time of year It's easier to tan down here I find it funny, I laugh at people And don't know why I sometimes giggle, if there's an earthquake Where good people die And I'd have a house under the ground All my friends would all come round Laugh about the ones that got away I wouldn't know the time of year It's easier to tan down here I'll make the big man, I'll do what I can I'll suffer for my sins Speak with a deep voice, listen to metal So that the good guys never win And I'd have a house under the ground All my friends would all come round Laugh about the ones that got away I wouldn't know the time of year It's easier to tan down here Yeah you should see them all When you sit in on Christmas day But at six o' clock, on the sixth of June is OK Got my life under the sun, pay for the things I've done Pay for my mistakes And I'd have a house under the ground All my friends would all come round Laugh about the ones that got away I wouldn't know the time of year It's easier to tan down here House under the ground House under the ground House under the ground And I'd have a house under the ground All my friends would all come round Laugh about the ones that got away I wouldn't know the time of year It's easier to tan down here \n",
      "----------------\n",
      "Standing with a headache I try to fight but i cant deny the pain Reservations what i got from the bottom to the top On the bottle 5 times a day Standing with the top line You know it's gonna hurt when i close my eyes And i'm shaking, and i feel so alive Stand up and face it Get up, don't waste it What's the worst thing that could happen What's the worst thing that could happen You're bored out of ya mind Fighting all the time What's the worst thing that could happen What's the worst thing that could happen to you When there's nothing on, You find yourself caught in the spotlight You try to fight but you cant delight the phase On your knees is what you're not Keeping what you got Don't try to hide your face Caught in a flashlight You know it's gonna hurt when i close my eyes And i'm breaking, and i feel so alive Stand up and face it Get up, don't waste it \n",
      "----------------\n",
      "Built my walls long and low Knuckles crack and lillies grow Have a baby hold her up let her know Leave the airport to the airplanes Leave the taxis to the runways Silvers high up on the landing Tastes like early morning May you never lose your temper Heavy father heavy son Angryman That's the hurt thats in your head That's the man that you just met May not be a brighter day But there'll be one on the way An angry man needs attention \n",
      "----------------\n",
      "Built my walls long and low Knuckles crack and lillies grow Have a baby hold her up let her know Leave the airport to the airplanes Leave the taxis to the runways Silvers high up on the landing Tastes like early morning May you never lose your temper Heavy father heavy son Angryman That's the hurt thats in your head That's the man that you just met May not be a brighter day But there'll be one on the way An angry man needs attention Contact and direction \n",
      "----------------\n",
      "Stumberling Searching out To make work Slouched behavior and hammer blows The counterman don't pay so send in the pounds I.O.A. Ba na nana electricity You've got many friends From all the colors round Go choose the calmer brown Before you burn your eyebrows down You witheld your number and name punched Friday out of the windowpane It went shady Just like the landlady when it rains \n",
      "----------------\n",
      "Lost without trace indigenous race taken by force and displaced. Sons of the land true American they made their last stand for survival. Pain greed and fear manifest destiny is here. Lies hate revenge crimes of the past are avenged. We're spreading the blood of the innocent. Loud were their cries vicious yet wise a people of peace forced to fight fractured and Few the invaders knew against them they would not unite. [Pre-chorus & chorus] Promises that were made broken and quickly betrayed on reservations They're enslaved a race of resentment and rage. God had a plan this Once savage man has justice poetically made. Temptations of sin that Once did them in now has us the slaves to the Indian [Pre-chorus & Chorus.] \n",
      "----------------\n",
      "(Chicken) Pay the chicken back, back, Pay the chicken back, Pay back the chicken back, Do the chicken payback (Piggy) Pay the piggy back, back, Pay the piggy back, Pay back the piggy back, Do the piggy payback (Monkey) Pay the monkey back, back, Pay the monkey back, See the monkey, do the monkey, Pay the monkey back (Chicken) Pay the chicken back, back, Pay the chicken back, Pay back the chicken back, back, Do the chicken payback (Camel) Pay the camel back, \n",
      "----------------\n",
      "I've got a girl and you've got a (wolf whistle) I'm like a man and you're like a (sumo grunt) I've got a dog and you've got a (quack, quack) I'm up a hill and you're on the (clap, clap) Edge of your seat and you think about where to go To the end of the street and you think about where to go You've got a home and i've got a (car horn) You're on the phone when i'm on the (toilet) You're in the dark and i'm in the (triangle ting) You've got to stop when i'm on the (clap, clap) Edge of my seat and i think about where to go To the end of my street and i think about where to go Well i'm going Oooooohhh oooooohh oooooohh I've seen a ghost and you seen a (werewolf) I left a note and you leave a (hooter) You're on the road and i'm on the (bongo's) You're in a mood and i'm in a (gong) I've got a thing and you've got a (squeaky owl) You've got it good and i've got it I'm feeling weird and your feeling (bird whistle) I'm coming back and you're leaving Bye bye \n",
      "----------------\n",
      "In the sunday times there's an article About me and all and our go-karts Lots of fancy words about two sets of wheels That go fast And only last week the news was read to me By my best friend Full of reports that made all our thoughts Feel really active I think i should stand up and apply myself For the benefit of you, yours and my health There's plenty of room for advantage It's the effort required that makes you so tired It's funny what they chose to tell us It's the head turning press that makes me suggest The message we think that's important Won't make the page today cause it won't pay \n",
      "----------------\n",
      "I've got a job back in texas Cutting the grass before breakfast Cleaning the park I'm there til it's dark But i'm saving up for a lexus I know it's fun But i've got to leave Over the sea with my family Just for a smile To be there for a while And the difference is true I will miss you That's the way it is As if it was planned I've got to let go If i still want your hand When i return I'll buy you a grand You can play the piano \n",
      "----------------\n",
      "He was thinking like a mad man He was jealous on his own And the sooner he figures That he won \n",
      "----------------\n",
      "I've never lifted the morning blanket Like i did when you first stayed The clock i got don't tell the truth It's too tall for here that's why it lays It's noon at three and i'm rubbing shoulders Rocks and boulders chasing me Turn around and touch the ground Now this game is history You got to Follow the fire into the hot one Hook and sling one if you've got one Burn all your burdens into the hot one Follow the fire into the You can be far too careful When ambition is at your table And if you talk of flow and motion Do you know where i get the potion And if i'm stood up straight through struggle I'm surely worth my wait in rubble You got to Follow the fire into the hot one Hook and sling one if you've got one Burn all your burdens into the hot one \n",
      "----------------\n",
      "I walk with you for hours. You gently helped my hand. But our love?s an hourglass. Let love be the sand Let love be the sand Let love be the sand Well we said we?d keep in touch, so I guaranteed we must, Gather up the day and let a sandle in the dust. It?s just they won?t let me led, you?re a lady, I?m a gent. The different ways we went, were the different ways we went I walk with you for hours. You gently helped my hand. \n",
      "----------------\n",
      "Tell me something away from trouble and away from doubting Tell me straight from the spirit, from the top of the mountain Let love be the reason between me and you As real as the morning as fresh as the dew If fates got a hold then it's up to you It's a simple thing we've got to do Just a listening man Try to understand Just a listening man Doing the best I can \n",
      "----------------\n",
      "My woman is a diamond, my woman is an island Her kisses are more than the shooting stars And we went to sea as she's more than most I went right back to the very first page And i read what i wrote and i made a small change Cause ink is like a word on the phone, At the end of the day it's not set in stone The moments arrive, the clouds clear the sky, There's so much we can do today We're laying bets on the next specs of rain will it fall again? A woman is a diamond, a woman is an island Woman is an island, my woman is a diamond \n",
      "----------------\n",
      "I tremble down, if your love Crumbles down, for my love The pressures down, when your love Lifts me to the moon, like a dove When your feelings get put to the ground you can do the Left Foot Step Down. Do yourself some right! If you're being held back with the crowd you can do the Left Foot Step Down. Do yourself some right! The word is love, when your life Needs to be, full of light And when the sun, meets the night Prepare yourself for the world and the fight \n",
      "----------------\n",
      "Tell me something before I stumble and show my weakness Tell me right on the limewire fighting for progress I can hear there's a sound that's coming through There's a post in the ground so what we gonna do? You can have all your dreams if you really believe in Something that's Something true Just a listening man Try to understand Just a listening man Doing the best I can Just a listening man Try to understand Just a listening man Getting carried through this land Tell me something without any lies that cover my feelings Give me time now I understand these lessons have meaning Let love be the reason between me and you As real as the morning as fresh as the dew If fates got a hold then it's up to you It's a simple things we've go to do Just a listening man Try to understand \n",
      "----------------\n",
      "Way down south, way down in the winter Frost on the mouth, frost on the river Is there any love on the harbour? Is there any love, is there any love Is there any love on the harbour? Is there any love, is there any love Bay in the sun, stall from the shiver Run just for fun, run like a winner Is there any love on the harbour? Is there any love, is there any love Is there any love on the harbour? Is there any love, is there any love Lost to the swell, stand and deliver My coins in the well, arrows in my quiver Is there any love on the harbour? Is there any love, is there any love Is there any love on the harbour? Is there any love, is there any love Half ounce of lead, sunk to the bottom I pray to the dead, that love's not forgotten Is there any love on the harbour? Is there any love, is there any love Is there any love on the harbour? Is there any love, is there any love \n",
      "----------------\n",
      "Why is it so Just looking at it from the window Only the young ones know So why'd you make us sing this song Jo When will it go There's something lying in the snow Hiding out below Getting away from the show \n",
      "----------------\n",
      "Ask the riverman Where the river flows Ask the postman Who he knows There's the memory of mistrust Pushing at the glass makes it stop Laid down dry head to head This is what we want Sold out The figures that are left are lonely You won but don't get no trophy If you've got none to give then i won't take a thing Who will defend your bed tonight \n",
      "----------------\n",
      "The man on the television said I need to drink this, And sleep with that, in order to be cool. And you know that I would do almost anything, To be like that guy on TV. I know that if I had just the right outfit And a hairstyle that could be me. Don't you know you can't be cool if you dress dumb, I need to have that 'cause everybody's got one. I think I'll start smoking, That would make me intellectual, That's what I've always wanted to be. I need to lift weights, That would make me more sexual, And that would be good for me. In America it's wonderful, \n",
      "----------------\n",
      "Why can't you just Forget about algebra It's all about you now And all your talk Of logic and formula Could never help you now Not anymore Cause you were always On the run From the darkness In your heart So you wear it On the outside Of your chest I have taken The liberty To tell your ghost to go Bribing them with Sunlight and sympathy They promised not to show For a while Cause you were always \n",
      "----------------\n",
      "Something's watching over me There's someone in My house that I can't see I've asked her many times to leave She tells me she's not evil In my hours of confidence When feeling real and Worthy of my friends When I let go of my defence She's waiting in a corner Angel of sadness Leave me alone Save me some hours To try on my own When the music is over The silence is on You know I will be yours alone So pick me up And carry me home Life with her is getting hard It's like I'm not the Driver of my own car I'm not the holder of my credit card Oh Jesus, make me sober \n",
      "----------------\n",
      "I caught you smiling With pointed teeth What once was beautiful Has turned bitter and cheap So now there's nothing I can do for you But leave your roses Out to die I misbehaved I'm in your way I'm in your way Like an elephant Gentle smiling With pointed teeth Now there's a war between My high hopes and me So this is how you put An end to things By cutting throats With a smile I misbehaved I'm in your way In your way Like an elephant But in the corner Of my mind A little angel saying Don't waste your love You love too much Badadadam Badadam Badadada Ahahaha Ohhhhhh Badadadam Badadam Badadada \n",
      "----------------\n",
      "Would you help me pack my bags I might be leaving I need some sweet assistance While I'm stealing Some of your time I hope that's fine And I've got photographs Of all you all I'm needing Forgiveness if I Left you all believing That I'm the one Cause I feel like none And I need something To direct me to it Cause I'm a frequent flyer A notorious liar, ohh But I can't get close enough I never get close I can't get close enough I would love to tell my story From the ending But the story's getting thin From heavy spending And I need my man And I need a fence And I need someone to protect me From the wench I'm a frequent flyer A notorious liar, ohh But I can't get close enough I never get close I can't get close enough To the ending I can't get close enough, I, I, I I can't get close enough To the sun I can't get close enough I'm a frequent flyer A notorious liar, ohh But I can't get close enough I never get close I can't get close enough It seems \n",
      "----------------\n",
      "In the morning And in the evening When you think You're alone Too many hours In your apartment Has made me Hard as a stone I've tried to crack you I told you you're the one But you must have thought That I have gone I told you a lotta lies Just to get laid But your heart is Hard as a stone You're vicious But I'm a man I'm gonna do What I can To remain Hard as a stone That little pigeon Where did you find her I had to break her Every bone Eleven hours In your pool No longer Hard as a stone She was delicious Now I'm the star If you wanna be What you are You've gotta be Hard as a stone Hard as a stone Ha-ha-ha-hard as a stone You're mean But I'm a man It's not exactly What I planned But it seems I'm hard as a stone I'm hard as a stone Seems I'm hard as a stone \n",
      "----------------\n",
      "A life of sanity and dignity You know it takes two And what's the use in being a millionaire If I can't have you I wanna buy you a home I'll pay your friends If you're feeling alone The pain of losing a guy like you Is a bigger cost Than paying your dues I can buy you, oh yeah, oh yeah But I can't make you do what you don't And I can hire you, oh yeah, oh yeah But I can't make you love me I can't make you You say I'd never go for a little And I always need more And you're a thousand dollar playboy That I just can't afford But I guess you got me, oh, oh You got me hanging around For too long I don't wanna stop it, oh no, oh no \n",
      "----------------\n",
      "(Talking) Quack goes the goose And also goes the duck Moo goes the cow (Singing) My dad is a business man He likes to drink a few He likes to watch the footy And doesn't flush his poo When hes not at works hes dirty Digging in his pit When its deep enough He hangs a little shit \n",
      "----------------\n",
      "Well you know And you go When I'm alone I have no cause To think about the shit We used to know Made of snow Well you came And you stayed No one here To raise a toast Be my guest And I will be your host To a rock'n roll ghost A rock'n roll ghost Well you said She's better off dead You think that I might Have heard a word But I was much too young And much too cool for words Look at me now No one here To raise a toast Take me by the hand Man, raise a toast Or the rock'n roll ghost To a rock'n roll ghost We don't know Until we're gone There's no one here To raise a toast I look into the mirror And I see The rock'n roll ghost My rock'n roll ghost \n",
      "----------------\n",
      "Baby brown I think I need you now To put me down And help me lift me up Your shaking bones In my telephone No good For anyone Baby brown So you think you Know me now You tell me how And show me everything Your wandering mind And your restless kind I want you here To make some sound Oh, silent night Oh, holy night \n",
      "----------------\n",
      "The night s on the edge now Hanging low against the tide The world is at it's best now When the loveless ones collide It's a long night A beautiful night And we're the first leftovers of the night I'm thinking 'bout the last times And the people I had to hurt I wonder why they couldn't touch And why I never gave it up You weren't hard to find You didn't run and hide We were the first leftovers of the night Hide of the night The silence is a burden When you don't really want to talk I'm trying really hard now To set alight my sleepy heart We made a pretty sight \n",
      "----------------\n",
      "I danced for a while And my moves Would make you smile Oh, I loved you then My dear chemical lover You veiled me in your haze Like a puppet in your lace Amazing disgrace From your Silverspoon substance You took me away Made Monday a Saturday You stained me with love And left me in dirty laundry But I left my ground For a minute Your body in my veins Your power is what remains You know I never had Such a bad Bad comedown You took me away Made Monday a Saturday You stained me with love And left me in dirty laundry But I left my ground For a minute My oh my You took pride In my fuck-up I've been cursed And I've been hailed I have blown it And I've inhaled But I never had Such a bad Bad comedown Such a bad Bad comedown Such a bad Bad comedown \n",
      "----------------\n",
      "The lonesome Texas sun was setting low And in the rearview mirror I watched it go I can still see the wind in her golden hair I close my eyes for a moment, I'm still here The bluest eyes in Texas Are haunting me tonight Like the stars that fill The midnight sky Her memory fills my mind (Where did I go wrong) Did I wait too long Or can I make it right The bluest eyes in Texas (the bluest eyes) Are haunting me tonight Another town, another hotel room Another dream that ended way too soon Left me lonely way before the dawn Searching for the strength to carry on The bluest eyes in Texas Are haunting me tonight Like the stars that fill The midnight sky Her memory fills my mind (Where did I go wrong) Did I wait too long \n",
      "----------------\n",
      "Come on baby sing Of the oddness Of the lord It's about time we sang Of the strange ways Of the lord The oddness of the lord The oddness of the lord Come on baby sing Of the oddness Of the lord The strange ways Of the lord The sacred And the cursed It's never Getting better No no no It's only Getting worse Come on people sing Of the oddness Of the lord \n",
      "----------------\n",
      "Here's my prayer I'm getting nowhere I'm stepping up the stairs But falling behind, oh I'm a one-man show That nobody knows My body sure knows I'm wondering why, oh I can't go on singing this song That the angels will not hear The world is a hole from all that I stole But there is still a little love in here Few things will last, I did it too fast But I'm learning to cry Don't be a stepping stone Get it all out, deliver it Here's my weep I'm digging too deep I do believe in lies I've got everything to hide, oh I'm young, I'm old I do what I'm told Cut open, unfold But there's nothing inside, oh I can't go on singing this song \n",
      "----------------\n",
      "Try to remember But my feelings Can't know for sure Tryin' to reach out But it's gone Lucky stars In your eyes I'm walking the cow I really don't know How I came here I really don't know Why I'm staying here Oh, oh, oh, oh I am walking (walking) The cow Try to point my finger But the wind Keeps blowing Me around in circles In circles Lucky stars In your eyes I'm walking the cow I really don't know What I have to fear I really don't know What I have to care for Oh, oh, oh, oh I am walking The cow Lucky stars In your eyes \n",
      "----------------\n",
      "The wind felt like a frail storm With the chimes still singing the summer's born Say goodbye to the rest of the rain We ran until there was no daylight When the sun went down and day turned to night The cities lights with such sustain And there I stood As if I could Be the one to make things right Oh, you got me running backwards and running forwards and Oh, you got me lost inside your eyes with no way out Where I get lost? I got caught inside your arms And even when things get rough Baby you give me a different kind of love The sea was calling when we started to walk The moon came out and we began to talk True stars come out at night Me and you we were like stars Like a movie with a screen do you know who we are? Thank the moon for our spotlight And there I stood As if I could \n",
      "----------------\n",
      "The road seems so far from here And I know everything seems so clear All the weak don't fall beneath the sky All the weak don't leave this life behind Sometimes the world stops meeting you and sometimes your life starts deceiving you When you see that no one is around, Then there's a new direction that we have found I feel everything you feel It's real, all those things you feel All the weak don't fall beneath the sky All the weak don't leave this life behind Sometimes the world stops meeting you And sometimes your life starts deceiving you When you see that no one is around Then there's a new direction that we have found You don't have to be somebody else to be happy So I'll mess with your head and take my time back, To whom it may concern, it lacks, The fire that he had and I realize I can't do this The sunset at the end of the road And I felt his face stare through the window And I'm thinking you should know I can't do this on my own Sometimes the world stops meeting you And sometimes your life starts deceiving you When you see that no one is around Then there is a new direction that we have found \n",
      "----------------\n",
      "The way it started, I had no doubt, Your lips were soft and I was down, Our fingers laced and our hands tied, Our lips were locked and it felt right. But suddenly you became the largest crook known to fame, The biggest cheat, most wanted thief around. Get out of the bank now, Run for the gates now, Even if we fall there won't be a lead at all, (Don't you see). Yeah, it started with good clean fun, \n",
      "----------------\n",
      "Something's got to give, Something's got to give. Let's talk about life, Let's talk about it twice. Everybody wants something magical. Everybody wants something beautiful. Everybody wants something to see, Something to see... Something's got to give, Something's got to give. \n",
      "----------------\n",
      "Close your eyes and watch it all pass us as we know, Because everything in this world is here today and gone tomorrow. So get up and get down and everybody crowd around, Because this is the sound, Get up and get down and everybody crowd around, Because we're getting down. Stop and try to figure out why change never stops, You'll realise that all the change, It won't ever drop. \n",
      "----------------\n",
      "This time I realize you're looking this way with your real eyes. You're the beat that cant stop, the peak of plot, the deep in my thought, the time on my watch. You're the air that I breathe, the world that I see, you are. I could never find a way or right things to say, I guess I just didn't know how. You see the longer that we wait, the more time things could take, I guess I'll have to spell it out... You're my E-V-E-R-Y-T-H-I-N-G Everywhere, everytime, everything. You're the beat that cant stop, the peak of plot, the deep in my thought, the time on my watch. You're the air that I breathe, the world that I see, you are. I could never find a way or right things to say, I guess I just didn't know how. You see the longer that we wait, the more time things could take, I guess I'll have to spell it out... You're my E-V-E-R-Y-T-H-I-N-G Everywhere, everytime, everything. (Girl I can't stop) Girl I can't stop thinking about anyone else but you. You're my E-V-E-R-Y-T-H-I-N-G Everywhere, everytime, everything. \n",
      "----------------\n",
      "The pain that you have fought, the pain that you have broken, I bet you never thought these words, they would be spoken now. There is nothing we can say, there is nothing we can do. There is no way to change the things you can't undo now. Go ahead and go now, Go ahead and go now, Go ahead and go now, I'm sure that I could figure out, Go show all the angels how, Go show all the angels how, Go show all the angels how, Show them what you've found out. As life comes and goes, it seems too quick, But man, it was suppose to end up like this. It doesn't stop here, your journey goes farther, You're right on time for your 3 AM departure. Go ahead and leave, you've got to believe, Don't be afraid, it's okay. Go ahead and go now, Go ahead and go now, Go ahead and go now, I'm sure that I could figure out, Go show all the angels how, Go show all the angels how, Go show all the angels how, \n",
      "----------------\n",
      "This is where the best act is in town like ashes ashes they will all fall down they will all come and watch the play today you pray for this day we'll start to on my count, we'll start that count right about now LIGHTS CAMERA ACTION (3, 2, 1) alright lets make something clear im the star and the only star thats here the only one that will give it his all the only one that takes the fall its time to further adieu thousands sitting number 99 is you now that we are ready on my go ladies and gentlemen enjoy the show and we all have a dream and in every act and every scene theres got to be a star and im the only star so far(X2) Ring around the rosies with pockets full of posies, step backwards, backwards, backwards, and we'll stay off \n",
      "----------------\n",
      "I've been trying and trying just to watch all these lions raging in and outside of me Someday you'll say I will be gone I will be gone Someday you'll say It won't be long I would rather be nothing than be looked at as something Through the eyes of these social royals And if I had just one word to describe what my friends were The last thing I would say would be loyal Someday you'll say I will be gone I will be gone Someday you'll say It won't be long I just want to move on I just want to belong I just want to get along My past is after me and I'm trying to break free from all these mess ups and bad memories I just want to move on to a new place I belong to \n",
      "----------------\n",
      "Get out the candlelight I'll strike the light to watch them ignite Why are people so frantic when they are so romantic Why are people in pain when we can boogie and shake (?) You see we're worn down We're worn down and everyone else in town You're worn down everyone else in town I'm worn down everyone else in town Yesterday is history Tomorrow is a mystery Well today is a gift and it makes it the present Yesterday is history Tomorrow is a mystery Well today is a gift and it makes it the present It's time to tone it down It's time to dim the lights Get up, get out, you're embarrassed (?) We'll call it magic No, no let's call it plastic \n",
      "----------------\n",
      "I've been to just about a million places, Sunny skies everywhere and in between, But just to know I'm right here with you, It's the most beautiful thing I've ever seen. Oh my God you're such a beautiful girl, With such a wonderful way in such a beautiful place, The sun is shining and it warms my face, What a wonderful day I just hope it can stay. I just want to tell you I love you (I love you), and everything is gonna be okay someday soon. I've been to just about a million places, With placid seas and perfect scenery, \n",
      "----------------\n",
      "Every step that I want to take I'm told to hurry up and wait, Every time that I miss a break its just my luck, As I hold hands with hope, fate lies right in front of me, As my eyes have proven to show hope is hope and fate is destiny. So dont say, dont say, we'll catch a break. When things start heading south, you can watch her tear me down, and all that time she didn't show up... Every time that she'd dissapear I'd hope for a whole new better year, and all that time she didn't show up, its just my luck. \n",
      "----------------\n",
      "Welcome to my dreamiest nightmare, Where you're so close but you never get there, There's still some things you need to say to me Because my love, you're my farthest destiny. I never thought, I'd say this again, The three words that you never said, The one phrase that broke a heart in two, Because angel, I love you. If I could turn the clock again, It's the same three words I wish I never said, The one phrase that broke a heart in two, Because angel, I love you. Angel you're the closest thing I've wanted most but you still can't see, I say five vowels and three syllables, They're unnoticed, and you're so dreamable. Angel you were the closest thing That I've wanted most and now that you can see, My five vowels, and three syllables, They are noticed, and you're so dreamable. You never thought, I'd say this again, The three words that you finally said, The one phrase that broke a heart in two, Because angel, I love you \n",
      "----------------\n",
      "Let's get this on tonight We'll turn down all the lights We knew it felt so right I saw you, From across the room, I saw you, And I said to myself By the end of the night We make some time To have a conversation that will start this off right Cause you looked Right into my eyes You looked, So shocked and surprised Cause I've been catching looks from across the room Watching you fake conversation because you knew that I was looking too Lets get this on tonight We'll turn down all the lights We knew it felt so right Even if this is just for tonight From then on, It was all over, Ya from then on, We kept getting closer Well you came down the stairs, grabbed my hand and lead me Through a long lit hallway, to the bedroom and you said to me Let's get this on tonight We'll turn down all the lights We knew it felt so right Even if this is just for tonight \n",
      "----------------\n",
      "Yeah, yeah, yeah, yeah Wipe down the combination to your heart Lost spinning round and round to watch it come apart I know the things you say and what you do Are all spinning one four three times to open the heart from you I know you want to go to bed when I wake up I know you want the window open when I want it shut I know you want to leave when I would love to stay I know you want to be different from me in every way The things that I can't stand The things you always do The thing that hurts the most Is that I can't have you The finger tips, the long blonde hair, the tight blue jeans you always wear I miss it so, I miss it so I miss you, yes I do \n",
      "----------------\n",
      "Your fingertips across my skin The palm trees swaying in the wind Images You sang me Spanish lullabies The sweetest sadness in your eyes Clever trick I never want to see you unhappy I thought you'd want the same for me Goodbye, my almost lover Goodbye, my hopeless dream I'm trying not to think about you Can't you just let me be? So long, my luckless romance My back is turned on you I should've known you'd bring me heartache Almost lovers always do We walked along a crowded street You took my hand and danced with me Images And when you left you kissed my lips You told me you'd never ever forget these images, no I never want to see you unhappy \n",
      "----------------\n",
      "Don't know what to do anymore I've lost the only love worth fighting for I'll drown in my tear storming sea, That would show you, that would make you hurt like me All the same I don't want mudslinging games It's such a shame To let you walk away Is there a chance? A fragment of light at the end of the tunnel? A reason to fight? Is there a chance you may change your mind? Or are we ashes and wine? Don't know if our fate's already sealed This day's spinning circus on a wheel I'm ill with the thought of your kiss Coffee laced intoxicating on her lips Shut it out \n",
      "----------------\n",
      "Thick as thieves the last of leaves In the winter sun Holding fast this freezing branch Is home to us Step, step right over the line And onto borrowed time When it's life, not waiting to die Waiting to divide to divide Counting stars and passing cars On the interstate The end is near I feel it dear, But I am not afraid Step, step right over the line \n",
      "----------------\n",
      "Come on, come out The weather is warm Come on, come out Said come on, come on A spot in the shade Where oranges fall A spot in the shade Away from it all Watching the sky Watching a painting coming to life Shifting and shaping Staying inside It all goes it all goes by A blanket unfolds A blanket tonight The pieces of gold \n",
      "----------------\n",
      "Stitch in your knitted brow And you don't know how You're gonna get it out Crushed under heavy chest Trying to catch your breath But it always beats you by a step, all right now Making the best of it Playing the hand you get You're not alone in this There's hope for the hopeless There's hope for the hopeless There's hope Cold in a summer breeze Yeah, you're shivering \n",
      "----------------\n",
      "Something causing fear to fly Rising like a dark night In silence Traveling like a broken boat Heading for the sky And I'm an island I watched you disappear into the clouds Swept away into another town The world carries on without you But nothing remains the same I'll be lost without you Until the last of days The sun is in the east, Rising for the beasts And the beauties I wish that I could tear it down, \n",
      "----------------\n",
      "Liar, liar You're such a great big liar With the tallest tales that I have ever heard Fire, fire You set my soul on fire Laughing in the corner as it burns Right between the ribs is sinking in Oh, the sirens sing so sweet and watched the sailors go down Oh, oh, you talk to me in siren song Yeah, anyone would drown Anyone would drown Sick and tired of this mad desire Fluttering aside me like a hawk Wire wire Got my hands on wires \n",
      "----------------\n",
      "We stood so tall we caught a plane by the wing and held it Until we found it a place to land We layed across the ocean wide Bridged the gap in record time The people traveled across and kissed our hands All for love we become Larger than lifesize, wondersome Great in the eyes of someone Larger than lifesize we become Great in the eyes of someone We smiled so bright the sun went down Rose above the maddening crowd We lit the streets with the sweetest glow We held the globe and made it turn Wandered through the universe The men of science observed through telescopes All for love, we become Larger than lifesize, wondersome Great in the eyes of someone Larger than lifesize we become, Great in the eyes of someone Larger than lifesize we become Larger than lifesize we become Great in the eyes of someone \n",
      "----------------\n",
      "He and I had something beautiful But so dysfunctional, it couldn't last I loved him so but I let him go 'Cause I knew he'd never love me back Such pain as this Shouldn't have to be experienced I'm still reeling from the loss, Still a little bit delirious Near to you, I am healing But it's taking so long 'Cause though he's gone And you are wonderful It's hard to move on Yet, I'm better near to you. You and I have something different And I'm enjoying it cautiously I'm battle scarred, I am working oh so hard To get back to who I used to be He's disappearing Fading subtly I'm so close to being yours Won't you stay with me Please \n",
      "----------------\n",
      "The paths have been crossed The crumbs are gone and the way, and the way is lost Melancholy phantoms eye our skins Poison apples falling with the wind Hear the sigh of the trees Those who enter here never leave And the rangers scream out of their cabins They are the hunters We are the rabbits Maybe we don't want to be found Maybe we don't want to be found Further in and on we go Sightless creatures tugging at our clothes Cutting through the twilight, sword in hand Strangers once united against the land At the sound of the bells they're pulling paper lanterns from their shelves The rangers scream out of their cabins They are the hunters and we are the rabbits Maybe we don't want to be found \n",
      "----------------\n",
      "Help me out said the minnow to the trout I was lost and found myself swimming in your mouth Help me chief I've got to plans for you and me I swear upon this riverbed I'll help you feel young again Not your every day circumstance Hummingbird taking coffee with the ants Please, I know that we're different We were one cell in the sea in the beginning And what we're made of was all the same once We're not that different after all Help me out said the eagle to the dove I've fallen from my nest so high above Help me fly I am too afraid try Now saddled with a fear of heights \n",
      "----------------\n",
      "It's one hundred and nine degrees in this crowded room No room to breathe with walls as cold as a gallery This is no place for me Such hard faces in smoke The smell lingers in my clothes It's a bad night to be alone But that's the way it goes And I think of you whenever life gets me down I think of you whenever you're not around And you rest your bones Somewhere far from my house Yeah, but you still pull me home I thought I had it figured out in a brand new life With a great big house And green initials on the towels I should be happy now Well, you got yourself a family And you planted roots down by the sea \n",
      "----------------\n",
      "Running the race Like a mouse in a cage Getting nowhere but I'm trying Forging ahead But I'm stuck in the bed That I made so I'm lying But if you keep real close Yeah, you stay real close I will reach you I'm down to a whisper In a daydream on a hill Shut down to a whisper Can you hear me still Eager to please, Trying to be what they need But I'm so very tired I've stopped trying to find Any peace in my mind Because it tangles the wires But if you keep real close \n",
      "----------------\n",
      "One, two, three Counting out the signs we see The tall buildings Fading in the distance Only dots on a map Four, five, six The two of us a perfect fit You're all mine, all mine And all I can say Is you blow me away Like an apple on a tree Hiding out behind the leaves I was difficult to reach But you picked me Like a shell upon a beach Just another pretty piece I was difficult to see But you picked me Yeah you picked me \n",
      "----------------\n",
      "Migren nobetı hicran saati ofkem defini kaygıma baki sözler muhafız gibi cetin harbim yanıyor yureyım son tabır(2)ona buna deıl de gel sen bizi bize sor(yeah)bize sor ay to the pi ooo rap ilacına nuda gelsen yine bize sor (yeah) bize sor ey to the pi oooo Dur sorma yettı elımdekı bu yetkı hollandada maronayı ben ektım varsa bozuk avlanır keklık rape ii gun kucukten ben tutardım hep dusukken ruzgar esmeden usutmem mermuda gıbı bu ucgen ef you bi de eypioo çek duman hade beklıon ze be murapo maystro herkez takılıo fedel kastro uskudar nugu kursun bahtıyar burda dalga ama orda var kubar gorbocov gibi yıktıgım duvar manıta beklıo ve actım fermuar gece apoyla rap eder iftiar harbi kurulmas hic bir iktidar bana diss yapmak harbı ıntıhar kara goze kara kalem cekmıs riban rap kımde nugu biliıon para cebınde senın mılıon suyrgun var onbu bılıom 3 rapci ve 3 porsıyon \n",
      "----------------\n",
      "var var var bi tatar varsa kalem ona nabzı atar herkez ismine bi nokta katar kabzısı var rapim ağzı sıvar beni bi bekle ve kal öyle arıyolar ama beni ne yönde tek rakibim kendi gölgem her insan oluşur nigı bi dölden bir işi yapan var biliyosun amman domalırsa her popo olur kocaman kar yağmadı ama gene donacan oltada yem olan anca solucan yazmak istiyosan önce bi durucan sonra yağmur olup kağıda yılıcan şimşek çakıcam rüzgarı salıcam belki o zaman sel olup akıcam herkez alır nette beleşe fan para verip alda seni bi görelim lan al resime değil raplerime an kitap yok albümde harbi kan \n",
      "----------------\n",
      "verse1: körpeydim düştüm çakalların ortasına buldum kendimi bir fitne yuvasında ikiyüzlü bir toplumda ayakta kalabilen devam edermiş yoluna çıkarcılarla dalaştım hep ben yalancılarla cenk ettim hemen kaybeden yine ben oldum yine ben samimiyete s.ktiri çekenler vurdular bana hemen beni ağlattı arkasına bakmadan çekip giden sandılar ki kendileridir hep yenen düşünmezler ki tecrübedir bana dönen unutma onlar hep yenilen rabbenaya isyan çeken kararır dünyası cennet iken yaranırmış deveye diken insana s.ken kalplerini satmışlar dünyevide iken gavatlar kandırırlar hep seni onların çevresinden az kalır dünyanın eni damarlarında dolaşır pis kan sakın bu itlerin sözlerine kan darda kalınca onların yaptıklarını an bizim insanlarımız olaylara sadece bakan yüzüne gülerek gelirler adamı ayak üstü yerler bizim üzülmemiz sadece onları körükler gasp,cinayet,tecavüz bunları yapanlar hep aynı yüz yeter artık hep mazlumları üz bu olaylar sürecek daha kaç güz ağlamakla gelmez giden bu sözler mc ask'den nakarat: devam etmekte kara döngü yapılanlar bize döndü x2 şeytan onlara hep güldü \n",
      "----------------\n",
      "verse 1: 4tane pezevenk bir araya gelmiş beni çağırmama sebepleri kevaşelermiş senide nişanlıda kendi evinizde dolamaltayım üsütüne de şekerle çatlıyıp patlıyım en kralınızın üstüne atlıyım ağzını burnunu patlatayım bunu doğru anlayın 4nüzün de kahpeler ruh ikizi,parayı basıyo sonrada var yanında rus ikisi fıs 2ikisi çevrendenizdeki benim en delisi neler yaptım zamanında sor eski dostlara 2manita gösterdim dedim birini seçin dediniz o çikin bu çikin gidin 31 çekin bakaldan şeker çalmaya benzemez bizim olaylar duyduğunda barut sesi kulağını tırmalar hırpalar üstünde çalıntı kıyafetler bulunan adamlar tanrıya kalmaz onlar yargılar verse 2: 5abaza kaldırmış bitchin kıçını,ortamın en hırçını bi şey diyon yırtıyo kıçını kendinden daha paspallara bakıyo yoksa kendi sönük ışığını tiplilerle saçamıyo (ohhh) delkoltesini saklamakla uğraşıyo ama yarım limon kadar şeyi salak çok sexy sanıyo anyone who has pussy in city,hepsine verecen bu big dicki,can't you understant this rapi,o zman geliştircen ingilizceni,birazda vücut tabi sonra where is the party bi ortama girdiğinde otur önce bi nabız yokla biraz havayı kokla sonra atla hatunlara ilk muhabbet olmasın gangsta hatıraların çünkü mekandan giderken soluyacağın hava bizim sokakların senin gibi korkakların yüzünden zengi oldu taksici dostların nakarat: cepte yine kene yok (yok) ortamlar daha da bok (bok) telaşlandıran artık çok(çok) şarjörü makinaya sok(sok) \n",
      "----------------\n",
      "All The Times All the times she talked of death All the times she talked of him All the times she cut herself The pain runs through me aswell All the times she cryed over him All the stories she made of him All the times she thought of death The pain runs through me aswell All the times I cryed for her All the times I prayed for her \n",
      "----------------\n",
      "I'll always remember It was late afternoon It lasted forever And ended so soon (yea) You were all by yourself Staring up at a dark gray sky I was changed In places no one will find All your feelings so deep inside (deep inside) Was then that I realized That forever was in your eyes The moment I saw you cry The moment that I saw you cry It was late in September And I've seen you before (and you were) You were always the cold one But I was never that sure You were all by yourself Staring up at a dark gray sky I was changed In places no one will find All your feelings so deep inside (deep inside) Was now that I realized \n",
      "----------------\n",
      "We get it almost every night When that moon is big and bright It's a supernatural delight Everybody's dancing in the moonlight Everybody here is out of sight They don't bark and they don't fight They keep things loose they keep it tight Everybody's dancing in the moonlight Dancing in the moonlight Everybody's feeling warm and bright \n",
      "----------------\n",
      "Welcome to the planet Welcome to existence Everyone's here Everyone's here Everybody's watching you now Everybody waits for you now What happens next What happens next I dare you to move I dare you to move I dare you to lift yourself up off the floor I dare you to move I dare you to move Like today never happened Today never happened before Welcome to the far out Welcome to resistance Attention is here Attention is here Between who you are and who you could be Between how it is and how it should be \n",
      "----------------\n",
      "I close my eyes and even when I'm sleeping I'm alright Cause you are in my life Once upon a time I only imagined this And now you're mine Wished for you so hard Pray that you'd find me Maybe you're here today Here to remind me If you believe that dreams come true There's one that's waiting there for you Cause I believed when I saw you that when you want something enough Then it can't escape your love There is nothing in the world that cannot be If you believe Everybody said that I was a fool to think that we connect (Everybody said that) I couldn't get my heart out of my head They just didn't see No they just couldn't know The feeling that you get The places that you go \n",
      "----------------\n",
      "Hello, good morning, how you do? What makes your risin' sun so new? I could use a fresh beginning too All of my regrets are nothing new So this is a way, that I say I need You This is a way This is a way That I'm learning to breathe I'm learning to crawl I'm finding that you and you alone can break my fall I'm living again, awake and alive I'm dying to breathe in these abundant skies Hello, good morning, how you been? Yesterday left my head kicked in I never, never thought that I would fall like that Never knew that I could hurt this bad I'm learning to breathe I'm learning to crawl \n",
      "----------------\n",
      "There's something about you, Tears me inside out whenever you're around There's something about you Speeding through my veins until we hit the ground And there's something about this rush Take it away It made me feel so good I get a feeling, you get a feeling, we get a feeling Like we could die Mother we just cant get enough we just cant get enough Mother we just can't get enough we just can't get enough There's something about you That tears me inside out whenever you're around And there's something about you That makes me fly You're a heart attack, just the kind I like and there's something about your kiss haunting and strange That makes me feel so good I get a feeling, you get a feeling we got a feeling Like we're alive This world may not have too much time But baby I'm fine because maybe you're mine \n",
      "----------------\n",
      "Well I cannot ever really believe no one was out to get me I feel like I'm being erased no one got left here Well I'm all alone no one was out to get me Well I'm all alone no one got left here But I'm fine no one got left here well I'm fine no one got left here I can't even breathe when I see The pictures sent without you Well I feel like I'm being erased No one got left here Well I'm all alone no one was out to get me Well I'm all alone no one got left here \n",
      "----------------\n",
      "There's a song that's inside of my soul it's the one that I've tried to write over and over again I'm awake in the infinite cold but you sing to me over and over and over again So I lay my head back down and I lift my hands and pray to be only yours I pray to be only yours I know now you're my only hope Sing to me the song of the stars [ reklamı gizle hide ads ]of your galaxy dancing and laughing and laughing again when it feels like my dreams are so far sing to me of the plans that you have for me over again I give you my destiny I'm giving you all of me I want your symphony singing in all that I am at the top of my lungs I'm giving it back \n",
      "----------------\n",
      "Ninety miles outside Chicago can't stop driving I don't know why so many questions need an answer two years later you're still on my mind Whatever happen to Amelia Earhart who holds the stars up in the sky is true love just once in a life time did the captain of titanic cry someday we'll know if love can move a mountain someday we'll know why the sky is blue someday we'll know why I wasn't meant for you Does anybody know the way to Atlantis or what the wind says when she cries I'm speeding by the place that i met you for the ninety-seventh time... tonigh someday we'll know why Sampson loved Deliah one day I'll go dancing on the moon someday you'll know that I was the one for you (yeah yeah yeah yeah) I bought a ticket to the end of the rainbow I watched the stars crash in the sea if I could ask God just one question why aren't you here with me... tonight \n",
      "----------------\n",
      "There's always something in the way There's always something getting through but it's not me it's You sometimes ignorance rings true but hope is not in what I know not in me it's in You it's all I know it's all I know it's all I know I find peace when I'm confused I find hope when I'm let down not in me but in You it's in you I hope to lose myself for good I hope to find it in the end not in me ... me in You in You in You it's all I know it's all I know it's all I know in You in You its in You its in You there's always something in the way there's always something getting through but it's not me it's You it's You it's You .... \n",
      "----------------\n",
      "Mark: Sunday Football I got booed off the pitch Some people gamble as a way to get rich I got to find a better way to invest in zeroes oh Cigarettes may damage your wealth I'd rather save it all to spend on myself I got a letter of eviction and I'm no hero Ben: I'm not a saver I'm a spender I'm a one weekender Paul: What can we do when our two worlds collide there's only ten ways to survive all the chances of knowing After a hard day at work I go home I don't know where I'm going but I'm ready to go I made a lot of money but got nothing to show And now it's 2:59 and I'm still waiting for the train to go home Christian: I've been thinking 'bout the meaning of life Plenty of butter but I don't have a knife Sure beats the hell out of waiting for a ticket to Rino Watching Tv makes me really upset I wonder why I haven't been on it yet I'm still waiting for a part in a Tarantino Ben: I'm not a saver I'm a spender I'm a one weekender Paul: What can we do when our two worlds collide there's only ten ways to survive all the chances of knowing After a hard day at work I go home You know I don't know where I'm going but I'm ready to go I made a lot of money but got nothing to show And now it's 2:59 and I'm still waiting for the train to go home Yeah yeah i said i wanna go home What can we do when our two worlds collide ahhhhhhhhh After a hard day at work I go home I don't know where I'm going but I'm ready to go I said I made alot of money but got nothing to show And now it's 2:59 and I'm still waiting for the train to go home Yeah I'm waiting for the train to go home \n",
      "----------------\n",
      "Baby come back, hear me out Is there any way to reach you now Sitting on the edge thinking out loud Maybe there is something that you know Something that only you know Crying out loud, I wanna do good I do it all for you if I could The way it looks now from where I stood Maybe there is something that you know Something that only you know But Running away isn't the way Cause if you want it bad enough Get it if you dont give up Running away isn't the way Cause if you want it bad enough Get it if you dont give up If you want it bad enough If you want it bad If you want it bad If you want it bad enough If you want it bad If you want it bad If you want it bad enough Take a little time think this through See it from another point of view Putting myself in any ol shoes Maybe there is somewhere that you go Somewhere that only you go Trying to move on all the way down Waiting for your head to hit the ground Whatever you're in we'll figure it out Maybe there is something I do now That wherever you go \n",
      "----------------\n",
      "[ALL:] JUST ONE ON ONE! THAT'S THE WAY WE DO IT (BABY) [x 2] [BEN:] BABY, I CAN'T ALWAYS SAY WHAT'S ON MY MIND, YEAH NEW SENSATIONS [ALL:] GOT ME MARK: BREAKING OUT THE LOVE I FEEL INSIDE YEAH, I'LL TAKE YOU TO A WONDERLAND [BRIDGE] [ALL:] YOU HIT ME RIGHT BETWEEN THE EYES I SHOULDA LISTEN TO MA MAMMA DONE TOLD ME YOU SENT ME SOARING TO THE SKIES AIN'T GONNA LISTEN TO MA MAMMA DONE TOLD ME [CHORUS] [ALL:] GIRL, THIS PARADISE IS OURS THE PLANET MOON AND STARS BELIEVE IN ME BABY [MARK:] (YOU'VE GOT TO BELIEVE) [ALL:] BELIEVE IN ME BABY [BEN:] BE THE FIRST TO BELIEVE [VERSE] [CHRISTIAN:] BABY, ELEVATE OUR LOVE INTO THE SKIES YEAH, COOL VIBRATIONS [ALL:] ROCK ME [PAUL:] FLY ME UP TO HEAVEN IN YOUR EYES YEAH, ITS MAGIC WHEN YOU HYPNOTISE [ALL:] REPEAT BRIDGE YOU HIT ME RIGHT BETWEEN THE EYES!!.. \n",
      "----------------\n",
      "Baby's good to me you know She's happy as can be you know And she said so I'm in love with her and I feel fine Baby says she's mine you know And she tells me all the time you know She said so I'm in love with her and I feel fine I'm so glad she's my little girl She's so glad she's telling all the world That her baby buys her things you know That he he buys her a diamond ring you know And she said so She's she's in love with me and I feel fine I'm so glad she's my little girl She's so glad she's telling all the world She loves you yeah, yeah, yeah [2x] And with a love like that you know you should be glad \n",
      "----------------\n",
      "[Paul:] You said that love was just a state of mind A puzzle made of pieces that you can't find But for me you never really had the time I was blind, oh [Christian:] And everything that you meant to me Is written in the pages of my history But it's over now as far as I can see Suddenly [Nakarat] [Ben & All:] Things are so different now you're gone I thought it'd be easy I was wrong And now I'm caught And now I'm caught in the middle Even though I'm with someone new All I can think about is you And now I'm caught And now I'm caught in the middle [Mark:] Moving on she brings me brighter days The thoughts of you are in my mind always Like a memory that I can't erase \n",
      "----------------\n",
      "Believe in your heart No matter what the people might say. The chance you take could take you to the top. Listen up You know you gotta throw your fear away. Together we can make it Shake it up baby. [Aralık] [Köprü:] Hear the voices rock the nation A calling to the skies I can see eternity is in your eyes. [Köprü Come on everybody there's a party to go to. They're holding out for you! With every chance you take, a change you make. The start of something new. [nakarat All around the world they are singing Calling to the beginning. Oh oh oh celebrate our love, People with imagination. \n",
      "----------------\n",
      "Paul: Believe in you heart No matter what the people may say The chance you take could take you to the top Mark: Listen up- You know you gotta throw fear away Together we can make it Shake it up oh-oh baby Chris: Hear the voices rock the nation A calling to the sky I can see eternity is in your eyes Ben: Come on everybody there's a party to go to There holding out for you! With every chance you take A change you make The start of something new All: All around the world they're singing Calling out a new beginning Oh-oh-oh celebrate our love People with imagination Everywhere a celebration Oh-oh-oh celebrate our love Celebrate our love Chris: Good to be free Living out our own destiny The beat will last forever Never stop Ben: Gotta move- You know we gotta groove into the light Tonight will be the night that We're breaking it up Break it down baby yeah Mark: Hear the voices rock the nation A calling to the sky I can see eternity is in your eyes Paul: Come on everybody there's a party to go to \n",
      "----------------\n",
      "Sorry for making you cry For turning away As you walk on by But baby I need to be strong And I need to move on with my life You know it's not that I don't care So don't make me feel bad It's not fair Baby you know all the reasons I made my decisions in life Now a girl's gotta do what a girl's gotta do And a boy had to become a man And I'm sorry for saying But it's love that I need And that love I just can't get from you It's funny how things turn around One day I am lost Then I'm found It happened so fast I knew it would last From the first time I first looked in your eyes Although it's so soon this I know I'll never be on my own Dreams turn to tears She buries my fears And I will cherish this love ever more You know it's not easy to do Turning my back on me and you But baby I need someone there Who will love me and care for my life Smiles they turned into tears And all of my dreams They all disappeared Baby this cannot be right So I'll turn down the light On our love Now a boy's gotta do \n",
      "----------------\n",
      "Crazy The crazy things I heard you say I'm mad about you all the same I never really saw the crime Yet went ahead and served my time I never met someone like you before But sometimes that is not enough Cuz I can't help just feeling I must be crazy for leaving you Must be crazy for feeling blue But my heart lately has been untrue I must be crazy, crazy for leaving you I will regret this chosen mind I never wanna see you cry I care about u endlessly u deserve a deeper love than me I don't know if I'll make it on my own But I tried so hard to let it go And I can't hide this feeling And I know that I will miss you like a fool But there's something in my life And I can't hide this feeling I must be crazy for leaving you Must be crazy for feeling blue But my heart lately has been untrue I must be crazy, crazy, crazy for leaving you \n",
      "----------------\n",
      "You just found heaven, It's safe to say you'll do it again. It's been a while since you needed a shoulder to cry on, Now you're coming to me for a helping hand, You're out all night fooling around, It just ain't right the way you're letting her down, It's the same old story time after time. Take a look at your life, You just found heaven and threw it away, It's safe to say you'll do it again, You just can't get it right, But I'll be here for you my friend, Just like before you'll do it again. How can you turn your back on the girl you rely on, Then you leave it to me to try and turn it around, Now you're up all night, head in your hands, How can I help you understand, It's the same old story time after time. Take a look at your life (take a good look), You just found heaven and threw it away, It's safe to say you'll do it again (you know you'll do it again), You just cant get it right (oh no you cant), \n",
      "----------------\n",
      "Looking back on yesterday Memories won't fade away I can't forget the love we made So beautiful , we had it all No use looking to the past We both knew it wouldn't last But it was fun we had a blast So beautiful, as I recall Where did it go yeah... Say do you remember on the first of December When we were riding on the backseat Turned the radio on and played our favorite song And there we were making out to the back beat My girl'd get sad and your man'd get mad But they don't have to know Do you remember singing, now? Breaking rules we always would Doing things we never should We were so bad but it felt so good Do you remember I think you remember I wonder where you are tonight But I know that you'll be alright 'Cos I see our star is shining bright It's so beautiful, it will never fall \n",
      "----------------\n",
      "I can feel that the wheel is in motion And there's life in this old timer yet Looking back there's a new reflection Now I know what you give is what you get In the end it's all or nothing And I feel I'm ready now So I try to be the answer 'Cause I don't wanna lose you again Now I bet that your ears are burning With three words on the tip of my tongue I just hope that your heart is open So that I can undo what I've done \n",
      "----------------\n",
      "Everybody needs somebody Everybody needs somebody to love (someone to love) Sweetheart to miss (sweetheart to miss) Sugar to kiss (sugar to kiss) I need you you you I need you you you I need you you you In the morning I need you you you When my soul's on fire Sometimes I feel I feel a little sad inside When my baby mistreats me I never never never have a place to hide I need you Sometimes I feel I feel a little sad inside When my baby mistreats me I never never never have a place to hide I need you you you I need you you you \n",
      "----------------\n",
      "Lately I`m not who I used to be Someone`s come And taken me Where I don`t wanna go If I knew exactly what I have to do In order to be there for you When you were feeling low And all the things we ever wanted Were once yours and mine Now I know we can revive it All the love we left [Nakarat] Every time I kiss I feel your lips and Every time I cry I see your smile and Every time I close my eyes I realise that Every time I hold your hand in mine \n",
      "----------------\n",
      "Tim Finnegan lived in Walkin' Street. A gentleman, Irishman, mighty odd; He had a beautiful brogue both rich and sweet. And to rise in the world he carried a hod. Now Tim had a sort of the tippler's way. With a love of the liquor poor Tim was born And to help him on with his work each day. He'd a \"drop of the cray-thur\" every morn. Whack fol me darlin', dance to your partner Round the floor, your trotters shake; Wasn't it the truth I told you Lots of fun at Finnegan's wake! One mornin' Tim felt rather full. His head was heavy and it made him shake; He fell off the ladder and broke his skull So they carried him home his corpse to wake. They rolled him up in a nice clean sheet And laid him out upon the bed, With a gallon of whiskey at his feet And a case of the blue star at his head. Whack fol me darlin', dance to your partner Round the floor, your trotters shake; Wasn't it the truth I told you Lots of fun at Finnegan's wake! His friends assembled at the wake. And Mrs. Finnegan called for lunch, They brought in tea and whisky cake. Then pipes, tobacco and brandy punch. Then Biddy O'Brien began to cry. \"Such a nice clean corpse, did you ever see? \"O Tim, mavourneen, why did you die?\" Arragh, hold your gob says Paddy McGhee! Whack fol me darlin', dance to your partner Round the floor, your trotters shake; \n",
      "----------------\n",
      "Love leads to laughter Love leads to pain With you by my side I feel good times again Never have I felt these feelings before You showed me the world How could I ask for more And although there's confusion We'll find a solution to keep my heart close to you And I know, yes I know If you hold me, believe me I'll never, never ever leave And I know There is nothing that I would not do for you Forever be true And I know Although times can be hard We will see it through I'm forever in love with you Show me affection In all different ways Give you my heart For the rest of my days With you all my troubles are left far behind Like heaven on earth When I look in your eyes And although there's confusion We'll find a solution To keep my heart close to you And I know, yes I know \n",
      "----------------\n",
      "Put it on to me I can hear you baby 'Cause we've been Here once before I can feel the heat Don't you feel it baby? And it makes me Want you more Didn't you tell me yesterday We gotta take it all the way We're funkin' up And I like it Now you're getting hot Give it all you've got We're funkin' it up And I like it Now you're burnin' up Never gonna stop 'Cause I like it, ooh, Don't you know I like it, ooh And now You're close to me We got to move together And I've never Felt so sure Your sexuality, I'm in a love hangover The rhythm of your body Is the only cure Carried away Like butterflies Feeling the music Takes you high Baby, You know we're \n",
      "----------------\n",
      "I know a girl with a broken smile He's been hurting her for quite a while But she loves him She still loves him I've got a friend with a heart of gold He loved his wife even when he was told She's unfaithful He still faithful I guess in life you don't always reap what you saw It doesn't make much sense but I'd like to know Why do good things happen to bad people Bad people Don't deserve it Why do bad thing happen too good people Good people Don't deserve it I've seen a man working all his life Lose his job to a new device Still he's grateful Yeah, he's grateful I know somebody who's got all they need Who built an empire stepping on the weak Still ungrateful So ungrateful \n",
      "----------------\n",
      "CHRISTIAN: You and I, cannot hide The love we feel inside, The words we need to say. MARK: I feel that I Have always walked alone. But now that you''re here with me, There''ll always be a place that I can go. PAUL: Suddenly our destiny Has started to unfold. BEN: When you''re next to me I can see the greatest story love has ever told ALL: Now my life is blessed With the love of an angel. BEN: How can it be true? ALL: Somebody to keep the dream alive. BEN: The dream I found in you. ALL: I always thought that love would be the strangest thing to me BEN: But when we touch, I realise that I found my place in heaven by your side. PAUL: I could fly, when you smile. I''d walk a thousand miles to hear you call my name. BEN: Now that I have finally found the one who will be there for me eternally my everlasting sun. MARK: Suddenly our destiny has started to unfold. \n",
      "----------------\n",
      "HELP! I NEED SOMEBODY HELP! NOT JUST ANYBODY HELP! YOU KNOW I NEED SOMEONE HELP! WHEN I WAS YOUNGER SO MUCH YOUNGER THAN TODAY I NEVER NEEDED ANYBODY'S HELP IN ANY WAY AND NOW THESE DAYS ARE GONE I'M NOT SO SELF ASSURED NOW I FIND I'VE CHANGED MY MIND I'VE OPENED UP THE DOORS HELP ME IF YOU CAN I'M FEELING DOWN AND I DO APPRECIATE YOU BEING 'ROUND HELP ME GET MY FEET BACK ON THE GROUND WON'T YOU PLEASE, PLEASE HELP ME? AND NOW MY LIFE HAS CHANGED IN OH SO MANY WAYS MY INDEPENDENCE SEEMS TO VANISH IN THE HAZE BUT EVERY NOW AND THEN I FEEL SO INSECURE I KNOW THAT I JUST NEED YOU \n",
      "----------------\n",
      "There's a chill in the air Looks like the winter is returninYou know I have to stay Until I find a way to get through this Nothin' ventured nothin' gained Now there's no healin' without some kind of pain Hey baby, things have got to change Here comes the rain No need to hide I know the sunshine's on the other side Won't let the storm roll over me Set down these walls once and for all and set me free Here comes the rain I left it all to chance Maybe the odds were all against me Now it's out of my hands but I will see it through if you let me Nothin' ventured nothin' gained And there's no healin' without some kind of pain And you tell me baby, we can't go on this way \n",
      "----------------\n",
      "Hey you, looking around at your friends You see something about them has changed And nothing clear They''re not the same Don''t take it to hear all the same You''ll see it works out better that way Don''t be afraid to shout your name Do what you gotta do The world is waiting for you There ain''t nothing to lose Everybody today Everything is OK Come together and say It''s alright it''s alright You don''t have to stop the way you''re feeling Cos you''ve got time to get it right Let your mind know where it''s leading It''s alright it''s alright It''s alright it''s alright \n",
      "----------------\n",
      "Maybe I dont even exist So I'll stay anonymous It's over and the situations shrouded in shame And they say it's down to us But what do they know? So I'll ride, this tide Till it's starting or ending I'll never get tired of your lies But what you got to visualize It's so intoxicating We either get high or go dry Either get high or go dry This time I see you're playing that song again You never show your hand To let me in You keep it all inside yourself And cry to no one else But I'll catch your tears (Chorus) So i'll ride (so i'll ride), this tide (this tide) Till it's starting or ending (starting) I'll never get tired of your lies But what you got to visualize (oh-ooh) It's so intoxicating We either get high or go dry \n",
      "----------------\n",
      "sunshine... feels so good got an easy mood just relax cause it feels so free to do i got sunshine i feel good today kinda funny in a special way can't quite explain can't seem to get the smile off my face going down tonight everything is gonna be alright but right now i'm getting down in the light i've got high emotions and it's all for you got this crazy notion that you feel the same way too got my dreams in motion in a sky so blue and i don't think it's gonna rainy today are you coming out to play i got sunshine in my life and it shines so bright and i feel so high i can reach the sky i got sunshine \n",
      "----------------\n",
      "MARK: The sun went down so long ago, I watched you cry I had to go. Forever only lasted just a day. And now without you by myside, The visions of a lonely life, Take me to a dream in a place so far away. I see an angel and I think of you, I watch her hide behind a smile. And then I think of what I have to do. If only I had listened for a while. ALL: I still believe, I still believe, A love so strong will carry on, You know there''s so much to be seen. I still believe, I still believe, It''s not the end, let''s start again. I still believe. MARK: The emptiness of what could be, Shows everything you mean to me. It started out a game I''d never played. If I defy the foolish pride. And find that place so deep inside, Take me to my dream, I know I have to stay. I see a rainbow and I think of you. Of what we had, of what we were And then I think of what I have to do \n",
      "----------------\n",
      "Mark: I can still remember the time you were there When I needed to hold you, feel you Everytime I ask you to find a new way You lie a new way Is it gone, gone, gone, gone, gone Alla: You'll change You'll never change You're never never gonna keep your promises You'll change You'll never change You're never never gonna keep your promises Ben: You said you'd changed But I'm afraid It's something I won't live to see It seems so strange That sometimes fate Can appear to be so real And yet turn out to be a fantasy Alla: Same old lie, one more time Say you're gonna be, there for me Say you'll change, change your ways Never gonna keep your promises Same old game (Ben- You know it doesn't turn me on) Brand new day (Ben- You're singing that same old song) No more lies (Ben- If you don't wanna find me gone, gone, gone, gone, gone) Alla: Another night, another day What can I say You're still the same old brand new you You break your promises in two What can I do When you're the same old brand new you Alla: You'll change You'll never change You're never never gonna keep your promises You'll change You'll never change You're never never gonna keep your promises Christian: Because of you I guess we're through Is this the way it has to be I've been a fool (Ben- I've been a fool) A fool for you (Ben- A fool for you) But I've got better things to do than Let you walk all over me Alla: Same old lie, one more time Say you're gonna be, there for me Say you'll change, change your ways Never gonna keep your promises Same old game (Ben- You know it doesn't turn me on) Brand new day (Ben- You're singing that same old song) No more lies (Ben- If you don't wanna find me gone, gone, gone, gone, gone) Alla: Another night, another day What can I say You're still the same old brand new you You break your promises in two What can I do When you're the same old brand new you Mark: I can still remember the time you were there When I needed to hold you, feel you Everytime I ask you to find a new way You lie a new way Is it gone, gone, gone, gone, gone Alla: You'll change You'll never change You're never never gonna keep your promises You'll change You'll never change You're never never gonna keep your promises Alla: Same old lie, one more time Say you're gonna be, there for me Say you'll change, change your ways Never gonna keep your promises Same old game (Ben- You know it doesn't turn me on) Brand new day (Ben- You're singing that same old song) No more lies (Ben- If you don't wanna find me gone, gone, gone, gone, gone) Alla: Another night, another day What can I say You're still the same old brand new you You break your promises in two What can I do When you're still the same old brand new you Alla: Another night, another day What can I say You break your promises in two What can I do Alla: Another night, another day What can I say You're still the same old brand new you You break your promises in two What can I do When you're still the same old brand new you \n",
      "----------------\n",
      "I've walked the jungle, fought a lion with bare hands The Prince of Darkness, I'm a far better man! I've crossed the desert, Never feared for my own Where lightning strikes - I'll always go! Eye of the tiger, not afraid to attack Left Frankenstein - flat on his back That witches' magic, just ain't nothing to see Cos' you're the one, who cast a spell onto me!! If you're looking for danger, here I come! You better look out, it's just begun! Ther's something that I want you to know! (AAAAGGHH!) The one thing that I'm scared of Is losing hold of you! I get the shivers down my spine, \n",
      "----------------\n",
      "When she passes me by, she's a ray of light. Like the first drop of sun from the sky. And I know she's a queen who deserves a king. But I'm not a king, and she doesn't see me. When she dances, she moves me to a smile. I see everything near her shine. There is a grace in her ways I can't contain. I don't have the grace, she doesn't see me. And the closer I get I can't help but hide. So ashamed of my body and voice. There are boundaries we pass in spite of war. But our own, we can't seem to cross. \n",
      "----------------\n",
      "When she passes me by, she's a ray of light Like the first drop of sun from the sky And I know she's a Queen, who deserves a king But i'm not a King And she doesn't see me When she dances she moves me to a smile I see everything near her shine There is a grace in her ways I can't contain I don't have that grace So she doesn't see me And the closer I get I can't help but hide So ashamed of my body and voice There are boundaries we pass in spite of the war But our own, we can't seem to cross \n",
      "----------------\n",
      "You say you're work it out, then you say you're having doubts. Tellin me you'll walk away, but then you go and stay Calling me day and night, saying he don't treat you right. Then you always turn around and give him one more try. Baby you know it isn't fair, you expect me to be there. But we never get no-where. I've got one foot out the door, I don't wanna hear about him no more. l'll make a long story short, time too make up your mind girl. No more back and forth, I don't wanna hear about him no more. If I'm not what you want, I don't wanna hear no more. Stop telling me you need more time, tired of the same old line. Better make a move or you are gonna find, are you taking it. \n",
      "----------------\n",
      "I'm mad, still mad about you It's too bad, I'm bad without you Don't touch you've already said too much Pick and collect your stuff T-shirts and your toothbrush Cos that's all you've got You can't keep what you're throwing away Our love is six feet underground I can't speak cause it's not easy to say Our love is six feet underground Lovesick, but I'm still sick of you I quit, was too quick to love you Don't touch you've already said too much Come back and collect your stuff T-shirts and your toothbrush Cos that's all you've got You can't keep what you're throwing away Our love is six feet underground I can't speak cause it's not easy to say Our love is six feet underground \n",
      "----------------\n",
      "In this life of uncertainty There are people that we all need Someone to face you, with no disguise In you there''s a remedy That makes everyday seem trouble free No distance and no device ''Cos you hear the words When no one understands When my world has come undone And I''ve lost my setting sun When all I see are clouds You''re still around When I fall into a tear Inspirations disappear You clear away that doubt ''cos you''re still, you''re still around \n",
      "----------------\n",
      "I spent another night Wondering why do I need to lie Pretending I would miss you all the time Please tell me why I still allow my eyes to cry Everytime I recall the day When we first met Trying to forget a girl like you Once upon a time I wish I'd asked you for a dance The night we had our last romance Then maybe we would still be dancing Oh........... If I'd asked you one more time If you would be my valentine Then maybe you would still be mine \n",
      "----------------\n",
      "ALL: Summertime of our lives Summertime of our lives, our lives BEN: Hey girl the feeling is right You''ve gotta get out in the sunlight ALL: (Sunlight) MARK: Hot sand holding your hand You keep me jammin'' in the morning ''til the moonlight ALL: We''ll have the time of our lives In our wonderworld Time of our lives There''s a boy for every girl come one Summertime of our lives our lives X2 CHRISTIAN: Cool breeze kissin'' the sea I''ve got a sunbeam shining on me ALL: (on me) PAUL: Blue skies sea in your eyes Let the groove move my people All around me ALL: We''ll have the time of our lives In our wonderworld Time of our lives There''s a boy for every girl come one \n",
      "----------------\n",
      "Talking away I don't know what I'm to say I'll say it anyway Today's another day to find you Shying away I'll be coming for you love O.K. Take on me (take on me) Take me on (take on me) I'll be gone In a day or two So needless to say I'm odds and ends But I'll be stumbling away Slowly learning that life is O.K. Say after me It's no better to be safe than sorry. \n",
      "----------------\n",
      "[Christian:] I'm gonna take this chance to be up all night I wanna fix this up just the way you like I wanna shake the weight of the world, that's right I gotta make the most of this old street light And if you think I'm talking too much just tell me If you need to change the pace then help me We've got ten more minutes to go I said, we've got ten more minutes before we go [Mark: (Ref)] There's no regrets At least not yet And it's safe to go I heard it on the radio So I'll take you home [Ben:] You know I need somebody to love me yes You know that I won't settle for second best We gotta live like that ignore the rest \n",
      "----------------\n",
      "I tried to murder the lonely,contemplate our mortality. Into infinity,frozen memory wipe the tears from yesterday,a time for change, take the pain away. Angel, my destiny, Can you feel me? \n",
      "----------------\n",
      "Yo, turn my music up Up some more, up some more Up a little bit more Mama always told me to be careful who I love And daddy always told me make sure he's right I always had my eyes on this one particular guy I was too shy so I decided to write I'm sending him a four-page letter (mm...) And I enclosed it with a kiss (hoohhoh...yeah) And when I write him he better get it on time (I...) I'm sending him a four-page letter (oohhyeah..) And I enclosed it with a kiss (oohhohh...) And when I write him he better get it on time People always sayin' that I play myself for you They say that you don't even notice me Me (me) me (me) me (me) me (me) Maybe when I get the nerve to come to you Promise me that you won't di-iss me I'm sending him a four-page letter (four-page letter) And I enclosed it with a kiss (a kiss...) \n",
      "----------------\n",
      "(feat. Treach) Im Lookin For A Girl Like You.(Well Here I Go) I Hope, I Hope To Me You Wont Lie To.(Well Tell Me More) Im Lookin For A Guy Like You(Treach: Yeah You Know Me) (I Hope) I Hope You Feel It In Your Needs. [Repeat] When I First Saw You(First Saw You). Thats When I Knew, I Really Knew, I Wanted To Get Close To You. Im Watchin, Clockin You. I Just Spend My Days, Wonderin When I Will See Your Face, Boy I Just Wanna See Your Face, And Hear You Say.... Im Lookin For A Girl Like You.(Well Here I Go) I Hope, I Hope To Me You Wont Lie To.(Well Tell Me More) Im Lookin For A Guy Like You(Treach: Yeah You Know Me) (I Hope) I Hope You Feel It In Your Needs. [Repeat] (Da,Da,Dah. Un Da Da) [Repeat] It Would Not Be Too Hard, If You Want My Heart, Just Say You Love Me.(Treach: Im Lovin Every Inch) No One In The World Could Tell Us Apart, IIl Be Your lady(Treach: Well Can I Have A Pinch?) So What You Say?(Treach: What Do I Say?) Baby Tell Me Whats Your Name(Treach You Wanna Play?) \n",
      "----------------\n",
      "[Nakarat] Age ain't nothing but a number, throwing down ain't nothing but a thang, This something I have for you it'll never change(repeat twice) Here I am, and there you are, your eyes are calling me to your heart. All you gotta Do is knock, I'll let you in, And we will feel the passion that flows within. I don't mean to be bold, but I gotta let you know, I gotta thang for you and I can't let go [Nakarat] x 2 Take my hand, and come with me, Let me show you to ectasy, \n",
      "----------------\n",
      "[x2:] I I wanna love ya [Verse 1:] Baby ever since I found you, Seems like everyday I've been happy, See the way you love me, Turns me out, baby I can feel my heart beat, Seems like lately I've been thinkin', Feelin' that you are everything, Feels like more and more, I'm hoping that you are the only. [Chorus:] All I need, All I need, All I need is you. Baby you're everything, Everything, Everything is you. Baby you're all I need, All I need, All I need is you. Baby you're everything, Everything, Everything is you. \n",
      "----------------\n",
      "[Aaliyah] Hmm, yeah, yeah, hey Oh, hmm yeah, oh yeah I know in my heart I know in my mind We weren't meant to be Are you feeling me yo? I'm the girl in your life I'm the one you call wife And I need to know Are you feeling me yo? Is there anyone else? That can do it the best Give you things you need Well it must be me I've got very good dreams And the fantasies But I need to know Are you feeling me yo? [Aaliyah] Boy, are you feeling me? Cause I'm feeling you Something in my heart Tells me you're the one Boy, are you feeling me? Cause I'm feeling you Something in my heart Are you feeling me yo? [Aaliyah] I'm crazy for you I'm falling for you I've got feelings for you Are you loving me, yo? Tell me if it's our time Do I blow your mind? Cause I need to know Put my life on the line I'mma give you my heart All the love that I own But before I do that Are you feeling me yo? Anything for you Cause I'm big on you But I need to know Are you loving me, yo? [Aaliyah] Boy, are you feeling me? Cause I'm feeling you Something in my heart Tells me you're the one \n",
      "----------------\n",
      "[Timbaland] Dirty South, can y'all really feel me East coast feel me West coast feel me x 2 Boy, I been watching you like a hawk in the sky That flies, cause you were my prey (my prey) Boy, I promise you if we keep bumpin heads I know that one of these days (days) We gon hook it up while we talk on the phone But see, I don't know if that's good I been holding back this secret from you I probably shouldn't tell it but [Nakarat] If I, if I let you know You can't tell nobody I'm talking bout nobody Are you responsible Boy I gotta watch my back cause im not just anybody Is it my go, is it your go Sometimes I'm goody-goody Right now I'm naughty naughty Say yes or say no Cause I really need somebody Tell me YOUR that somebody Boy, won't you pick me up at the park right now Up the block, while everyone sleeps (sleeps, sleeps) I'll be waiting there with my trench, my locs, my hat Just so I'm low key If you tell the world (don't sleep, you know that we'll be weak) Oh boy, see I'm trusting you with my heart, my soul I probably shouldn't let ya but if I [Nakarat] 2 If I, if I let this go You can't tell nobody I'm talking bout nobody Are you responsible Boy I gotta watch my back cause im not just anybody Is it my go, is it your go \n",
      "----------------\n",
      "[x5] Let me see you go back Let me see you go forth It's Friday and I'm ready to sing pick up my girls And hit the party scene Tonight oh oh it's alright umm So get up and let this funky mellow grove get You in the mood cause you Know it's alright (back round - so Mr. DJ keep the music grooving) Don't stop moving Let me see you, let me see you go Back, back forth and forth [x4] (see you go back and forth) Now it's time for you To make your move to the dance floor So throw your hands in the air And wave them around like you just don't care \n",
      "----------------\n",
      "[Tan]: Baby girl you got the whole world screaming Giving it up for you You got the party people fiending Bump it to the roof From the left side to the right side And straight to the back Ain't nothing going on here but a dirty money track Got the party people waving their hands and doing the rodeo Aaliyah, why don't you kick it, kick the flow Came to spread my love Do do do \n",
      "----------------\n",
      "(feat. DMX) [DMX] There we go, okay, okay Don't do me Greasy, okay Uh, ay yo You know what a dog needs Do you really know what a dog needs? Uh a dog needs a grrr! What? What? A dog needs a grrr! Come on Not just any uh but a real uh That's gonna hold that dog down Arf! Arf! Baby I am what I am, I'm gon' be who I be Everything from chasing a cat to p***** on a tree Let me see what I gotta to see Do what I gotta to do Dog for life but keep it true Every once in a while I'll break out the backyard to roam And get reckless But I still know that home is home And when I get there I'mma sit there Take a s*** there put my d*** there Do I handle my business? S*** yeah I'mma run till I bust my gun and empty the clip Never come home, I gotta go just gimme the whip I ain't got time for the lip Just open the fence Let me go I'll come back I ain't got time to convince Ever since I was a pup I've been stuck with the street s*** Keep the heat s*** F*** it n**** gotta eat I past on a weak s*** If it's out there I want it All at one time So when it's my time I've done it [Aaliyah] I know you'll kill for me You'll die you me I know you like to rip and run the streets But I get nervous sometimes Ooh baby I can't help to think You might not make it home to eat I barely sleep Could you pick up a phone and call me at home? And let me know you ain't in some heat And don't go crying, you're grown Yo you can go with your dogs If you make this promise to me You make it back in one piece So you can go with your dogs If you make this promise to me You make it back in one piece 'Fore you go betting it all If you make this promise to me You make it back in one piece I know you up in it all If you make this promise to me You make it back in one piece \n",
      "----------------\n",
      "Ooh Mmm mm mm Mm yeah Uh, mm, yeah I just touched down Quarter after two I know it's late I'm calling you Tryin' to figure if I Can come see you (Can I come see you?) I know you're asleep But you're on my mind I'm wide awake And I wanna stop by So you can get up And get out of the bed Cuz I wanna see you And I been wondering.... Can I come over? Can I (come over) Stop by (come over) To see you (come over) Tonight (can I come over?) Can I (come over) Get wit' ya (come over) I just wanna Be wit' ya babe Can I come over? Can I (come over) Stop by (come over) To see you (come over) Tonight (can I come over?) Can I (come over) Get wit' ya (come over) I just wanna Be wit' ya babe What the deal? I'm not that far I just got my bags And I'm headed to the car Say yes or no Cuz I'm on the road (Wait a minute, my battery's low.. alright) Baby I wanna come see you \n",
      "----------------\n",
      "[Chorus:] you wanna handcuff me but yo I don't know what to tell ya (don't know what to tell ya) you want my intamacy but yo I don't know what to tell ya (don't know what to tell ya) you wanna walla around me I swear I don't know what to tell ya (don't know what to tell ya) you want my lock and my key but yo I don't know what to tell ya (don't know what to tell ya) [Verse 1:] Incarceration what I'm facin when I'm with you your watching my every move tryna pick up on some clues or we place one question everytime I walk in or out the door what do ya bother for (what do ya bother for) get confortable its your Its gonna take T-R-U-S-T to keep my L-O-V-E Its gonna take T-R-U-S-T to keep my L-O-V-E crackin stressin and second guessin many time and time again we go from lovers back to friends got to put this to an end \n",
      "----------------\n",
      "There's no need for you, Baby, It ain't what you think, So don't worry, [Verse 1] You remember back in the day when, We thought it was special, When we always stayed down, No matter where we went you'd stay in touch, Two people that were just so in love, Now you probably ain't feelin' much, Like things ain't really been the way they used to be, And you say it seems like I changed, But I'm still the same. [Chorus (2X)] There's no need for you, (To worry 'bout me) Baby, (Don't worry 'bout me) It ain't what you think, (You still got me) So don't worry, (Don't worry 'bout, don't worry 'bout me) Even though it seems, (You're losing me) And things, (Ain't what they used to be) Baby, (I ain't gonna leave) Don't worry, \n",
      "----------------\n",
      "Well now I guess it's time for me to wreck shop, so show your peace while the beat drops, and if you're in the house just throw your hands up, and let me see my brothas and sistas spread luv. And if you're not down there's sumthin wrong see, cause see my project homies, they got my back G, droppin a old school with a new school.. PA's in the house and it's a good thang.. Well if you down with the clique, let me hear you say (I'm down wit it) Now it's a phone checker, I mustn't do this and if you didn't know I thought you knew this, It took a little time but now it's on see you been waiting for so long to beep me..hmmm... so check check check it out, all the dogs in the house (woof woof woof), so pump your fist in the air, say R. Kelly's on the track and it's a good thang. Now I don't mind when my homies on the chit chat, \n",
      "----------------\n",
      "[verse:1] She's back on the street her fear for night Feel you with grief she cuts like a knife Make you do things that no others could do She turns a professor into a fool Oh she ain't hard to get the girl gets around And those that she met they're destined to drown She'll make ya change like you like you never believe She turns a working man into thief Oh [chorus:] She's Erica Erica Erica Erica She's Erica Erica Erica Erica She's Erica Erica Erica Erica She's Erica Erica Erica (Erica Kane) She's Erica Erica Erica Erica (yo yo) She's Erica Erica Erica Erica She's Erica Erica Erica Erica \n",
      "----------------\n",
      "(so...) He got big brown eyes, so he look nice (ooh) Coming on strong, six pack showin(oh) He's too cool, for his own shoes (umm) Nothing rude, but way too sure for me He tryin' to be Extra smooth, extra smooth (ohh) Extra cool, extra q (ahh) If i'm supposed to talk to you Be your boo (be your boo, be your boo) Don't come trying to be extra smooth (so...) He got line for line wasting my time (ooh) Running round tryin' to catch my eye (eye) Disturbing my groove, tryin' to be smooth (ooh) Get the boot Boy you can go ahead And work on yourself another quick romance A little too hot for me You act like you've already got my number I wish you quit tryin' to be? Extra smooth, extra smooth (hey) Extra cool, extra q (cute) If i'm supposed to talk to you Be your boo \n",
      "----------------\n",
      "*all that you need, all that you want. I wanna be the one thats giving you more. All that you need, all that you want. I wanna be the one thats giving you more.* Let me be your angel, I'm ready, Ready to get goin on ya love. You don't have to worry, I'm ready to do, Whatever you require, is my one and only desire. Call on me, and you know that ill be all you need. Ooooh come to me. I got what you like, and your love I wont deny. *all that you need, all that you want. I wanna be the one thats giving you more. All that you need, all that you want. I wanna be the one thats giving you more.* \n",
      "----------------\n",
      "(feat. Slick Rick) [Intro] [Slick Rick & Friend] [Rick:] Yeah Bartender, Can I Get A Henasey On The Rocks, And A Long Island, Ice Tea?...Thank You. [James:] Yo Rick Didnt I Tell You This Club Was Jumpin? [Rick:] Yeah Kid You Wasnt Lyin Kid It Definately Is. [James:] Look At This, They All Over The Place Kid. [Rick:] Yeah 1 Second Hon', Slow Down, Slow, [Rick:] Yo James Get Her Off Me. [James:] Yo Back Off Shorty [Rick:] Would You Slow The Hell Down!?!? [James]: Back, Yo Back Off Shorty. [v.1] [Slick Rick] Like Everyone Was Chasing My Finance. But When Aaliyah Walked In, The Whole Place Went Bananas. Im Playin For Most Of My Perks. (And They Offerin The Hunk Free Krystal. The Works) Not To Mention, Smelled Good. Looked Dope. I Brought Me A Bottle So I Wouldnt Look Broke. Stepped Like A Big Willie, WoodgeWell, Playa, Sign This Thousand Dollar Bill For Me Aaliyah. [Aaliyah] I Used To Go Out To Partys, And Stand Around. Cause I Was Too Nervous, To Really Get Down. But My Body Yearned To Be Free. I Went Off On The Floor, So Somebody Would Choose Me. No More Standing, Upside The Wall. Now I Got Myself Together Baby, And Im Having A Ball. Long As Your Groovin, Theres Always A Chance. Somebody Watchin, Might Wanna Make Romance. Move Your Body, (Ooooh Baby) And Dance All Night. \n",
      "----------------\n",
      "The time has finally come to Say my peace With the funky hip hop swing ooohh check it No holding back Now it's the time To get busy So take me to the bridge I work hard for mine Spending all my time To give you what need NAKARAT So if you down with the funky flava Throw your hands up And if you got the fever for Aaliyah Throw your hands up And if you down wit blackround Throw your hands And if you got soul Let me se your hands up If you got bass in your jeep Throw your hands up If you not down wit the crack Throw your hands and If you think you hype enough to swing it Throw your hands up And if you down with the second chapter Throw your hands up un Straight from the streets Is where I'm coming from (straight out the streets) With a touch or jazz in me Check it (Come on) Takin no strokes \n",
      "----------------\n",
      "Baby Baby Baby...... I Wanna Satisfy You. Maybe I Try Too Damn Hard, To Show You I Love You. What Made You Go And Run This Game On Me? When I Stayed By Your Side, What Made You Go And Leave? Im Tired Of My Heart..... Being Broken. Im Tired Of These Tears..... Falling Down My Face. Im Tired Of This Love..... Being Taken For Granted.(Wont You Go Your Way) You Dont Know, How I Feel..... Im For Real. I Used To Be In Love,...... But Not Nomore. When Will You Learn That I Got Feelings Too? You'll Never Know Untill It Happens To You. Im Tired Of My Heart..... Being Broken. Im Tired Of These Tears..... Falling Down My Face. \n",
      "----------------\n",
      "(Giriş) Ima make it hot like fire (oooh) Ima make it hot like fire (oooh oooh) (Tekrar) Your hotter than summer day, in california. Ya got me meltin like a sundae, and I want ya. I know youve been wait-youve been waitin a long time for me. But if you wait a little while longer this is how it'll be. *oh it's gonna be, hot like fire. Im gonna take you, take you higher. You cant resist, (one day) kiss, kiss, and kiss and kiss and kiss.* You shouldnt rush it, take our time. Ill let you know when I'm ready (if thats alright) I wont keep you, I wont keep you, I wont keep you holdin on. But if you wait on me, I promise you it wont be long. *oh it's gonna be, hot like fire. Im gonna take you, take you higher. You cant resist, \n",
      "----------------\n",
      "Verse 1: Maybe i'm just wrong Feeling the way i do Thoughts indescent Want to propose them to you I know you have a girl I don't want to tie When your free one night Let's make those hours mine Chorus: I can be the other woman in your life I can be the other reason your out at night I can be all the things you thought she might \n",
      "----------------\n",
      "Hey my baby Why you lookin' so down? Seems like you need lovinBaby you need a girl like me Around Hey my baby Tell me why you cry Here take my hand and wipe those tears from your eyes Can i: talk to you? comfort you? let you know?... i care 4 u Can i: talk to you? comfort you? let you know?... i care 4 u Hey sexy baby Why'd your girl leave you in pain? To let a fine man like you go, she must be insane Hey sexy baby There's no need to worry, no Oh, boy if you call on me I'll come, i'll come in a hurry \n",
      "----------------\n",
      "Yeahhh.... Mmmm-hmm..... Whoaaaa.... Oooh yea... [1] I don't wanna be... Be without you, be without you I don't wanna live... Live without you, live without you I don't wanna go... Go without you, go without you I don't wanna be alone [2] When we hooked up we sat down Made an agreement, we vowed that That we'd always be together through whatever We said that no one would ever get between us Said that we'd never ever leave us That was a while ago But now lately it feels like I mean I feel like all we do is fight Every single night Can't make it tight, can't get it right I just wanna go back, take it way back all the way back, can we start again Do it over, can we straighten it out Can we work it out, cuz... I don't wanna be... Be without you, be without you I don't wanna live... Live without you, live without you I don't wanna go... Go without you, go without you, said suga I don't wanna be alone (repeat2X) [3] Do you realize... I can't sleep without you, think without you Eat without you, speak without you, be without you I can't even breathe without you... \n",
      "----------------\n",
      "(I Gotcha Back) The Women Always Wonder How I, Keep A Man. They Been Tryin For So Long, And Still Dont Understand. Its Not The Things I Say, Its The Way I Say It, Thats Keeps Em Locked Down, Nowhere To Go, And On Top Of That, Ill Ever Know. Im Down For Whatever, No Matter How Ya Act. Ya Never Have To Worry Bout A Thing, I Gotcha Back. When No One Else Is There, With Me You can Chill. Because It Feels Real Good, When You Know Somebodys Got Ya Back. I Am The Type When I Find A Man I Like, \n",
      "----------------\n",
      "Whaa? I'm back [verse1] You don't say that I'm pretty All these simple things Adding up to big ones There is where you messed up No movies or flowers Hours not knowing Whereyou are or who you're with There is where you messed up [Chorus] You keep on actin' like I really need a brother Man I don't need a brother Better get you're ish together Can't keep on holding on Waitin'for you And baby there is where you messed up You keep on actin like Ireally need a brother Man I don't need a brother Can't keep on holding on Waiting for you And baby there is where you messed up You keep on actin' like I really need a brother Man I don't need a brother Better get you're ish together Can't keep on holding on Waitin' for you And baby there is where you messed up [VERSE 2] I don't need your money &no dinner I got jewelry,winner to loser And baby there is where you messed up You take me for granted And expect me to stay right here Andwait on you while you're having fun There is where you messed up (You keep on actin') (I really need someone) (Can't keep on holding on yeah) (You you you yeah) You keep on actin' like \n",
      "----------------\n",
      "[chorus] Young nation under a groove Keeping it smooth with a jazz that's so cool Young nation under a groove keeping it smooth Young nation under a groove Keeping it smooth with a jazz that's so cool Young nation under a groove keeping it smooth [Verse 1] As I'm strollin' down the park with really nothing on my mind Laid back and I'm just thinkin' of old times Pumpin' our Isley Brothers tape when I'm waxinPeepin' through my sapeau checkin' out my waxinHey! I gotta say today's a good day for me the lover on the way Ho! Time to hit the six-four And pump the bass and I'm Just a little known Aaliyah's in the house so I think you'd better check my flow Hello! Hello! I'm the young nation and young nation is me So here we go from the one the two and to the three-ee-ee [chorus] [verse 2] I check my celular because my beepers beepinBooty calls are creepinFellas on the corner beepin' me (Wassup, wassup) \n",
      "----------------\n",
      "Broken dreams of flyin birds Dirty hands on skinny arms Just hanging down her shoulders Like a deadly young old tree And a bit of blood rollin', gently down her nose On the floor the princess, strikes the pose Say goodbye to angel dust The only angel that you trust Dirty fingers on her hands Doin? stuff that she can't stand Opening doors don't want to see And closing one she wanna be Broken wings by the real world Princess diving on her own, On the floor the princess, strikes the pose \n",
      "----------------\n",
      "Is it hard to go on Make them believe you are strong Don't close your eyes All my nights felt like days So much light in every way Just blink an eye I used to be someone happy You used to see that I'm friendly All your smiles, all is fake. Let me come in, I feel sick, Gimme your arm From the shadow, to the sun only one \n",
      "----------------\n",
      "Lost highway, carry on All the souls that I've known I see flowers everywhere But it's only cryings that come up in the air So many lives around I guess that it was just your time For every rose, one big stone One phone call, my world alone I miss you, sweet mother I'll see you some other time, Some other grounds Lost highway way too fast Headlights burnin' all my laughs Where was I when you screamed Where was I when you lost all your dreams People think,that it's alright When your face got so much lights \n",
      "----------------\n",
      "Keep believing we're not the same You have not experienced the pain To see you kiss some other lips While I'm drifting under the fist That life offers to the dreamers Maybe I should be I should be dancing dancing dancing Until I fall between your lies Dancing dancing dancing Until I fall between your lies I should be dancing dancing dancing Until I fall between your lies Dancing dancing dancing Until I fall between your lies You're just a ghost In the future that we've lost You're just a name Tattooed on someone else's hand I'm surely better on my own Right in this shimmering hole You're just a ghost and I am real You're just a stone and I'm the wind But it still burns, \n",
      "----------------\n",
      "Lili,take another walk out of your fake world Please put all the drugs out of your hand You'll see that you can breath without not back up So much stuff you got to understand For every step in any walk Any town of any thaught I'll be your guide For every street of any scene Any place you've never been I'll be your guide Lili,you know there's still a place for people like us The same blood runs in every hand \n",
      "----------------\n",
      "I was at a party and this fella said to me \"Something bad is happening, I'm sure you do agree People care for nothing, no respect for human rights Evil times are coming, we are in for darker nights\" I said, \"Who are you to talk about impending doom?\" He got kinda wary as he looked around the room He said, \"I'm a minister, a big shot in the state\" I said, \"I just can't believe it, boy I think it's great Brother can you tell me what is right and what is wrong?\" He said, \"Keep on rocking baby, 'til the night is gone\" On and on and on Keep on rocking baby 'Til the night is gone On and on and on 'Til the night is gone On and on and on Keep on rocking baby 'Til the night is gone On and on and on 'Til the night is gone Over in the corner I could see this other guy He was kinda flirty, he was giving me the eye \n",
      "----------------\n",
      "Take it easy with me, please Touch me gently like a summer evening breeze Take your time, make it slow Andante, Andante Just let the feeling grow Make your fingers soft and light Let your body be the velvet of the night Touch my soul, you know how Andante, Andante Go slowly with me now I'm your music (I am your music and I am your song) I'm your song (I am your music and I am your song) Play me time and time again and make me strong (Play me again 'cause you're making me strong) Make me sing, make me sound (You make me sing and you make me...) Andante, Andante Tread lightly on my ground Andante, Andante Oh please don't let me down There's a shimmer in your eyes \n",
      "----------------\n",
      "Ah-ha-ha, ah-aaaah Ah-ha-ha, ah-aaaah Ah-ha-ha, keep thinking 'bout his angeleyes I keep thinking, a-aaah Last night I was taking a walk along the river And I saw him together with a young girl And the look that he gave made me shiver 'Cause he always used to look at me that way And I thought maybe I should walk right up to her and say Ah-ha-ha, it's a game he likes to play Look into his angeleyes One look and you're hypnotized He'll take your heart and you must pay the price Look into his angeleyes You'll think you're in paradise And one day you'll find out he wears a disguise Don't look too deep into those angeleyes Oh no no no no Ah-ha-ha, ah-aaaah Ah-ha-ha, ah-aaaah Ah-ha-ha, keep thinking 'bout his angeleyes I keep thinking, a-aaah Sometimes when I'm lonely I sit and think about him And it hurts to remember all the good times When I thought I could never live without him And I wonder does it have to be the same \n",
      "----------------\n",
      "Day is dawning and I must go You're asleep but still I'm sure you'll know Why it had to end this way You and I had a groovy time But I told you somewhere down the line You would have to find me gone I just have to move along Just another town, another train Waiting in the morning rain Look in my restless soul, a little patience Just another town, another train Nothing lost and nothing gained Guess I will spend my life in railway stations Guess I will spend my life in railway stations When you wake I know you'll cry \n",
      "----------------\n",
      "I'll never know why I had to go Why I had to put up such a lousy rotten show Boy, I was tough, packing all my stuff Saying I don't need you anymore, I've had enough And now, look at me standing here again 'cause I found out that Ma ma ma ma ma ma ma ma ma ma ma ma ma ma ma ma my life is here Gotta have you near As good as new, my love for you And keeping it that way is my intention As good as new and growing too Yes, I think it's taking on a new dimension It's as good as new, my love for you Just like it used to be and even better As good as new, thank God it's true Darling, we were always meant to stay together Feel like a creep, never felt so cheap Never had a notion that my love could be so deep \n",
      "----------------\n",
      "Making somebody happy is a question of give and take You can learn how to show it so come on, give yourself a break Every smile and every little touch Don't you know that they mean so much Sweet sweet kisses so tender Always will return to sender Like a bang, a boom-a-boomerang Dum-be-dum-dum be-dum-be-dum-dum Oh bang, a boom-a-boomerang Love is a tune you hum-de-hum-hum So give it away, I think you'll learn You'll get love in return So bang, a boom-a-boomerang is love A boom-a-boomerang is love Love is always around and you can look for it anywhere When you feel that you've found it my advice is to take good care Never use it as a selfish tool Never ever be such a fool \n",
      "----------------\n",
      "Chiquitita, tell me what's wrong You're enchained by your own sorrow In your eyes there is no hope for tomorrow How I hate to see you like this There is no way you can deny it I can see that you're oh so sad, so quiet Chiquitita, tell me the truth I'm a shoulder you can cry on Your best friend, I'm the one you must rely on You were always sure of yourself Now I see you've broken a feather I hope we can patch it up together Chiquitita, you and I know How the heartaches come and they go and the scars they're leaving You'll be dancing once again and the pain will end You will have no time for grieving Chiquitita, you and I cry But the sun is still in the sky and shining above you Let me hear you sing once more like you did before Sing a new song, chiquitita \n",
      "----------------\n",
      "I'm waitin' for you baby I'm sitting all alone I feel so cold without you It chills me to the bone I never thought you'd leave me But now I know it's true Oh Lord I'm blue I'm cryin' over you I'm waitin' for you baby I'm sittin' all alone I feel so cold without you It chills me to the bone I never thought you'd leave me But now I know it's true \n",
      "----------------\n",
      "Oh, my love it makes me sad. Why did things turn out so bad? Was it just a dream, everything we did, everything we had? Baby, give me one more Dance while the music still goes on Don't think about tomorrow Dance and forget our time is gone Tonight's a night we borrow. Let's make it a memory, a night of our own A thing to remember when we're all alone So dance, it's our way to say goodbye Yes, all we have to do is Dance while the music still goes on This is no time for crying Dance, don't you hear them play our song God knows that we've been trying But we didn't make it 'cause nothing's the same We just couldn't help it, nobody's to blame So dance while the music still goes on And let it be our last goodbye Yet it seems to make me sad. Why did things turn out so bad? Was is just a dream, everything we did, everything we had? Baby, give me one last \n",
      "----------------\n",
      "You can dance, you can jive, having the time of your life See that girl, watch that scene, dig in the Dancing Queen Friday night and the lights are low Looking out for the place to go Where they play the right music, getting in the swing You come in to look for a King Anybody could be that guy Night is young and the music's high With a bit of rock music, everything is fine You're in the mood for a dance And when you get the chance... You are the Dancing Queen, young and sweet, only seventeen Dancing Queen, feel the beat from the tambourine You can dance, you can jive, having the time of your life See that girl, watch that scene, dig in the Dancing Queen You're a teaser, you turn 'em on Leave them burning and then you're gone Looking out for another, anyone will do You're in the mood for a dance And when you get the chance... You are the Dancing Queen, young and sweet, only seventeen Dancing Queen, feel the beat from the tambourine You can dance, you can jive, having the time of your life See that girl, watch that scene, dig in the Dancing Queen \n",
      "----------------\n",
      "Changing, moving, in a circle I can see your face in all of my dreams Smiling, laughing, from the shadows When I hear your voice I know what it means I know it doesn't matter just how hard I try You're all the reason for my life Disillusion, disillusion's all you left for me How can I forget you when my world is breaking down You're all I had, you're all I want Disillusion, disillusions now, that's all I have Wishing, hoping, chasing shadows Did I see your face somewhere in the crowd Thinking, wondering, what you're doing I can stop myself from crying out loud They say my wound will heal and only leave a scar But then, they'd never shared our love Disillusion, disillusion's all you left for me How can I forget you when my world is breaking down You're all I had, you're all I want Disillusion, disillusions now, that's all I have Disillusion, disillusions now, that's all I have \n",
      "----------------\n",
      "You're so hot, teasing me So you're blue but I can't take a chance on a chick like you That's something I couldn't do There's that look in your eyes I can read in your face that your feelings are driving you wild Ah, but girl you're only a child Well I can dance with you honey If you think it's funny Does your mother know that you're out? And I can chat with you baby Flirt a little maybe Does your mother know that you're out? Take it easy (take it easy) Better slow down girl That's no way to go Does your mother know? Take it easy (take it easy) Try to cool it girl Take it nice and slow Does your mother know? I can see what you want But you seem pretty young to be searching for that kind of fun So maybe I'm not the one Now you're so cute, I like your style \n",
      "----------------\n",
      "I can hear how you work practising hard playing night and day, wo-oh and it sounds better now yes, you improve every time you play, wo-oh but it's bad you're so sad and you're only smiling when you play your violin Dum dum diddle to be your fiddle to be so near you and not just hear you dum dum diddle to be your fiddle I think then maybe you'd see me, baby you'd be mine and we'd be together all the time wish I was dum dum diddle \n",
      "----------------\n",
      "They came flying from far away, now I'm under their spell I love hearing the stories that they tell They've seen places beyond my land and they've found new horizons They speak strangely but I understand And I dream I'm an eagle And I dream I can spread my wings Flying high, high, I'm a bird in the sky I'm an eagle that rides on the breeze High, high, what a feeling to fly Over mountains and forests and seas And to go anywhere that I please As all good friends we talk all night, and we fly wing to wing I have questions and they know everything There's no limit to what I feel, we climb higher and higher Am I dreaming or is it all real? Is it true I'm an eagle? Is it true I can spread my wings? Flying high, high, I'm a bird in the sky (I'm an eagle) I'm an eagle that rides on the breeze \n",
      "----------------\n",
      "Can you hear the drums Fernando? I remember long ago another starry night like this In the firelight Fernando You were humming to yourself and softly strumming your guitar I could hear the distant drums And sounds of bugle calls were coming from afar They were closer now Fernando Every hour every minute seemed to last eternally I was so afraid Fernando We were young and full of life and none of us prepared to die And I'm not ashamed to say The roar of guns and cannons almost made me cry There was something in the air that night The stars were bright, Fernando They were shining there for you and me For liberty, Fernando Though I never thought that we could lose There's no regret If I had to do the same again I would, my friend, Fernando Now we're old and grey Fernando And since many years I haven't seen a rifle in your hand Can you hear the drums Fernando? Do you still recall the frightful night we crossed the Rio Grande? I can see it in your eyes How proud you were to fight for freedom in this land There was something in the air that night The stars were bright, Fernando They were shining there for you and me For liberty, Fernando Though I never thought that we could lose There's no regret If I had to do the same again I would, my friend, Fernando There was something in the air that night The stars were bright, Fernando They were shining there for you and me For liberty, Fernando Though I never thought that we could lose There's no regret If I had to do the same again I would, my friend, Fernando Yes, if I had to do the same again I would, my friend, Fernando... \n",
      "----------------\n",
      "Half past twelve And I'm watching the late show in my flat all alone How I hate to spend the evening on my own Autumn winds Blowing outside the window as I look around the room And it makes me so depressed to see the phone There's not a soul out there No one to hear my prayer Gimme gimme gimme a man after midnight Won't somebody help me chase these shadows away Gimme gimme gimme a man after midnight Take me through the darkness to the break of the day Movie stars Find the end of the rainbow, with that fortune to win It's so different from the world I'm living in Tired of T.V. I open the window and I gaze into the night But there's nothing there to see, no one in sight There's not a soul out there \n",
      "----------------\n",
      "You say she's been mad at you Then you say you'll be patient, ooh Still I see that she makes you blue Come on, I'll give you consolation Gonna sing you my love song, gonna bring you some light Gonna make you feel happy every day of your life Gonna sing you my love song, gonna make it all right You're all I ever need, my darling Just to be where you wanna be So much fun we could have then, hmm To be close for eternity What a miracle to happen Gonna sing you my love song, gonna sing it for you Gonna give you sweet loving, gonna give myself too Gonna sing you my love song, when I think about you I know she doesn't make it easy \n",
      "----------------\n",
      "No more champagne And the fireworks are through Here we are, me and you Feeling lost and feeling blue It's the end of the party And the morning seems so grey So unlike yesterday Now's the time for us to say... Happy new year Happy new year May we all have a vision now and then Of a world where every neighbour is a friend Happy new year Happy new year May we all have our hopes, our will to try If we don't we might as well lay down and die You and I Sometimes I see How the brave new world arrives And I see how it thrives In the ashes of our lives Oh yes, man is a fool And he thinks he'll be okay Dragging on, feet of clay Never knowing he's astray Keeps on going anyway... Happy new year Happy new year May we all have a vision now and then Of a world where every neighbour is a friend Happy new year Happy new year May we all have our hopes, our will to try If we don't we might as well lay down and die You and I Seems to me now That the dreams we had before Are all dead, nothing more Than confetti on the floor It's the end of a decade In another ten years time Who can say what we'll find What lies waiting down the line In the end of eighty-nine... Happy new year Happy new year May we all have a vision now and then Of a world where every neighbour is a friend Happy new year Happy new year May we all have our hopes, our will to try If we don't we might as well lay down and die You and I \n",
      "----------------\n",
      "Where is the spring and the summer That once was yours and mine? Where did it go? I just don't know But still my love for you will live forever Hasta Manana 'til we meet again Don't know where, don't know when Darling, our love was much too strong to die We'll find a way to face a new tomorrow Hasta Manana, say we'll meet again I can't do without you Time to forget, send me a letter Say you forgive, the sooner the better Hasta Manana, baby, Hasta Manana, until then Where is the dream we were dreaming And all the nights we shared Where did they go? I just don't know And I can't tell you just how much I miss you Hasta Manana 'til we meet again Don't know where, don't know when Darling, our love was much too strong to die We'll find a way to face a new tomorrow Hasta Manana, say we'll meet again I can't do without you Time to forget, send me a letter Say you forgive, the sooner the better Hasta Manana, baby, Hasta Manana, until then Hasta Manana, say we'll meet again I can't do without you Time to forget, send me a letter Say you forgive, the sooner the better Hasta Manana, baby, Hasta Manana, until then \n",
      "----------------\n",
      "I was a fighter always looking for trouble And my life was so empty, there was nothing left to live for But then it happened one night as I got into a fight I could hear someone saying as though he was praying Ah-a-ah-a-a-a-ah-ah Treat him well, he is your brother You might need his help some day We depend on one another Love him, that's the only way On the road (on the road) that we're going We all need (we all need) words of comfort and compassion Treat him well, he is your brother Love him, that's the only way I was a woman never thinking of others And my life was so lonely, didn't care for anybody But then I happened to meet a begging man in the street As I turned down his praying I heard someone saying Ah-a-ah-a-a-a-ah-ah Treat him well, he is your brother (brother) You might need his help one day (he's your brother) We depend on one another (brother) Love him, that's the only way On the road (on the road) that we're going (that we're going) We all need (we all need) words of comfort and compassion Treat him well, he is your brother (brother) Love him, that's the only way. Treat him well, he is your brother (brother) You might need his help one day (he's your brother) We depend on one another (brother) Love him, that's the only way (repeat and fade) \n",
      "----------------\n",
      "I have a very good friend The kind of girl who likes to follow a trend She has a personal style Some people like it, others tend to go wild You hear her voice everywhere Taking the chair She's a leading lady And with no trace of hesitation she keeps going Head over heels Breaking her way Pushing through unknown jungles every day She's a girl with a taste for the world (The world is like a playing-ground where she goes rushing) Head over heels Setting the pace Running the gauntlet in a whirl of lace She's extreme, if you know what I mean Her man is one I admire He's so courageous but he's constantly tired Each time when he speaks his mind She pats his head and says, \"That's all very fine Exert that will of your own When you're alone Now we'd better hurry\" And with no trace of hesitation she keeps going \n",
      "----------------\n",
      "So at last you're free It's the way you wanted it to be And the price you paid To become a woman of today Is it worth the pain to see the children cry Does it hurt when they ask for Daddy Hey hey Helen Now you live on your own Hey hey Helen Can you make it alone (Yes you can) So you're free at last And beginning to forget the past Does it make you sad When you think about the life you ha-ha-had But you're right, you had to take a second chance So you fight to find your freedom Hey hey Helen Now you live on your own Hey hey Helen \n",
      "----------------\n",
      "You feel bad, let me tell you, we all get the blues Sometimes life is a burden, weighed down in your shoes When it's bad, worse, worst (And when you're feeling so bad) And you think you're cursed (And you've got it sad) Well, if there's one thing for the better that can turn you loose It's gotta be rock'n roll To fill the hole in your soul There's gotta be rock'n roll To fill the hole in your soul My friend Sam is a chauffeur, Annie goes to school Jerry works at the office, Sue lies by the pool But on all weekends (Together again) When I meet my friends (I'm gonna see them now) And we're lookin' round for the action we sure play it cool It's gotta be rock'n roll To fill the hole in your soul There's gotta be rock'n roll To fill the hole in your soul Ah-haa (ah-haa, ah-haa) You paint your world and use all colours Ah-haa (ah-haa) And then you find it all comes out too bright You know it's only a lie Ah-haa (ah-haa, ah-haa) The songs you sing are too romantic Ah-haa (ah-haa) And when you want the truth They only spit in your eye Oh yeah, they're only telling you lies Oh yeah, there's gotta be rock'n roll To fill the hole in your soul You feel bad, let me tell you, we all get the blues Sometimes life is a burden, weighed down in your shoes When it's bad, worse, worst (You know you're feeling so bad) And you think you're cursed (And you've got it sad) Well, if there's one thing for the better that can turn you loose It's gotta be rock'n roll To fill the hole in your soul There's gotta be rock'n roll To fill the hole in your soul There's gotta be rock'n roll... To fill the hole in your soul There's gotta be rock'n roll... To fill the hole in your soul There's gotta be rock'n roll... To fill the hole in your soul There's gotta be rock'n roll... To fill the hole in your soul There's gotta be rock'n roll... To fill the hole in your soul (fade) \n",
      "----------------\n",
      "Honey honey, how you thrill me, ah-hah, honey honey Honey honey, nearly kill me, ah-hah, honey honey I'd heard about you before I wanted to know some more And now I know what they mean, you're a love machine Oh, you make me dizzy Honey honey, let me feel it, ah-hah, honey honey Honey honey, don't conceal it, ah-hah, honey honey The way that you kiss goodnight (The way that you kiss me goodnight) The way that you hold me tight (The way that you're holding me tight) I feel like I wanna sing when you do your thing I don't wanna hurt you, baby, I don't wanna see you cry So stay on the ground, girl, you better not get too high But I'm gonna stick to you, boy, you'll never get rid of me \n",
      "----------------\n",
      "I am just a girl, one among the others, nothing much to say Plain and simple girl, not a special type in any way Just one look, and you will surely see That the truth is nobody is me It's an evil world that has only made me a girl I am just a girl, not the kind of woman men would like to meet Just another girl no-one ever looks at in the street But today, I can't believe it's true When you smiled and whispered \"I love you\" Darling I could see, I was meant to be your girl It's a funny feeling when you get to love someone And thinking that he'll never look your way But then he says he loves you, and life has just begun It's so much more than any words can say I am just a girl, not the kind of woman men would like to meet Just another girl no-one ever looks at in the street But today, I can't believe it's true When you smiled and whispered \"I love you\" Darling I could see, I was meant to be your girl La la la la la, la la la la la-la, la la la la laaa La la la la la, la la la la la-la, la la laaa But today, I can't believe it's true When you smiled and whispered \"I love you\" Darling I could see, I was meant to be your girl \n",
      "----------------\n",
      "No smiles, not a single word at the breakfast table Though I would have liked to begin So much that I wanna say, but I feel unable You leave and slam the door Like you've done many times before And I cry and I feel so helpless One man, one woman Two friends and two true lovers Somehow we'll help each other through the hard times One man, one woman One life to live together One chance to take that never comes back again You and me, to the end Outside I can see the sun through the open window Inside everything feels so cold What's wrong, what is happening, where did all our love go? Sometimes when I just can't cope I cling to a desperate hope And I cry and I feel like dying One man, one woman \n",
      "----------------\n",
      "They passed me by, all of those great romances You were, I felt, robbing me of my rightful chances My picture clear, everything seemed so easy And so I dealt you the blow One of us had to go Now it's different, I want you to know One of us is crying One of us is lying In her lonely bed Staring at the ceiling Wishing she was somewhere else instead One of us is lonely One of us is only Waiting for a call Sorry for herself, feeling stupid feeling small Wishing she had never left at all I saw myself as a concealed attraction I felt you kept me away from the heat and the action Just like a child, stubborn and misconceiving That's how I started the show \n",
      "----------------\n",
      "The summer air was soft and warm The feeling right, the Paris night Did it's best to please us And strolling down the Elysee We had a drink in each cafe And you You talked of politics, philosophy and I Smiled like Mona Lisa We had our chance It was a fine and true romance I can still recall our last summer I still see it all Walks along the Seine, laughing in the rain Our last summer Memories that remain We made our way along the river And we sat down in the grass By the Eiffel tower I was so happy we had met It was the age of no regret Oh yes Those crazy years, that was the time Of the flower-power But underneath we had a fear of flying Of getting old, a fear of slowly dying We took the chance Like we were dancing our last dance I can still recall our last summer I still see it all In the tourist jam, round the Notre Dame \n",
      "----------------\n",
      "I was sitting by the phone I was waiting all alone Baby by myself I sit and wait and wonder about you It's a dark and dreary night Seems like nothing's going right Won't you tell me honey how can I go on here without you? Yes I'm down and feeling blue And I don't know what to do, oh-oh Ring, ring, why don't you give me a call? Ring, ring, the happiest sound of them all Ring, ring, I stare at the phone on the wall And I sit all alone impatiently Won't you please understand the need in me So, ring, ring, why don't you give me a call? So, ring, ring, why don't you give me a call? You were here and now you're gone \n",
      "----------------\n",
      "Rock me, give me that kick now Rock me, show me that trick now Roll me, you can do magic Baby, and I can't get enough of it Rock me, give me that feeling Roll me, rocking and reeling Baby, so don't stop doing it, don't stop doing it, now (Don't stop the rocking, don't stop the rocking I said don't stop the rocking) Wanna be wanna be in my baby's arms Gonna be gonna be Nice and gentle if you want me to Just as long as I'm in love with you Yours for ever, honey, that's what I Wanna be wanna be wanna be, yeah Rock me, give me that kick now Rock me, show me that trick now Roll me, you can do magic Baby, and I can't get enough of it Rock me, give me that feeling Roll me, rocking and reeling Baby, so don't stop doing it, don't stop doing it, now (Don't stop the rocking, don't stop the rocking \n",
      "----------------\n",
      "Sitting in the darkest corner In the tender light I saw saw her face She was looking so sad and lonely Someone help me, someone save me I could see the look she gave me, oh Oh yeah, and there was one thing only That I knew I could do Let's go girl It's a beautiful place this world Come on baby let's dance To the rock'n'roll band Let's go now Let me show you that I know how Come on baby let's dance To the rock'n roll band Come on baby let's dance To the rock'n roll band You'd been sitting there for hours Try to hide behind the flowers now Baby, we could have fun together Come on, cheer up, let's get started No use being broken-hearted now Oh yeah, you're gonna feel much better Yes I know that you will Let's go girl It's a beautiful place this world Come on baby let's dance To the rock'n roll band Let's go now Let me show you that I know how Come on baby let's dance To the rock'n roll band Come on baby let's dance To the rock'n roll band (repeat and fade) \n",
      "----------------\n",
      "Where are those happy days, they seem so hard to find I tried to reach for you, but you have closed your mind Whatever happened to our love? I wish I understood It used to be so nice, it used to be so good So when you're near me, darling can't you hear me S. O. S. The love you gave me, nothing else can save me S. O. S. When you're gone How can I even try to go on? When you're gone Though I try how can I carry on? You seem so far away though you are standing near You made me feel alive, but something died I fear I really tried to make it out I wish I understood What happened to our love, it used to be so good \n",
      "----------------\n",
      "Look at her face, it's a wonderful face And it means something special to me Look at the way that she smiles when she sees me How lucky can one fellow be? She's just my kind of girl, she makes me feel fine Who could ever believe that she could be mine? She's just my kind of girl, without her I'm blue And if she ever leaves me what could I do, what could I do? And when we go for a walk in the park \n",
      "----------------\n",
      "You think you're gonna make me sulk, you and your fancy car, ah-ha-ha But I can tell you honey your tricks ain't gonna get you far, ah-ha-ha They say that money's got a magic touch But not to me, it doesn't mean that much You won't have me tonight All right, all right, all right, all right So long, see you honey You can't buy me with your money Chasing, dazing, driving me crazy But I'll never be your girl So long, see you honey You can't buy me with your money You know it's not worth trying So long, so long, so long You didn't have to send me flowers like you did today, ah-ha-ha I wouldn't keep a thing from you, I gave them all away, ah-ha-ha The girls might fall for everything you've got \n",
      "----------------\n",
      "Do I hear what I think I'm hearing? Do I see the signs I think I see? Or is this just a fantasy? Is it true that the beast is waking Stirring in his restless sleep tonight In the pale moonlight In the grip of this cold December You and I have reason to remember Soldiers write the songs that soldiers sing The songs that you and I don't sing They blow their horns and march along They drum their drums and look so strong You'd think that nothing in the world was wrong Soldiers write the songs that soldiers sing The songs that you and I won't sing Let's not look the other way Taking a chance 'Cause if the bugler starts to play We too must dance What's that sound, what's that dreadful rumble? Won't somebody tell me what I hear? In the distance but drawing near \n",
      "----------------\n",
      "Super Trouper beams are gonna blind me But I won't feel blue Like I always do 'Cause somewhere in the crowd there's you I was sick and tired of everything When I called you last night from Glasgow All I do is eat and sleep and sing Wishing every show was the last show (Wishing every show was the last show) So imagine I was glad to hear you're coming (Glad to hear you're coming) Suddenly I feel all right (And suddenly it's gonna be) And it's gonna be so different When I'm on the stage tonight Tonight the Super Trouper lights are gonna find me Shining like the sun (Sup-p-per Troup-p-per) Smiling, having fun (Sup-p-per Troup-p-per) Feeling like a number one Tonight the Super Trouper beams are gonna blind me But I won't feel blue (Sup-p-per Troup-p-per) Like I always do (Sup-p-per Troup-p-per) 'Cause somewhere in the crowd there's you Facing twenty thousand of your friends How can anyone be so lonely Part of a success that never ends Still I'm thinking about you only (Still I'm thinking about you only) There are moments when I think I'm going crazy (Think I'm going crazy) But it's gonna be alright (You'll soon be changing everything) Everything will be so different When I'm on the stage tonight \n",
      "----------------\n",
      "Suzy was nine and I was ten Right at the time when boys like to think they're men She used to follow us at school We really thought that she was a little fool And one day we said to her We don't want to hurt you girl But you'd better Look for a friend of your own, Suzy-hang-around Better come back when you're grown, Suzy-hang-around Nobody wants you around here and that's for sure So get off our playground and stay away That's all that we've got to say Suzy-hang-around Suzy went home to Mama's arms Mama said \"Look, she's never done you no harm So get off her back and let her be Why can't you play together in harmony?\" We really didn't know what to say But as soon as she went away We laughed and said Look for a friend of your own, Suzy-hang-around Better come back when you're grown, Suzy-hang-around Nobody wants you around here and that's for sure So get off our playground and stay away That's all that we've got to say Suzy-hang-around Yes you'd better Look for a friend of your own, Suzy-hang-around Better come back when you're grown, Suzy-hang-around Nobody wants you around here and that's for sure So get off our playground and stay away That's all that we've got to say Suzy-hang-around \n",
      "----------------\n",
      "If you change your mind, I'm the first in line Honey I'm still free Take a chance on me If you need me, let me know, gonna be around If you've got no place to go, if you're feeling down If you're all alone when the pretty birds have flown Honey I'm still free Take a chance on me Gonna do my very best and it ain't no lie If you put me to the test, if you let me try Take a chance on me (That's all I ask of you honey) Take a chance on me We can go dancing, we can go walking, as long as we're together Listen to some music, maybe just talking, get to know you better 'Cos you know I've got So much that I wanna do, when I dream I'm alone with you It's magic You want me to leave it there, afraid of a love affair But I think you know That I can't let go If you change your mind, I'm the first in line Honey I'm still free Take a chance on me If you need me, let me know, gonna be around If you've got no place to go, if you're feeling down If you're all alone when the pretty birds have flown Honey I'm still free Take a chance on me Gonna do my very best and it ain't no lie If you put me to the test, if you let me try Take a chance on me (Come on, give me a break will you?) Take a chance on me Oh you can take your time baby, I'm in no hurry, know I'm gonna get you You don't wanna hurt me, baby don't worry, I ain't gonna let you Let me tell you now My love is strong enough to last when things are rough It's magic You say that I waste my time but I can't get you off my mind No I can't let go 'Cos I love you so If you change your mind, I'm the first in line Honey I'm still free Take a chance on me If you need me, let me know, gonna be around If you've got no place to go, if you're feeling down If you're all alone when the pretty birds have flown Honey I'm still free Take a chance on me Gonna do my very best, baby can't you see Gotta put me to the test, take a chance on me (Take a chance, take a chance, take a chance on me) Ba ba ba ba baa, ba ba ba ba baa Honey I'm still free Take a chance on me Gonna do my very best, baby can't you see Gotta put me to the test, take a chance on me (Take a chance, take a chance, take a chance on me) Ba ba ba ba baa, ba ba ba ba baa ba-ba Honey I'm still free Take a chance on me (fade) \n",
      "----------------\n",
      "I'm nothing special, in fact I'm a bit of a bore If I tell a joke, you've probably heard it before But I have a talent, a wonderful thing 'Cause everyone listens when I start to sing I'm so grateful and proud All I want is to sing it out loud So I say Thank you for the music, the songs I'm singing Thanks for all the joy they're bringing Who can live without it, I ask in all honesty What would life be? Without a song or a dance what are we? So I say thank you for the music For giving it to me Mother says I was a dancer before I could walk She says I began to sing long before I could talk And I've often wondered, how did it all start? Who found out that nothing can capture a heart Like a melody can? Well, whoever it was, I'm a fan So I say Thank you for the music, the songs I'm singing Thanks for all the joy they're bringing Who can live without it, I ask in all honesty What would life be? Without a song or a dance what are we? So I say thank you for the music For giving it to me I've been so lucky, I am the girl with golden hair I wanna sing it out to everybody What a joy, what a life, what a chance! So I say Thank you for the music, the songs I'm singing Thanks for all the joy they're bringing Who can live without it, I ask in all honesty What would life be? Without a song or a dance what are we? So I say thank you for the music For giving it to me \n",
      "----------------\n",
      "Are you sure you wanna hear more What if I ain't worth the while Not the style you'd be looking for If I'm sweet tonight Things look different in the morning light I'm jealous and I'm proud If you hurt my feelings I'll cry out loud I'm Carrie not-the-kind-of-girl-you'd-marry That's me Are you sure you wanna hear more Would I be the one you seek Mild and meek like the girl next door Don't you realise I may be an angel in disguise It's lonely to be free But I'm not a man's toy, I'll never be I'm Carrie not-the-kind-of-girl-you'd-marry That's me I don't believe in fairy-tales Sweet nothings in my ear But I do believe in sympathy \n",
      "----------------\n",
      "BÖLÜM 1 (Savaş) Adam et akla bulaştığı vakitte toprak olsun insanım, hayata dair yetki olamadımsa annem affet. Kavisle döndü benliğim içinde limitsiz bu şarkı söylenir mirayla doldu suflemiz hamaset. Yandı iştiyakım ikramımda oynar itibarım, yankılarda çaldı sazlarım bazımda canıma cansa kattı lakin. Yok, beyim inatçı kiplerim ve üstelikse devranımda takva. Beraat isterim yürekte, sultanım kepimde alamadımdı diploma ve verse elini pençe atarım erk'e. Yok terazin koy vezin ve mağdur oldu sevkıyatta her bi gönüle vurdu her bi zevkin. Tam isabetin savaş, hedefi netle önüne al kaçırma artık aşkı, şanslarında veriledurdu yek mecal. Kiminde dümeni sal, emaneten bu duygular içinde oyna mutluluk masal. NAKARAT (KORO) Pek bir sivri dilimin ucuna takılan tek çizikli yine her dize yazılan an gelince dizeler uçar ağızdan alarmım \n",
      "----------------\n",
      "Tekniğin şu günlerde yerden yere vuruluşunu ağır bir cümleyle anlatmak istedim belki de. Aman derim efendiler, onlar bilmez söyler, etrafımda hızla üreyedurdu etten böcekler. Biraz aram bozuk sizle biliyor musunuz kelimeler? Günden güne şafak tutan kâğıt kalemini bekler. En sonunda yazar kalem kâğıda ve şöyle der; başlangıçtan itibaren bir el beni tetikler. Sözüm şuradan da dışarı insan konuşur haybeden, dilim sanata değmişse yıldızlarım nerde len? V.i.p. koltukta bizim yerimiz yok çocuk, türümüz bizi irdelese de hayallerimiz var çocuk. Koştuğunda varabilirsen değmeden tuzaklara, erişmişsin demektir huzur veren rahatlığa. Bizim sevdamız farklı, derinden ve samimi, bulmalıyım hayatıma yol gösteren kâhini. Kırıktır baktığında geçmiş oysa başarı ileride, gözün görmez hüznü sözün kulak severse. Kim darılsa kim barışsa dengede durmaz, bu nankör hayatın ritmine hiç güven olmaz. Yatıştı hiddetim, refaha erken uyandım sakin. Sorun ne derseniz ki cevaplarını gizlemem. Dürüldü defteri, yolumda yok ki şimdi cahil. Engelse önüme hiçbirini iplemem. Bir maruzatım var üstat, biter bu şarkı bitmeden, geçmez inan içimden acısı ruha rahat vermeden. Hasbelkader resmen, hayatta varlığım, aklen değil de ruhen huzura muhtacım. Hatıralarım ve ben kan davalı bir dostuz, aslen iyi bir arkadaştık, şimdilerde bozgunuz, huzursuzuz. Bugünden istifade edememiş toyuz, yarın yakın fakat bu halde gidemeyiz, umutsuzuz. Uğurlamak gerek, uğursuz misafir ve yolcuları kovmak gerek, bu hâlde olmaz gerçeği görmen gerek. Bak hayat bu dönüyor işte, iyi ve kötünün çevresinde, ziyanı yok toparlan, kendine gelmen gerek. Farkına varmam gereken ne kadar gerçek, yalan varsa gönder, göster, ses ver, zaman dar, bir an evvel. Hatırlat her şeyi, bu gaflet aklı perdeler, mağfiret ister bir zerre, kalbim istirham eder. Hesapsız ve zamansız bir gidişi oldu kalbimin, neyi, nasıl, ne hâlde bulacağımdan emin değildim. Hiçliğe talim, tedavisiz bir hasta bu hâlim, içinden istifade edemedim, tenezzül etmedim. Hayırdır evlat hangi sefere çıktın, hangi limana? Yol ve hava bulutlu bak bir hayli, yelkeni kaldırma. Dur, dümen kır, zaferden hiç seda yok ah bağır çağır, ufukta bir güneş parıldıyor, yiyorsa gel batır! Yatıştı hiddetim, refaha erken uyandım sakin. Sorun ne derseniz ki cevaplarını gizlemem. Dürüldü defteri, yolumda yok ki şimdi cahil. Engelse önüme hiçbirini iplemem. \n",
      "----------------\n",
      "The following is a true story Only the names have been changed To protect the guilty - Well i left my job in my home town And i headed for the smoke Got a rock 'n' roll band and a fast right hand Gonna get to the top Nothing's gonna stop us, no nothing So if you've got the money, we've got the sound You put it up and we'll put it down If you got the dollar, we got the song Just wanna boogie woogie all night long Yeh boogie I got holes in my shoes I got holes in my teeth I got holes in my socks I can't get no sleep I'm trying to make a million And i got patches on the patches On my old blue jeans [ reklamı gizle hide ads ]Well they used to be blue When they used to be new When they used to be clean But i've got a momma whose a hummer [and i've got a mama, whose a hummer] Whose keeping me alive [[just] keepin' me alive] While i'm in the band doing drinking with the boys [while i'm doin' drinkin She's working 9 to 5 with the boys] [she] Knows her place that woman Just you wait - One of these days see me driving round town In my rock 'n' rolls royce with the sun roof down My bottle of booze No summer time blues Shouting out, \"look at me\" In my rock 'n' roll voice Ain't no fun waiting round to be a millionaire Repeat \"Hey hello howard, how you doin', my next door neighbour?\" \"Oh yea... get your fuckin' jumbo jet off my airport\" \n",
      "----------------\n",
      "Get ready You think your kinda tough Youre walkin kinda rough When you want any more You go fast wo wo wo Things go tough And you strut your stuff And I want your thing Then youre out of luck Yes you are Its all screwed up All screwed up Its all screwed up All screwed up Take you out to kick some butt Work you over screw you nuts And when you cant take no more Then she push you out that door And things go hard Like a dog gone mad She can pack some punch Then youre out to lunch, back at one Its all screwed up All screwed up Its all screwed up \n",
      "----------------\n",
      "Do you wanna boogie? Do you wanna blow? She said: I do I do I do Do you want to love me? Do you wanna blow? She said: I do I do I do She said: alright tonight, alright tonight She said: alright tonight, alright tonight She said: alright tonight, alright tonight Do you wanna party? Do you wanna ???? She said: I do I do I do Wanna know the level? She said: I do I do I do She said: alright tonight, alright tonight She said: alright tonight, alright tonight Alright tonight \n",
      "----------------\n",
      "Got a taste of a rocking band Standing there holding out your hand Better lock up all your doors She's like a spinning dynamo You're handing out the token prize Giving you a brand new ride Ooh there she goes she goes And nobody knows Where she goes she goes Banging drums working out 'all fast Heavy tune I can play it loud You know she's blowing away all the others You're never man enough, take it on all night You better razzle dazzle on that stage Keep on rocking on all through the night Ooh there she goes she goes And nobody knows Where she goes she goes \n",
      "----------------\n",
      "Sweet apple pie Standing in the street Hands outta line Looking for some meat She take you high When you feel her sting She make you fly And you know youre coming Who all need it - who Who all need it - you Who all need it, who all need it You all breathe it, we all need it Are you ready for a good time Then get ready for the night line She making eyes At everything she meet Aint it a crime When she make you pump heat She make you fly Because thats her thing She make you dry And you know youre broken in Who all need it, who all need it You all breathe it, we all need it Are you ready for a good time Then get ready for the night line \n",
      "----------------\n",
      "Baby please dont go Baby please dont go Baby please dont go down to new orleans You know I love you so Baby please dont go When the man done gone When the man done gone When the man done gone down the county farm He got the shackles on Baby please dont go Dont leave me Ill be a dog Ill be a dog \n",
      "----------------\n",
      "Back in black I hit the sack Ive been too long Im glad to be back [i bet you know im...] Yes, Im let loose From the noose Thats kept me hanging about Ive been looking at the sky Cause its gettin me high Forget the hearse cause I never die I got nine lives Cats eyes Abusin every one of them and running wild Chorus: Cause Im back Yes, Im back Well, Im back Yes, Im back Well, Im back, back (well) Im back in black Yes, Im back in black Back in the back Of a cadillac Number one with a bullet, Im a power pack Yes, Im in a bang With a gang Theyve got to catch me if they want me to hang Cause Im back on the track \n",
      "----------------\n",
      "Breakin out, about to shout Feel the need for one more round Dont you struggle, dont try to bite You want some trouble, Im the king of vice Im a wreckin ball, Im a stingin knife Steal your money, gonna take your life You got screamin murder, lock up your door Double dealin gotta have more Call me dirty, trash my name Just tell (the? my? ) boys that Im gonna be Chorus: Back in business again Back in business again Back in business again Back in business again (back in business) Flesh and blood, Im a rag n bone Bad luck message on the telephone Dont you worry, play my game Ill do you a favor, put your soul for sale Like a cannon ball, goin down the track Need good lovin but I want it back I was born in trouble, they gave up on me Teacher preachin what not to be Call me dirty, trash my name Just tell my boys that Im gonna be Repeat chorus Solo Repeat chorus (twice) \n",
      "----------------\n",
      "On the day I was born the rain fell down There was trouble brewing in my home town It was the seventh day, I was the seventh son And it scared the hell out of everyone They said stop, I said go They said fast, I said slow They said yes, I said no I do the bad boy boogie Being a bad boy aint that bad Ive had me more dirty women than most men ever had All you women come along with me And Ill show you how good a bad boy can be I said right and they said left I said east and they said west I said up and they said down I do the bad boy boogie all over town I wanna tell you no story, tell you no lie I was born to love till the day I die I just line them up and I knock them down And they all came running when the word got round (just keep a running) I said up, they said down They said straight, I said round They said lost, I said found I said free and they said bound Bad boy boogie \n",
      "----------------\n",
      "I am a pistol pocket man with a gun in my hand Looking for a woman that will understand You like to roll and I like to ride Ill stop at nothing, never take me alive Chorus: Im a man with a fast hand Loving on a last stand Outlaw, quick draw Evil talking bandit man In the badlands I got a .45 thatll make you fry \n",
      "----------------\n",
      "Breakin balls, bangin walls Work hard and tough, and I want some rough Unpack my bags, and take a drag When bang on nine, and dead on time Open up the door And lay upon the floor She open her overcoat Livin out her dreams Rippin off my jeans You are a ballbreaker Engine roll, time to go A razorback, a hog attack \n",
      "----------------\n",
      "Smiling face and loving eyes But you keep on telling me all those lies Howd you xpect me to believe? Honey I aint that naive Baby I got my eye on you Cause you do all the things I want you to Stop your crying and dry your tears I aint that wet behing the ears Well you can throw me left And you can throw me right But where was you last night? Beating around the bush Wish I knew whats on your mind Why you bein so unkind? Member those nights we spent alone Malkin on the telephone Thought of you go through my brain Told me that you felt the same Told me that you loved me too Tell me, who would lie with you? Well you can chew it up And you can spit it out Let it all hang out Beating around the bush Youre the meanest woman Ive ever known Sticks and stones wont break my bones I know what youre lookin for You ate you cake, you want some more Im gonna give you just a one more change Try to save our romance Thats all Im gonna do The rest is up to you You can chew it up And you can spit it out Let it all hang out Beating around the bush \n",
      "----------------\n",
      "The blood in my veins Was running right through my brain There was a cop with a gun Who was running around insane Three fifty arrests No bullet proof vests Now aint that a shame We wanted to play Play for the crowd No, said the wankers Youre on your way out Bedlam in belgium The place was a jumpin And the booze was going down Theres a cop doing time Whos been working overtime We dont play just for pay So we left the stage Stayed just the same He gave me a crack In the back with his gun \n",
      "----------------\n",
      "Im ever upper class high society Gods gift to ballroom notoriety I always fill my ballroom The event is never small The social pages say Ive got The biggest balls of all Ive got big balls Ive got big balls And theyre such big balls Dirty big balls And hes got big balls And shes got big balls But weve got the biggest balls of them all And my balls are always bouncing My ballroom always full And everybody cums and cums again If your name is on the guest list \n",
      "----------------\n",
      "Riot on the radio Pictures on the tv Invader man take what he can Shootout on the silver screen Sticking em up and knocking em down Living out a fantasy Theres a bad man cruising around In a big black limousine Dont let it be wrong Dont let it be right Get in his way Youre dead in his sights Chorus: Big gun Big gun number one Big gun Big gun kick the hell out of you Terminators, uzi makers Shootin up hollywood Snakes alive with a .45 Setting off and doing no good \n",
      "----------------\n",
      "The Steam is a burning Workin' up and down the line The pot is getting ready He's been working it so hard When it comes to lovin Big jack is on his way Wink of satisfaction His time is going on I'm like a bad defender Smoking holy joe He's a big pretender Look out for jack He's on his way Big Jack Big Jack You know it's only natural He gets you up to scratch Big Jack Big Jack You've got a reputation You really got the knack Big Jack Big Jack He said that he's the only one Who got a full sack Big Jack Look out Jack He's always at your back You never leave a dollar Racking up the balls You like to get it on fast Back there standing tall When he hears the siren He's gonna put you on the racks He got a bad reputation Climbing all over the bars \n",
      "----------------\n",
      "Well the devil may care You toss 'em back and be a man With the last time Black ice End of it all, end of the line End of the road Black ice Black ice Come on and bleeding out the crowds We're watching all the women go Many a mile I'll never take I run for forty miles and come up runnin' late Don't you know I live it down When the devil come a callin' I ain't gonna be around Black ice Black ice Black ice The devil come a callin' I ain't gonna be around \n",
      "----------------\n",
      "The song in question is loch lomond, which goes something like the following: I'll take the high road And you'll take the low road And i'll be in scotland afore ye But me and my true love Will never meet again On the bonny, bonny banks of loch lomond \n",
      "----------------\n",
      "Some people say Im only out at night Maybe those folks might of got it right And some people say I drive a cadillac car Or sell my wares hauntin hotel bars Im the boogie man, the boogie man I like fine suits, smoke the best cigars Like talking sex to women, girls in fast cars I might be under the bed, ready to bite So little girl, be careful, when youre on your own tonight Im your boogie man, your boogie man And I hope, that you dont misunderstand your boogie man And dont let the sun come up on me, your boogie man Im your boogie man, your boogie man \n",
      "----------------\n",
      "Got the word, getting ready Gonna get my pay from ???? I'm in light, ???? When the action is hot, ???? No town, no city Gonna be free from the jumping jack Kiss of life, getting gritty If the mule don't kick you know the mule don't ride And i know, yes i know, well i know That's the way to go And i know, and i know And i know that i'm gonna get it down the road Nakarat: Cause i'm living on a borrowed time Do it your way, i'll do it mine Living on a borrowed time Don't need a shove, don't need a sign Call me names, call me crazy Don't try to stop me when i feel this way It's a game, (whoopsy daisy?) Here comes another girl to make my day And i know, yes i know, well i know That's the way to go And i know, yes i know I'm gonna get up when i'm up on the road Nakarat (so long, goodbye, good luck, au revoir baby) Look out people, never let me loose) Nakarat I don't need a sign to show me the way \n",
      "----------------\n",
      "Alright, hold tight I really want to ball tonight On my fender, no space defender I enjoy it on the floor, I get it tight Toe to toe with the blood below Fee fia foo smell the blood of rock n roll All night drive on the rockin suicide My feet are jumping, shes a joy to ride Joy to ride, a joy to ride Shes an all night drive on the rockin suicide And its a brain shake, brain shake, brain shake All I can take Brain shake, brain shake, brain shake Shes a mean lean rocking machine A hip hugging blue jean dream Shes a one horse town with a sweet sweet kiss Her hips are right around me \n",
      "----------------\n",
      "Black sheep and a renegade Hot feet in the cool of the shade Street shuffle and a tough childhoods Examinations done no good Tall bars and a hot wired cars Speed veems and cheap cigars No rebellion, not today I get my kicks in my own way Right, ok Just keep on breaking the rules Come on, get ready to rule Top breaks in the neighbourhood A hard case whos up to no good Living like trash, a society rash Ready to brain, ready to gash A bad deal and a real rough ride Youre doing time on the other side No rebellion, not today I get my kicks in my own way \n",
      "----------------\n",
      "[Oooh yeah] Burnin alive, set my soul on fire Runnin with a gun, this place is gonna burn No firewater, or novacaine No thunderstorm, no john wayne No kids to rock, nowhere to run So watch out cause this place is gonna burn Burnin alive, burnin alive Burnin alive, burnin alive [Burnin alive, burnin alive] They be smokin your hide, come runnin wild Tell you nothin to fear, cause the buck stops here! He came from a little town called hope And someday, maybe, itll go up in smoke [I say] No firewater, or novacaine, No thunderstorm, and no john wayne No kids to rock, nowhere to run \n",
      "----------------\n",
      "Call of a dove, cry of a bitch Cream of a dream is the cause of the itch Call of the doctor, cash on demand If you get enough rope, might even hang Chorus: C.o.d. - care of the devil C.o.d. - the devil in me C.o.d. - care of the devil Care of the devil in me The curse of love is the cause of the pain The crime of the day is when you do it again Call of the doctor, cash on demand \n",
      "----------------\n",
      "I met this girl for the first time on saturday night Standing in the queue at the odeon alright Oh I took her by surprise When I gave her one of my lines She started smiling at me real fine (ha ha) Thats when I said Can I sit next to you, girl At intermission we were doing alright Until this guy came up and stood by her side Oh I took him by surprise When I gave him one of my lines She started smiling at me real fine And thats when I said Can I sit next to you, girl \n",
      "----------------\n",
      "Going out on the town Just a me and you Gonna have ourselves a party Just like we use to do Nobodys playing manilow Nobodys playing soul And no ones playing hard to get Just a good old rock n roll Chorus: Get it hot, get it hot Come on baby, get it hot Get it hot, get it hot \n",
      "----------------\n",
      "She had the word Had the way The way of letting me know [the way of letting you know] She knew the game Called the play Oh she hit me low She said, now you go your way Ill go mine And thats a start Doctor, doctor Aint no cure For the pain in my heart [Nakarat] Gimme a bullet to bite on Something to chew Gimme a bullet to bite on And Ill make believe Bullet to bite on \n",
      "----------------\n",
      "Ive been around the world Ive seen a million girls Aint one of them god Well my lady shes god She stealin�the spotlight Knocks me off my feet Shes enough to start a landslide Just a walkin down the street Wearing dresses to tight And looking dynamite Enough to blow me around No doubt about it cant live without it Chorus: The girls got rhythm The girls got rhythm Shes got the backseat rhythm The girls got rhythm (aww) Shes like a lethal brand Too much for any man She gives me first degree She really satisfies me \n",
      "----------------\n",
      "Oh yeah Well there be no words of fighting around here cause nothin dont matter cause it aint clear Well it could be on a monday Or it could be even sunday So if you cant stand the distance You better disappear Do I make myself clear Im ready to rock Im gonna rip it Ready to rock yeah Im gonna stick it Give it up give it out Whip it up all about Stick it up shout it loud Come on, give it up, give it up Give it up, give it up, yeah Well theres a big storm a howlin around here And there be no wine no sinnin and no beer Im gonna aim to fire a rocket There aint no damn way to stop it I got a sure fire bullet To get you outta here I said do I make myself clear Im ready to rock yeah Im gonna rip it Ready to rock yeah Im gonna stick it Give it up give it out I said whip it up all about \n",
      "----------------\n",
      "She take you down easy Going down to her knees Going down to the devil Down down to ninety degrees Oh, shes blowing me crazy Till my ammunition is dry Oh, shes using her head again Shes using her head Oh, shes using her head again Chorus: Im just a givin the dog a bone Givin the dog a bone Givin the dog a bone Givin the dog a bone Im just a givin the dog a bone Givin the dog a bone Im just a givin the dog a bone Givin the dog a bone Yeow Shes no mona lisa No, shes no playboy star But shell send you to heaven Then explode you to mars Oh, shes using her head again Using her head again Shes using her head Using her head again Oh, shes using her head again \n",
      "----------------\n",
      "Ruby, ruby, where you been so long? Dont stop drinking whiskey baby since you been gone Aint no one I know do it as good as you Licking on that licking stick the way you do You got the lips to make a strong man weak and a heathen pray Givin you the jump it aint the way you speak, lord its just the way Go down Mary, mary, youre the one for me And the way you hum, sting like a bumble bee bzzzz Ill be around to see you about, about half past ten Aint felt this good since I dont know when You got the touch that I need so much in your finger tips I got honey what you love to taste on those lovely lips \n",
      "----------------\n",
      "Once i need relaxation Need to get some r 'n' r (that's rest and recreation) Don't need no vacation I don't have to go that far (i've got better things to do with my money) Don't need no private eye Forget the fbi 'cause when the beaver sings Look out i'm closing in Nakarat: In the go zone, ready to fly In the go zone, standing up high In the go zone, down on the block In the go zone, ready to rock Down down down in the go zone Got to have my candy Got to have my sugar sweet (i wanna give you a treat) Giving you directions \n",
      "----------------\n",
      "Feel the pressure rise Hear the whistle blow Found a ticket of her own accord [on her roller car] [to | yeah | that] I dont know Packed her heart in a travelling bag [fought so hard in a travelin band] And never said bye bye Somethings missing in the neighbourhood All the cryin eyes I stirred my coffee with the same spoon [a stupor caught me with the sin spoon] Do a favourite tune [to her favourite jewel] Gone shootin My babys gone shootin Wrap yourself around Like a second skin Packed her favourite bag [packed|picked her favourite nag] But she could never win I took [your | a | her] number in another town She took another pill She was runnin in overdrive Up until my overkill [a victim of overkill] She never made it past the bedroom door What was she aiming for? [why Id thought shed even pour] \n",
      "----------------\n",
      "Getting bombed out on booze Got nothing to lose Run out of money Disposable blues Sleazy hotels Like living in hell The girls on the hustle With nothing to sell Want something for nothing It's always the same Keep pushing and shoving And i'm down on the game Always in trouble Forever detained Goodbye, goodbye, goodbye And good riddance to bad luck Well spread out the news There's a free man loose Back out of jail And chasing some flueze Padlocks and chains Broken the chains Lay down a claim For monetary gains Wonder what's coming Out for the take Freedom for loving And lust for the taste Eyes are wide open (wild?) to the game Goodbye, goodbye, goodbye And good riddance to bad luck \n",
      "----------------\n",
      "Hey mister businessman Head of the company Are you looking for a lady One who likes to please? Hey mister businessman This one likes to tease With a special service In french quantities But she won't sacrifice What you want tonight She won't come across Unless there's money in her hand And she's calling all the shots She got you by the balls Hey mister businessman High society She can play the school girl And spank you all you please But she won't sacrifice What you want tonight She won't come across Unless there's money in her hand She don't go overtime She got you by the balls (kiss your balls goodbye) Hang it left, hang it right, Got you by the balls Got your shorts, got your curlies Got you - by the balls She got you by the balls \n",
      "----------------\n",
      "Guns For Hire The word is out That i'm about And i've come gunning for you I'm a real entertainer A mischief maker A lover of no fixed abode Quick draw on the floor No law give you more Sweet talking lover of sin You want to get You get what you want Look out woman - Nakarat: I got guns for hire Shoot you with desire The guns for hire Shoot you with desire I'm a wanted poster A needed man Running wild across the land I'm a smooth operator A big dictator Gonna mark you with my brand Nakarat (quick draw on the floor, big shot) Hot to trot, big shot Take a lot Never get the drop on me I'm a real entertainer Mischief maker Lover in seven languages Nakarat What you get, big shot You can't get the drop on me, girl \n",
      "----------------\n",
      "He be the count of monte cristo Could be a quake any day Maybe somebody from siam Begin the era of a new rage Keeps lickin' all the honey Chewin' up the fat he rakes Instead of sending to the lions They cover him with praise All hail caesar, hail, hail! All hail caesar, hail, hail! Down at the epicenter Things started heatin' up Rockin' on the richter scale [rockin' up the richter scale] Swinging in the chariot Around and around we go The senators rehearse the tale Starring in the coliseum Tied upon the rack Up comes the thumb of caesar To stab you in the back All hail caesar, hail, hail! All hail caesar, hail, hail! Down at the epicenter \n",
      "----------------\n",
      "Have A Drink On Me Whiskey, gin and brandy With a glass i'm pretty handy I'm trying to walk a straight line On sour mash and cheap wine So join me for a drink boys We're gonna make a big noise So don't worry about tomorrow Take it today Forget about the cheque We'll get hell to pay Have a drink on me Dizzy, drunk and fightin' On tequila white lightnin' My glass is getting shorter On whiskey, ice and water So come on and have a good time \n",
      "----------------\n",
      "Getting ready to rock Getting ready to roll Gonna turn up the heat Gonna fire up the coal I gotta keep that motor turning I gotta keep that engine clean I gotta keep those tires burning I've got the best you've ever seen And i'm a heatseeker charging up the sky And i'm a heatseeker, i don't need no life preserver I don't need no one to hose me down Don't hose me down Getting ready to break Getting ready to go Get your shoes off and shake Get your head down and blow You gotta keep that woman firing You gotta keep that serpent clean You gotta make her sound the siren You gotta hear that lady scream \n",
      "----------------\n",
      "Hell Ain't A Bad Place To Be Hey you - Sometimes i think this woman is kinda hot Sometimes i think this woman is sometimes not Puts me down, fools me around What's she doing to me? Out for satisfaction, any piece of action That ain't the way it should be She needs love, smells out a man She's gotta see Pours my beer, licks my ear Brings out the devil in me Hell ain't a bad place to be Spends my money, drinks my booze, stays out every night And i got to thinking, \"hey, just a minute, something ain't right\" Disillusions and confusion Make me want to cry All the same, you lead your games Tellin' me your lies Don't mind her playing a demon As long as it's with me If this is hell then you could say It's heavenly Hell ain't a bad place to be Late at night turns down the lights Closes up on me Opens my heart, tears it apart Brings out the devil in me Hell ain't no bad place to be \n",
      "----------------\n",
      "Hells Bells I'm a rolling thunder, a pouring rain I'm comin' on like a hurricane My lightning's flashing across the sky You're only young but you're gonna die I won't take no prisoners, won't spare no lives Nobody's putting up a fight I got my bell, i'm gonna take you to hell I'm gonna get you, satan get you Nakarat: Hell's bells Yeah, hell's bells \n",
      "----------------\n",
      "High Voltage (well) you ask me 'bout the clothes i wear And you ask me why i grow my hair And you ask me why i'm in a band I dig doin' one night stands And you wanna see me do my thing All you gotta do is plug me into high I said high High voltage rock 'n' roll High voltage rock 'n' roll High voltage, high voltage High voltage rock 'n' roll Rock 'n' roll You ask me why i like to dance And you ask me why i like to sing And you ask me why i like to play I got to get my kicks some way And you ask me what i'm all about Come and let me hear you shout high \n",
      "----------------\n",
      "Living Easy Lovind Free Season Ticket For a One Way Ride Asking Nothing Leace Me Be Taken Everything in My Stride Don't need Reason, Don't Need Rhyme Ain't Nothin I Would Rather Do Going Down, By The Time My Friends Are Gonna Be There To Ehh I'm On a Highway To Hell One The Highway To Hell Highway To Hell I'm On The Highway To Hell No Stop Sings Speed Limit Nobody's Gonna Slow Me Down Like A Wheel Gonna Spin it Nobody's Gonna Mess Me Round Hey Satan, Paid My Dues Playin in a Rockin Bad Hey Momma, Look At Me I'm On My Way To The \n",
      "----------------\n",
      "I got a big fat cadillac built for you I got a honk thatll blow the avenue Got a hot dog kickin all bend my thing Got a a sugar looking woman with a bald headed man Give me five o here boy, thats what ill do Got a big fat momma who can hold a tune Gotta slip that bone in hard and mean A honky tonk woman get the best of me Cant Hold me back Cant Hold me back Cant Hold me back Get a heart attack Cant Hold me back Got a honky tonk big ball hit to thrill I got a sugar boot money baby thatll kill A honky tonk 15 golden mile Gotta bald headed woman loaded in the town You can get me to the ball man, drivin in And dont balk the kill, call in the ville You gotta map the wrong town, hit the road You got the whole boppa movin on down the road Cant Hold me back You cant Hold me back You cant Hold me back You get a heart attack Cant Hold me back You cant Hold me back You cant Hold me back You cant Hold me back You get a heart attack Cant Hold me back You cant Hold me back, you cant Hold me back You cant Hold me back, you cant Hold me back Cant Hold me back, you cant Hold me back You cant Hold me back, you get a heart attack Cant Hold me back (Hold me back) You cant Hold me back (Hold me back) You cant Hold me back (Hold me back) Cant Hold me back (Hold me back) You cant Hold me back (Hold me back) Cant Hold me back (Hold me back) You cant Hold me back (Hold me back) You cant Hold me back \n",
      "----------------\n",
      "I put the finger on you, yeah My hands all outta control I can't stop it gettin' down on you It's movin' of its own accord I got fire in my finger tips Radiate it all to you I can't control it Can't even hold it It's knockin' on your door and you know what it's for I put the finger right on you I put the finger right on you You put your finger on me too And I put the finger, I put the finger, I put the finger I put the finger I got the finger on you for sure It's the key to unlockin' your door Don't you know I broken thru' your security My hands ain't tied no more, you better watch out I can't control it Can't even hold it Sneakin' up for your pleasure You can feel it on your ankle Feel it on your knee Feel it on your thigh Can you feel me \n",
      "----------------\n",
      "If You Dare Honey do you love me Love me like you do Woman won't you come outside and play If you dare Woman if you love me Love me like you do Love me like you say Woman won't you come outside and play If you dare Come on outside If you dare Come outside and play >> lets make it Hey sugar baby So hot and tasty Come on give me some love You're driving me wild It's way past midnight Why don't we take a ride \n",
      "----------------\n",
      "It's criminal There ought to be a law Criminal There ought to be a whole lot more You get nothing for nothing Tell me who can you trust We got what you want And you got the lust Nakarat: If you want blood, you got it If you want blood, you got it Blood on the streets Blood on the rocks Blood in the gutter Every last drop You want blood, you got it It's animal \n",
      "----------------\n",
      "No mercy for the bad if they want it No mercy for the bad if they plead No mercy for the bad if they need it No mercy from me Tell no truth and tell no lies Cross your heart and hope to die Never give what you can't take back Scratch like a cat Inject your venom It'll be your last attack No mercy for the bad if they want it No mercy for the bad if they plead No mercy for the bad if they need it V-e-n-o-m \n",
      "----------------\n",
      "Ridin' down the highway Goin' to a show Stop in all the by-ways Playin' rock 'n' roll Gettin' robbed Gettin' stoned Gettin' beat up Broken boned Gettin' had Gettin' took I tell you folks It's harder than it looks It's a long way to the top If you wanna rock 'n' roll It's a long way to the top If you wanna rock 'n' roll If you think it's easy doin' one night stands Try playin' in a rock roll band It's a long way to the top If you wanna rock 'n' roll Hotel, motel Make you wanna cry Lady do the hard sell Know the reason why Gettin' old Gettin' grey Gettin' ripped off Under-paid Gettin' sold Second hand That's how it goes Playin' in a band It's a long way to the top If you wanna rock 'n' roll It's a long way to the top If you wanna rock 'n' roll If you wanna be a star of stage and screen Look out it's rough and mean It's a long way to the top If you wanna rock 'n' roll \n",
      "----------------\n",
      "See it on the television every day Hear it on the radio It ain't humid but it sure is hot Down in mexico The boy is trying to tell me Near enough to the edge (beginning of the end) Say they've all been there Too late my friend [Nakarat] Riff raff Always good for a laugh (ha ha ha) Riff raff Go on, laugh yourself in half \n",
      "----------------\n",
      "Dog day, it's tuesday Hope that girl she'll come today Hard life, it's a city life Sweat keeps pourin' down I got my feet up, like to love Through the dawn till i've blown All i want's her lovin' now I love the way she move around Need no excuse To let it all hang loose My body's for abuse Nakarat: Rising power, we'll raise the night Rising power Rising power, we'll wake the dead Rising power (you got it) Love life, up all night Darkest hour at the dead of night \n",
      "----------------\n",
      "Deep water all around me Circle sharks all about Deep in trouble Had me turned around Man up and one man down You pretty women gather 'round You can't pick up not a single sound You feel you're winning that's what it's all about Knowing you are winning And it could be the very last time I could be in a rock n roll dream I could be in a rock n roll dream Circle sharks all about you You come up and you don't know why Where goes a woman with a warm embrace Does a man walk in the hard rain \n",
      "----------------\n",
      "My Daddy was workin' nine to five When my Momma was havin' me By the time I was half alive They knew what I was gonna be I left school and grew my hair They didn't understand They wanted me to be respected as A doctor or a lawyer man (But I had other plans) Gonna be a rock 'n' roll singer Gonna be a rock 'n' roll star Well I worked real hard and bought myself A rock 'n' roll guitar I gotta be on top some day I wanna be a star I can see my name in lights And I can see the queue \n",
      "----------------\n",
      "One heart angel One cool devil Your mind on the fantasy Livin on the ecstasy Give it all, give it, Give it what you got Come on give it all a lot Pick it up move it Give it to the spot Your mind on fantasy Livin on ecstasy Runaway Train (Running right off the track) Runaway Train (Running right off the track) Runaway Train (Running right off the track) Yeah the Runaway Train (Running right off the track) One hard reng a ale Old school rebel A ten for the revelry Diamond of the agency Shake it, Shake it Take it to the spot You know she make it really hot Get it on, get it up Come on give it all you got Your mind on fantasy Livin on the ecstasy Runaway Train (Running right off the track) \n",
      "----------------\n",
      "Well, one mad shuffle He says two women is trouble Sweat out a duel I'm humming right at you I said you didn't even rate Comin' on at night You know to come along with you You gotta run away and hide Two by two Well, I said I'm comin' right at you She's rockin' all the way She's comin' out my way She's goin' all the way She's comin out to play She's sexy in her boots Tear up all the news Shoot you in the back Driving you mad Come on hear me out And take my advice She won't stop until you're in her sights \n",
      "----------------\n",
      "I like 'em big and i like 'em small And if i had to take the oath i would take them all Give me that ruff stuff (it's what i want) She's a saint, she's a sinner She's a rave, rave, rave She's a woman, she's a winner In every way, way, way She don't want love Nor cabaret that's out She like to play around That suits me fine I like it better when she read my mind You know, don't want a woman with a ball and chain Don't want to play that game Nakarat: Just give me that ruff stuff I want ruff stuff Baby give me ruff stuff You don't want ruff stuff? \n",
      "----------------\n",
      "Up in the morning and out to school The teacher is teaching the golden rule American history and practical maths Study 'em hard and hoping to pass Working your fingers right down to the bone And the guy behind you won't leave you alone Ring ring goes the bell The cook in the lunch room is ready to sell You're lucky if you can find a seat You're fortunate if you have time to eat Back in the classroom open your books Gee but the teacher don't know how mean she looks Hail hail rock 'n' roll Soon as 3 o'clock rolls arounYou finally lay your burden down Close up your books and get out of your seat Down the hall and into the street Up to the corner and 'round the bend Right to the juke joint you go in Drop the coin right into the slot You gotta hear something that's really hot With the one you love you're makin' romance All day long you've been wanting to dance Feeling the music from head to toe Round and round and round you go Long live rock 'n' roll \n",
      "----------------\n",
      "You want love Dirty dirty love You want lust Just a little lust You wan' a bad reputation You wanna better your score I got the qualifications I can open any door (ooh yeah) Nakarat: Send for the man, yeah Send for teh man, yeah \n",
      "----------------\n",
      "A little game Of falling down You rock 'n' roll When the call come 'round Come on baby, and make some time Made in the shade and you wish it'd turn around You're gonna rock, you'll rock the night away You're gonna roll baby, and I'll make the grade We gonna rock now, rockin' n rollin' all in the town You're gonna make it right We're gonna need to rock all night She digs rock n roll She likes rock n roll You want rock n roll I need rock n roll Everyday And all through the night We are a gang coming down We're gonna rock all night Rock n rollin' all the time She may be home, rollin' out the groove You know that rock n roll's squeezing out the tube She digs rock n roll She likes rock n roll You want rock n roll And I need rock n roll Everyday And all through the night \n",
      "----------------\n",
      "She's got style that woman Makes me smile that woman She's got spunk that woman Funk that woman She's got speed my babe Got what i need my babe She's got the ability To make a man outta me Nakarat: But most important of all Let me tell you My lady's got balls She's got balls She's got soul my lady \n",
      "----------------\n",
      "Diamonds and dust Poor man last, rich man first Lamborginis, caviar Dry martini's, Shangrila I got a burnin' feeling, deep inside of me It's yearnin', but I'm gonna set it free I'm goin' in to sin city I'm gonna win in sin city Where the lights are bright Do the town tonight I'm gonna win in sin city, let me roll ya baby Ladders and snakes \n",
      "----------------\n",
      "Why don't you hang up Won't you back up Will you pack up And head for higher ground I know you And you know me Tell me what is you want it to be What you want to be What you need in me Hey hey hey Skies on fire Flames burn higher Skies on fire Flames get higher I know you Now you know me Tell me what it is you want it to be In the rain In the streets You're amazed by all the things that you see Tell me \n",
      "----------------\n",
      "Come on and blow your mind You're out of time Beat your chest Join in like all the rest Shove 'em back Hey hey hey yes Hey hey hey yeah Seems like you run a mile Hey try to unwind Come on let's blow your mind It's no use You ain't got time Without a sound Come on let's get around Oh I hear the crash Come on in and just Smash, grab and take it While you can Smash, grab and take it Hey hey hey yeah Why don't you come out Come on - run it to the ground You're gonna blow your mind You're gonna pulverize Once you've come up late You gotta pick up straight It's gonna blow your mind And all the living's gone Smash, grab and take it Take it for yourself Smash, grab and take it Take it take it take it yeah Steal the money I'm taking while I can Come on let's blow your mind Hey hey hey yeah Shoot 'em right down Take it while you can Come on let's blow your mind Smash, grab, take it Hey hey hey yeah Smash, grab and take it for yourself Smash, grab and take it \n",
      "----------------\n",
      "Crashed out of the market, out on the floor Washed up on the shore Bombed out of the city, out of the door Thrown up against the wall Put out of the picture, axe about to fall Walk before you crawl Dragged down to the bottom, screaming for air The shark must get his share You can see it coming, miles and miles away Women, drink and money are going to make you pay Snowballed, oh yeah Snowballed, they've done it again Snowballed, makin' me pay Snowballed \n",
      "----------------\n",
      "Ooh yeah! We wanna be alone tonight 'Til early in the morning light Out in the open you are here Adventures in paradise We wanna be alone tonight 'Til early in the morning light Exploring what the nature brings Adventures in paradise Adventures in paradise Oh give me what I need tonight Oh you know what I want tonight Oh give me what I need tonight, Adventures in paradise We wanna be alone tonight 'Til early in the morning light Exploring what the nature brings Adventures in paradise Adventures in paradise Oh give me what I need tonight Oh you know what I want tonight Oh give me what I need tonight, Adventures in paradise Oh give me what I need tonight Oh you know what I want tonight Oh give me what I need tonight, Adventures in paradise When the moon is at its height And nobody is in sight We're hiding from the world we used to like And will stories then be told Of what we did here tonight You will always be my number one Oh give me what I need tonight Oh you know what I want tonight Oh give me what I need tonight, Adventures in paradise Oh give me what I need tonight Oh you know what I want tonight Oh give me what I need tonight, Adventures in paradise Oh give me what I need tonight Oh you know what I want tonight Oh give me what I need tonight, Adventures in paradise Oh give me what I need tonight \n",
      "----------------\n",
      "Tout pour toi Liaison dangereuse [Verse 1:] I tried to write you a love song I thought I could So far what I told, you misunderstood It used to be so good What went wrong with us I remember our night in Montparnasse You gave me a painting made of us So I cherish our moments when we still were young [Bridge:] I won't give it up Can't you see I'm not strong enough Don't call my bluff A sunny, sunny day [Chorus:] I'm doing it all for you But you're letting me down, you better turn around I'm doing it all for you a-a a-All for you L'amour ou le neant [Verse 2:] Hand in hand on our journey we're set for love You and me against the world, we were never apart So naive I could be, I thought our love would last [Bridge:] I won't give it up. Can't you see I'm not strong enough \n",
      "----------------\n",
      "she leeds a lonely life - she leeds a lonely life when she woke up late in the morning light and the day has just begun she opened up her eyes and thought o' what a morning it's not a day for work it's a day for catching tan just laying on the beach and having fun she's going to get you all that she wants is another baby she's gone tomorrow boy all that she wants is another baby all that she wants is another baby she's gone tomorrow boy all that she wants is another baby all that she wants - all that she wants so if you are in sight and the day is right she's a hunter you're the fox the gentle voice that talks to you won't talk forever it's a night for passion but the morning means goodbye beware of that is flashing in here eyes she's going to get you all that she wants \n",
      "----------------\n",
      "Always Have, Always WillI was mesmerised when I first met you Wouldn't let myself believe The you could step right out of my wildest dreams But you didn't know That secret part of me Until we kissed and made it open up so easily I always have Even when it didn't show I always will You know that I just wanna touch you Whenever you're close to me I always have Doesn't matter where we go I always will You know that I just wanna show you Just how much you mean to me Always have, always will Everything that you give in to Everything you'll ever need Is locked up somewhere deep inside of me And you gotta know But more importantly You've got to stay and hold me while we live this fantasy I always have Even when it didn't show I always will You know that I just wanna touch you Whenever you're close to me I always have Doesn't matter where we go I always will You know that I just wanna show you Just how much you mean to me Sometimes we try too hard to please We should have let love come naturally And sometimes I don't know Just what you really do to me That is okay 'Cause it's all part of the mystery I always have Even when it didn't show I always will You know that I just wanna touch you Whenever you're close to me I always have Doesn't matter where we go I always will You know that I just wanna show you Just how much you mean to me Always have, always will \n",
      "----------------\n",
      "I know that I'm not the first one You've had love in your path before me But when your lips touched my lips It felt like I was kissing destiny Angel eyes with your angel eyes Will you always be there to hold me Angel eyes, I am satisfied I don't want to hear your story 'Cause I can see the things I really want to see I am in love I believe in what I'm feeling \n",
      "----------------\n",
      "You can do what you want just seize the day What you're doing tomorrow's gonna come your way Don't you ever consider giving up, you will find, oooh It's a beautiful life, oh o-o-oh It's a beautiful life, oh o-o-oh It's a beautiful life, oh o-o-oh I just wanna be here beside you And stay until the break of dawn Take a walk in the park when you feel down There's so many things there that's gonna lift you up See the nature in bloom a laughing child Such a dream, oooh It's a beautiful life, oh o-o-oh It's a beautiful life, oh o-o-oh It's a beautiful life, oh o-o-oh I just wanna be here beside you (oh, yeah, alright) I just wanna be here beside you and stay until the break of dawn You're looking for somewhere to belong You're standing all alone for someone to guide you on your way \n",
      "----------------\n",
      "What a beautiful morning The best in life is free Mmm, what a beautiful morning Believe me What a mystery, all the world's on fire Yesterday's hard work still in my head I feel no despair, no regrets or sorrow Cause this new day makes me dance on air (What a golden day) What a beautiful morning in my life The best in life is free I'd give it all away And I wonder what more is to come Let this beautiful morning change my mind Believe me when I say The shadows are fading out, oh yeah As the day grows bright, we are turning pages And we write new chapters of our lives Some are strong and long, others weak with sorrow Keep the focus on the rising sun \n",
      "----------------\n",
      "Is it you? [x3] I guess you always Wanted freedom No guarantees In the western world Love forsaken My heart is aching You turned to east To find your peace (My everlasting dream) [Chorus] Black Sea, what do I see? (This) glimmer on the ocean, (is it you?) Black sea for you and me (So) close but far away Na, na, na, na – Can there be a chance? Na, na, na, na – For you and me Na, na, na, na – Feel my humble stance You're my swedish complete taboo (My everlasting dream) My enigma is Keeping our secret \n",
      "----------------\n",
      "I see us walking in the sand That's when we said our first hello Two perfect strangers hand in hand Give me more of your voice, I can't resist it I'm sitting in my car, so tired I've had enough of broken dreams The rain is pouring, I've just been fired My self-esteem needs a glee Woah... Bla Bla Bla on the radio Give me some music I can listen to Give me that music, 'cause I want to listen, oh oh Bla Bla Bla on the radio I've been Waiting for our song to play Baby let us run away I'm waiting for our song to play I'm not over you I'd like you to take me back to last Summer So far away from where we are Our tropic night will last forever Our final \"au revoir\" \n",
      "----------------\n",
      "Reality reality reality is always You tattoes yourself like a piece of art You've already broken your mother's heart When I was your age, working my ass off Your generation's soft Reality is auch a drag For barely blooming eighteens The bearely blooming eighteen Wants to know What's keeping her from searching [ reklamı gizle hide ads ]You cannot pierce that and You're dressed too tight Got a lot to learn about wrong and right So dye your hair, dad's gonna wash it out Come on wash your mouth Reality is always... What's hiding in the shadow Reality reality reality is always Reality is always... \n",
      "----------------\n",
      "I am as young as I'm feeling I'm always 21, I am always 21 C'est la vie, c'est la vie, c'est la vie I'm always 21 at heart, love listen to me Ooooh yeah yeah yeah I need somebody to stay beside me Cause I've got a hungry heart Baby with or without love I'm gonna get a Man who can fulfill my dreams On the top of the world I don't wanna be alone No no no not me C'est la vie, c'est la vie, c'est la vie On the road tonight life is good for you, always 21 C'est la vie, c'est la vie, c'est la vie On my own tonight life is good for you, always 21 Love is a lyer, but I'm a tryer, Give it another go You have another, yes I have seen her, I wonder who she is Does she kiss you the wayThat I used to kiss you I bet she wonders Who I am C'est la vie, c'est la vie, c'est la vie On the road tonight life is good for you, always 21 C'est la vie, c'est la vie, c'est la vie On my own tonight life is good for you, always 21 C'est la vie, c'est la vie, c'est la vie On my own tonight Love will come to you You are always 21 I get older everyday But I will fight it till the end There's a man for me to have and to hold Easy come and easy go Once bitten but not for long And as young as I'm feeling Yes I am C'est la vie, c'est la vie, c'est la vie On my own tonight Love will come to you You are always 21 C'est la vie, c'est la vie, c'est la vie On my own tonight Life is good for you, always 21 You are always 21 Always, always, always Life is good for you you are always 21 \n",
      "----------------\n",
      "Captain Nemo is too good for you and me Take a voyage to the bottom of the sea He's a riddle you will see in the middle of the sea If you ask him things about life, then he will say: Oh no, I'm far too continental for mankind I don't interfere in your life See me as a searcher with the answers To your world from under the sea Captain Nemo knows the world be we don't know What control of light and darkness means He'll show If we come in peace at heart He may help us to restart what went wrong So long ago from down below Oh no, I'm far too continental for mankind I don't interfere in your life See me as a searcher with the answers To your world from under the sea See him as a searcher with the answers to mankind He's far too continental Though he's wiser than all man He is curious about the plan Violated by the man, the master plan Oh no, he's far too continental for mankind He doesn't interfere in your life See him as a searcher with the answers To your world from under the sea Oh no, he's far too continental for mankind He doesn't interfere in your life See him as a searcher with the answers To your world from under the sea Oh no, he's far too continental for mankind Under the sea \n",
      "----------------\n",
      "This is a song about a well-known girl Who was she? We will never know the answer to that question Cecilia - walk in the light Cecilia - you're gonna live forever According to a well-known song Cecilia - walk in the light Cecilia - did you come home and to whom? Simon and Garfunkel had a little problem It was something about their hearts, you used to break Them, and make them go down on their knees On and on again Cecilia - walk in the light Cecilia - you're gonna live forever According to a well-known song Cecilia - walk in the light Cecilia - did you come home and to whom? Romeo and Juliet had another story, but they \n",
      "----------------\n",
      "Change with the light Change with the light Turn, turn, turn around Change with the light Change with the light Smile on my face Like doctor Jekyll and Mr. Hyde I'm changing I change with the light Hiding away running from reality Who am I Am a doctor in this game Aaah Change with the light Turn, turn, turn around Be my baby Stay for the night Do it right Feel my vibrations I will change with the light Feel my body talk Be mine Never Stop Shake it right In the night Change with the light Change with the light Morning has come As the sun catches my face I realise I'm alone with myself Yesterday all was dark I was dancing on the floor In this light I'm completely another me Oooh Change with the light Turn, turn, turn around Be my baby Stay for the night Do it right Feel my vibrations I will change with the light Feel my body talk Be mine Never Stop Shake it right In the night Change with the light Change with the light Rock it to the beat While you're shaking my mind Changing my face Cause you were mine Excited by your beauty Makes me totally blind Hypnotise me Mess up my mind All the voices \n",
      "----------------\n",
      "MMMMM... AHHHH... MMMMM... AHHHH... Hot summer streets and the pavements are burning as I sit around Trying to smile but the air is so heavy and dry Strange voices are saying (AHHH what did they say?) Things I can't understand It's too close for comfort this heat has got right out of hand (AHHHHH) It's a cruel (cruel) cruel summer Leaving me here on my own It's a cruel (it's a cruel) cruel summer Now you're gone you're not the only one it's a cruel The city is crowded my friends are away and I'm on my own It's too hot to handle so I've gotta get up and go As in go home... [It's a cruel (cruel) ] Cruel summer Leaving me here on my own It's a cruel (it's a cruel) cruel summer Now you're gone you're not the only one it's a cruel (cruel) Cruel summer (leaving me) Leaving me here on my own It's a cruel (it's a cruel) cruel summer Now you're gone you're not the only one It's a cruel MMMMM... Mm now don't you leave me Mm now don't you leave me Now don't you leave me come on come on Mm now don't you leave me Mm now don't you leave me Now don't you leave me come on come on It's a cruel (cruel) cruel summer Leaving me here on my own (Leaving me here all alone) It's a cruel (it's a cruel) cruel summer (leave me hear in this summer) You're not the only one (you're not the only one, you're not the only one) It's a cruel (cruel) cruel summer (no) Leaving me here on my own (ooh ooh) It's a cruel (it's a cruel) cruel summer Now you're gone you're not the only one It's a cruel (Cruel summer. It's a cruel (cruel) Cruel summer (Cruel summer. It's a cruel (it's a cruel) Cruel Summer (It's a cruel summer) \n",
      "----------------\n",
      "Da Capo Da Capo You're living in a dreamer's dream Da Da Capo One level ahead I'm calling to you But touch you I cannot do To tell you i can't I'm drawing the line To greetings to understand You will find me waiting out in the dark I'm your everlasting property You're the one I'm living for And feed all the time Da Da Capo Once again I'm telling you I am your friend But you can't hear me in your dream You're living in a dreamer's dream Da Da Capo Gone with the wind I am not And I visit you too a lot Passing the gridlock Is a hard thing to do I'm longing to see The offspring of me To hold it with my bare hands So talk about me as you used to do I'm with you from time to time You will find me waiting out in the dark \n",
      "----------------\n",
      "What an odd situation What an odd situation What you got is basic emotions can you feel them I want to be your lover but you're so shy What you need is perfect assistance let me guide you To a land you've never seen before I guess you see that I have another daydream I guess you see that I have another daydream Come and be a dancer Dance into my daydream Join me in my daydream wet and wild Come and be a dancer Dance into my daydream Join me in the jungle wet and wild To help another person will make you feel important You got my invitaion but you're so shy Come and let your wild side show and be a dancer A dancer in a daydream we can share I guess you see... Help me take control of my fool imagination I'm looking for a man that will wathch my situtaion I'm thinking abou the people waiting down the line I am in the limelight now's my time I guess you see... What you gonna do I'm a bold explosion \n",
      "----------------\n",
      "One step hesitation One step into the night Don't mind the weather It's raining in my heart tonight Much more to living Two wrongs don't make a right You're gonna regret it When you're looking back On your life Don't go away Make the most of this love I'm giving Don't go away Better take another look at my face You can be what you wanna be, hmm But don't go away Some dream of fortune Others dream of fame Seconds after leaving Life'll never be the same Fell for temptation It didn't mean a thing We'll last forever If you turn around Once again Don't go away Make the most of this love I'm giving Don't go away Better take another look at my face You can be what you wanna be, hmm But don't go away Do you wanna be more than a picture hanging on the wall Something to remind me of how it all went wrong Do you wanna be more than a number forgotten in a book You're holding something special, so take another look You're gonna regret it When you're looking back On your life Don't go away Make the most of this love I'm giving Don't go away Better take another look at my face You can be what you wanna be, hmm But don't go away Take a look Take another look on your way Take a look Take another look on your way Please don't go... \n",
      "----------------\n",
      "If you wanna leave I won't beg you to say And if you gotta go darling Maybe it's better that way I'm gonna be strong I'm gonna do fine Don't worry about this heart of mine Just walk out the door See if I care Go on and go, but Don't turn around 'Cause you're gonna see my heart breaking Don't turn around I don't want you seeing me cry Just walk away It's tearing me apart that you're leaving I'm letting you go But I won't let you go I won't miss your arms around me Holding me tight And if you ever think about me \n",
      "----------------\n",
      "Donnie's got a secret and you know it He was yours, in the summertime, yeah About ten years ago He promised you to stay forever Live with you It's so bittersweet now When you know what you lost Donnie was the boy you always wanted by your side Donnie was the boy your girlfriends fell for one by one Donnie was the boy you always wanted day and night But Donnie had a girlfriend: tender, sexy, sweet and blonde He's always on your mind The season changes Years went by But that chapter of love stays unfinished for you Keep on dancing through your new life \n",
      "----------------\n",
      "Doreen, Do-Do-Doreen That somber day Doreen, Do-Do-Doreen What wouldn't I give to resume our last goodbye? I can't describe it We met by chance here in Central Park But where I can't remember Give me a moment Give me peace at heart I'm thinking back And I'm so sorry I didn't expect Such a fast depart Together again I didn't worry Doreen, Do-Do-Doreen That somber day Doreen, Do-Do-Doreen Don't fade away With you the colors had a brighter shade The sky was bluer and I was smiling Now I'm stuck in an eternal fall But I do recall your flavors Give me a moment Give me peace at heart I'm thinking back And I'm so sorry \n",
      "----------------\n",
      "I don't want to be alone on the beach, no Give me Dr. Sun, he's my man I don't want to be alone on the beach, no Angel of the night, give him to me I believe in to let a little sunshine in my life I believe in him and me My vacation is gonna be a pleasant memory I will have him everyday I'm gonna do what's good for me I'm gonna meet Dr. Sun Liasson dangereux for me I share it with the cream of girls Who's the worst In seeking Dr. Sun I don't want to be alone on the beach, no Give me dr. sun, he's my man I don't want to be alone on the beach, no Angel of the night, give him to me I believe in to let a little sunshine in my life I believe in him and me My vacation is gonna be a pleasant memory \n",
      "----------------\n",
      "Fire! I can see it burning so brightly Fire! I can see it calling out to me And as the sun goes down It starts to pain a picture Of an ancient town So far away, across the endless sea Lead me to the light And take me to the edge of heaven I'm standing in the night Looking for the edge of heaven We'll be touching the edge of heaven Time Close your eyes see dreams of tomorrow \n",
      "----------------\n",
      "I see dark clouds out my window I know the storm is coming any minute And the thunder just confirms my fears And I know the tears are in there I'll be crying unable to stop Look here comes the very first drop 'Cause every time it rains I fall to pieces So many memories the rain releases I feel you... I taste you I cannot forget Every time it rains... I get wet Darling I am still in love with you As time passes by it just intensifies I know I'll never be with you again I'll never find another with that kindness in his eyes I'll be trying unable to stop Look here comes the very first drop 'Cause every time it rains I fall to pieces So many memories the rain releases I feel you... I taste you I cannot forget \n",
      "----------------\n",
      "Give me all your tears. Let me turn them to pearls Let me turn all the tears That you have cried into pearls Hand them over to me I'm gonna keep, keep them for you I want to hold you I want to kiss you I want to mend what is broken Love me the way that you loved her - please 'Cause now I'm giving it all And so I've made up my mind I'm gonna be yours this time I'm gonna give all I've got And get your love in return And so I've made up my mind \n",
      "----------------\n",
      "L'autre jour dans un bosquet, Il me ceuilloit un bouquet; Il en orna ma boulette, Me disant: belle brunette, Flore est moins belle que toi: L'amour moins tendre que moi. I say love is precious when it dies You follow him precise His pick-up line decieving you I say love is precious when it dies It's a moment passing by That's why you're so believing Play after play, they buy his double play He's down at the fiesta, where people get together Taste that bitter sweet surprise Appreciate your heart and your soul has been revised I say love is precious when it dies You follow him precise His pick-up line decieving you I say love is precious when it dies It's a moment passing by That's why you're so believing Wave after wave, they fall for his behavior A gentle whisper and they crave - he is so depraved Taste that bitter sweet surprise Appreciate your heart and your soul has been revised \n",
      "----------------\n",
      "They call to her from across the street But they don't know her name She's in the wrong place at the wrong time Who's to blame? She wonders how to change the life she's living She wonders if she'll ever get away As far as I can see, the writing's on the wall There's no return, we live, we learn The game goes on and on and Que sera I like you but I don't Really want to take you home Que sera It's a lonely life living on your own Que sera What's it gonna be, what's it gonna be She left her home when she was seventeen Simply disappeared in the rain Those were bad times so it was high time She knew she'd do it again She wonders how she's going to make a living She wonders haw she'll make it through the day As far as I can see, I've seen it all before A lonely girl in a big bad world The game goes on and on and \n",
      "----------------\n",
      "Have you heard, have you heard? About this girl who was ripped up by her roots Have you heard, what she learned? Like humility - you win when you lose I have learned, I have learned The most horrifying nights have an end I was hurt, I was lost In the dark I found a way to a friend I am standing here in my ravine Once again I see a piece of the sky And my joy'll never be denied 'Cause I was meant to be here - The only place on earth Where you are near, where you are near Was a flower, was so frail \n",
      "----------------\n",
      "You got to believe me Remember the words Remember the words When you're down on your knees And without a friend Standing afraid at the very end Back on your own Lonely and lost again Try to forget what you're going through Think of the things that you're gonna do Lift up your eyes Like they told you to Told you to Just remember the words You are never on your own You're not alone Baby, now and forever Remember the words You are never all alone, not on your own Baby say never ever Baby say never ever We go up We go down But we never stop We're gonna work it until we drop Moving along You're gonna be on top Don't be afraid you are not alone Don't ever think you're on your own Lift up your eyes You'll make it home Make it home Just remember the words You are never on your own You're not alone Baby, now and forever Remember the words You are never all alone, not on your own Baby say never ever You got to believe me There is a reason Why you're crying And what ever you may do Don't forget to keep on trying Do what you got to do I said believe in you (Oh Yeah) Just remember the words You are never on your own You're not alone Baby, now and forever Remember the words You are never all alone, not on your own Baby say never ever Just remember the words You are never on your own You're not alone Baby, now and forever Remember the words You are never all alone, not on your own Baby say never ever Remember the words Remember the words \n",
      "----------------\n",
      "Show me love Double up Won't you show me love Show me love Cause it's been grey for so many years I just wanna what is mine Your love for me wait and see I'm not trying to seduce you Though it's a long and cold dark night You are the one you are I would never try to change you I want to see who you are inside Show me love And how to share it I'll give you double up in return Life is now and meant for living Cause it's been grey for so many years Life will never ever be bad under my spell Kiss and tell I feel lonely when I see you Why don't you give me just a smile You'd make my day in many ways Just a fragment of your lifetime Cause the shine in my eyes will tell Show me love And how to share it I'll give you double up in return \n",
      "----------------\n",
      "On the road to nowhere, every day was just the same So I took my belongings, and hitchhiked no more to blame To California, in the warm Summer of love All my life I been searching All my life I been searching I came to a crossroad, where a stranger gazed and spoke He was looking kinda peculiar, In a purple coloured cloak He wore a token, never seen before He said: All my life I been searching All my life I been searching Sunset in Southern California and the morning seems so far so far away Sunset in Southern California In the distance there's the light of San Diego I came to his temple at noon the second day \n",
      "----------------\n",
      "I've got strange ways But it won't take long my friend I'm telling you someday baby I'll be gone 'Ive got strange ways But it won't take long my friend I'm telling you someday baby I'll be back Again I've got no one But it won't take long my friend I'm telling you someday baby I'll be gone (I'm telling you someday I'll be gone) God bless you for being by my side when I fell through You could hear me you've got Internet gateways through my world God bless you I'm feeliing all the Force you're closing in \n",
      "----------------\n",
      "Like Maria's love for Antony I felt Such a West Side Story scene You lock me up with your love Now we're partners in crime And your cronies do your thing Listen to your heart and follow me Oh Oh Live and let die Listen to your heart and follow me You are the one You're my golden ratio The golden ratio Never felt like this before You've gotta be my fallen angel Ah-oh ah-oh It's the golden ratio Ah-oh ah-oh It's the golden ratio So they play in my mind Took a bit out of time Understand but can't forget Now I'm drawn to you like the desert to rain Can't undo and won't \"fregret\" Listen to your heart and follow me Oh Oh Live and let die Listen to your heart and follow me You are the one You're my golden ratio The golden ratio Never felt like this before You've gotta be my fallen angel Ah-oh ah-oh It's the golden ratio Ah-oh ah-oh It's the golden ratio I turn like the flowers Turning to the burning sun And the giving ground They don't understand us They're living in another world In another time In another time... You are the one you are my golden ratio The golden ratio Never felt like this before... You are the one You're my golden ratio The golden ratio Never felt like this before You've gotta be my fallen angel Ah-oh ah-oh It's the golden ratio Ah-oh ah-oh It's the golden ratio \n",
      "----------------\n",
      "The juvenile In a time where the night is so cold The juvenile Has the key to the end The juvenile in the end That is why we are here The road will take us to the end Tomorrow's foe is now a friend Why don't we do it Like they used to do it all so long ago They kept together till the bitter end (Old and young) Today we don't care Either but the youth or but the old They cannot rise their voices yet But later on they will do The juvenile In a time where the night is so cold The juvenile Has the key to the end (always believe in) The juvenile in the end That is why we are here The road will take us to the end Tomorrow's foe is now a friend No education We don't need no education Telling us the right to choose \n",
      "----------------\n",
      "I gotta new life You would hardly recognize me I'm so glad How could a person like me care for you Why do I bother When you're not the one for me Oooo, is enough, enough I saw the sign and it opened up my eyes I sae the sign Life is demanding without understanding I saw the sign and it opened up my eyes I saw the sign No one's gonna drag you up to get into the light where you belong But where do you belong Under the pale moon For so many years I've wondered who you are \n",
      "----------------\n",
      "[Chorus] I told my ma, about the town I love so well I told my ma, about the town I love My time will come, raising up my family I told my ma, about the town I love I'm leaving for an island, way down in the south where the roads are curved and dusty with no names The people's so inviting, they're smiling everywhere With a tempo I can share [Chorus] I'd like to get together, where there's samba in the streets \n",
      "----------------\n",
      "Funny how everything changes for me Memories take me away Each time I open the door to my room Where I must stay in all day I don't want to be here, I'm much too tired So I close my eyes and, 'snap', I'm with you We are on vacation, you and me together Lying in the sunshine I travel to Romantis I travel to Romantis Where nothing but the blue skies Will tell me that the time flies I travel to Romantis Everytime I think of you You're giving me my life back I travel to Romantis One day I will give you myself in a ring Bounded by law and by heart It's you and me against the world That is the way it should be I don't want to be here, I'm much too tired So I close my eyes and, 'snap', I'm with you We are on vacation you and me together Lying in the sunshine I travel to Romantis I travel to Romantis Where nothing but the blue skies Will tell me that the time flies \n",
      "----------------\n",
      "All I wanna say to you Oh yeah I was unfeeling when you discovered me Gave me a reason not to deny my needs I was unwilling to give my love away But you decided to give your anyway I can't express The feelings I possess For your baby All I wanna say to you Is na-na-na-na na unspeakable All I wanna say to you Words can't describe it All I wanna say to you Is na-na-na-na na unspeakable All I wanna say to you Words can't describe it Unspeakable Oh yeah Never before I need it someone to call my own But now that you've got me, don't ever let me go Leave me unwanted, you silence every need Nothing is missing, your love in so complete I can't express (I can't express) The feelings I possess (I can't express) For your baby (oh yeah) All I wanna say to you \n",
      "----------------\n"
     ]
    }
   ],
   "source": [
    "for i in df[df['english_score'] != 0]['text']:\n",
    "    print(i)\n",
    "    print(\"----------------\")"
   ]
  },
  {
   "cell_type": "code",
   "execution_count": 49,
   "metadata": {},
   "outputs": [],
   "source": [
    "i = 0"
   ]
  },
  {
   "cell_type": "code",
   "execution_count": 51,
   "metadata": {},
   "outputs": [
    {
     "data": {
      "text/plain": [
       "61     The way it started, I had no doubt, Your lips ...\n",
       "62     Something's got to give, Something's got to gi...\n",
       "63     Close your eyes and watch it all pass us as we...\n",
       "64     This time I realize you're looking this way wi...\n",
       "65     The pain that you have fought, the pain that y...\n",
       "66     This is where the best act is in town like ash...\n",
       "67     I've been trying and trying just to watch all ...\n",
       "68     Get out the candlelight I'll strike the light ...\n",
       "69     I've been to just about a million places, Sunn...\n",
       "70     Every step that I want to take I'm told to hur...\n",
       "71     Welcome to my dreamiest nightmare, Where you'r...\n",
       "72     Let's get this on tonight We'll turn down all ...\n",
       "73     Yeah, yeah, yeah, yeah Wipe down the combinati...\n",
       "74     Your fingertips across my skin The palm trees ...\n",
       "75     Don't know what to do anymore I've lost the on...\n",
       "76     Thick as thieves the last of leaves In the win...\n",
       "77     Come on, come out The weather is warm Come on,...\n",
       "78     Stitch in your knitted brow And you don't know...\n",
       "79     Something causing fear to fly Rising like a da...\n",
       "80     Liar, liar You're such a great big liar With t...\n",
       "81     We stood so tall we caught a plane by the wing...\n",
       "82     He and I had something beautiful But so dysfun...\n",
       "83     The paths have been crossed The crumbs are gon...\n",
       "84     Help me out said the minnow to the trout I was...\n",
       "85     It's one hundred and nine degrees in this crow...\n",
       "86     Running the race Like a mouse in a cage Gettin...\n",
       "87     One, two, three Counting out the signs we see ...\n",
       "89     Migren nobetı hicran saati ofkem defini kaygım...\n",
       "153    All The Times All the times she talked of deat...\n",
       "154    I'll always remember It was late afternoon It ...\n",
       "Name: text, dtype: object"
      ]
     },
     "execution_count": 51,
     "metadata": {},
     "output_type": "execute_result"
    }
   ],
   "source": [
    "i += 30\n",
    "df[df['english_score'] > 1]['text'][i:i+30]\n"
   ]
  },
  {
   "cell_type": "code",
   "execution_count": 41,
   "metadata": {},
   "outputs": [
    {
     "data": {
      "text/plain": [
       "'3 Porsiyon (Ft.Kurşun)'"
      ]
     },
     "execution_count": 41,
     "metadata": {},
     "output_type": "execute_result"
    }
   ],
   "source": [
    "df.loc[89, 'title']"
   ]
  },
  {
   "cell_type": "markdown",
   "metadata": {},
   "source": [
    "# Testing to marry spotify data to cleaned thing\n",
    "## 1\\. Imports and functions"
   ]
  },
  {
   "cell_type": "code",
   "execution_count": 2,
   "metadata": {},
   "outputs": [],
   "source": [
    "import pandas as pd\n",
    "import numpy as np\n",
    "import matplotlib.pyplot as plt\n",
    "\n",
    "import random\n",
    "\n",
    "from TurkishStemmer import TurkishStemmer\n",
    "from nltk.tokenize import RegexpTokenizer\n",
    "from nltk.stem import PorterStemmer\n",
    "from nltk.corpus import stopwords\n",
    "import re\n",
    "\n",
    "def remove_ads(text):\n",
    "    pattern = r'(eval.*])'\n",
    "    return re.sub(pattern, \"\", text)\n",
    "\n",
    "def regularize_whitespace(text):\n",
    "    whitepattern = r'\\s+'\n",
    "    return re.sub(whitepattern, \" \", text)\n",
    "\n",
    "def remove_and_reg(text):\n",
    "    text = remove_ads(text)\n",
    "    text = regularize_whitespace(text)\n",
    "    return text\n",
    "\n",
    "def check_for_english(text):\n",
    "    text_words = text.split(\" \")\n",
    "    english_words = set(['I', \"we're\", \"the\", \"an\", \"one\", \"to\", \"give\", \"love\"])\n",
    "    counter = 0\n",
    "    for word in text_words:\n",
    "        if word in english_words:\n",
    "            counter += 1\n",
    "    return counter"
   ]
  },
  {
   "cell_type": "markdown",
   "metadata": {},
   "source": [
    "## 2\\. Reading in data\n",
    "    - `spotify_df` is scraped from spotify, top hits, with a column for verification\n",
    "    - `main_df` is scraped from alternatifim, with names, artists"
   ]
  },
  {
   "cell_type": "code",
   "execution_count": 12,
   "metadata": {},
   "outputs": [],
   "source": [
    "spotify_df = pd.read_csv('../assets/lyrics_with_spotify.csv', index_col=0)\n",
    "main_df = pd.read_csv('../assets/lyrics/all_lyrics_scraped_20180625-155423.csv', index_col = 0)"
   ]
  },
  {
   "cell_type": "markdown",
   "metadata": {},
   "source": [
    "3\\. Cleaning functions to main data"
   ]
  },
  {
   "cell_type": "code",
   "execution_count": 14,
   "metadata": {},
   "outputs": [],
   "source": [
    "main_df['text'] = main_df['text'].map(remove_and_reg)\n",
    "main_df['english_score'] = main_df['text'].map(check_for_english)\n",
    "main_df = main_df[main_df['english_score'] == 0]"
   ]
  },
  {
   "cell_type": "code",
   "execution_count": 15,
   "metadata": {},
   "outputs": [
    {
     "data": {
      "text/html": [
       "<div>\n",
       "<style scoped>\n",
       "    .dataframe tbody tr th:only-of-type {\n",
       "        vertical-align: middle;\n",
       "    }\n",
       "\n",
       "    .dataframe tbody tr th {\n",
       "        vertical-align: top;\n",
       "    }\n",
       "\n",
       "    .dataframe thead th {\n",
       "        text-align: right;\n",
       "    }\n",
       "</style>\n",
       "<table border=\"1\" class=\"dataframe\">\n",
       "  <thead>\n",
       "    <tr style=\"text-align: right;\">\n",
       "      <th></th>\n",
       "      <th>artist</th>\n",
       "      <th>title</th>\n",
       "      <th>album</th>\n",
       "      <th>text</th>\n",
       "      <th>english_score</th>\n",
       "    </tr>\n",
       "  </thead>\n",
       "  <tbody>\n",
       "    <tr>\n",
       "      <th>89</th>\n",
       "      <td>A P O</td>\n",
       "      <td>3 Büyükler (Ft. Yener, 9canlı)</td>\n",
       "      <td>galexsnake</td>\n",
       "      <td>9canlı Verse: Bana sordular sorular soruldu ce...</td>\n",
       "      <td>0</td>\n",
       "    </tr>\n",
       "    <tr>\n",
       "      <th>91</th>\n",
       "      <td>A P O</td>\n",
       "      <td>34 Kotak D</td>\n",
       "      <td>Compilation Vol. 1</td>\n",
       "      <td>Eypi Bana bi mermi ver bende kurşun var kurşun...</td>\n",
       "      <td>0</td>\n",
       "    </tr>\n",
       "  </tbody>\n",
       "</table>\n",
       "</div>"
      ],
      "text/plain": [
       "   artist                           title               album  \\\n",
       "89  A P O  3 Büyükler (Ft. Yener, 9canlı)          galexsnake   \n",
       "91  A P O                      34 Kotak D  Compilation Vol. 1   \n",
       "\n",
       "                                                 text  english_score  \n",
       "89  9canlı Verse: Bana sordular sorular soruldu ce...              0  \n",
       "91  Eypi Bana bi mermi ver bende kurşun var kurşun...              0  "
      ]
     },
     "execution_count": 15,
     "metadata": {},
     "output_type": "execute_result"
    }
   ],
   "source": [
    "main_df.head(2)"
   ]
  },
  {
   "cell_type": "code",
   "execution_count": 16,
   "metadata": {},
   "outputs": [
    {
     "data": {
      "text/html": [
       "<div>\n",
       "<style scoped>\n",
       "    .dataframe tbody tr th:only-of-type {\n",
       "        vertical-align: middle;\n",
       "    }\n",
       "\n",
       "    .dataframe tbody tr th {\n",
       "        vertical-align: top;\n",
       "    }\n",
       "\n",
       "    .dataframe thead th {\n",
       "        text-align: right;\n",
       "    }\n",
       "</style>\n",
       "<table border=\"1\" class=\"dataframe\">\n",
       "  <thead>\n",
       "    <tr style=\"text-align: right;\">\n",
       "      <th></th>\n",
       "      <th>release</th>\n",
       "      <th>name</th>\n",
       "      <th>real_name</th>\n",
       "    </tr>\n",
       "  </thead>\n",
       "  <tbody>\n",
       "    <tr>\n",
       "      <th>89</th>\n",
       "      <td>NaN</td>\n",
       "      <td>NaN</td>\n",
       "      <td>3 Büyükler (Ft. Yener, 9canlı)</td>\n",
       "    </tr>\n",
       "    <tr>\n",
       "      <th>91</th>\n",
       "      <td>NaN</td>\n",
       "      <td>NaN</td>\n",
       "      <td>34 Kotak D</td>\n",
       "    </tr>\n",
       "  </tbody>\n",
       "</table>\n",
       "</div>"
      ],
      "text/plain": [
       "   release name                       real_name\n",
       "89     NaN  NaN  3 Büyükler (Ft. Yener, 9canlı)\n",
       "91     NaN  NaN                      34 Kotak D"
      ]
     },
     "execution_count": 16,
     "metadata": {},
     "output_type": "execute_result"
    }
   ],
   "source": [
    "spotify_df.head(2)"
   ]
  },
  {
   "cell_type": "markdown",
   "metadata": {},
   "source": [
    "## 4\\. Joining the data together. They share an index, and the columns `real_data` and `title` should be exactly the same."
   ]
  },
  {
   "cell_type": "code",
   "execution_count": 18,
   "metadata": {},
   "outputs": [],
   "source": [
    "joined_df = pd.concat([main_df, spotify_df], axis=1)"
   ]
  },
  {
   "cell_type": "markdown",
   "metadata": {},
   "source": [
    "## 5\\. Getting rid of `NaN` rows and rows where the spotify name and real name aren't exactly the same\n",
    "    In the spotify data, whenever a song couldn't be found, the script put a NaN into that slot. THe first step is to jsut remove that. In the future, if I decide to try other sources for year data, some of these slots could be filled. Until then I'm not going to worry about it.\n",
    "    \n",
    "    This might be overly conservative, and I might be missing data. My justification is that of course I'm missing 'data'. In the real world there are thousands of songs that aren't transcribed, thousands of dates that are unrecorded. I can try to do better, perhaps, but there is no such thing as \"all the data\" in this circumstance."
   ]
  },
  {
   "cell_type": "code",
   "execution_count": 19,
   "metadata": {},
   "outputs": [],
   "source": [
    "joined_df_no_nas = joined_df.dropna()"
   ]
  },
  {
   "cell_type": "code",
   "execution_count": 21,
   "metadata": {},
   "outputs": [
    {
     "name": "stdout",
     "output_type": "stream",
     "text": [
      "(41943, 8)\n",
      "(18665, 8)\n"
     ]
    }
   ],
   "source": [
    "print(joined_df.shape)\n",
    "print(joined_df_no_nas.shape)"
   ]
  },
  {
   "cell_type": "code",
   "execution_count": 26,
   "metadata": {},
   "outputs": [],
   "source": [
    "mask = joined_df_no_nas['title'] == joined_df_no_nas['name']"
   ]
  },
  {
   "cell_type": "code",
   "execution_count": 27,
   "metadata": {},
   "outputs": [
    {
     "data": {
      "text/plain": [
       "0.84066434503080634"
      ]
     },
     "execution_count": 27,
     "metadata": {},
     "output_type": "execute_result"
    }
   ],
   "source": [
    "mask.mean()"
   ]
  },
  {
   "cell_type": "code",
   "execution_count": 29,
   "metadata": {},
   "outputs": [
    {
     "data": {
      "text/plain": [
       "(15691, 8)"
      ]
     },
     "execution_count": 29,
     "metadata": {},
     "output_type": "execute_result"
    }
   ],
   "source": [
    "joined_df_no_nas[mask].shape"
   ]
  },
  {
   "cell_type": "code",
   "execution_count": 30,
   "metadata": {},
   "outputs": [],
   "source": [
    "joined_df_no_nas[mask].to_csv('../assets/lyrics/master_data_20180626.csv')"
   ]
  },
  {
   "cell_type": "code",
   "execution_count": 42,
   "metadata": {},
   "outputs": [],
   "source": [
    "df = joined_df_no_nas[mask].copy()"
   ]
  },
  {
   "cell_type": "code",
   "execution_count": 43,
   "metadata": {},
   "outputs": [],
   "source": [
    "times = pd.to_datetime(df['release'])"
   ]
  },
  {
   "cell_type": "code",
   "execution_count": 45,
   "metadata": {},
   "outputs": [],
   "source": [
    "df.drop('real_name', axis = 1, inplace = True)"
   ]
  },
  {
   "cell_type": "code",
   "execution_count": 47,
   "metadata": {},
   "outputs": [],
   "source": [
    "df.columns = ['artist_name', 'song_title', 'album_name', 'song_text', 'english_score', 'release_date', 'song_name']"
   ]
  },
  {
   "cell_type": "code",
   "execution_count": 49,
   "metadata": {},
   "outputs": [],
   "source": [
    "df.drop('english_score', axis  =1, inplace=True)"
   ]
  },
  {
   "cell_type": "code",
   "execution_count": 50,
   "metadata": {},
   "outputs": [
    {
     "data": {
      "text/html": [
       "<div>\n",
       "<style scoped>\n",
       "    .dataframe tbody tr th:only-of-type {\n",
       "        vertical-align: middle;\n",
       "    }\n",
       "\n",
       "    .dataframe tbody tr th {\n",
       "        vertical-align: top;\n",
       "    }\n",
       "\n",
       "    .dataframe thead th {\n",
       "        text-align: right;\n",
       "    }\n",
       "</style>\n",
       "<table border=\"1\" class=\"dataframe\">\n",
       "  <thead>\n",
       "    <tr style=\"text-align: right;\">\n",
       "      <th></th>\n",
       "      <th>artist_name</th>\n",
       "      <th>song_title</th>\n",
       "      <th>album_name</th>\n",
       "      <th>song_text</th>\n",
       "      <th>release_date</th>\n",
       "      <th>song_name</th>\n",
       "    </tr>\n",
       "  </thead>\n",
       "  <tbody>\n",
       "    <tr>\n",
       "      <th>285</th>\n",
       "      <td>Abdal</td>\n",
       "      <td>Altın Yüzüğüm Kırıldı</td>\n",
       "      <td>Ervah-I Ezelde</td>\n",
       "      <td>Altın yüzüğüm kırıldı (hey) Suya düştü su duru...</td>\n",
       "      <td>2013-03-16</td>\n",
       "      <td>Altın Yüzüğüm Kırıldı</td>\n",
       "    </tr>\n",
       "    <tr>\n",
       "      <th>286</th>\n",
       "      <td>Abdal</td>\n",
       "      <td>Bağbozumu</td>\n",
       "      <td>Ervah-I Ezelde</td>\n",
       "      <td>Bir bağ bozumuydu gidişin Plajlar boşalmıştı B...</td>\n",
       "      <td>2011-12-02</td>\n",
       "      <td>Bağbozumu</td>\n",
       "    </tr>\n",
       "    <tr>\n",
       "      <th>289</th>\n",
       "      <td>Abdal</td>\n",
       "      <td>Bir Of Çeksem Karşıki Dağlar Yıkılır</td>\n",
       "      <td>Ervah-I Ezelde</td>\n",
       "      <td>Bir of çeksem karşı ki dağlar yıkılır Bugün po...</td>\n",
       "      <td>2011-12-02</td>\n",
       "      <td>Bir Of Çeksem Karşıki Dağlar Yıkılır</td>\n",
       "    </tr>\n",
       "    <tr>\n",
       "      <th>292</th>\n",
       "      <td>Abdal</td>\n",
       "      <td>Eğin Dedikleri Bir Küçük Şehir</td>\n",
       "      <td>Ervah-I Ezelde</td>\n",
       "      <td>Eğin dedikleri (anam) bir küçük şehir (nidem) ...</td>\n",
       "      <td>2011-12-02</td>\n",
       "      <td>Eğin Dedikleri Bir Küçük Şehir</td>\n",
       "    </tr>\n",
       "    <tr>\n",
       "      <th>296</th>\n",
       "      <td>Abdullah Akbulak</td>\n",
       "      <td>Acizim</td>\n",
       "      <td>Zakirin Gözyaşı</td>\n",
       "      <td>Subhanım Allah, sultanım Allah, Mağrifet eden ...</td>\n",
       "      <td>2003-11-07</td>\n",
       "      <td>Acizim</td>\n",
       "    </tr>\n",
       "  </tbody>\n",
       "</table>\n",
       "</div>"
      ],
      "text/plain": [
       "          artist_name                            song_title       album_name  \\\n",
       "285             Abdal                 Altın Yüzüğüm Kırıldı   Ervah-I Ezelde   \n",
       "286             Abdal                             Bağbozumu   Ervah-I Ezelde   \n",
       "289             Abdal  Bir Of Çeksem Karşıki Dağlar Yıkılır   Ervah-I Ezelde   \n",
       "292             Abdal        Eğin Dedikleri Bir Küçük Şehir   Ervah-I Ezelde   \n",
       "296  Abdullah Akbulak                                Acizim  Zakirin Gözyaşı   \n",
       "\n",
       "                                             song_text release_date  \\\n",
       "285  Altın yüzüğüm kırıldı (hey) Suya düştü su duru...   2013-03-16   \n",
       "286  Bir bağ bozumuydu gidişin Plajlar boşalmıştı B...   2011-12-02   \n",
       "289  Bir of çeksem karşı ki dağlar yıkılır Bugün po...   2011-12-02   \n",
       "292  Eğin dedikleri (anam) bir küçük şehir (nidem) ...   2011-12-02   \n",
       "296  Subhanım Allah, sultanım Allah, Mağrifet eden ...   2003-11-07   \n",
       "\n",
       "                                song_name  \n",
       "285                 Altın Yüzüğüm Kırıldı  \n",
       "286                             Bağbozumu  \n",
       "289  Bir Of Çeksem Karşıki Dağlar Yıkılır  \n",
       "292        Eğin Dedikleri Bir Küçük Şehir  \n",
       "296                                Acizim  "
      ]
     },
     "execution_count": 50,
     "metadata": {},
     "output_type": "execute_result"
    }
   ],
   "source": [
    "df.head()"
   ]
  },
  {
   "cell_type": "code",
   "execution_count": 51,
   "metadata": {},
   "outputs": [],
   "source": [
    "df['release_date'] = pd.to_datetime(df['release_date'])"
   ]
  },
  {
   "cell_type": "code",
   "execution_count": 55,
   "metadata": {},
   "outputs": [],
   "source": [
    "df['year'] = df['release_date'].dt.year"
   ]
  },
  {
   "cell_type": "code",
   "execution_count": 56,
   "metadata": {},
   "outputs": [],
   "source": [
    "import matplotlib.pyplot as plt\n",
    "import seaborn as sns\n",
    "%matplotlib inline"
   ]
  },
  {
   "cell_type": "code",
   "execution_count": 59,
   "metadata": {},
   "outputs": [
    {
     "data": {
      "text/plain": [
       "<matplotlib.axes._subplots.AxesSubplot at 0x1a15ce8588>"
      ]
     },
     "execution_count": 59,
     "metadata": {},
     "output_type": "execute_result"
    },
    {
     "data": {
      "image/png": "[encoded data removed]",
      "text/plain": [
       "<matplotlib.figure.Figure at 0x1a15dcc0f0>"
      ]
     },
     "metadata": {},
     "output_type": "display_data"
    }
   ],
   "source": [
    "sns.distplot(df['year'], bins = 20)"
   ]
  },
  {
   "cell_type": "code",
   "execution_count": 61,
   "metadata": {},
   "outputs": [
    {
     "data": {
      "text/plain": [
       "1946"
      ]
     },
     "execution_count": 61,
     "metadata": {},
     "output_type": "execute_result"
    }
   ],
   "source": [
    "df['year'].min()"
   ]
  },
  {
   "cell_type": "code",
   "execution_count": 62,
   "metadata": {},
   "outputs": [
    {
     "data": {
      "text/html": [
       "<div>\n",
       "<style scoped>\n",
       "    .dataframe tbody tr th:only-of-type {\n",
       "        vertical-align: middle;\n",
       "    }\n",
       "\n",
       "    .dataframe tbody tr th {\n",
       "        vertical-align: top;\n",
       "    }\n",
       "\n",
       "    .dataframe thead th {\n",
       "        text-align: right;\n",
       "    }\n",
       "</style>\n",
       "<table border=\"1\" class=\"dataframe\">\n",
       "  <thead>\n",
       "    <tr style=\"text-align: right;\">\n",
       "      <th></th>\n",
       "      <th>artist_name</th>\n",
       "      <th>song_title</th>\n",
       "      <th>album_name</th>\n",
       "      <th>song_text</th>\n",
       "      <th>release_date</th>\n",
       "      <th>song_name</th>\n",
       "      <th>year</th>\n",
       "    </tr>\n",
       "  </thead>\n",
       "  <tbody>\n",
       "    <tr>\n",
       "      <th>26673</th>\n",
       "      <td>Hamiyet Yüceses</td>\n",
       "      <td>Kadifeden Kesesi</td>\n",
       "      <td>Her Yer Karanlık</td>\n",
       "      <td>Kadifeden kesesi Kahveden gelir sesi Oturmuş k...</td>\n",
       "      <td>1946-08-04</td>\n",
       "      <td>Kadifeden Kesesi</td>\n",
       "      <td>1946</td>\n",
       "    </tr>\n",
       "  </tbody>\n",
       "</table>\n",
       "</div>"
      ],
      "text/plain": [
       "           artist_name        song_title        album_name  \\\n",
       "26673  Hamiyet Yüceses  Kadifeden Kesesi  Her Yer Karanlık   \n",
       "\n",
       "                                               song_text release_date  \\\n",
       "26673  Kadifeden kesesi Kahveden gelir sesi Oturmuş k...   1946-08-04   \n",
       "\n",
       "              song_name  year  \n",
       "26673  Kadifeden Kesesi  1946  "
      ]
     },
     "execution_count": 62,
     "metadata": {},
     "output_type": "execute_result"
    }
   ],
   "source": [
    "df[df['year'] == 1946]"
   ]
  },
  {
   "cell_type": "code",
   "execution_count": null,
   "metadata": {},
   "outputs": [],
   "source": []
  }
 ],
 "metadata": {
  "kernelspec": {
   "display_name": "Python [conda root]",
   "language": "python",
   "name": "conda-root-py"
  },
  "language_info": {
   "codemirror_mode": {
    "name": "ipython",
    "version": 3
   },
   "file_extension": ".py",
   "mimetype": "text/x-python",
   "name": "python",
   "nbconvert_exporter": "python",
   "pygments_lexer": "ipython3",
   "version": "3.6.4"
  }
 },
 "nbformat": 4,
 "nbformat_minor": 2
}
