{
 "cells": [
  {
   "cell_type": "markdown",
   "metadata": {},
   "source": [
    "# Feature Engineering\n",
    "Carefully teasing out patterns in the corpus is a key part of natural language processing. Cleaning is all done, so now it's time to get things that a human speaker would know out of the data."
   ]
  },
  {
   "cell_type": "code",
   "execution_count": 16,
   "metadata": {},
   "outputs": [],
   "source": [
    "import pandas as pd\n",
    "import numpy as np\n",
    "import re\n",
    "\n",
    "import seaborn as sns\n",
    "import matplotlib.pyplot as plt"
   ]
  },
  {
   "cell_type": "code",
   "execution_count": 17,
   "metadata": {},
   "outputs": [],
   "source": [
    "# Since the train test split script is part of the data pipeline, I'm reassembling the corpus here\n",
    "train = pd.read_csv('../assets/train.csv', index_col=0)\n",
    "test = pd.read_csv('../assets/test.csv', index_col = 0)\n",
    "df = pd.concat([train, test], axis = 0)"
   ]
  },
  {
   "cell_type": "markdown",
   "metadata": {},
   "source": [
    "## Vocables: Non-lexical words\n",
    "Turkish songs use certain sounds that don't carry strict lexical meaning, but are expressions of grief or are just good musical material. We should include some scripting to figure out if there's any pattern in the use of these vocables. I've picked 5 common vocables: `oy`, `ah`, `ey`, `vay`, and `oh`. For each, I'm making a column for the total amount of characters that each song spends on these vocables as well as replacing them in the corpus."
   ]
  },
  {
   "cell_type": "code",
   "execution_count": 18,
   "metadata": {},
   "outputs": [],
   "source": [
    "# First the vocable patterns: each vocable can have 1+ of all the characters in it, with the h's optional\n",
    "vocable_patterns = {\n",
    "    'oy':r'\\bo+y+\\b',\n",
    "    'ah':r'\\ba+h*\\b',\n",
    "    'ey':r'\\be+y+\\b',\n",
    "    'vay':r'\\bva+y+\\b',\n",
    "    'oh':r'\\bo+h*\\b'\n",
    "}"
   ]
  },
  {
   "cell_type": "code",
   "execution_count": 19,
   "metadata": {},
   "outputs": [],
   "source": [
    "# Next the counter. For each key in the dictionary above this loop makes a new column.\n",
    "for key, value in vocable_patterns.items():\n",
    "    def vocable_counter(text, vocable_pattern = value):\n",
    "        list_of_vocables = re.findall(vocable_pattern, text.lower())\n",
    "        if list_of_vocables != None:\n",
    "            len_voc = 0\n",
    "            for match in list_of_vocables:\n",
    "                len_voc += len(match)\n",
    "            return len_voc\n",
    "        else:\n",
    "            return 0\n",
    "    df['longest_'+key] = df['text'].map(vocable_counter)"
   ]
  },
  {
   "cell_type": "code",
   "execution_count": 20,
   "metadata": {},
   "outputs": [],
   "source": [
    "# Finally, a loop to replace all the long drawn out vocables with a simple short version\n",
    "for key, value in vocable_patterns.items():\n",
    "    def vocable_encoder(text, vocable_pattern = value):\n",
    "        list_of_vocables = re.findall(vocable_pattern, text.lower())\n",
    "        if list_of_vocables != None:\n",
    "            for match in list_of_vocables:\n",
    "                text = re.sub(match, key, text.lower())\n",
    "            return text\n",
    "        else:\n",
    "            return text\n",
    "    df['text'] = df['text'].map(vocable_encoder)"
   ]
  },
  {
   "cell_type": "code",
   "execution_count": 21,
   "metadata": {},
   "outputs": [
    {
     "data": {
      "text/plain": [
       "'i̇nsanlar kendini bilebilseydi dünyada haksızlık kavga ohlmazdı i̇nsan dohğan yine insan ölseydi belki de dünyada hayvan kalmazdı hayvanlar yabanda sürüsüyünen geçinemez biri birisiyen i̇nsan cennetinin hurisiyinen sevişseydi hak yabana salmazdı tüm canların hak ohlduğun bilmese hakkın aşkı yüreğine dohlmasa oh güzel cemale aşık ohlmasa kul garibim bu sazını çalmazdı söz&müzik neşet ertaş'"
      ]
     },
     "execution_count": 21,
     "metadata": {},
     "output_type": "execute_result"
    }
   ],
   "source": [
    "df.loc[38252,'text']"
   ]
  },
  {
   "cell_type": "code",
   "execution_count": 22,
   "metadata": {},
   "outputs": [],
   "source": [
    "df['text'] = df['text'].map(lambda x: re.sub('i̇', 'i', x))"
   ]
  },
  {
   "cell_type": "markdown",
   "metadata": {},
   "source": [
    "## Some other simple features\n",
    "- longest word\n",
    "- total words\n",
    "- how many words are repeated\n",
    "- how many bigrams are repeated\n",
    "- most common bigram"
   ]
  },
  {
   "cell_type": "code",
   "execution_count": 23,
   "metadata": {},
   "outputs": [],
   "source": [
    "def find_longest_word(text):\n",
    "    \"\"\"Finds the longest word in a lyric\"\"\"\n",
    "    r = 0\n",
    "    for i in text.split():\n",
    "        if len(i) > r:\n",
    "            r = len(i)\n",
    "    return r"
   ]
  },
  {
   "cell_type": "code",
   "execution_count": 24,
   "metadata": {},
   "outputs": [],
   "source": [
    "df['longest_word'] = df['text'].map(find_longest_word)"
   ]
  },
  {
   "cell_type": "code",
   "execution_count": 25,
   "metadata": {},
   "outputs": [
    {
     "data": {
      "text/plain": [
       "<matplotlib.axes._subplots.AxesSubplot at 0x1a0cfe1c18>"
      ]
     },
     "execution_count": 25,
     "metadata": {},
     "output_type": "execute_result"
    },
    {
     "data": {
      "image/png": "[encoded data removed]",
      "text/plain": [
       "<matplotlib.figure.Figure at 0x1a0cdbef60>"
      ]
     },
     "metadata": {},
     "output_type": "display_data"
    }
   ],
   "source": [
    "sns.distplot(df['longest_word'], kde = False)"
   ]
  },
  {
   "cell_type": "code",
   "execution_count": 26,
   "metadata": {},
   "outputs": [],
   "source": [
    "df['total_words'] = df['text'].map(lambda x: len(x.split()))"
   ]
  },
  {
   "cell_type": "code",
   "execution_count": 27,
   "metadata": {},
   "outputs": [
    {
     "data": {
      "text/plain": [
       "<matplotlib.axes._subplots.AxesSubplot at 0x1a0d419c50>"
      ]
     },
     "execution_count": 27,
     "metadata": {},
     "output_type": "execute_result"
    },
    {
     "data": {
      "image/png": "[encoded data removed]",
      "text/plain": [
       "<matplotlib.figure.Figure at 0x109c7a7f0>"
      ]
     },
     "metadata": {},
     "output_type": "display_data"
    }
   ],
   "source": [
    "sns.distplot(df['total_words'], kde = False)"
   ]
  },
  {
   "cell_type": "code",
   "execution_count": 28,
   "metadata": {},
   "outputs": [],
   "source": [
    "def count_repeated_words(text):\n",
    "    text = re.sub(r\"[,.?'\\\"\\\\]\", \"\", text)\n",
    "    text = text.lower().split()\n",
    "    count = 0\n",
    "    for word in list(set(text)):\n",
    "        count += (text.count(word) - 1)\n",
    "    return count"
   ]
  },
  {
   "cell_type": "code",
   "execution_count": 29,
   "metadata": {},
   "outputs": [],
   "source": [
    "def make_bigrams(text):\n",
    "    text = re.sub(r\"[,.?'\\\"\\\\]\", \"\", text)\n",
    "    text = text.lower().split()\n",
    "    return [(i, j) for i,j in zip(text[:-1], text[1:])]\n",
    "        "
   ]
  },
  {
   "cell_type": "code",
   "execution_count": 30,
   "metadata": {},
   "outputs": [],
   "source": [
    "def count_repeated_bigrams(text):\n",
    "    bigrams = make_bigrams(text)\n",
    "    count = 0\n",
    "    for bigram in list(set(bigrams)):\n",
    "        count += (bigrams.count(bigram) - 1)\n",
    "    return count"
   ]
  },
  {
   "cell_type": "code",
   "execution_count": 31,
   "metadata": {},
   "outputs": [],
   "source": [
    "df['repeated_exact_words'] = df['text'].map(count_repeated_words)"
   ]
  },
  {
   "cell_type": "code",
   "execution_count": 32,
   "metadata": {},
   "outputs": [],
   "source": [
    "df['repeated_bigrams'] = df['text'].map(count_repeated_bigrams)"
   ]
  },
  {
   "cell_type": "code",
   "execution_count": 33,
   "metadata": {},
   "outputs": [
    {
     "data": {
      "text/plain": [
       "<matplotlib.axes._subplots.AxesSubplot at 0x109d8c240>"
      ]
     },
     "execution_count": 33,
     "metadata": {},
     "output_type": "execute_result"
    },
    {
     "data": {
      "image/png": "[encoded data removed]",
      "text/plain": [
       "<matplotlib.figure.Figure at 0x1a0d50cd30>"
      ]
     },
     "metadata": {},
     "output_type": "display_data"
    }
   ],
   "source": [
    "sns.distplot(df['repeated_bigrams'], kde = False)"
   ]
  },
  {
   "cell_type": "code",
   "execution_count": 34,
   "metadata": {},
   "outputs": [
    {
     "data": {
      "text/plain": [
       "<matplotlib.axes._subplots.AxesSubplot at 0x104d61fd0>"
      ]
     },
     "execution_count": 34,
     "metadata": {},
     "output_type": "execute_result"
    },
    {
     "data": {
      "image/png": "[encoded data removed]",
      "text/plain": [
       "<matplotlib.figure.Figure at 0x109d76dd8>"
      ]
     },
     "metadata": {},
     "output_type": "display_data"
    }
   ],
   "source": [
    "sns.distplot(df['repeated_exact_words'], kde = False)"
   ]
  },
  {
   "cell_type": "code",
   "execution_count": 35,
   "metadata": {},
   "outputs": [],
   "source": [
    "def get_most_common_bigram(text):\n",
    "    bigrams = make_bigrams(text)\n",
    "    most = 0\n",
    "    most_common_bigram = None\n",
    "    for bigram in list(set(bigrams)):\n",
    "        if (bigrams.count(bigram) - 1) > most:\n",
    "            most = (bigrams.count(bigram) - 1)\n",
    "            most_common_bigram = bigram\n",
    "    if most > 1:\n",
    "        return most_common_bigram\n",
    "    else:\n",
    "        return None"
   ]
  },
  {
   "cell_type": "code",
   "execution_count": 36,
   "metadata": {},
   "outputs": [],
   "source": [
    "df['most_common_bigram'] = df['text'].map(get_most_common_bigram)"
   ]
  },
  {
   "cell_type": "code",
   "execution_count": 38,
   "metadata": {},
   "outputs": [
    {
     "data": {
      "text/plain": [
       "10852           (dağlar, dağlar)\n",
       "38749               (gel, gülüm)\n",
       "21715               (en, delisi)\n",
       "44202               (dur, gitme)\n",
       "36383          (geceler, sessiz)\n",
       "30555                       None\n",
       "11116              (lazım, seni)\n",
       "19553             (bir, cebimde)\n",
       "26722          (yalancı, gülüşe)\n",
       "55028                       None\n",
       "52887                 (bir, yol)\n",
       "2636                        None\n",
       "38303                       None\n",
       "52891                       None\n",
       "40819                       None\n",
       "45551                       None\n",
       "24226                (ne, zaman)\n",
       "37130                       None\n",
       "49226                       None\n",
       "35187                       None\n",
       "48252                       None\n",
       "20398                       None\n",
       "54041                       None\n",
       "1326                        None\n",
       "19857                       None\n",
       "39540                       None\n",
       "11081                       None\n",
       "46362                 (mü, dedi)\n",
       "1382                        None\n",
       "23376                       None\n",
       "                  ...           \n",
       "42660    (ohhhhh, kazanohhhhhva)\n",
       "19317                (bu, kalbi)\n",
       "27020                       None\n",
       "24627                       None\n",
       "8548           (canin, sagolsun)\n",
       "14093                       None\n",
       "26872              (yaktı, beni)\n",
       "17876                       None\n",
       "53601                 (bir, ölü)\n",
       "16149               (ama, benim)\n",
       "54781                (ya, dohst)\n",
       "26052                       None\n",
       "53517                       None\n",
       "24642                       None\n",
       "22406                       None\n",
       "38745                       None\n",
       "29020                       None\n",
       "54791           (hatıran, yeter)\n",
       "15245          (özür, di̇leri̇m)\n",
       "32471              (ben, yandım)\n",
       "25216            (olmasa, allah)\n",
       "26710                       None\n",
       "24278           (büyüsün, iyice)\n",
       "6788              (senin, olsun)\n",
       "48143             (buldum, seni)\n",
       "40034                       None\n",
       "7130                        None\n",
       "55385                       None\n",
       "23987           (hayde, güzelum)\n",
       "23276      (yürürüm, karanlıkta)\n",
       "Name: most_common_bigram, Length: 15385, dtype: object"
      ]
     },
     "execution_count": 38,
     "metadata": {},
     "output_type": "execute_result"
    }
   ],
   "source": [
    "df['most_common_bigram']"
   ]
  },
  {
   "cell_type": "code",
   "execution_count": 39,
   "metadata": {},
   "outputs": [],
   "source": [
    "temp_df = pd.DataFrame(df['most_common_bigram'].value_counts())"
   ]
  },
  {
   "cell_type": "code",
   "execution_count": 40,
   "metadata": {},
   "outputs": [
    {
     "data": {
      "text/html": [
       "<div>\n",
       "<style scoped>\n",
       "    .dataframe tbody tr th:only-of-type {\n",
       "        vertical-align: middle;\n",
       "    }\n",
       "\n",
       "    .dataframe tbody tr th {\n",
       "        vertical-align: top;\n",
       "    }\n",
       "\n",
       "    .dataframe thead th {\n",
       "        text-align: right;\n",
       "    }\n",
       "</style>\n",
       "<table border=\"1\" class=\"dataframe\">\n",
       "  <thead>\n",
       "    <tr style=\"text-align: right;\">\n",
       "      <th></th>\n",
       "      <th>most_common_bigram</th>\n",
       "    </tr>\n",
       "  </thead>\n",
       "  <tbody>\n",
       "    <tr>\n",
       "      <th>(aman, aman)</th>\n",
       "      <td>69</td>\n",
       "    </tr>\n",
       "    <tr>\n",
       "      <th>(gel, gel)</th>\n",
       "      <td>35</td>\n",
       "    </tr>\n",
       "    <tr>\n",
       "      <th>(oy, oy)</th>\n",
       "      <td>35</td>\n",
       "    </tr>\n",
       "    <tr>\n",
       "      <th>(bir, gün)</th>\n",
       "      <td>32</td>\n",
       "    </tr>\n",
       "    <tr>\n",
       "      <th>(yar, yar)</th>\n",
       "      <td>28</td>\n",
       "    </tr>\n",
       "    <tr>\n",
       "      <th>(vay, vay)</th>\n",
       "      <td>28</td>\n",
       "    </tr>\n",
       "    <tr>\n",
       "      <th>(bu, gece)</th>\n",
       "      <td>23</td>\n",
       "    </tr>\n",
       "    <tr>\n",
       "      <th>(beni, beni)</th>\n",
       "      <td>20</td>\n",
       "    </tr>\n",
       "    <tr>\n",
       "      <th>(ben, seni)</th>\n",
       "      <td>20</td>\n",
       "    </tr>\n",
       "    <tr>\n",
       "      <th>(nenni, nenni)</th>\n",
       "      <td>18</td>\n",
       "    </tr>\n",
       "    <tr>\n",
       "      <th>(bir, daha)</th>\n",
       "      <td>16</td>\n",
       "    </tr>\n",
       "    <tr>\n",
       "      <th>(ne, olur)</th>\n",
       "      <td>15</td>\n",
       "    </tr>\n",
       "    <tr>\n",
       "      <th>(yalan, yalan)</th>\n",
       "      <td>14</td>\n",
       "    </tr>\n",
       "    <tr>\n",
       "      <th>(senin, için)</th>\n",
       "      <td>14</td>\n",
       "    </tr>\n",
       "    <tr>\n",
       "      <th>(ne, kadar)</th>\n",
       "      <td>13</td>\n",
       "    </tr>\n",
       "    <tr>\n",
       "      <th>(le, le)</th>\n",
       "      <td>12</td>\n",
       "    </tr>\n",
       "    <tr>\n",
       "      <th>(of, of)</th>\n",
       "      <td>12</td>\n",
       "    </tr>\n",
       "    <tr>\n",
       "      <th>(ne, zaman)</th>\n",
       "      <td>12</td>\n",
       "    </tr>\n",
       "    <tr>\n",
       "      <th>(gülüm, gülüm)</th>\n",
       "      <td>11</td>\n",
       "    </tr>\n",
       "    <tr>\n",
       "      <th>(her, zaman)</th>\n",
       "      <td>11</td>\n",
       "    </tr>\n",
       "  </tbody>\n",
       "</table>\n",
       "</div>"
      ],
      "text/plain": [
       "                most_common_bigram\n",
       "(aman, aman)                    69\n",
       "(gel, gel)                      35\n",
       "(oy, oy)                        35\n",
       "(bir, gün)                      32\n",
       "(yar, yar)                      28\n",
       "(vay, vay)                      28\n",
       "(bu, gece)                      23\n",
       "(beni, beni)                    20\n",
       "(ben, seni)                     20\n",
       "(nenni, nenni)                  18\n",
       "(bir, daha)                     16\n",
       "(ne, olur)                      15\n",
       "(yalan, yalan)                  14\n",
       "(senin, için)                   14\n",
       "(ne, kadar)                     13\n",
       "(le, le)                        12\n",
       "(of, of)                        12\n",
       "(ne, zaman)                     12\n",
       "(gülüm, gülüm)                  11\n",
       "(her, zaman)                    11"
      ]
     },
     "execution_count": 40,
     "metadata": {},
     "output_type": "execute_result"
    }
   ],
   "source": [
    "temp_df.head(20)"
   ]
  },
  {
   "cell_type": "code",
   "execution_count": 41,
   "metadata": {},
   "outputs": [],
   "source": [
    "aman_aman = df[df['most_common_bigram'] == ('aman', 'aman')]"
   ]
  },
  {
   "cell_type": "code",
   "execution_count": 44,
   "metadata": {},
   "outputs": [
    {
     "data": {
      "text/plain": [
       "0.6666666666666667"
      ]
     },
     "execution_count": 44,
     "metadata": {},
     "output_type": "execute_result"
    }
   ],
   "source": [
    "1 - aman_aman['written_precoup'].mean()"
   ]
  },
  {
   "cell_type": "code",
   "execution_count": null,
   "metadata": {},
   "outputs": [],
   "source": []
  }
 ],
 "metadata": {
  "kernelspec": {
   "display_name": "Python [conda root]",
   "language": "python",
   "name": "conda-root-py"
  },
  "language_info": {
   "codemirror_mode": {
    "name": "ipython",
    "version": 3
   },
   "file_extension": ".py",
   "mimetype": "text/x-python",
   "name": "python",
   "nbconvert_exporter": "python",
   "pygments_lexer": "ipython3",
   "version": "3.6.4"
  }
 },
 "nbformat": 4,
 "nbformat_minor": 2
}
