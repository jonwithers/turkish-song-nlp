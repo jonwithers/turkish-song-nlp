{
 "cells": [
  {
   "cell_type": "markdown",
   "metadata": {},
   "source": [
    "# Exploring the results from Spark\n",
    "Spark is powerful, but doesn't really provide as many tools for metrics and model evaluation as Python. Wrangling the data back from DataBricks turned out to be a pain... but here it is!"
   ]
  },
  {
   "cell_type": "code",
   "execution_count": 81,
   "metadata": {},
   "outputs": [],
   "source": [
    "import pandas as pd\n",
    "import numpy as np\n",
    "import seaborn as sns\n",
    "import matplotlib.pyplot as plt\n",
    "\n",
    "# from sklearn.feature_extraction.text import CountVectorizer, TfidfVectorizer\n",
    "# from sklearn.model_selection import train_test_split\n",
    "# from sklearn.naive_bayes import GaussianNB\n",
    "# from sklearn.preprocessing import OneHotEncoder, StandardScaler, LabelEncoder\n",
    "# from sklearn.pipeline import Pipeline, FeatureUnion\n",
    "# from sklearn.linear_model import LogisticRegression\n",
    "from sklearn.metrics import confusion_matrix, f1_score, roc_curve, cohen_kappa_score\n",
    "from sklearn.metrics.pairwise import cosine_similarity\n",
    "from sklearn.svm import SVC\n",
    "\n",
    "from scipy.cluster.hierarchy import ward, dendrogram, fcluster"
   ]
  },
  {
   "cell_type": "code",
   "execution_count": 71,
   "metadata": {},
   "outputs": [],
   "source": [
    "df = pd.read_csv('../assets/data/merged_rawPredictions.csv')"
   ]
  },
  {
   "cell_type": "code",
   "execution_count": 72,
   "metadata": {},
   "outputs": [
    {
     "data": {
      "text/html": [
       "<div>\n",
       "<style scoped>\n",
       "    .dataframe tbody tr th:only-of-type {\n",
       "        vertical-align: middle;\n",
       "    }\n",
       "\n",
       "    .dataframe tbody tr th {\n",
       "        vertical-align: top;\n",
       "    }\n",
       "\n",
       "    .dataframe thead th {\n",
       "        text-align: right;\n",
       "    }\n",
       "</style>\n",
       "<table border=\"1\" class=\"dataframe\">\n",
       "  <thead>\n",
       "    <tr style=\"text-align: right;\">\n",
       "      <th></th>\n",
       "      <th>{\"added\":[\"part-00000-tid-8086206716274430561-5d947a8e-6803-4ee8-a0ac-72f329fa7141-2406-c000.csv\"</th>\n",
       "      <th>part-00001-tid-8086206716274430561-5d947a8e-6803-4ee8-a0ac-72f329fa7141-2407-c000.csv</th>\n",
       "      <th>part-00002-tid-8086206716274430561-5d947a8e-6803-4ee8-a0ac-72f329fa7141-2408-c000.csv</th>\n",
       "      <th>part-00003-tid-8086206716274430561-5d947a8e-6803-4ee8-a0ac-72f329fa7141-2409-c000.csv]</th>\n",
       "      <th>removed:[]}286</th>\n",
       "      <th>0.0</th>\n",
       "      <th>0</th>\n",
       "      <th>0.8553257800650063</th>\n",
       "      <th>-0.8553257800650063</th>\n",
       "    </tr>\n",
       "  </thead>\n",
       "  <tbody>\n",
       "    <tr>\n",
       "      <th>0</th>\n",
       "      <td>289</td>\n",
       "      <td>0.0</td>\n",
       "      <td>0</td>\n",
       "      <td>0.423098</td>\n",
       "      <td>-0.423098</td>\n",
       "      <td>NaN</td>\n",
       "      <td>NaN</td>\n",
       "      <td>NaN</td>\n",
       "      <td>NaN</td>\n",
       "    </tr>\n",
       "    <tr>\n",
       "      <th>1</th>\n",
       "      <td>292</td>\n",
       "      <td>0.0</td>\n",
       "      <td>0</td>\n",
       "      <td>0.498143</td>\n",
       "      <td>-0.498143</td>\n",
       "      <td>NaN</td>\n",
       "      <td>NaN</td>\n",
       "      <td>NaN</td>\n",
       "      <td>NaN</td>\n",
       "    </tr>\n",
       "    <tr>\n",
       "      <th>2</th>\n",
       "      <td>436</td>\n",
       "      <td>0.0</td>\n",
       "      <td>0</td>\n",
       "      <td>0.950636</td>\n",
       "      <td>-0.950636</td>\n",
       "      <td>NaN</td>\n",
       "      <td>NaN</td>\n",
       "      <td>NaN</td>\n",
       "      <td>NaN</td>\n",
       "    </tr>\n",
       "    <tr>\n",
       "      <th>3</th>\n",
       "      <td>442</td>\n",
       "      <td>0.0</td>\n",
       "      <td>0</td>\n",
       "      <td>0.582689</td>\n",
       "      <td>-0.582689</td>\n",
       "      <td>NaN</td>\n",
       "      <td>NaN</td>\n",
       "      <td>NaN</td>\n",
       "      <td>NaN</td>\n",
       "    </tr>\n",
       "    <tr>\n",
       "      <th>4</th>\n",
       "      <td>475</td>\n",
       "      <td>0.0</td>\n",
       "      <td>0</td>\n",
       "      <td>1.057223</td>\n",
       "      <td>-1.057223</td>\n",
       "      <td>NaN</td>\n",
       "      <td>NaN</td>\n",
       "      <td>NaN</td>\n",
       "      <td>NaN</td>\n",
       "    </tr>\n",
       "  </tbody>\n",
       "</table>\n",
       "</div>"
      ],
      "text/plain": [
       "   {\"added\":[\"part-00000-tid-8086206716274430561-5d947a8e-6803-4ee8-a0ac-72f329fa7141-2406-c000.csv\"  \\\n",
       "0                                                289                                                   \n",
       "1                                                292                                                   \n",
       "2                                                436                                                   \n",
       "3                                                442                                                   \n",
       "4                                                475                                                   \n",
       "\n",
       "   part-00001-tid-8086206716274430561-5d947a8e-6803-4ee8-a0ac-72f329fa7141-2407-c000.csv  \\\n",
       "0                                                0.0                                       \n",
       "1                                                0.0                                       \n",
       "2                                                0.0                                       \n",
       "3                                                0.0                                       \n",
       "4                                                0.0                                       \n",
       "\n",
       "   part-00002-tid-8086206716274430561-5d947a8e-6803-4ee8-a0ac-72f329fa7141-2408-c000.csv  \\\n",
       "0                                                  0                                       \n",
       "1                                                  0                                       \n",
       "2                                                  0                                       \n",
       "3                                                  0                                       \n",
       "4                                                  0                                       \n",
       "\n",
       "   part-00003-tid-8086206716274430561-5d947a8e-6803-4ee8-a0ac-72f329fa7141-2409-c000.csv]  \\\n",
       "0                                           0.423098                                        \n",
       "1                                           0.498143                                        \n",
       "2                                           0.950636                                        \n",
       "3                                           0.582689                                        \n",
       "4                                           1.057223                                        \n",
       "\n",
       "   removed:[]}286  0.0   0  0.8553257800650063  -0.8553257800650063  \n",
       "0       -0.423098  NaN NaN                 NaN                  NaN  \n",
       "1       -0.498143  NaN NaN                 NaN                  NaN  \n",
       "2       -0.950636  NaN NaN                 NaN                  NaN  \n",
       "3       -0.582689  NaN NaN                 NaN                  NaN  \n",
       "4       -1.057223  NaN NaN                 NaN                  NaN  "
      ]
     },
     "execution_count": 72,
     "metadata": {},
     "output_type": "execute_result"
    }
   ],
   "source": [
    "df.head()"
   ]
  },
  {
   "cell_type": "code",
   "execution_count": 73,
   "metadata": {},
   "outputs": [],
   "source": [
    "df.columns = ['index', 'y_hat', 'y_true', 'prob_0', 'prob_1', 'x','c','v','b']"
   ]
  },
  {
   "cell_type": "code",
   "execution_count": 74,
   "metadata": {},
   "outputs": [
    {
     "data": {
      "text/html": [
       "<div>\n",
       "<style scoped>\n",
       "    .dataframe tbody tr th:only-of-type {\n",
       "        vertical-align: middle;\n",
       "    }\n",
       "\n",
       "    .dataframe tbody tr th {\n",
       "        vertical-align: top;\n",
       "    }\n",
       "\n",
       "    .dataframe thead th {\n",
       "        text-align: right;\n",
       "    }\n",
       "</style>\n",
       "<table border=\"1\" class=\"dataframe\">\n",
       "  <thead>\n",
       "    <tr style=\"text-align: right;\">\n",
       "      <th></th>\n",
       "      <th>index</th>\n",
       "      <th>y_hat</th>\n",
       "      <th>y_true</th>\n",
       "      <th>prob_0</th>\n",
       "      <th>prob_1</th>\n",
       "      <th>x</th>\n",
       "      <th>c</th>\n",
       "      <th>v</th>\n",
       "      <th>b</th>\n",
       "    </tr>\n",
       "  </thead>\n",
       "  <tbody>\n",
       "    <tr>\n",
       "      <th>0</th>\n",
       "      <td>289</td>\n",
       "      <td>0.0</td>\n",
       "      <td>0</td>\n",
       "      <td>0.423098</td>\n",
       "      <td>-0.423098</td>\n",
       "      <td>NaN</td>\n",
       "      <td>NaN</td>\n",
       "      <td>NaN</td>\n",
       "      <td>NaN</td>\n",
       "    </tr>\n",
       "    <tr>\n",
       "      <th>1</th>\n",
       "      <td>292</td>\n",
       "      <td>0.0</td>\n",
       "      <td>0</td>\n",
       "      <td>0.498143</td>\n",
       "      <td>-0.498143</td>\n",
       "      <td>NaN</td>\n",
       "      <td>NaN</td>\n",
       "      <td>NaN</td>\n",
       "      <td>NaN</td>\n",
       "    </tr>\n",
       "    <tr>\n",
       "      <th>2</th>\n",
       "      <td>436</td>\n",
       "      <td>0.0</td>\n",
       "      <td>0</td>\n",
       "      <td>0.950636</td>\n",
       "      <td>-0.950636</td>\n",
       "      <td>NaN</td>\n",
       "      <td>NaN</td>\n",
       "      <td>NaN</td>\n",
       "      <td>NaN</td>\n",
       "    </tr>\n",
       "    <tr>\n",
       "      <th>3</th>\n",
       "      <td>442</td>\n",
       "      <td>0.0</td>\n",
       "      <td>0</td>\n",
       "      <td>0.582689</td>\n",
       "      <td>-0.582689</td>\n",
       "      <td>NaN</td>\n",
       "      <td>NaN</td>\n",
       "      <td>NaN</td>\n",
       "      <td>NaN</td>\n",
       "    </tr>\n",
       "    <tr>\n",
       "      <th>4</th>\n",
       "      <td>475</td>\n",
       "      <td>0.0</td>\n",
       "      <td>0</td>\n",
       "      <td>1.057223</td>\n",
       "      <td>-1.057223</td>\n",
       "      <td>NaN</td>\n",
       "      <td>NaN</td>\n",
       "      <td>NaN</td>\n",
       "      <td>NaN</td>\n",
       "    </tr>\n",
       "  </tbody>\n",
       "</table>\n",
       "</div>"
      ],
      "text/plain": [
       "   index  y_hat  y_true    prob_0    prob_1   x   c   v   b\n",
       "0    289    0.0       0  0.423098 -0.423098 NaN NaN NaN NaN\n",
       "1    292    0.0       0  0.498143 -0.498143 NaN NaN NaN NaN\n",
       "2    436    0.0       0  0.950636 -0.950636 NaN NaN NaN NaN\n",
       "3    442    0.0       0  0.582689 -0.582689 NaN NaN NaN NaN\n",
       "4    475    0.0       0  1.057223 -1.057223 NaN NaN NaN NaN"
      ]
     },
     "execution_count": 74,
     "metadata": {},
     "output_type": "execute_result"
    }
   ],
   "source": [
    "df.head()"
   ]
  },
  {
   "cell_type": "code",
   "execution_count": 75,
   "metadata": {},
   "outputs": [],
   "source": [
    "df = df[['index', 'y_hat', 'y_true', 'prob_0', 'prob_1']]"
   ]
  },
  {
   "cell_type": "code",
   "execution_count": 76,
   "metadata": {},
   "outputs": [],
   "source": [
    "df.index = df['index'].values"
   ]
  },
  {
   "cell_type": "code",
   "execution_count": 77,
   "metadata": {},
   "outputs": [],
   "source": [
    "df.drop('index', axis = 1, inplace = True)"
   ]
  },
  {
   "cell_type": "code",
   "execution_count": 78,
   "metadata": {},
   "outputs": [],
   "source": [
    "df.columns = df.columns.get_level_values(0)"
   ]
  },
  {
   "cell_type": "code",
   "execution_count": 79,
   "metadata": {},
   "outputs": [
    {
     "data": {
      "text/html": [
       "<div>\n",
       "<style scoped>\n",
       "    .dataframe tbody tr th:only-of-type {\n",
       "        vertical-align: middle;\n",
       "    }\n",
       "\n",
       "    .dataframe tbody tr th {\n",
       "        vertical-align: top;\n",
       "    }\n",
       "\n",
       "    .dataframe thead th {\n",
       "        text-align: right;\n",
       "    }\n",
       "</style>\n",
       "<table border=\"1\" class=\"dataframe\">\n",
       "  <thead>\n",
       "    <tr style=\"text-align: right;\">\n",
       "      <th></th>\n",
       "      <th>y_hat</th>\n",
       "      <th>y_true</th>\n",
       "      <th>prob_0</th>\n",
       "      <th>prob_1</th>\n",
       "    </tr>\n",
       "  </thead>\n",
       "  <tbody>\n",
       "    <tr>\n",
       "      <th>289</th>\n",
       "      <td>0.0</td>\n",
       "      <td>0</td>\n",
       "      <td>0.423098</td>\n",
       "      <td>-0.423098</td>\n",
       "    </tr>\n",
       "    <tr>\n",
       "      <th>292</th>\n",
       "      <td>0.0</td>\n",
       "      <td>0</td>\n",
       "      <td>0.498143</td>\n",
       "      <td>-0.498143</td>\n",
       "    </tr>\n",
       "    <tr>\n",
       "      <th>436</th>\n",
       "      <td>0.0</td>\n",
       "      <td>0</td>\n",
       "      <td>0.950636</td>\n",
       "      <td>-0.950636</td>\n",
       "    </tr>\n",
       "    <tr>\n",
       "      <th>442</th>\n",
       "      <td>0.0</td>\n",
       "      <td>0</td>\n",
       "      <td>0.582689</td>\n",
       "      <td>-0.582689</td>\n",
       "    </tr>\n",
       "    <tr>\n",
       "      <th>475</th>\n",
       "      <td>0.0</td>\n",
       "      <td>0</td>\n",
       "      <td>1.057223</td>\n",
       "      <td>-1.057223</td>\n",
       "    </tr>\n",
       "    <tr>\n",
       "      <th>545</th>\n",
       "      <td>0.0</td>\n",
       "      <td>0</td>\n",
       "      <td>0.574421</td>\n",
       "      <td>-0.574421</td>\n",
       "    </tr>\n",
       "    <tr>\n",
       "      <th>730</th>\n",
       "      <td>0.0</td>\n",
       "      <td>0</td>\n",
       "      <td>0.873808</td>\n",
       "      <td>-0.873808</td>\n",
       "    </tr>\n",
       "    <tr>\n",
       "      <th>739</th>\n",
       "      <td>0.0</td>\n",
       "      <td>0</td>\n",
       "      <td>1.418174</td>\n",
       "      <td>-1.418174</td>\n",
       "    </tr>\n",
       "    <tr>\n",
       "      <th>852</th>\n",
       "      <td>0.0</td>\n",
       "      <td>0</td>\n",
       "      <td>1.085413</td>\n",
       "      <td>-1.085413</td>\n",
       "    </tr>\n",
       "    <tr>\n",
       "      <th>860</th>\n",
       "      <td>0.0</td>\n",
       "      <td>0</td>\n",
       "      <td>0.931246</td>\n",
       "      <td>-0.931246</td>\n",
       "    </tr>\n",
       "    <tr>\n",
       "      <th>881</th>\n",
       "      <td>0.0</td>\n",
       "      <td>0</td>\n",
       "      <td>0.304365</td>\n",
       "      <td>-0.304365</td>\n",
       "    </tr>\n",
       "    <tr>\n",
       "      <th>901</th>\n",
       "      <td>0.0</td>\n",
       "      <td>1</td>\n",
       "      <td>0.661931</td>\n",
       "      <td>-0.661931</td>\n",
       "    </tr>\n",
       "    <tr>\n",
       "      <th>903</th>\n",
       "      <td>0.0</td>\n",
       "      <td>0</td>\n",
       "      <td>0.962819</td>\n",
       "      <td>-0.962819</td>\n",
       "    </tr>\n",
       "    <tr>\n",
       "      <th>927</th>\n",
       "      <td>0.0</td>\n",
       "      <td>0</td>\n",
       "      <td>0.582843</td>\n",
       "      <td>-0.582843</td>\n",
       "    </tr>\n",
       "    <tr>\n",
       "      <th>1091</th>\n",
       "      <td>1.0</td>\n",
       "      <td>0</td>\n",
       "      <td>-1.098834</td>\n",
       "      <td>1.098834</td>\n",
       "    </tr>\n",
       "    <tr>\n",
       "      <th>1247</th>\n",
       "      <td>0.0</td>\n",
       "      <td>0</td>\n",
       "      <td>1.140438</td>\n",
       "      <td>-1.140438</td>\n",
       "    </tr>\n",
       "    <tr>\n",
       "      <th>1258</th>\n",
       "      <td>0.0</td>\n",
       "      <td>1</td>\n",
       "      <td>0.868016</td>\n",
       "      <td>-0.868016</td>\n",
       "    </tr>\n",
       "    <tr>\n",
       "      <th>1259</th>\n",
       "      <td>0.0</td>\n",
       "      <td>1</td>\n",
       "      <td>1.194285</td>\n",
       "      <td>-1.194285</td>\n",
       "    </tr>\n",
       "    <tr>\n",
       "      <th>1263</th>\n",
       "      <td>0.0</td>\n",
       "      <td>0</td>\n",
       "      <td>0.695374</td>\n",
       "      <td>-0.695374</td>\n",
       "    </tr>\n",
       "    <tr>\n",
       "      <th>1284</th>\n",
       "      <td>0.0</td>\n",
       "      <td>1</td>\n",
       "      <td>0.535707</td>\n",
       "      <td>-0.535707</td>\n",
       "    </tr>\n",
       "  </tbody>\n",
       "</table>\n",
       "</div>"
      ],
      "text/plain": [
       "      y_hat  y_true    prob_0    prob_1\n",
       "289     0.0       0  0.423098 -0.423098\n",
       "292     0.0       0  0.498143 -0.498143\n",
       "436     0.0       0  0.950636 -0.950636\n",
       "442     0.0       0  0.582689 -0.582689\n",
       "475     0.0       0  1.057223 -1.057223\n",
       "545     0.0       0  0.574421 -0.574421\n",
       "730     0.0       0  0.873808 -0.873808\n",
       "739     0.0       0  1.418174 -1.418174\n",
       "852     0.0       0  1.085413 -1.085413\n",
       "860     0.0       0  0.931246 -0.931246\n",
       "881     0.0       0  0.304365 -0.304365\n",
       "901     0.0       1  0.661931 -0.661931\n",
       "903     0.0       0  0.962819 -0.962819\n",
       "927     0.0       0  0.582843 -0.582843\n",
       "1091    1.0       0 -1.098834  1.098834\n",
       "1247    0.0       0  1.140438 -1.140438\n",
       "1258    0.0       1  0.868016 -0.868016\n",
       "1259    0.0       1  1.194285 -1.194285\n",
       "1263    0.0       0  0.695374 -0.695374\n",
       "1284    0.0       1  0.535707 -0.535707"
      ]
     },
     "execution_count": 79,
     "metadata": {},
     "output_type": "execute_result"
    }
   ],
   "source": [
    "df.head(20)"
   ]
  },
  {
   "cell_type": "markdown",
   "metadata": {},
   "source": [
    "## Evaluating\n",
    "Now that the data is in a Pandas-friendly format, let's use some metrics!"
   ]
  },
  {
   "cell_type": "code",
   "execution_count": 80,
   "metadata": {},
   "outputs": [
    {
     "data": {
      "text/plain": [
       "<matplotlib.axes._subplots.AxesSubplot at 0x1a1bb25c50>"
      ]
     },
     "execution_count": 80,
     "metadata": {},
     "output_type": "execute_result"
    },
    {
     "data": {
      "image/png": "[encoded data removed]",
      "text/plain": [
       "<matplotlib.figure.Figure at 0x1a1bb52eb8>"
      ]
     },
     "metadata": {},
     "output_type": "display_data"
    }
   ],
   "source": [
    "sns.heatmap(confusion_matrix(df['y_true'], df['y_hat']), fmt = 'g', annot = True, cmap = 'Blues')"
   ]
  },
  {
   "cell_type": "markdown",
   "metadata": {},
   "source": [
    "Not super inspiring. To see how this compares to the baseline, the Cohen-Kappa Statistic is a useful measure.  \n",
    "  \n",
    "$$\\kappa = (p_o - p_e)/(1 - p_e) $$  \n",
    "where $p_o$ is the observed label percentage, and $p_e$ is the percentage that would occur by chance.\n",
    "Using this statistic, 0 is the baseline."
   ]
  },
  {
   "cell_type": "code",
   "execution_count": 82,
   "metadata": {},
   "outputs": [
    {
     "data": {
      "text/plain": [
       "0.069872653413444064"
      ]
     },
     "execution_count": 82,
     "metadata": {},
     "output_type": "execute_result"
    }
   ],
   "source": [
    "cohen_kappa_score(df['y_true'], df['y_hat'])"
   ]
  },
  {
   "cell_type": "markdown",
   "metadata": {},
   "source": [
    "Better than the baseline!"
   ]
  },
  {
   "cell_type": "markdown",
   "metadata": {},
   "source": [
    "Another metric (in fact the one used by Spark) is the area under the ROC curve. It's good to be over .5."
   ]
  },
  {
   "cell_type": "code",
   "execution_count": 87,
   "metadata": {},
   "outputs": [],
   "source": [
    "mn = df['prob_1'].min() \n",
    "mx = df['prob_1'].max()\n",
    "\n",
    "df['proba'] = (df['prob_1'] - mn)/(mx - mn)"
   ]
  },
  {
   "cell_type": "code",
   "execution_count": 30,
   "metadata": {},
   "outputs": [
    {
     "data": {
      "text/plain": [
       "<matplotlib.axes._subplots.AxesSubplot at 0x10fd434e0>"
      ]
     },
     "execution_count": 30,
     "metadata": {},
     "output_type": "execute_result"
    },
    {
     "data": {
      "image/png": "[encoded data removed]",
      "text/plain": [
       "<matplotlib.figure.Figure at 0x1a182a1f98>"
      ]
     },
     "metadata": {},
     "output_type": "display_data"
    }
   ],
   "source": [
    "sns.distplot(df['prob_1'])"
   ]
  },
  {
   "cell_type": "code",
   "execution_count": 88,
   "metadata": {},
   "outputs": [],
   "source": [
    "odds = np.exp(df['prob_1'])"
   ]
  },
  {
   "cell_type": "code",
   "execution_count": 89,
   "metadata": {},
   "outputs": [],
   "source": [
    "df['proba'] = odds / (1 + odds)"
   ]
  },
  {
   "cell_type": "code",
   "execution_count": 90,
   "metadata": {},
   "outputs": [],
   "source": [
    "fpr, tpr, _ = roc_curve(df['y_true'], df['proba'])"
   ]
  },
  {
   "cell_type": "code",
   "execution_count": null,
   "metadata": {},
   "outputs": [],
   "source": []
  },
  {
   "cell_type": "code",
   "execution_count": 91,
   "metadata": {},
   "outputs": [
    {
     "data": {
      "image/png": "[encoded data removed]",
      "text/plain": [
       "<matplotlib.figure.Figure at 0x1a1bb52860>"
      ]
     },
     "metadata": {},
     "output_type": "display_data"
    }
   ],
   "source": [
    "plt.figure(figsize = (14,10))\n",
    "plt.plot(fpr, tpr, label = \"Area under curve = 0.64\")\n",
    "plt.title(\"ROC Curve for SVM Model\", fontsize = 22)\n",
    "plt.xlabel(\"False Positive Rate\", fontsize = 18)\n",
    "plt.ylabel(\"True Positive Rate\", fontsize = 18)\n",
    "plt.plot([0, 1], [0, 1], color='navy', lw=1, linestyle='--', alpha=  0.4, label = \"0.5\")\n",
    "plt.legend(fontsize = 14)\n",
    "plt.savefig(\"../assets/visualizations/roc.png\")"
   ]
  },
  {
   "cell_type": "markdown",
   "metadata": {},
   "source": [
    "### This suggests a threshold such that the true positive rate is high (0.8) and the false positive rate is relatively low (0.6)"
   ]
  },
  {
   "cell_type": "code",
   "execution_count": null,
   "metadata": {},
   "outputs": [],
   "source": []
  }
 ],
 "metadata": {
  "kernelspec": {
   "display_name": "Python [conda root]",
   "language": "python",
   "name": "conda-root-py"
  },
  "language_info": {
   "codemirror_mode": {
    "name": "ipython",
    "version": 3
   },
   "file_extension": ".py",
   "mimetype": "text/x-python",
   "name": "python",
   "nbconvert_exporter": "python",
   "pygments_lexer": "ipython3",
   "version": "3.6.4"
  }
 },
 "nbformat": 4,
 "nbformat_minor": 2
}
