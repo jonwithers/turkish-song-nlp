{
 "cells": [
  {
   "cell_type": "code",
   "execution_count": 60,
   "metadata": {},
   "outputs": [],
   "source": [
    "import requests\n",
    "from bs4 import BeautifulSoup\n",
    "import pandas as pd\n",
    "import re\n",
    "import spotipy"
   ]
  },
  {
   "cell_type": "code",
   "execution_count": 11,
   "metadata": {},
   "outputs": [],
   "source": [
    "client_credentials_manager = SpotifyClientCredentials(client_id='82b857bc19b8402dbf050cc433158f42', client_secret='799bcde8e32b40ceaa19793845087b5f')\n",
    "sp = spotipy.Spotify(client_credentials_manager=client_credentials_manager)"
   ]
  },
  {
   "cell_type": "code",
   "execution_count": 12,
   "metadata": {},
   "outputs": [],
   "source": [
    "results = sp.search(q = 'sezen-aksu', limit = 20)"
   ]
  },
  {
   "cell_type": "code",
   "execution_count": 25,
   "metadata": {},
   "outputs": [
    {
     "data": {
      "text/plain": [
       "dict_keys(['href', 'items', 'limit', 'next', 'offset', 'previous', 'total'])"
      ]
     },
     "execution_count": 25,
     "metadata": {},
     "output_type": "execute_result"
    }
   ],
   "source": [
    "results['tracks'].keys()"
   ]
  },
  {
   "cell_type": "code",
   "execution_count": 40,
   "metadata": {},
   "outputs": [
    {
     "data": {
      "text/html": [
       "<div>\n",
       "<style scoped>\n",
       "    .dataframe tbody tr th:only-of-type {\n",
       "        vertical-align: middle;\n",
       "    }\n",
       "\n",
       "    .dataframe tbody tr th {\n",
       "        vertical-align: top;\n",
       "    }\n",
       "\n",
       "    .dataframe thead th {\n",
       "        text-align: right;\n",
       "    }\n",
       "</style>\n",
       "<table border=\"1\" class=\"dataframe\">\n",
       "  <thead>\n",
       "    <tr style=\"text-align: right;\">\n",
       "      <th></th>\n",
       "      <th>album</th>\n",
       "      <th>track</th>\n",
       "      <th>date</th>\n",
       "    </tr>\n",
       "  </thead>\n",
       "  <tbody>\n",
       "    <tr>\n",
       "      <th>0</th>\n",
       "      <td>Biraz Pop Biraz Sezen</td>\n",
       "      <td>Manifesto</td>\n",
       "      <td>2017-01-23</td>\n",
       "    </tr>\n",
       "    <tr>\n",
       "      <th>1</th>\n",
       "      <td>Biraz Pop Biraz Sezen</td>\n",
       "      <td>İhanetten Geri Kalan</td>\n",
       "      <td>2017-01-23</td>\n",
       "    </tr>\n",
       "    <tr>\n",
       "      <th>2</th>\n",
       "      <td>Gülümse</td>\n",
       "      <td>Vazgeçtim</td>\n",
       "      <td>1991-07-16</td>\n",
       "    </tr>\n",
       "    <tr>\n",
       "      <th>3</th>\n",
       "      <td>Düş Bahçeleri</td>\n",
       "      <td>Kaçın Kurası</td>\n",
       "      <td>1996-07-14</td>\n",
       "    </tr>\n",
       "    <tr>\n",
       "      <th>4</th>\n",
       "      <td>Öptüm</td>\n",
       "      <td>Vay</td>\n",
       "      <td>2011-05-23</td>\n",
       "    </tr>\n",
       "    <tr>\n",
       "      <th>5</th>\n",
       "      <td>Gülümse</td>\n",
       "      <td>Her Şeyi Yak</td>\n",
       "      <td>1991-07-16</td>\n",
       "    </tr>\n",
       "    <tr>\n",
       "      <th>6</th>\n",
       "      <td>Gülümse</td>\n",
       "      <td>Seni Kimler Aldı</td>\n",
       "      <td>1991-07-16</td>\n",
       "    </tr>\n",
       "    <tr>\n",
       "      <th>7</th>\n",
       "      <td>Deniz Yıldızı</td>\n",
       "      <td>Kutlama</td>\n",
       "      <td>2008-06-18</td>\n",
       "    </tr>\n",
       "    <tr>\n",
       "      <th>8</th>\n",
       "      <td>Biraz Pop Biraz Sezen</td>\n",
       "      <td>Köz</td>\n",
       "      <td>2017-01-23</td>\n",
       "    </tr>\n",
       "    <tr>\n",
       "      <th>9</th>\n",
       "      <td>Git</td>\n",
       "      <td>Git...</td>\n",
       "      <td>1986-09-02</td>\n",
       "    </tr>\n",
       "    <tr>\n",
       "      <th>10</th>\n",
       "      <td>Bahane</td>\n",
       "      <td>Şanıma İnanma</td>\n",
       "      <td>2005-02-10</td>\n",
       "    </tr>\n",
       "    <tr>\n",
       "      <th>11</th>\n",
       "      <td>Pop Turkish 2 (La jeune génération pop Made In...</td>\n",
       "      <td>Tutuklu</td>\n",
       "      <td>2004</td>\n",
       "    </tr>\n",
       "    <tr>\n",
       "      <th>12</th>\n",
       "      <td>Ağlamak Güzeldir</td>\n",
       "      <td>Biliyorsun</td>\n",
       "      <td>1981-01-01</td>\n",
       "    </tr>\n",
       "    <tr>\n",
       "      <th>13</th>\n",
       "      <td>Sezen Aksu Söylüyor</td>\n",
       "      <td>Belalım</td>\n",
       "      <td>1989-07-07</td>\n",
       "    </tr>\n",
       "    <tr>\n",
       "      <th>14</th>\n",
       "      <td>Düş Bahçeleri</td>\n",
       "      <td>Seni Yerler</td>\n",
       "      <td>1996-07-14</td>\n",
       "    </tr>\n",
       "    <tr>\n",
       "      <th>15</th>\n",
       "      <td>Öptüm</td>\n",
       "      <td>Unuttun mu Beni</td>\n",
       "      <td>2011-05-23</td>\n",
       "    </tr>\n",
       "    <tr>\n",
       "      <th>16</th>\n",
       "      <td>Sen Ağlama</td>\n",
       "      <td>Tükeneceğiz</td>\n",
       "      <td>1984-09-06</td>\n",
       "    </tr>\n",
       "    <tr>\n",
       "      <th>17</th>\n",
       "      <td>Alakasız Şarkılar, Vol. 1</td>\n",
       "      <td>Ceylan - Kıvanch K Versiyon</td>\n",
       "      <td>2017-06-09</td>\n",
       "    </tr>\n",
       "    <tr>\n",
       "      <th>18</th>\n",
       "      <td>Deli Kızın Türküsü</td>\n",
       "      <td>Küçüğüm</td>\n",
       "      <td>1993-09-17</td>\n",
       "    </tr>\n",
       "    <tr>\n",
       "      <th>19</th>\n",
       "      <td>Biraz Pop Biraz Sezen</td>\n",
       "      <td>Canımsın Sen</td>\n",
       "      <td>2017-01-23</td>\n",
       "    </tr>\n",
       "  </tbody>\n",
       "</table>\n",
       "</div>"
      ],
      "text/plain": [
       "                                                album  \\\n",
       "0                               Biraz Pop Biraz Sezen   \n",
       "1                               Biraz Pop Biraz Sezen   \n",
       "2                                             Gülümse   \n",
       "3                                       Düş Bahçeleri   \n",
       "4                                               Öptüm   \n",
       "5                                             Gülümse   \n",
       "6                                             Gülümse   \n",
       "7                                       Deniz Yıldızı   \n",
       "8                               Biraz Pop Biraz Sezen   \n",
       "9                                                 Git   \n",
       "10                                             Bahane   \n",
       "11  Pop Turkish 2 (La jeune génération pop Made In...   \n",
       "12                                   Ağlamak Güzeldir   \n",
       "13                                Sezen Aksu Söylüyor   \n",
       "14                                      Düş Bahçeleri   \n",
       "15                                              Öptüm   \n",
       "16                                         Sen Ağlama   \n",
       "17                          Alakasız Şarkılar, Vol. 1   \n",
       "18                                 Deli Kızın Türküsü   \n",
       "19                              Biraz Pop Biraz Sezen   \n",
       "\n",
       "                          track        date  \n",
       "0                     Manifesto  2017-01-23  \n",
       "1          İhanetten Geri Kalan  2017-01-23  \n",
       "2                     Vazgeçtim  1991-07-16  \n",
       "3                  Kaçın Kurası  1996-07-14  \n",
       "4                           Vay  2011-05-23  \n",
       "5                  Her Şeyi Yak  1991-07-16  \n",
       "6              Seni Kimler Aldı  1991-07-16  \n",
       "7                       Kutlama  2008-06-18  \n",
       "8                           Köz  2017-01-23  \n",
       "9                        Git...  1986-09-02  \n",
       "10                Şanıma İnanma  2005-02-10  \n",
       "11                      Tutuklu        2004  \n",
       "12                   Biliyorsun  1981-01-01  \n",
       "13                      Belalım  1989-07-07  \n",
       "14                  Seni Yerler  1996-07-14  \n",
       "15              Unuttun mu Beni  2011-05-23  \n",
       "16                  Tükeneceğiz  1984-09-06  \n",
       "17  Ceylan - Kıvanch K Versiyon  2017-06-09  \n",
       "18                      Küçüğüm  1993-09-17  \n",
       "19                 Canımsın Sen  2017-01-23  "
      ]
     },
     "execution_count": 40,
     "metadata": {},
     "output_type": "execute_result"
    }
   ],
   "source": [
    "album = []\n",
    "track = []\n",
    "date = []\n",
    "for item in results['tracks']['items']:\n",
    "    album.append(item['album']['name'])\n",
    "    track.append(item['name'])\n",
    "    date.append(item['album']['release_date'])\n",
    "    \n",
    "pd.DataFrame({\n",
    "    'album':album,\n",
    "    'track':track,\n",
    "    'date':date\n",
    "})"
   ]
  },
  {
   "cell_type": "code",
   "execution_count": 48,
   "metadata": {},
   "outputs": [],
   "source": [
    "results2 = sp.search('biraz-pop-biraz-sezen', limit = 20)\n",
    "\n",
    "i = 1\n",
    "for item in results2['tracks']['items']:\n",
    "    print(i, item['name'])\n",
    "    i += 1"
   ]
  },
  {
   "cell_type": "code",
   "execution_count": 52,
   "metadata": {},
   "outputs": [
    {
     "name": "stdout",
     "output_type": "stream",
     "text": [
      "1 İmkansız\n",
      "2 Ah Bu Şarkıların Gözü Kör Olsun\n",
      "3 Gücüme Gidiyor Böyle Yaşamak - Version 1\n",
      "4 Büyüleyen Gözlerinle\n",
      "5 Ayaz Geceler\n",
      "6 Rüyalarda Buluşuruz\n",
      "7 Sevgi Dolu Şu Gönlüm\n",
      "8 Göz Yaşımda Saklısın\n",
      "9 Seni Ben Unutmak İstemedim Ki - Version 1\n",
      "10 Biz Ayrılamayız\n",
      "11 Kanımda Kıvılcım\n",
      "12 Sevgi Bağları\n",
      "13 Zulüm Taşıyan Gözler\n",
      "14 Acı Hasret\n",
      "15 Gücüme Gidiyor Böyle Yaşamak - Version 2\n",
      "16 Güzelleri Kim Sevmez Ki\n",
      "17 Bana Aşkı Öğreten Sensin\n",
      "18 Seviyorum Sevmesende\n",
      "19 Güzelsin\n",
      "20 N'olur Hayatımdan Çıkma\n"
     ]
    }
   ],
   "source": [
    "results3 = sp.search('3 Büyükler', limit = 20)\n",
    "\n",
    "i = 1\n",
    "for item in results3['tracks']['items']:\n",
    "    print(i, item['name'])\n",
    "    i += 1"
   ]
  },
  {
   "cell_type": "code",
   "execution_count": 57,
   "metadata": {},
   "outputs": [],
   "source": [
    "lyrics_df = pd.read_csv('../assets/lyrics/all_lyrics_scraped_20180625-155423.csv', index_col = 0)"
   ]
  },
  {
   "cell_type": "code",
   "execution_count": 61,
   "metadata": {},
   "outputs": [],
   "source": [
    "def remove_ads(text):\n",
    "    pattern = r'(eval.*])'\n",
    "    return re.sub(pattern, \"\", text)\n",
    "\n",
    "def regularize_whitespace(text):\n",
    "    whitepattern = r'\\s+'\n",
    "    return re.sub(whitepattern, \" \", text)\n",
    "\n",
    "def remove_and_reg(text):\n",
    "    text = remove_ads(text)\n",
    "    text = regularize_whitespace(text)\n",
    "    return text\n",
    "\n",
    "def check_for_english(text):\n",
    "    text_words = text.split(\" \")\n",
    "    english_words = set(['I', \"we're\", \"the\", \"an\", \"one\", \"to\", \"give\", \"love\"])\n",
    "    counter = 0\n",
    "    for word in text_words:\n",
    "        if word in english_words:\n",
    "            counter += 1\n",
    "    return counter\n",
    "    \n",
    "\n",
    "lyrics_df['text'] = lyrics_df['text'].map(remove_and_reg)\n",
    "\n",
    "lyrics_df['english_score'] = lyrics_df['text'].map(check_for_english)"
   ]
  },
  {
   "cell_type": "code",
   "execution_count": 62,
   "metadata": {},
   "outputs": [
    {
     "data": {
      "text/plain": [
       "(41943, 5)"
      ]
     },
     "execution_count": 62,
     "metadata": {},
     "output_type": "execute_result"
    }
   ],
   "source": [
    "lyrics_df[lyrics_df['english_score'] == 0].shape"
   ]
  },
  {
   "cell_type": "code",
   "execution_count": 64,
   "metadata": {},
   "outputs": [
    {
     "data": {
      "text/plain": [
       "13742"
      ]
     },
     "execution_count": 64,
     "metadata": {},
     "output_type": "execute_result"
    }
   ],
   "source": [
    "lyrics_df.shape[0] - lyrics_df[lyrics_df['english_score'] == 0].shape[0]"
   ]
  },
  {
   "cell_type": "code",
   "execution_count": 67,
   "metadata": {},
   "outputs": [],
   "source": [
    "tr_lyrics_df = lyrics_df[lyrics_df['english_score'] == 0]"
   ]
  },
  {
   "cell_type": "code",
   "execution_count": 69,
   "metadata": {},
   "outputs": [
    {
     "data": {
      "text/plain": [
       "1809"
      ]
     },
     "execution_count": 69,
     "metadata": {},
     "output_type": "execute_result"
    }
   ],
   "source": [
    "len(tr_lyrics_df['artist'].unique())"
   ]
  },
  {
   "cell_type": "code",
   "execution_count": 70,
   "metadata": {},
   "outputs": [],
   "source": [
    "artists = tr_lyrics_df['artist'].unique()"
   ]
  },
  {
   "cell_type": "code",
   "execution_count": 75,
   "metadata": {},
   "outputs": [
    {
     "data": {
      "text/plain": [
       "'A P O'"
      ]
     },
     "execution_count": 75,
     "metadata": {},
     "output_type": "execute_result"
    }
   ],
   "source": [
    "artists[0]"
   ]
  },
  {
   "cell_type": "code",
   "execution_count": 77,
   "metadata": {},
   "outputs": [],
   "source": [
    "import time\n",
    "time.sleep(2)"
   ]
  },
  {
   "cell_type": "code",
   "execution_count": 84,
   "metadata": {},
   "outputs": [],
   "source": [
    "tr_lyrics_df.reset_index(inplace = True)"
   ]
  },
  {
   "cell_type": "code",
   "execution_count": 104,
   "metadata": {},
   "outputs": [],
   "source": [
    "query_a = tr_lyrics_df.loc[1000, 'artist']\n",
    "query_b = tr_lyrics_df.loc[1000,'title']"
   ]
  },
  {
   "cell_type": "code",
   "execution_count": 105,
   "metadata": {},
   "outputs": [],
   "source": [
    "query = query_a + \" \"+  query_b"
   ]
  },
  {
   "cell_type": "code",
   "execution_count": 116,
   "metadata": {},
   "outputs": [
    {
     "name": "stdout",
     "output_type": "stream",
     "text": [
      "Bak Bir Erkek Ağlıyor\n",
      "1987-02-04\n"
     ]
    }
   ],
   "source": [
    "results4 = sp.search(q = query, limit = 1)\n",
    "\n",
    "\n",
    "print(results4['tracks']['items'][0]['name'])\n",
    "print(results4['tracks']['items'][0]['album']['release_date'])"
   ]
  },
  {
   "cell_type": "code",
   "execution_count": 120,
   "metadata": {},
   "outputs": [
    {
     "name": "stdout",
     "output_type": "stream",
     "text": [
      "{'tracks': {'href': 'https://api.spotify.com/v1/search?query=Ahmet+burhan+isik&type=track&offset=0&limit=1', 'items': [], 'limit': 1, 'next': None, 'offset': 0, 'previous': None, 'total': 0}}\n"
     ]
    }
   ],
   "source": [
    "results5 = sp.search(q = 'Ahmet burhan isik', limit = 1)\n",
    "\n",
    "print(results5)"
   ]
  },
  {
   "cell_type": "code",
   "execution_count": 115,
   "metadata": {},
   "outputs": [
    {
     "data": {
      "text/plain": [
       "Timestamp('1987-02-04 00:00:00')"
      ]
     },
     "execution_count": 115,
     "metadata": {},
     "output_type": "execute_result"
    }
   ],
   "source": [
    "pd.to_datetime(results4['tracks']['items'][0]['album']['release_date'])"
   ]
  },
  {
   "cell_type": "code",
   "execution_count": 109,
   "metadata": {},
   "outputs": [
    {
     "data": {
      "text/html": [
       "<div>\n",
       "<style scoped>\n",
       "    .dataframe tbody tr th:only-of-type {\n",
       "        vertical-align: middle;\n",
       "    }\n",
       "\n",
       "    .dataframe tbody tr th {\n",
       "        vertical-align: top;\n",
       "    }\n",
       "\n",
       "    .dataframe thead th {\n",
       "        text-align: right;\n",
       "    }\n",
       "</style>\n",
       "<table border=\"1\" class=\"dataframe\">\n",
       "  <thead>\n",
       "    <tr style=\"text-align: right;\">\n",
       "      <th></th>\n",
       "      <th>index</th>\n",
       "      <th>artist</th>\n",
       "      <th>title</th>\n",
       "      <th>album</th>\n",
       "      <th>text</th>\n",
       "      <th>english_score</th>\n",
       "    </tr>\n",
       "  </thead>\n",
       "  <tbody>\n",
       "    <tr>\n",
       "      <th>1000</th>\n",
       "      <td>1498</td>\n",
       "      <td>Ahmet Selçuk İlkan</td>\n",
       "      <td>Bak Bir Erkek Ağlıyor</td>\n",
       "      <td>Seni Arıyorum</td>\n",
       "      <td>Son mektubun elimde Bana veda etmişsin Ayrılır...</td>\n",
       "      <td>0</td>\n",
       "    </tr>\n",
       "    <tr>\n",
       "      <th>1001</th>\n",
       "      <td>1499</td>\n",
       "      <td>Ahmet Selçuk İlkan</td>\n",
       "      <td>Bana Bunu Yapmayacaktın</td>\n",
       "      <td>Unutmaktan  Geliyorum</td>\n",
       "      <td>şiir: bana bunu yapmayacaktın öyle sırtımdan v...</td>\n",
       "      <td>0</td>\n",
       "    </tr>\n",
       "    <tr>\n",
       "      <th>1002</th>\n",
       "      <td>1500</td>\n",
       "      <td>Ahmet Selçuk İlkan</td>\n",
       "      <td>Ben Aşkı Ölümsüz Bilenlerdenim (Ft.  Ebru Yaşar)</td>\n",
       "      <td>Söz</td>\n",
       "      <td>Ahmet Selçuk İlkan: Aradığım ne varsa bil ki s...</td>\n",
       "      <td>0</td>\n",
       "    </tr>\n",
       "    <tr>\n",
       "      <th>1003</th>\n",
       "      <td>1501</td>\n",
       "      <td>Ahmet Selçuk İlkan</td>\n",
       "      <td>Ben En Çok İnsandan Korktum (Ft. İntizar)</td>\n",
       "      <td>Seni O Kadar Çok Sevdim Ki</td>\n",
       "      <td>Ahmet Selçuk İlkan: Durup durup bana sorma bun...</td>\n",
       "      <td>0</td>\n",
       "    </tr>\n",
       "    <tr>\n",
       "      <th>1004</th>\n",
       "      <td>1502</td>\n",
       "      <td>Ahmet Selçuk İlkan</td>\n",
       "      <td>Ben Seni Asla (Ft. Baha)</td>\n",
       "      <td>Seni O Kadar Çok Sevdim Ki</td>\n",
       "      <td>Ahmet Selçuk İlkan: Sen hayatımın en kutsal aş...</td>\n",
       "      <td>0</td>\n",
       "    </tr>\n",
       "    <tr>\n",
       "      <th>1005</th>\n",
       "      <td>1503</td>\n",
       "      <td>Ahmet Selçuk İlkan</td>\n",
       "      <td>Bir Adam Gidiyor – Sitem (Ozan Kavasoğulları)</td>\n",
       "      <td>Seni O Kadar Çok Sevdim Ki</td>\n",
       "      <td>Ozan Kavasoğulları: Kendi elinle düştün bu hal...</td>\n",
       "      <td>0</td>\n",
       "    </tr>\n",
       "    <tr>\n",
       "      <th>1006</th>\n",
       "      <td>1504</td>\n",
       "      <td>Ahmet Selçuk İlkan</td>\n",
       "      <td>Bir Televole Masalı</td>\n",
       "      <td>O Adam Benim</td>\n",
       "      <td>Hayat bir televole masalı değildir kızım! Sakı...</td>\n",
       "      <td>0</td>\n",
       "    </tr>\n",
       "    <tr>\n",
       "      <th>1007</th>\n",
       "      <td>1505</td>\n",
       "      <td>Ahmet Selçuk İlkan</td>\n",
       "      <td>Bu Şehir Ve Sen</td>\n",
       "      <td>Asi Bir Tutku</td>\n",
       "      <td>Ömrümün en güzel senelerini Alıpta gittiniz bu...</td>\n",
       "      <td>0</td>\n",
       "    </tr>\n",
       "    <tr>\n",
       "      <th>1008</th>\n",
       "      <td>1507</td>\n",
       "      <td>Ahmet Selçuk İlkan</td>\n",
       "      <td>Geçen Yıl Bu Zamanlar (Ft. İntizar)</td>\n",
       "      <td>deli sevda</td>\n",
       "      <td>Ahmet Selçuk İlkan: Öyle bir vurdu ki hasretin...</td>\n",
       "      <td>0</td>\n",
       "    </tr>\n",
       "    <tr>\n",
       "      <th>1009</th>\n",
       "      <td>1508</td>\n",
       "      <td>Ahmet Selçuk İlkan</td>\n",
       "      <td>Gidiyorsun</td>\n",
       "      <td>O Adam Benim</td>\n",
       "      <td>Ne yaptım ki sana böyle, Kaçar gibi gidiyorsun...</td>\n",
       "      <td>0</td>\n",
       "    </tr>\n",
       "    <tr>\n",
       "      <th>1010</th>\n",
       "      <td>1509</td>\n",
       "      <td>Ahmet Selçuk İlkan</td>\n",
       "      <td>Gözlerin Kal Diyor</td>\n",
       "      <td>Asi Bir Tutku</td>\n",
       "      <td>Bu nasıl ayrılık bu nasıl veda Gözlerin kal di...</td>\n",
       "      <td>0</td>\n",
       "    </tr>\n",
       "  </tbody>\n",
       "</table>\n",
       "</div>"
      ],
      "text/plain": [
       "      index              artist  \\\n",
       "1000   1498  Ahmet Selçuk İlkan   \n",
       "1001   1499  Ahmet Selçuk İlkan   \n",
       "1002   1500  Ahmet Selçuk İlkan   \n",
       "1003   1501  Ahmet Selçuk İlkan   \n",
       "1004   1502  Ahmet Selçuk İlkan   \n",
       "1005   1503  Ahmet Selçuk İlkan   \n",
       "1006   1504  Ahmet Selçuk İlkan   \n",
       "1007   1505  Ahmet Selçuk İlkan   \n",
       "1008   1507  Ahmet Selçuk İlkan   \n",
       "1009   1508  Ahmet Selçuk İlkan   \n",
       "1010   1509  Ahmet Selçuk İlkan   \n",
       "\n",
       "                                                 title  \\\n",
       "1000                             Bak Bir Erkek Ağlıyor   \n",
       "1001                           Bana Bunu Yapmayacaktın   \n",
       "1002  Ben Aşkı Ölümsüz Bilenlerdenim (Ft.  Ebru Yaşar)   \n",
       "1003         Ben En Çok İnsandan Korktum (Ft. İntizar)   \n",
       "1004                          Ben Seni Asla (Ft. Baha)   \n",
       "1005     Bir Adam Gidiyor – Sitem (Ozan Kavasoğulları)   \n",
       "1006                               Bir Televole Masalı   \n",
       "1007                                   Bu Şehir Ve Sen   \n",
       "1008               Geçen Yıl Bu Zamanlar (Ft. İntizar)   \n",
       "1009                                        Gidiyorsun   \n",
       "1010                                Gözlerin Kal Diyor   \n",
       "\n",
       "                           album  \\\n",
       "1000               Seni Arıyorum   \n",
       "1001       Unutmaktan  Geliyorum   \n",
       "1002                         Söz   \n",
       "1003  Seni O Kadar Çok Sevdim Ki   \n",
       "1004  Seni O Kadar Çok Sevdim Ki   \n",
       "1005  Seni O Kadar Çok Sevdim Ki   \n",
       "1006                O Adam Benim   \n",
       "1007               Asi Bir Tutku   \n",
       "1008                  deli sevda   \n",
       "1009                O Adam Benim   \n",
       "1010               Asi Bir Tutku   \n",
       "\n",
       "                                                   text  english_score  \n",
       "1000  Son mektubun elimde Bana veda etmişsin Ayrılır...              0  \n",
       "1001  şiir: bana bunu yapmayacaktın öyle sırtımdan v...              0  \n",
       "1002  Ahmet Selçuk İlkan: Aradığım ne varsa bil ki s...              0  \n",
       "1003  Ahmet Selçuk İlkan: Durup durup bana sorma bun...              0  \n",
       "1004  Ahmet Selçuk İlkan: Sen hayatımın en kutsal aş...              0  \n",
       "1005  Ozan Kavasoğulları: Kendi elinle düştün bu hal...              0  \n",
       "1006  Hayat bir televole masalı değildir kızım! Sakı...              0  \n",
       "1007  Ömrümün en güzel senelerini Alıpta gittiniz bu...              0  \n",
       "1008  Ahmet Selçuk İlkan: Öyle bir vurdu ki hasretin...              0  \n",
       "1009  Ne yaptım ki sana böyle, Kaçar gibi gidiyorsun...              0  \n",
       "1010  Bu nasıl ayrılık bu nasıl veda Gözlerin kal di...              0  "
      ]
     },
     "execution_count": 109,
     "metadata": {},
     "output_type": "execute_result"
    }
   ],
   "source": [
    "tr_lyrics_df.loc[1000:1010, :]"
   ]
  },
  {
   "cell_type": "markdown",
   "metadata": {},
   "source": [
    "## OK it seems I got a plan here:\n",
    "Psuedocode for getting a Spotify date column:\n",
    "```\n",
    "release_spotify = []\n",
    "name_spotify = []\n",
    "for each song in the Turkish-only lyrics:\n",
    "    make a request to spotify\n",
    "    ask for the top result\n",
    "    if there is no top result:\n",
    "        release_spotify.append(np.na)\n",
    "        name_spotify.append(nap.na)\n",
    "    else:\n",
    "        release_spotify.append(request['tracks']['items'][0]['album']['release_date'])\n",
    "        name_spotify.append(request['tracks']['items'][0]['name'])\n",
    "        \n",
    "```\n",
    "This will produce two new columns: an album release date column (at least, Spotify's best guess) and the name of the top result (for verification purposes)"
   ]
  },
  {
   "cell_type": "code",
   "execution_count": 125,
   "metadata": {},
   "outputs": [],
   "source": [
    "import numpy as np"
   ]
  },
  {
   "cell_type": "code",
   "execution_count": 128,
   "metadata": {},
   "outputs": [
    {
     "data": {
      "text/html": [
       "<div>\n",
       "<style scoped>\n",
       "    .dataframe tbody tr th:only-of-type {\n",
       "        vertical-align: middle;\n",
       "    }\n",
       "\n",
       "    .dataframe tbody tr th {\n",
       "        vertical-align: top;\n",
       "    }\n",
       "\n",
       "    .dataframe thead th {\n",
       "        text-align: right;\n",
       "    }\n",
       "</style>\n",
       "<table border=\"1\" class=\"dataframe\">\n",
       "  <thead>\n",
       "    <tr style=\"text-align: right;\">\n",
       "      <th></th>\n",
       "      <th>release</th>\n",
       "      <th>name</th>\n",
       "      <th>real_name</th>\n",
       "    </tr>\n",
       "  </thead>\n",
       "  <tbody>\n",
       "    <tr>\n",
       "      <th>500</th>\n",
       "      <td>NaN</td>\n",
       "      <td>NaN</td>\n",
       "      <td>Aldığım Her Nefesin</td>\n",
       "    </tr>\n",
       "    <tr>\n",
       "      <th>501</th>\n",
       "      <td>2013-04-22</td>\n",
       "      <td>Anma Adımı</td>\n",
       "      <td>Anma Adımı</td>\n",
       "    </tr>\n",
       "    <tr>\n",
       "      <th>502</th>\n",
       "      <td>NaN</td>\n",
       "      <td>NaN</td>\n",
       "      <td>Annem</td>\n",
       "    </tr>\n",
       "    <tr>\n",
       "      <th>503</th>\n",
       "      <td>NaN</td>\n",
       "      <td>NaN</td>\n",
       "      <td>Aşk Bilmecesi</td>\n",
       "    </tr>\n",
       "    <tr>\n",
       "      <th>504</th>\n",
       "      <td>NaN</td>\n",
       "      <td>NaN</td>\n",
       "      <td>Aşkının Sarhoşuyum</td>\n",
       "    </tr>\n",
       "    <tr>\n",
       "      <th>505</th>\n",
       "      <td>NaN</td>\n",
       "      <td>NaN</td>\n",
       "      <td>Bana Her Şey Seni Hatırlatıyor</td>\n",
       "    </tr>\n",
       "    <tr>\n",
       "      <th>506</th>\n",
       "      <td>1994-05-26</td>\n",
       "      <td>Bedel</td>\n",
       "      <td>Bedel</td>\n",
       "    </tr>\n",
       "    <tr>\n",
       "      <th>507</th>\n",
       "      <td>NaN</td>\n",
       "      <td>NaN</td>\n",
       "      <td>Beklenen Sensin</td>\n",
       "    </tr>\n",
       "    <tr>\n",
       "      <th>508</th>\n",
       "      <td>2013-04-22</td>\n",
       "      <td>Bekleyemedin mi</td>\n",
       "      <td>Bekleyemedin Mi</td>\n",
       "    </tr>\n",
       "    <tr>\n",
       "      <th>509</th>\n",
       "      <td>1989-06-14</td>\n",
       "      <td>Biliyorsun Bir Zamanlar</td>\n",
       "      <td>Biliyorsun Bir Zamanlar</td>\n",
       "    </tr>\n",
       "  </tbody>\n",
       "</table>\n",
       "</div>"
      ],
      "text/plain": [
       "        release                     name                       real_name\n",
       "500         NaN                      NaN             Aldığım Her Nefesin\n",
       "501  2013-04-22               Anma Adımı                      Anma Adımı\n",
       "502         NaN                      NaN                           Annem\n",
       "503         NaN                      NaN                   Aşk Bilmecesi\n",
       "504         NaN                      NaN              Aşkının Sarhoşuyum\n",
       "505         NaN                      NaN  Bana Her Şey Seni Hatırlatıyor\n",
       "506  1994-05-26                    Bedel                           Bedel\n",
       "507         NaN                      NaN                 Beklenen Sensin\n",
       "508  2013-04-22          Bekleyemedin mi                 Bekleyemedin Mi\n",
       "509  1989-06-14  Biliyorsun Bir Zamanlar         Biliyorsun Bir Zamanlar"
      ]
     },
     "execution_count": 128,
     "metadata": {},
     "output_type": "execute_result"
    }
   ],
   "source": [
    "release_spotify = []\n",
    "name_spotify = []\n",
    "\n",
    "songs = tr_lyrics_df['title']\n",
    "artists = tr_lyrics_df['artist']\n",
    "for song, artist in zip(songs, artists):\n",
    "    r = sp.search(q = song+\" \"+artist, limit = 1)\n",
    "    if len(r['tracks']['items']) == 0:\n",
    "        release_spotify.append(np.nan)\n",
    "        name_spotify.append(np.nan)\n",
    "    else:\n",
    "        release_spotify.append(r['tracks']['items'][0]['album']['release_date'])\n",
    "        name_spotify.append(r['tracks']['items'][0]['name'])\n",
    "    time.sleep(2)\n",
    "    \n",
    "output_df = pd.DataFrame({\n",
    "    'release':release_spotify,\n",
    "    'name': name_spotify,\n",
    "    'real_name': songs\n",
    "})"
   ]
  },
  {
   "cell_type": "markdown",
   "metadata": {},
   "source": [
    "# Discogs"
   ]
  },
  {
   "cell_type": "code",
   "execution_count": 1,
   "metadata": {},
   "outputs": [],
   "source": [
    "import discogs_client"
   ]
  },
  {
   "cell_type": "code",
   "execution_count": 2,
   "metadata": {},
   "outputs": [],
   "source": [
    "d = discogs_client.Client('TurkishSongNLP/0.1')"
   ]
  },
  {
   "cell_type": "code",
   "execution_count": 3,
   "metadata": {},
   "outputs": [],
   "source": [
    "d.set_consumer_key('DtigwAKfRYZIbHOXXqHd', 'zssaHwVHWvlzOAmayWHJzWhuTaUYchpE')"
   ]
  },
  {
   "cell_type": "code",
   "execution_count": 7,
   "metadata": {},
   "outputs": [
    {
     "data": {
      "text/plain": [
       "('iQASppqcVOEWWVJrrJbJOzVdBEiCtabppKMxLtqC',\n",
       " 'MhiifeuJORwjGVzHcnOQSjOrXFPmhDcTBPUqFmPA',\n",
       " 'https://www.discogs.com/oauth/authorize?oauth_token=iQASppqcVOEWWVJrrJbJOzVdBEiCtabppKMxLtqC')"
      ]
     },
     "execution_count": 7,
     "metadata": {},
     "output_type": "execute_result"
    }
   ],
   "source": [
    "d.get_authorize_url()"
   ]
  },
  {
   "cell_type": "code",
   "execution_count": 8,
   "metadata": {},
   "outputs": [
    {
     "data": {
      "text/plain": [
       "('zkXBzNqGqAODjrBQhJYbJBfExrlSVNrLHAsbXkJN',\n",
       " 'SDaxZXYZaYDHyQXuKvLFslnqnlLAUuLuWduUowUN')"
      ]
     },
     "execution_count": 8,
     "metadata": {},
     "output_type": "execute_result"
    }
   ],
   "source": [
    "d.get_access_token('YTorbcacsz')"
   ]
  },
  {
   "cell_type": "code",
   "execution_count": 20,
   "metadata": {},
   "outputs": [],
   "source": [
    "results = d.search('kuzu kuzu', type='release')"
   ]
  },
  {
   "cell_type": "code",
   "execution_count": 36,
   "metadata": {},
   "outputs": [
    {
     "data": {
      "text/plain": [
       "<Release 2348428 'Kuzu Kuzu'>"
      ]
     },
     "execution_count": 36,
     "metadata": {},
     "output_type": "execute_result"
    }
   ],
   "source": [
    "results[0]"
   ]
  },
  {
   "cell_type": "code",
   "execution_count": 37,
   "metadata": {},
   "outputs": [
    {
     "data": {
      "text/plain": [
       "2001"
      ]
     },
     "execution_count": 37,
     "metadata": {},
     "output_type": "execute_result"
    }
   ],
   "source": [
    "d.release(results[0].id).year"
   ]
  },
  {
   "cell_type": "code",
   "execution_count": 39,
   "metadata": {},
   "outputs": [
    {
     "data": {
      "text/plain": [
       "2001"
      ]
     },
     "execution_count": 39,
     "metadata": {},
     "output_type": "execute_result"
    }
   ],
   "source": [
    "d.release(d.search('kuzu kuzu', type='release')[0].id).year"
   ]
  },
  {
   "cell_type": "code",
   "execution_count": 47,
   "metadata": {},
   "outputs": [],
   "source": [
    "import requests\n",
    "from bs4 import BeautifulSoup\n",
    "import pandas as pd\n",
    "import re\n",
    "import time\n",
    "import numpy as np\n",
    "\n",
    "def remove_ads(text):\n",
    "    pattern = r'(eval.*])'\n",
    "    return re.sub(pattern, \"\", text)\n",
    "\n",
    "def regularize_whitespace(text):\n",
    "    whitepattern = r'\\s+'\n",
    "    return re.sub(whitepattern, \" \", text).strip()\n",
    "\n",
    "def remove_and_reg(text):\n",
    "    text = remove_ads(text)\n",
    "    text = regularize_whitespace(text)\n",
    "    return text\n",
    "def check_for_english(text):\n",
    "    text_words = text.split(\" \")\n",
    "    english_words = set(['I', \"we're\", \"the\", \"an\", \"one\", \"to\", \"give\", \"love\"])\n",
    "    counter = 0\n",
    "    for word in text_words:\n",
    "        if word in english_words:\n",
    "            counter += 1\n",
    "    return counter\n",
    "\n",
    "\n",
    "\n",
    "\n",
    "lyrics_df = pd.read_csv('../assets/lyrics/all_lyrics_scraped_20180625-155423.csv', index_col = 0)\n",
    "\n",
    "lyrics_df['text'] = lyrics_df['text'].map(remove_and_reg)\n",
    "lyrics_df['english_score'] = lyrics_df['text'].map(check_for_english)\n",
    "tr_lyrics_df = lyrics_df[lyrics_df['english_score'] == 0]\n",
    "\n",
    "release_discogs = []\n",
    "\n",
    "songs = tr_lyrics_df['title']\n",
    "\n",
    "total_songs = len(songs)\n",
    "i = 1"
   ]
  },
  {
   "cell_type": "code",
   "execution_count": 53,
   "metadata": {},
   "outputs": [
    {
     "name": "stdout",
     "output_type": "stream",
     "text": [
      "<discogs_client.client.Client object at 0x112e12dd8>\n",
      "<discogs_client.client.Client object at 0x112e12dd8>\n",
      "<discogs_client.client.Client object at 0x112e12dd8>\n",
      "<discogs_client.client.Client object at 0x112e12dd8>\n",
      "<discogs_client.client.Client object at 0x112e12dd8>\n",
      "<discogs_client.client.Client object at 0x112e12dd8>\n",
      "1979\n",
      "2013\n",
      "2013\n",
      "<discogs_client.client.Client object at 0x112e12dd8>\n",
      "<discogs_client.client.Client object at 0x112e12dd8>\n",
      "<discogs_client.client.Client object at 0x112e12dd8>\n",
      "<discogs_client.client.Client object at 0x112e12dd8>\n",
      "<discogs_client.client.Client object at 0x112e12dd8>\n",
      "1999\n",
      "<discogs_client.client.Client object at 0x112e12dd8>\n"
     ]
    },
    {
     "ename": "KeyboardInterrupt",
     "evalue": "",
     "output_type": "error",
     "traceback": [
      "\u001b[0;31m---------------------------------------------------------------------------\u001b[0m",
      "\u001b[0;31mKeyboardInterrupt\u001b[0m                         Traceback (most recent call last)",
      "\u001b[0;32m<ipython-input-53-7f1da84fb637>\u001b[0m in \u001b[0;36m<module>\u001b[0;34m()\u001b[0m\n\u001b[1;32m      6\u001b[0m         \u001b[0mrelease_discogs\u001b[0m\u001b[0;34m.\u001b[0m\u001b[0mappend\u001b[0m\u001b[0;34m(\u001b[0m\u001b[0mnp\u001b[0m\u001b[0;34m.\u001b[0m\u001b[0mnan\u001b[0m\u001b[0;34m)\u001b[0m\u001b[0;34m\u001b[0m\u001b[0m\n\u001b[1;32m      7\u001b[0m         \u001b[0mprint\u001b[0m\u001b[0;34m(\u001b[0m\u001b[0md\u001b[0m\u001b[0;34m)\u001b[0m\u001b[0;34m\u001b[0m\u001b[0m\n\u001b[0;32m----> 8\u001b[0;31m     \u001b[0mtime\u001b[0m\u001b[0;34m.\u001b[0m\u001b[0msleep\u001b[0m\u001b[0;34m(\u001b[0m\u001b[0;36m1.2\u001b[0m\u001b[0;34m)\u001b[0m\u001b[0;34m\u001b[0m\u001b[0m\n\u001b[0m\u001b[1;32m      9\u001b[0m \u001b[0;34m\u001b[0m\u001b[0m\n\u001b[1;32m     10\u001b[0m \u001b[0;34m\u001b[0m\u001b[0m\n",
      "\u001b[0;31mKeyboardInterrupt\u001b[0m: "
     ]
    }
   ],
   "source": [
    "for song in songs:\n",
    "    try:\n",
    "        release_discogs.append(d.release(d.search(song, type='release')[0].id).year)\n",
    "        print(d.release(d.search(song, type='release')[0].id).year)\n",
    "    except:\n",
    "        release_discogs.append(np.nan)\n",
    "        print(d)\n",
    "    time.sleep(1.2)\n",
    "    \n",
    "    "
   ]
  },
  {
   "cell_type": "code",
   "execution_count": null,
   "metadata": {},
   "outputs": [],
   "source": []
  }
 ],
 "metadata": {
  "kernelspec": {
   "display_name": "Python [conda root]",
   "language": "python",
   "name": "conda-root-py"
  },
  "language_info": {
   "codemirror_mode": {
    "name": "ipython",
    "version": 3
   },
   "file_extension": ".py",
   "mimetype": "text/x-python",
   "name": "python",
   "nbconvert_exporter": "python",
   "pygments_lexer": "ipython3",
   "version": "3.6.4"
  }
 },
 "nbformat": 4,
 "nbformat_minor": 2
}
