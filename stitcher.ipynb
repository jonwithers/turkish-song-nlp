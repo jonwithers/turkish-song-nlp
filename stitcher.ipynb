{
 "cells": [
  {
   "cell_type": "markdown",
   "metadata": {},
   "source": [
    "# Notebook for stitching different scraped files together"
   ]
  },
  {
   "cell_type": "code",
   "execution_count": 1,
   "metadata": {},
   "outputs": [],
   "source": [
    "import pandas as pd"
   ]
  },
  {
   "cell_type": "code",
   "execution_count": 6,
   "metadata": {},
   "outputs": [],
   "source": [
    "df1 = pd.read_csv('assets/20180622-155239_test.csv', header = None, names = ['artist', 'title','album','text'])\n",
    "df2 = pd.read_csv('assets/20180624-131901_test.csv', header = None, names = ['artist', 'title','album','text'])\n",
    "df3 = pd.read_csv('assets/20180625-074500_test.csv', header = None, names = ['artist', 'title','album','text'])\n",
    "df4 = pd.read_csv('assets/20180625-135941_test.csv', header = None, names = ['artist', 'title','album','text'])"
   ]
  },
  {
   "cell_type": "code",
   "execution_count": 21,
   "metadata": {},
   "outputs": [
    {
     "data": {
      "text/html": [
       "<div>\n",
       "<style scoped>\n",
       "    .dataframe tbody tr th:only-of-type {\n",
       "        vertical-align: middle;\n",
       "    }\n",
       "\n",
       "    .dataframe tbody tr th {\n",
       "        vertical-align: top;\n",
       "    }\n",
       "\n",
       "    .dataframe thead th {\n",
       "        text-align: right;\n",
       "    }\n",
       "</style>\n",
       "<table border=\"1\" class=\"dataframe\">\n",
       "  <thead>\n",
       "    <tr style=\"text-align: right;\">\n",
       "      <th></th>\n",
       "      <th>artist</th>\n",
       "      <th>title</th>\n",
       "      <th>album</th>\n",
       "      <th>text</th>\n",
       "    </tr>\n",
       "  </thead>\n",
       "  <tbody>\n",
       "    <tr>\n",
       "      <th>19029</th>\n",
       "      <td>Düşbaz</td>\n",
       "      <td>Güzel Günler</td>\n",
       "      <td>Güzel Günler</td>\n",
       "      <td>balık attım olta tuttum yaşadım gençliğimi mas...</td>\n",
       "    </tr>\n",
       "    <tr>\n",
       "      <th>19030</th>\n",
       "      <td>Düşbaz</td>\n",
       "      <td>Küçüğüm</td>\n",
       "      <td>Güzel Günler</td>\n",
       "      <td>gel gel küçüğüm yanımda olman lazım yine benim...</td>\n",
       "    </tr>\n",
       "    <tr>\n",
       "      <th>19031</th>\n",
       "      <td>Düşbaz</td>\n",
       "      <td>Özledim Seni</td>\n",
       "      <td>Güzel Günler</td>\n",
       "      <td>yaz güneşi kadar sıcak bahar çiçeği gibi güzel...</td>\n",
       "    </tr>\n",
       "    <tr>\n",
       "      <th>19032</th>\n",
       "      <td>Düşbaz</td>\n",
       "      <td>Pencere</td>\n",
       "      <td>Güzel Günler</td>\n",
       "      <td>yürür ayaklarım sevgiyi arar sokakta çağırır b...</td>\n",
       "    </tr>\n",
       "    <tr>\n",
       "      <th>19033</th>\n",
       "      <td>Düşbaz</td>\n",
       "      <td>Rüzgar</td>\n",
       "      <td>Güzel Günler</td>\n",
       "      <td>Korkum yok zamandan Geriye kalan hayatımdan Ya...</td>\n",
       "    </tr>\n",
       "  </tbody>\n",
       "</table>\n",
       "</div>"
      ],
      "text/plain": [
       "       artist         title         album  \\\n",
       "19029  Düşbaz  Güzel Günler  Güzel Günler   \n",
       "19030  Düşbaz       Küçüğüm  Güzel Günler   \n",
       "19031  Düşbaz  Özledim Seni  Güzel Günler   \n",
       "19032  Düşbaz       Pencere  Güzel Günler   \n",
       "19033  Düşbaz        Rüzgar  Güzel Günler   \n",
       "\n",
       "                                                    text  \n",
       "19029  balık attım olta tuttum yaşadım gençliğimi mas...  \n",
       "19030  gel gel küçüğüm yanımda olman lazım yine benim...  \n",
       "19031  yaz güneşi kadar sıcak bahar çiçeği gibi güzel...  \n",
       "19032  yürür ayaklarım sevgiyi arar sokakta çağırır b...  \n",
       "19033  Korkum yok zamandan Geriye kalan hayatımdan Ya...  "
      ]
     },
     "execution_count": 21,
     "metadata": {},
     "output_type": "execute_result"
    }
   ],
   "source": [
    "df1.tail(5)"
   ]
  },
  {
   "cell_type": "code",
   "execution_count": 24,
   "metadata": {},
   "outputs": [
    {
     "data": {
      "text/html": [
       "<div>\n",
       "<style scoped>\n",
       "    .dataframe tbody tr th:only-of-type {\n",
       "        vertical-align: middle;\n",
       "    }\n",
       "\n",
       "    .dataframe tbody tr th {\n",
       "        vertical-align: top;\n",
       "    }\n",
       "\n",
       "    .dataframe thead th {\n",
       "        text-align: right;\n",
       "    }\n",
       "</style>\n",
       "<table border=\"1\" class=\"dataframe\">\n",
       "  <thead>\n",
       "    <tr style=\"text-align: right;\">\n",
       "      <th></th>\n",
       "      <th>artist</th>\n",
       "      <th>title</th>\n",
       "      <th>album</th>\n",
       "      <th>text</th>\n",
       "    </tr>\n",
       "  </thead>\n",
       "  <tbody>\n",
       "    <tr>\n",
       "      <th>0</th>\n",
       "      <td>Düşbaz</td>\n",
       "      <td>Elveda Düşler</td>\n",
       "      <td>Güzel Günler</td>\n",
       "      <td>hayat oyununda  yalnız yapayalnız  kayıp gülüş...</td>\n",
       "    </tr>\n",
       "    <tr>\n",
       "      <th>1</th>\n",
       "      <td>Düşbaz</td>\n",
       "      <td>Güzel Günler</td>\n",
       "      <td>Güzel Günler</td>\n",
       "      <td>balık attım olta tuttum yaşadım gençliğimi mas...</td>\n",
       "    </tr>\n",
       "    <tr>\n",
       "      <th>2</th>\n",
       "      <td>Düşbaz</td>\n",
       "      <td>Küçüğüm</td>\n",
       "      <td>Güzel Günler</td>\n",
       "      <td>gel gel küçüğüm yanımda olman lazım yine benim...</td>\n",
       "    </tr>\n",
       "    <tr>\n",
       "      <th>3</th>\n",
       "      <td>Düşbaz</td>\n",
       "      <td>Özledim Seni</td>\n",
       "      <td>Güzel Günler</td>\n",
       "      <td>yaz güneşi kadar sıcak  bahar çiçeği gibi güze...</td>\n",
       "    </tr>\n",
       "    <tr>\n",
       "      <th>4</th>\n",
       "      <td>Düşbaz</td>\n",
       "      <td>Pencere</td>\n",
       "      <td>Güzel Günler</td>\n",
       "      <td>yürür ayaklarım sevgiyi arar sokakta çağırır b...</td>\n",
       "    </tr>\n",
       "    <tr>\n",
       "      <th>5</th>\n",
       "      <td>Düşbaz</td>\n",
       "      <td>Rüzgar</td>\n",
       "      <td>Güzel Günler</td>\n",
       "      <td>Korkum yok zamandan Geriye kalan hayatımdan Ya...</td>\n",
       "    </tr>\n",
       "  </tbody>\n",
       "</table>\n",
       "</div>"
      ],
      "text/plain": [
       "   artist          title         album  \\\n",
       "0  Düşbaz  Elveda Düşler  Güzel Günler   \n",
       "1  Düşbaz   Güzel Günler  Güzel Günler   \n",
       "2  Düşbaz        Küçüğüm  Güzel Günler   \n",
       "3  Düşbaz   Özledim Seni  Güzel Günler   \n",
       "4  Düşbaz        Pencere  Güzel Günler   \n",
       "5  Düşbaz         Rüzgar  Güzel Günler   \n",
       "\n",
       "                                                text  \n",
       "0  hayat oyununda  yalnız yapayalnız  kayıp gülüş...  \n",
       "1  balık attım olta tuttum yaşadım gençliğimi mas...  \n",
       "2  gel gel küçüğüm yanımda olman lazım yine benim...  \n",
       "3  yaz güneşi kadar sıcak  bahar çiçeği gibi güze...  \n",
       "4  yürür ayaklarım sevgiyi arar sokakta çağırır b...  \n",
       "5  Korkum yok zamandan Geriye kalan hayatımdan Ya...  "
      ]
     },
     "execution_count": 24,
     "metadata": {},
     "output_type": "execute_result"
    }
   ],
   "source": [
    "df2.head(6)"
   ]
  },
  {
   "cell_type": "code",
   "execution_count": 25,
   "metadata": {},
   "outputs": [],
   "source": [
    "df2.drop([0,1,2,3,4,5], inplace=True)"
   ]
  },
  {
   "cell_type": "code",
   "execution_count": 16,
   "metadata": {},
   "outputs": [
    {
     "data": {
      "text/html": [
       "<div>\n",
       "<style scoped>\n",
       "    .dataframe tbody tr th:only-of-type {\n",
       "        vertical-align: middle;\n",
       "    }\n",
       "\n",
       "    .dataframe tbody tr th {\n",
       "        vertical-align: top;\n",
       "    }\n",
       "\n",
       "    .dataframe thead th {\n",
       "        text-align: right;\n",
       "    }\n",
       "</style>\n",
       "<table border=\"1\" class=\"dataframe\">\n",
       "  <thead>\n",
       "    <tr style=\"text-align: right;\">\n",
       "      <th></th>\n",
       "      <th>artist</th>\n",
       "      <th>title</th>\n",
       "      <th>album</th>\n",
       "      <th>text</th>\n",
       "    </tr>\n",
       "  </thead>\n",
       "  <tbody>\n",
       "    <tr>\n",
       "      <th>19824</th>\n",
       "      <td>Nilgül</td>\n",
       "      <td>Benim Olsan</td>\n",
       "      <td>Nar-ı Aşk</td>\n",
       "      <td>vazgeçmiştim ben sevmekten  vazgeçmiştim seni ...</td>\n",
       "    </tr>\n",
       "    <tr>\n",
       "      <th>19825</th>\n",
       "      <td>Nilgül</td>\n",
       "      <td>Bırakma</td>\n",
       "      <td>Nar-ı  Aşk</td>\n",
       "      <td>Seslerini duyuyor musun   Geri getirmek istedi...</td>\n",
       "    </tr>\n",
       "    <tr>\n",
       "      <th>19826</th>\n",
       "      <td>Nilgül</td>\n",
       "      <td>Bu Gece</td>\n",
       "      <td>Ömürsüz Sevdalar</td>\n",
       "      <td>Yetti artık yetti hasret çektiğim çileler  Gün...</td>\n",
       "    </tr>\n",
       "    <tr>\n",
       "      <th>19827</th>\n",
       "      <td>Nilgül</td>\n",
       "      <td>Deli Kız</td>\n",
       "      <td>Nar-ı  Aşk</td>\n",
       "      <td>Sevda bir ömür boyu Yaşanır mı yalanlarla  Dok...</td>\n",
       "    </tr>\n",
       "    <tr>\n",
       "      <th>19828</th>\n",
       "      <td>Nilgül</td>\n",
       "      <td>Deva Bulmasın</td>\n",
       "      <td>Nar-ı  Aşk</td>\n",
       "      <td>Yolum diken yolum zulüm Yine de insaf etme gül...</td>\n",
       "    </tr>\n",
       "  </tbody>\n",
       "</table>\n",
       "</div>"
      ],
      "text/plain": [
       "       artist          title             album  \\\n",
       "19824  Nilgül    Benim Olsan         Nar-ı Aşk   \n",
       "19825  Nilgül        Bırakma        Nar-ı  Aşk   \n",
       "19826  Nilgül        Bu Gece  Ömürsüz Sevdalar   \n",
       "19827  Nilgül       Deli Kız        Nar-ı  Aşk   \n",
       "19828  Nilgül  Deva Bulmasın        Nar-ı  Aşk   \n",
       "\n",
       "                                                    text  \n",
       "19824  vazgeçmiştim ben sevmekten  vazgeçmiştim seni ...  \n",
       "19825  Seslerini duyuyor musun   Geri getirmek istedi...  \n",
       "19826  Yetti artık yetti hasret çektiğim çileler  Gün...  \n",
       "19827  Sevda bir ömür boyu Yaşanır mı yalanlarla  Dok...  \n",
       "19828  Yolum diken yolum zulüm Yine de insaf etme gül...  "
      ]
     },
     "execution_count": 16,
     "metadata": {},
     "output_type": "execute_result"
    }
   ],
   "source": [
    "df2.tail()"
   ]
  },
  {
   "cell_type": "code",
   "execution_count": 17,
   "metadata": {},
   "outputs": [
    {
     "data": {
      "text/html": [
       "<div>\n",
       "<style scoped>\n",
       "    .dataframe tbody tr th:only-of-type {\n",
       "        vertical-align: middle;\n",
       "    }\n",
       "\n",
       "    .dataframe tbody tr th {\n",
       "        vertical-align: top;\n",
       "    }\n",
       "\n",
       "    .dataframe thead th {\n",
       "        text-align: right;\n",
       "    }\n",
       "</style>\n",
       "<table border=\"1\" class=\"dataframe\">\n",
       "  <thead>\n",
       "    <tr style=\"text-align: right;\">\n",
       "      <th></th>\n",
       "      <th>artist</th>\n",
       "      <th>title</th>\n",
       "      <th>album</th>\n",
       "      <th>text</th>\n",
       "    </tr>\n",
       "  </thead>\n",
       "  <tbody>\n",
       "    <tr>\n",
       "      <th>0</th>\n",
       "      <td>Nilgül</td>\n",
       "      <td>Deva Bulmasın</td>\n",
       "      <td>Nar-ı  Aşk</td>\n",
       "      <td>Yolum diken yolum zulüm Yine de insaf etme gül...</td>\n",
       "    </tr>\n",
       "    <tr>\n",
       "      <th>1</th>\n",
       "      <td>Nilgül</td>\n",
       "      <td>Diken Döşekler</td>\n",
       "      <td>Pervane</td>\n",
       "      <td>Uzaktan Sevmeler aşk değil zulümmüş   İmkansız...</td>\n",
       "    </tr>\n",
       "    <tr>\n",
       "      <th>2</th>\n",
       "      <td>Nilgül</td>\n",
       "      <td>Dualarım Seninle</td>\n",
       "      <td>Okyanus</td>\n",
       "      <td>İyi Günde Kötü Günde Beraberdik Hep El Ele Bu ...</td>\n",
       "    </tr>\n",
       "    <tr>\n",
       "      <th>3</th>\n",
       "      <td>Nilgül</td>\n",
       "      <td>Dualarım Seninle Şa</td>\n",
       "      <td>Nar-ı Aşk</td>\n",
       "      <td>iyi günde kötü günde  beraberdik hep el ele  b...</td>\n",
       "    </tr>\n",
       "    <tr>\n",
       "      <th>4</th>\n",
       "      <td>Nilgül</td>\n",
       "      <td>Duy Beni</td>\n",
       "      <td>Arabesk Günler</td>\n",
       "      <td>duybeni öptüğüm yerden  sev beni ta derinden  ...</td>\n",
       "    </tr>\n",
       "  </tbody>\n",
       "</table>\n",
       "</div>"
      ],
      "text/plain": [
       "   artist                title           album  \\\n",
       "0  Nilgül        Deva Bulmasın      Nar-ı  Aşk   \n",
       "1  Nilgül       Diken Döşekler         Pervane   \n",
       "2  Nilgül     Dualarım Seninle         Okyanus   \n",
       "3  Nilgül  Dualarım Seninle Şa       Nar-ı Aşk   \n",
       "4  Nilgül             Duy Beni  Arabesk Günler   \n",
       "\n",
       "                                                text  \n",
       "0  Yolum diken yolum zulüm Yine de insaf etme gül...  \n",
       "1  Uzaktan Sevmeler aşk değil zulümmüş   İmkansız...  \n",
       "2  İyi Günde Kötü Günde Beraberdik Hep El Ele Bu ...  \n",
       "3  iyi günde kötü günde  beraberdik hep el ele  b...  \n",
       "4  duybeni öptüğüm yerden  sev beni ta derinden  ...  "
      ]
     },
     "execution_count": 17,
     "metadata": {},
     "output_type": "execute_result"
    }
   ],
   "source": [
    "df3.head()"
   ]
  },
  {
   "cell_type": "code",
   "execution_count": 26,
   "metadata": {},
   "outputs": [],
   "source": [
    "df3.drop(0, inplace = True)"
   ]
  },
  {
   "cell_type": "code",
   "execution_count": 18,
   "metadata": {},
   "outputs": [
    {
     "data": {
      "text/html": [
       "<div>\n",
       "<style scoped>\n",
       "    .dataframe tbody tr th:only-of-type {\n",
       "        vertical-align: middle;\n",
       "    }\n",
       "\n",
       "    .dataframe tbody tr th {\n",
       "        vertical-align: top;\n",
       "    }\n",
       "\n",
       "    .dataframe thead th {\n",
       "        text-align: right;\n",
       "    }\n",
       "</style>\n",
       "<table border=\"1\" class=\"dataframe\">\n",
       "  <thead>\n",
       "    <tr style=\"text-align: right;\">\n",
       "      <th></th>\n",
       "      <th>artist</th>\n",
       "      <th>title</th>\n",
       "      <th>album</th>\n",
       "      <th>text</th>\n",
       "    </tr>\n",
       "  </thead>\n",
       "  <tbody>\n",
       "    <tr>\n",
       "      <th>7206</th>\n",
       "      <td>Serdar Ortaç</td>\n",
       "      <td>Özledim Aşkını</td>\n",
       "      <td>Aşk İçin</td>\n",
       "      <td>Bir çıkmaz sokaktayım  Yalnız kaldım bir başım...</td>\n",
       "    </tr>\n",
       "    <tr>\n",
       "      <th>7207</th>\n",
       "      <td>Serdar Ortaç</td>\n",
       "      <td>Padişah</td>\n",
       "      <td>Sahibinin Sesi Remix</td>\n",
       "      <td>Üstüme gelme inanamam Beni ben gibi sevmedi bi...</td>\n",
       "    </tr>\n",
       "    <tr>\n",
       "      <th>7208</th>\n",
       "      <td>Serdar Ortaç</td>\n",
       "      <td>Para Para ( Rap Das Armas )</td>\n",
       "      <td>Gold 2011</td>\n",
       "      <td>Bugüne kadar aradığım huyu neşesi  Sürünüyorum...</td>\n",
       "    </tr>\n",
       "    <tr>\n",
       "      <th>7209</th>\n",
       "      <td>Serdar Ortaç</td>\n",
       "      <td>Parodi</td>\n",
       "      <td>Kara Kedi</td>\n",
       "      <td>Anılar seçer insanın yaralı sonunu Aradan geçe...</td>\n",
       "    </tr>\n",
       "    <tr>\n",
       "      <th>7210</th>\n",
       "      <td>Serdar Ortaç</td>\n",
       "      <td>Pişmanım</td>\n",
       "      <td>Beni Unut &amp; Çakra</td>\n",
       "      <td>Dur, durduğun yerde gitme, Ben daha da pişmanı...</td>\n",
       "    </tr>\n",
       "  </tbody>\n",
       "</table>\n",
       "</div>"
      ],
      "text/plain": [
       "            artist                        title                 album  \\\n",
       "7206  Serdar Ortaç               Özledim Aşkını              Aşk İçin   \n",
       "7207  Serdar Ortaç                      Padişah  Sahibinin Sesi Remix   \n",
       "7208  Serdar Ortaç  Para Para ( Rap Das Armas )             Gold 2011   \n",
       "7209  Serdar Ortaç                       Parodi             Kara Kedi   \n",
       "7210  Serdar Ortaç                     Pişmanım     Beni Unut & Çakra   \n",
       "\n",
       "                                                   text  \n",
       "7206  Bir çıkmaz sokaktayım  Yalnız kaldım bir başım...  \n",
       "7207  Üstüme gelme inanamam Beni ben gibi sevmedi bi...  \n",
       "7208  Bugüne kadar aradığım huyu neşesi  Sürünüyorum...  \n",
       "7209  Anılar seçer insanın yaralı sonunu Aradan geçe...  \n",
       "7210  Dur, durduğun yerde gitme, Ben daha da pişmanı...  "
      ]
     },
     "execution_count": 18,
     "metadata": {},
     "output_type": "execute_result"
    }
   ],
   "source": [
    "df3.tail()"
   ]
  },
  {
   "cell_type": "code",
   "execution_count": 19,
   "metadata": {},
   "outputs": [
    {
     "data": {
      "text/html": [
       "<div>\n",
       "<style scoped>\n",
       "    .dataframe tbody tr th:only-of-type {\n",
       "        vertical-align: middle;\n",
       "    }\n",
       "\n",
       "    .dataframe tbody tr th {\n",
       "        vertical-align: top;\n",
       "    }\n",
       "\n",
       "    .dataframe thead th {\n",
       "        text-align: right;\n",
       "    }\n",
       "</style>\n",
       "<table border=\"1\" class=\"dataframe\">\n",
       "  <thead>\n",
       "    <tr style=\"text-align: right;\">\n",
       "      <th></th>\n",
       "      <th>artist</th>\n",
       "      <th>title</th>\n",
       "      <th>album</th>\n",
       "      <th>text</th>\n",
       "    </tr>\n",
       "  </thead>\n",
       "  <tbody>\n",
       "    <tr>\n",
       "      <th>0</th>\n",
       "      <td>Serdar Ortaç</td>\n",
       "      <td>Para Para ( Rap Das Armas )</td>\n",
       "      <td>Gold 2011</td>\n",
       "      <td>Bugüne kadar aradığım huyu neşesi Sürünüyorum ...</td>\n",
       "    </tr>\n",
       "    <tr>\n",
       "      <th>1</th>\n",
       "      <td>Serdar Ortaç</td>\n",
       "      <td>Parodi</td>\n",
       "      <td>Kara Kedi</td>\n",
       "      <td>Anılar seçer insanın yaralı sonunu  Aradan geç...</td>\n",
       "    </tr>\n",
       "    <tr>\n",
       "      <th>2</th>\n",
       "      <td>Serdar Ortaç</td>\n",
       "      <td>Pişmanım</td>\n",
       "      <td>Beni Unut &amp; Çakra</td>\n",
       "      <td>Dur, durduğun yerde gitme, Ben daha da pişmanı...</td>\n",
       "    </tr>\n",
       "    <tr>\n",
       "      <th>3</th>\n",
       "      <td>Serdar Ortaç</td>\n",
       "      <td>Porque?</td>\n",
       "      <td>Loco Para Amar</td>\n",
       "      <td>Esta vez se rompio tu corazon Esta vez, como u...</td>\n",
       "    </tr>\n",
       "    <tr>\n",
       "      <th>4</th>\n",
       "      <td>Serdar Ortaç</td>\n",
       "      <td>Poşet</td>\n",
       "      <td>Kara Kedi</td>\n",
       "      <td>Ben ne sana taparım ne seni ararım ne trip ata...</td>\n",
       "    </tr>\n",
       "  </tbody>\n",
       "</table>\n",
       "</div>"
      ],
      "text/plain": [
       "         artist                        title              album  \\\n",
       "0  Serdar Ortaç  Para Para ( Rap Das Armas )          Gold 2011   \n",
       "1  Serdar Ortaç                       Parodi          Kara Kedi   \n",
       "2  Serdar Ortaç                     Pişmanım  Beni Unut & Çakra   \n",
       "3  Serdar Ortaç                      Porque?     Loco Para Amar   \n",
       "4  Serdar Ortaç                        Poşet          Kara Kedi   \n",
       "\n",
       "                                                text  \n",
       "0  Bugüne kadar aradığım huyu neşesi Sürünüyorum ...  \n",
       "1  Anılar seçer insanın yaralı sonunu  Aradan geç...  \n",
       "2  Dur, durduğun yerde gitme, Ben daha da pişmanı...  \n",
       "3  Esta vez se rompio tu corazon Esta vez, como u...  \n",
       "4  Ben ne sana taparım ne seni ararım ne trip ata...  "
      ]
     },
     "execution_count": 19,
     "metadata": {},
     "output_type": "execute_result"
    }
   ],
   "source": [
    "df4.head()"
   ]
  },
  {
   "cell_type": "code",
   "execution_count": 27,
   "metadata": {},
   "outputs": [],
   "source": [
    "df4.drop([0,1,2], inplace = True)"
   ]
  },
  {
   "cell_type": "code",
   "execution_count": 28,
   "metadata": {},
   "outputs": [],
   "source": [
    "df = pd.concat([df1, df2, df3, df4])"
   ]
  },
  {
   "cell_type": "code",
   "execution_count": 33,
   "metadata": {},
   "outputs": [
    {
     "data": {
      "text/plain": [
       "81"
      ]
     },
     "execution_count": 33,
     "metadata": {},
     "output_type": "execute_result"
    }
   ],
   "source": [
    "df.duplicated().sum()"
   ]
  },
  {
   "cell_type": "code",
   "execution_count": 34,
   "metadata": {},
   "outputs": [],
   "source": [
    "df.drop_duplicates(inplace = True)"
   ]
  },
  {
   "cell_type": "code",
   "execution_count": 36,
   "metadata": {},
   "outputs": [],
   "source": [
    "df.reset_index(inplace = True)"
   ]
  },
  {
   "cell_type": "code",
   "execution_count": 37,
   "metadata": {},
   "outputs": [
    {
     "data": {
      "text/plain": [
       "RangeIndex(start=0, stop=55685, step=1)"
      ]
     },
     "execution_count": 37,
     "metadata": {},
     "output_type": "execute_result"
    }
   ],
   "source": [
    "df.index"
   ]
  },
  {
   "cell_type": "code",
   "execution_count": 39,
   "metadata": {},
   "outputs": [],
   "source": [
    "df.drop('index', axis = 1, inplace = True)"
   ]
  },
  {
   "cell_type": "code",
   "execution_count": 41,
   "metadata": {},
   "outputs": [],
   "source": [
    "import time\n",
    "\n",
    "timestr = time.strftime(\"%Y%m%d-%H%M%S\")\n",
    "df.to_csv(\"assets/lyrics/all_lyrics_scraped_\"+timestr+\".csv\")"
   ]
  },
  {
   "cell_type": "code",
   "execution_count": null,
   "metadata": {},
   "outputs": [],
   "source": []
  }
 ],
 "metadata": {
  "kernelspec": {
   "display_name": "Python [conda root]",
   "language": "python",
   "name": "conda-root-py"
  },
  "language_info": {
   "codemirror_mode": {
    "name": "ipython",
    "version": 3
   },
   "file_extension": ".py",
   "mimetype": "text/x-python",
   "name": "python",
   "nbconvert_exporter": "python",
   "pygments_lexer": "ipython3",
   "version": "3.6.4"
  }
 },
 "nbformat": 4,
 "nbformat_minor": 2
}
